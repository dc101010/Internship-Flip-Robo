{
 "cells": [
  {
   "cell_type": "markdown",
   "metadata": {},
   "source": [
    "# Question 1"
   ]
  },
  {
   "cell_type": "code",
   "execution_count": 1,
   "metadata": {},
   "outputs": [
    {
     "name": "stdout",
     "output_type": "stream",
     "text": [
      "Requirement already satisfied: selenium in c:\\users\\lenovo\\anaconda3\\lib\\site-packages (3.141.0)\n",
      "Requirement already satisfied: urllib3 in c:\\users\\lenovo\\anaconda3\\lib\\site-packages (from selenium) (1.25.11)\n"
     ]
    }
   ],
   "source": [
    "# Install The Selenium Library\n",
    "!pip install selenium"
   ]
  },
  {
   "cell_type": "code",
   "execution_count": 2,
   "metadata": {},
   "outputs": [],
   "source": [
    "# Import required libraries\n",
    "import selenium\n",
    "import pandas as pd\n",
    "from selenium import  webdriver"
   ]
  },
  {
   "cell_type": "code",
   "execution_count": 26,
   "metadata": {},
   "outputs": [],
   "source": [
    "# lets first connect to the webdriver\n",
    "driver=webdriver.Chrome('chromedriver.exe')"
   ]
  },
  {
   "cell_type": "code",
   "execution_count": 27,
   "metadata": {},
   "outputs": [],
   "source": [
    "url='https://www.naukri.com/'\n",
    "driver.get(url)"
   ]
  },
  {
   "cell_type": "code",
   "execution_count": 5,
   "metadata": {},
   "outputs": [
    {
     "data": {
      "text/plain": [
       "<selenium.webdriver.remote.webelement.WebElement (session=\"ea1c74d09cec1bb1360a28fa9b81bc51\", element=\"28dc6681-c9a7-4183-abd3-aaa1bb2f8379\")>"
      ]
     },
     "execution_count": 5,
     "metadata": {},
     "output_type": "execute_result"
    }
   ],
   "source": [
    "search_job=driver.find_element_by_id('qsb-keyword-sugg')\n",
    "search_job"
   ]
  },
  {
   "cell_type": "code",
   "execution_count": 6,
   "metadata": {},
   "outputs": [],
   "source": [
    "# write on search bar\n",
    "search_job.send_keys('Data Scientist')"
   ]
  },
  {
   "cell_type": "code",
   "execution_count": 7,
   "metadata": {},
   "outputs": [],
   "source": [
    "# finding element for Job \n",
    "search_loc=driver.find_element_by_id('qsb-location-sugg')\n",
    "search_loc.send_keys('Delhi')"
   ]
  },
  {
   "cell_type": "code",
   "execution_count": 8,
   "metadata": {},
   "outputs": [],
   "source": [
    "search_btn=driver.find_element_by_xpath('//button[@class=\"btn\"]')\n",
    "search_btn.click()"
   ]
  },
  {
   "cell_type": "code",
   "execution_count": 9,
   "metadata": {},
   "outputs": [
    {
     "data": {
      "text/plain": [
       "[]"
      ]
     },
     "execution_count": 9,
     "metadata": {},
     "output_type": "execute_result"
    }
   ],
   "source": [
    "# lets extract all the job titles\n",
    "title_tags=driver.find_elements_by_xpath(\"//a[@class='title fw500 ellipsis']\")\n",
    "title_tags"
   ]
  },
  {
   "cell_type": "code",
   "execution_count": 10,
   "metadata": {},
   "outputs": [
    {
     "data": {
      "text/plain": [
       "[]"
      ]
     },
     "execution_count": 10,
     "metadata": {},
     "output_type": "execute_result"
    }
   ],
   "source": [
    "# Lets run the loop to extract the text inside them\n",
    "job_titles=[]\n",
    "for i in title_tags:\n",
    "    job_titles.append(i.text)\n",
    "job_titles\n",
    "    "
   ]
  },
  {
   "cell_type": "code",
   "execution_count": 11,
   "metadata": {},
   "outputs": [
    {
     "data": {
      "text/plain": [
       "[]"
      ]
     },
     "execution_count": 11,
     "metadata": {},
     "output_type": "execute_result"
    }
   ],
   "source": [
    "# lets extract all the company names\n",
    "company_tags=driver.find_elements_by_xpath(\"//a[@class='subTitle ellipsis fleft']\")\n",
    "company_tags"
   ]
  },
  {
   "cell_type": "code",
   "execution_count": 12,
   "metadata": {},
   "outputs": [
    {
     "data": {
      "text/plain": [
       "[]"
      ]
     },
     "execution_count": 12,
     "metadata": {},
     "output_type": "execute_result"
    }
   ],
   "source": [
    "# Lets run the loop to extract the text inside them\n",
    "comp_titles=[]\n",
    "for i in company_tags:\n",
    "    comp_titles.append(i.text)\n",
    "comp_titles"
   ]
  },
  {
   "cell_type": "code",
   "execution_count": 13,
   "metadata": {},
   "outputs": [
    {
     "data": {
      "text/plain": [
       "[]"
      ]
     },
     "execution_count": 13,
     "metadata": {},
     "output_type": "execute_result"
    }
   ],
   "source": [
    "# lets extraxt all the tags of  the experience details \n",
    "# lets extract all the company names\n",
    "experience_tags=driver.find_elements_by_xpath(\"//li[@class='fleft grey-text br2 placeHolderLi experience']\")\n",
    "experience_tags"
   ]
  },
  {
   "cell_type": "code",
   "execution_count": 14,
   "metadata": {},
   "outputs": [
    {
     "data": {
      "text/plain": [
       "[]"
      ]
     },
     "execution_count": 14,
     "metadata": {},
     "output_type": "execute_result"
    }
   ],
   "source": [
    "# Lets run the loop to extract the text inside them\n",
    "exp_titles=[]\n",
    "for i in experience_tags:\n",
    "    exp_titles.append(i.text)\n",
    "exp_titles"
   ]
  },
  {
   "cell_type": "code",
   "execution_count": 15,
   "metadata": {},
   "outputs": [
    {
     "data": {
      "text/plain": [
       "[]"
      ]
     },
     "execution_count": 15,
     "metadata": {},
     "output_type": "execute_result"
    }
   ],
   "source": [
    "# lets extraxt all the tags of  the experience details \n",
    "# lets extract all the company names\n",
    "location_tags=driver.find_elements_by_xpath(\"//li[@class='fleft grey-text br2 placeHolderLi location']/span\")\n",
    "location_tags"
   ]
  },
  {
   "cell_type": "code",
   "execution_count": 16,
   "metadata": {},
   "outputs": [
    {
     "data": {
      "text/plain": [
       "[]"
      ]
     },
     "execution_count": 16,
     "metadata": {},
     "output_type": "execute_result"
    }
   ],
   "source": [
    "# Lets run the loop to extract the text inside them\n",
    "loc_titles=[]\n",
    "for i in location_tags:\n",
    "     loc_titles.append(i.text)\n",
    "loc_titles"
   ]
  },
  {
   "cell_type": "code",
   "execution_count": 17,
   "metadata": {},
   "outputs": [
    {
     "name": "stdout",
     "output_type": "stream",
     "text": [
      "0 0 0 0\n"
     ]
    }
   ],
   "source": [
    "# Creeating the data frame for the extracted dat above\n",
    "print(len(loc_titles),len(exp_titles),len(comp_titles),len(job_titles))"
   ]
  },
  {
   "cell_type": "code",
   "execution_count": 18,
   "metadata": {},
   "outputs": [],
   "source": [
    "jobs=pd.DataFrame({})\n",
    "jobs['Job titles']=job_titles\n",
    "jobs['comapny Name']=comp_titles\n",
    "jobs['Experinece Required']=exp_titles\n",
    "jobs['location']=loc_titles"
   ]
  },
  {
   "cell_type": "code",
   "execution_count": 19,
   "metadata": {},
   "outputs": [
    {
     "data": {
      "text/html": [
       "<div>\n",
       "<style scoped>\n",
       "    .dataframe tbody tr th:only-of-type {\n",
       "        vertical-align: middle;\n",
       "    }\n",
       "\n",
       "    .dataframe tbody tr th {\n",
       "        vertical-align: top;\n",
       "    }\n",
       "\n",
       "    .dataframe thead th {\n",
       "        text-align: right;\n",
       "    }\n",
       "</style>\n",
       "<table border=\"1\" class=\"dataframe\">\n",
       "  <thead>\n",
       "    <tr style=\"text-align: right;\">\n",
       "      <th></th>\n",
       "      <th>Job titles</th>\n",
       "      <th>comapny Name</th>\n",
       "      <th>Experinece Required</th>\n",
       "      <th>location</th>\n",
       "    </tr>\n",
       "  </thead>\n",
       "  <tbody>\n",
       "  </tbody>\n",
       "</table>\n",
       "</div>"
      ],
      "text/plain": [
       "Empty DataFrame\n",
       "Columns: [Job titles, comapny Name, Experinece Required, location]\n",
       "Index: []"
      ]
     },
     "execution_count": 19,
     "metadata": {},
     "output_type": "execute_result"
    }
   ],
   "source": [
    "jobs"
   ]
  },
  {
   "cell_type": "markdown",
   "metadata": {},
   "source": [
    "# Question-2"
   ]
  },
  {
   "cell_type": "code",
   "execution_count": 21,
   "metadata": {},
   "outputs": [
    {
     "ename": "NoSuchElementException",
     "evalue": "Message: no such element: Unable to locate element: {\"method\":\"css selector\",\"selector\":\"[id=\"qsb-keyword-sugg\"]\"}\n  (Session info: chrome=91.0.4472.101)\n",
     "output_type": "error",
     "traceback": [
      "\u001b[1;31m---------------------------------------------------------------------------\u001b[0m",
      "\u001b[1;31mNoSuchElementException\u001b[0m                    Traceback (most recent call last)",
      "\u001b[1;32m<ipython-input-21-bea05bfa2742>\u001b[0m in \u001b[0;36m<module>\u001b[1;34m\u001b[0m\n\u001b[1;32m----> 1\u001b[1;33m \u001b[0msearch_job\u001b[0m\u001b[1;33m=\u001b[0m\u001b[0mdriver\u001b[0m\u001b[1;33m.\u001b[0m\u001b[0mfind_element_by_id\u001b[0m\u001b[1;33m(\u001b[0m\u001b[1;34m'qsb-keyword-sugg'\u001b[0m\u001b[1;33m)\u001b[0m\u001b[1;33m\u001b[0m\u001b[1;33m\u001b[0m\u001b[0m\n\u001b[0m\u001b[0;32m      2\u001b[0m \u001b[0msearch_job\u001b[0m\u001b[1;33m\u001b[0m\u001b[1;33m\u001b[0m\u001b[0m\n",
      "\u001b[1;32m~\\anaconda3\\lib\\site-packages\\selenium\\webdriver\\remote\\webdriver.py\u001b[0m in \u001b[0;36mfind_element_by_id\u001b[1;34m(self, id_)\u001b[0m\n\u001b[0;32m    358\u001b[0m             \u001b[0melement\u001b[0m \u001b[1;33m=\u001b[0m \u001b[0mdriver\u001b[0m\u001b[1;33m.\u001b[0m\u001b[0mfind_element_by_id\u001b[0m\u001b[1;33m(\u001b[0m\u001b[1;34m'foo'\u001b[0m\u001b[1;33m)\u001b[0m\u001b[1;33m\u001b[0m\u001b[1;33m\u001b[0m\u001b[0m\n\u001b[0;32m    359\u001b[0m         \"\"\"\n\u001b[1;32m--> 360\u001b[1;33m         \u001b[1;32mreturn\u001b[0m \u001b[0mself\u001b[0m\u001b[1;33m.\u001b[0m\u001b[0mfind_element\u001b[0m\u001b[1;33m(\u001b[0m\u001b[0mby\u001b[0m\u001b[1;33m=\u001b[0m\u001b[0mBy\u001b[0m\u001b[1;33m.\u001b[0m\u001b[0mID\u001b[0m\u001b[1;33m,\u001b[0m \u001b[0mvalue\u001b[0m\u001b[1;33m=\u001b[0m\u001b[0mid_\u001b[0m\u001b[1;33m)\u001b[0m\u001b[1;33m\u001b[0m\u001b[1;33m\u001b[0m\u001b[0m\n\u001b[0m\u001b[0;32m    361\u001b[0m \u001b[1;33m\u001b[0m\u001b[0m\n\u001b[0;32m    362\u001b[0m     \u001b[1;32mdef\u001b[0m \u001b[0mfind_elements_by_id\u001b[0m\u001b[1;33m(\u001b[0m\u001b[0mself\u001b[0m\u001b[1;33m,\u001b[0m \u001b[0mid_\u001b[0m\u001b[1;33m)\u001b[0m\u001b[1;33m:\u001b[0m\u001b[1;33m\u001b[0m\u001b[1;33m\u001b[0m\u001b[0m\n",
      "\u001b[1;32m~\\anaconda3\\lib\\site-packages\\selenium\\webdriver\\remote\\webdriver.py\u001b[0m in \u001b[0;36mfind_element\u001b[1;34m(self, by, value)\u001b[0m\n\u001b[0;32m    974\u001b[0m                 \u001b[0mby\u001b[0m \u001b[1;33m=\u001b[0m \u001b[0mBy\u001b[0m\u001b[1;33m.\u001b[0m\u001b[0mCSS_SELECTOR\u001b[0m\u001b[1;33m\u001b[0m\u001b[1;33m\u001b[0m\u001b[0m\n\u001b[0;32m    975\u001b[0m                 \u001b[0mvalue\u001b[0m \u001b[1;33m=\u001b[0m \u001b[1;34m'[name=\"%s\"]'\u001b[0m \u001b[1;33m%\u001b[0m \u001b[0mvalue\u001b[0m\u001b[1;33m\u001b[0m\u001b[1;33m\u001b[0m\u001b[0m\n\u001b[1;32m--> 976\u001b[1;33m         return self.execute(Command.FIND_ELEMENT, {\n\u001b[0m\u001b[0;32m    977\u001b[0m             \u001b[1;34m'using'\u001b[0m\u001b[1;33m:\u001b[0m \u001b[0mby\u001b[0m\u001b[1;33m,\u001b[0m\u001b[1;33m\u001b[0m\u001b[1;33m\u001b[0m\u001b[0m\n\u001b[0;32m    978\u001b[0m             'value': value})['value']\n",
      "\u001b[1;32m~\\anaconda3\\lib\\site-packages\\selenium\\webdriver\\remote\\webdriver.py\u001b[0m in \u001b[0;36mexecute\u001b[1;34m(self, driver_command, params)\u001b[0m\n\u001b[0;32m    319\u001b[0m         \u001b[0mresponse\u001b[0m \u001b[1;33m=\u001b[0m \u001b[0mself\u001b[0m\u001b[1;33m.\u001b[0m\u001b[0mcommand_executor\u001b[0m\u001b[1;33m.\u001b[0m\u001b[0mexecute\u001b[0m\u001b[1;33m(\u001b[0m\u001b[0mdriver_command\u001b[0m\u001b[1;33m,\u001b[0m \u001b[0mparams\u001b[0m\u001b[1;33m)\u001b[0m\u001b[1;33m\u001b[0m\u001b[1;33m\u001b[0m\u001b[0m\n\u001b[0;32m    320\u001b[0m         \u001b[1;32mif\u001b[0m \u001b[0mresponse\u001b[0m\u001b[1;33m:\u001b[0m\u001b[1;33m\u001b[0m\u001b[1;33m\u001b[0m\u001b[0m\n\u001b[1;32m--> 321\u001b[1;33m             \u001b[0mself\u001b[0m\u001b[1;33m.\u001b[0m\u001b[0merror_handler\u001b[0m\u001b[1;33m.\u001b[0m\u001b[0mcheck_response\u001b[0m\u001b[1;33m(\u001b[0m\u001b[0mresponse\u001b[0m\u001b[1;33m)\u001b[0m\u001b[1;33m\u001b[0m\u001b[1;33m\u001b[0m\u001b[0m\n\u001b[0m\u001b[0;32m    322\u001b[0m             response['value'] = self._unwrap_value(\n\u001b[0;32m    323\u001b[0m                 response.get('value', None))\n",
      "\u001b[1;32m~\\anaconda3\\lib\\site-packages\\selenium\\webdriver\\remote\\errorhandler.py\u001b[0m in \u001b[0;36mcheck_response\u001b[1;34m(self, response)\u001b[0m\n\u001b[0;32m    240\u001b[0m                 \u001b[0malert_text\u001b[0m \u001b[1;33m=\u001b[0m \u001b[0mvalue\u001b[0m\u001b[1;33m[\u001b[0m\u001b[1;34m'alert'\u001b[0m\u001b[1;33m]\u001b[0m\u001b[1;33m.\u001b[0m\u001b[0mget\u001b[0m\u001b[1;33m(\u001b[0m\u001b[1;34m'text'\u001b[0m\u001b[1;33m)\u001b[0m\u001b[1;33m\u001b[0m\u001b[1;33m\u001b[0m\u001b[0m\n\u001b[0;32m    241\u001b[0m             \u001b[1;32mraise\u001b[0m \u001b[0mexception_class\u001b[0m\u001b[1;33m(\u001b[0m\u001b[0mmessage\u001b[0m\u001b[1;33m,\u001b[0m \u001b[0mscreen\u001b[0m\u001b[1;33m,\u001b[0m \u001b[0mstacktrace\u001b[0m\u001b[1;33m,\u001b[0m \u001b[0malert_text\u001b[0m\u001b[1;33m)\u001b[0m\u001b[1;33m\u001b[0m\u001b[1;33m\u001b[0m\u001b[0m\n\u001b[1;32m--> 242\u001b[1;33m         \u001b[1;32mraise\u001b[0m \u001b[0mexception_class\u001b[0m\u001b[1;33m(\u001b[0m\u001b[0mmessage\u001b[0m\u001b[1;33m,\u001b[0m \u001b[0mscreen\u001b[0m\u001b[1;33m,\u001b[0m \u001b[0mstacktrace\u001b[0m\u001b[1;33m)\u001b[0m\u001b[1;33m\u001b[0m\u001b[1;33m\u001b[0m\u001b[0m\n\u001b[0m\u001b[0;32m    243\u001b[0m \u001b[1;33m\u001b[0m\u001b[0m\n\u001b[0;32m    244\u001b[0m     \u001b[1;32mdef\u001b[0m \u001b[0m_value_or_default\u001b[0m\u001b[1;33m(\u001b[0m\u001b[0mself\u001b[0m\u001b[1;33m,\u001b[0m \u001b[0mobj\u001b[0m\u001b[1;33m,\u001b[0m \u001b[0mkey\u001b[0m\u001b[1;33m,\u001b[0m \u001b[0mdefault\u001b[0m\u001b[1;33m)\u001b[0m\u001b[1;33m:\u001b[0m\u001b[1;33m\u001b[0m\u001b[1;33m\u001b[0m\u001b[0m\n",
      "\u001b[1;31mNoSuchElementException\u001b[0m: Message: no such element: Unable to locate element: {\"method\":\"css selector\",\"selector\":\"[id=\"qsb-keyword-sugg\"]\"}\n  (Session info: chrome=91.0.4472.101)\n"
     ]
    }
   ],
   "source": [
    "search_job=driver.find_element_by_id('qsb-keyword-sugg')\n",
    "search_job"
   ]
  },
  {
   "cell_type": "code",
   "execution_count": 22,
   "metadata": {},
   "outputs": [
    {
     "ename": "StaleElementReferenceException",
     "evalue": "Message: stale element reference: element is not attached to the page document\n  (Session info: chrome=91.0.4472.101)\n",
     "output_type": "error",
     "traceback": [
      "\u001b[1;31m---------------------------------------------------------------------------\u001b[0m",
      "\u001b[1;31mStaleElementReferenceException\u001b[0m            Traceback (most recent call last)",
      "\u001b[1;32m<ipython-input-22-3d007c893237>\u001b[0m in \u001b[0;36m<module>\u001b[1;34m\u001b[0m\n\u001b[0;32m      1\u001b[0m \u001b[1;31m# write on search bar\u001b[0m\u001b[1;33m\u001b[0m\u001b[1;33m\u001b[0m\u001b[1;33m\u001b[0m\u001b[0m\n\u001b[1;32m----> 2\u001b[1;33m \u001b[0msearch_job\u001b[0m\u001b[1;33m.\u001b[0m\u001b[0msend_keys\u001b[0m\u001b[1;33m(\u001b[0m\u001b[1;34m'Data Scientist'\u001b[0m\u001b[1;33m)\u001b[0m\u001b[1;33m\u001b[0m\u001b[1;33m\u001b[0m\u001b[0m\n\u001b[0m",
      "\u001b[1;32m~\\anaconda3\\lib\\site-packages\\selenium\\webdriver\\remote\\webelement.py\u001b[0m in \u001b[0;36msend_keys\u001b[1;34m(self, *value)\u001b[0m\n\u001b[0;32m    475\u001b[0m                 \u001b[0mvalue\u001b[0m \u001b[1;33m=\u001b[0m \u001b[0mself\u001b[0m\u001b[1;33m.\u001b[0m\u001b[0m_upload\u001b[0m\u001b[1;33m(\u001b[0m\u001b[0mlocal_file\u001b[0m\u001b[1;33m)\u001b[0m\u001b[1;33m\u001b[0m\u001b[1;33m\u001b[0m\u001b[0m\n\u001b[0;32m    476\u001b[0m \u001b[1;33m\u001b[0m\u001b[0m\n\u001b[1;32m--> 477\u001b[1;33m         self._execute(Command.SEND_KEYS_TO_ELEMENT,\n\u001b[0m\u001b[0;32m    478\u001b[0m                       {'text': \"\".join(keys_to_typing(value)),\n\u001b[0;32m    479\u001b[0m                        'value': keys_to_typing(value)})\n",
      "\u001b[1;32m~\\anaconda3\\lib\\site-packages\\selenium\\webdriver\\remote\\webelement.py\u001b[0m in \u001b[0;36m_execute\u001b[1;34m(self, command, params)\u001b[0m\n\u001b[0;32m    631\u001b[0m             \u001b[0mparams\u001b[0m \u001b[1;33m=\u001b[0m \u001b[1;33m{\u001b[0m\u001b[1;33m}\u001b[0m\u001b[1;33m\u001b[0m\u001b[1;33m\u001b[0m\u001b[0m\n\u001b[0;32m    632\u001b[0m         \u001b[0mparams\u001b[0m\u001b[1;33m[\u001b[0m\u001b[1;34m'id'\u001b[0m\u001b[1;33m]\u001b[0m \u001b[1;33m=\u001b[0m \u001b[0mself\u001b[0m\u001b[1;33m.\u001b[0m\u001b[0m_id\u001b[0m\u001b[1;33m\u001b[0m\u001b[1;33m\u001b[0m\u001b[0m\n\u001b[1;32m--> 633\u001b[1;33m         \u001b[1;32mreturn\u001b[0m \u001b[0mself\u001b[0m\u001b[1;33m.\u001b[0m\u001b[0m_parent\u001b[0m\u001b[1;33m.\u001b[0m\u001b[0mexecute\u001b[0m\u001b[1;33m(\u001b[0m\u001b[0mcommand\u001b[0m\u001b[1;33m,\u001b[0m \u001b[0mparams\u001b[0m\u001b[1;33m)\u001b[0m\u001b[1;33m\u001b[0m\u001b[1;33m\u001b[0m\u001b[0m\n\u001b[0m\u001b[0;32m    634\u001b[0m \u001b[1;33m\u001b[0m\u001b[0m\n\u001b[0;32m    635\u001b[0m     \u001b[1;32mdef\u001b[0m \u001b[0mfind_element\u001b[0m\u001b[1;33m(\u001b[0m\u001b[0mself\u001b[0m\u001b[1;33m,\u001b[0m \u001b[0mby\u001b[0m\u001b[1;33m=\u001b[0m\u001b[0mBy\u001b[0m\u001b[1;33m.\u001b[0m\u001b[0mID\u001b[0m\u001b[1;33m,\u001b[0m \u001b[0mvalue\u001b[0m\u001b[1;33m=\u001b[0m\u001b[1;32mNone\u001b[0m\u001b[1;33m)\u001b[0m\u001b[1;33m:\u001b[0m\u001b[1;33m\u001b[0m\u001b[1;33m\u001b[0m\u001b[0m\n",
      "\u001b[1;32m~\\anaconda3\\lib\\site-packages\\selenium\\webdriver\\remote\\webdriver.py\u001b[0m in \u001b[0;36mexecute\u001b[1;34m(self, driver_command, params)\u001b[0m\n\u001b[0;32m    319\u001b[0m         \u001b[0mresponse\u001b[0m \u001b[1;33m=\u001b[0m \u001b[0mself\u001b[0m\u001b[1;33m.\u001b[0m\u001b[0mcommand_executor\u001b[0m\u001b[1;33m.\u001b[0m\u001b[0mexecute\u001b[0m\u001b[1;33m(\u001b[0m\u001b[0mdriver_command\u001b[0m\u001b[1;33m,\u001b[0m \u001b[0mparams\u001b[0m\u001b[1;33m)\u001b[0m\u001b[1;33m\u001b[0m\u001b[1;33m\u001b[0m\u001b[0m\n\u001b[0;32m    320\u001b[0m         \u001b[1;32mif\u001b[0m \u001b[0mresponse\u001b[0m\u001b[1;33m:\u001b[0m\u001b[1;33m\u001b[0m\u001b[1;33m\u001b[0m\u001b[0m\n\u001b[1;32m--> 321\u001b[1;33m             \u001b[0mself\u001b[0m\u001b[1;33m.\u001b[0m\u001b[0merror_handler\u001b[0m\u001b[1;33m.\u001b[0m\u001b[0mcheck_response\u001b[0m\u001b[1;33m(\u001b[0m\u001b[0mresponse\u001b[0m\u001b[1;33m)\u001b[0m\u001b[1;33m\u001b[0m\u001b[1;33m\u001b[0m\u001b[0m\n\u001b[0m\u001b[0;32m    322\u001b[0m             response['value'] = self._unwrap_value(\n\u001b[0;32m    323\u001b[0m                 response.get('value', None))\n",
      "\u001b[1;32m~\\anaconda3\\lib\\site-packages\\selenium\\webdriver\\remote\\errorhandler.py\u001b[0m in \u001b[0;36mcheck_response\u001b[1;34m(self, response)\u001b[0m\n\u001b[0;32m    240\u001b[0m                 \u001b[0malert_text\u001b[0m \u001b[1;33m=\u001b[0m \u001b[0mvalue\u001b[0m\u001b[1;33m[\u001b[0m\u001b[1;34m'alert'\u001b[0m\u001b[1;33m]\u001b[0m\u001b[1;33m.\u001b[0m\u001b[0mget\u001b[0m\u001b[1;33m(\u001b[0m\u001b[1;34m'text'\u001b[0m\u001b[1;33m)\u001b[0m\u001b[1;33m\u001b[0m\u001b[1;33m\u001b[0m\u001b[0m\n\u001b[0;32m    241\u001b[0m             \u001b[1;32mraise\u001b[0m \u001b[0mexception_class\u001b[0m\u001b[1;33m(\u001b[0m\u001b[0mmessage\u001b[0m\u001b[1;33m,\u001b[0m \u001b[0mscreen\u001b[0m\u001b[1;33m,\u001b[0m \u001b[0mstacktrace\u001b[0m\u001b[1;33m,\u001b[0m \u001b[0malert_text\u001b[0m\u001b[1;33m)\u001b[0m\u001b[1;33m\u001b[0m\u001b[1;33m\u001b[0m\u001b[0m\n\u001b[1;32m--> 242\u001b[1;33m         \u001b[1;32mraise\u001b[0m \u001b[0mexception_class\u001b[0m\u001b[1;33m(\u001b[0m\u001b[0mmessage\u001b[0m\u001b[1;33m,\u001b[0m \u001b[0mscreen\u001b[0m\u001b[1;33m,\u001b[0m \u001b[0mstacktrace\u001b[0m\u001b[1;33m)\u001b[0m\u001b[1;33m\u001b[0m\u001b[1;33m\u001b[0m\u001b[0m\n\u001b[0m\u001b[0;32m    243\u001b[0m \u001b[1;33m\u001b[0m\u001b[0m\n\u001b[0;32m    244\u001b[0m     \u001b[1;32mdef\u001b[0m \u001b[0m_value_or_default\u001b[0m\u001b[1;33m(\u001b[0m\u001b[0mself\u001b[0m\u001b[1;33m,\u001b[0m \u001b[0mobj\u001b[0m\u001b[1;33m,\u001b[0m \u001b[0mkey\u001b[0m\u001b[1;33m,\u001b[0m \u001b[0mdefault\u001b[0m\u001b[1;33m)\u001b[0m\u001b[1;33m:\u001b[0m\u001b[1;33m\u001b[0m\u001b[1;33m\u001b[0m\u001b[0m\n",
      "\u001b[1;31mStaleElementReferenceException\u001b[0m: Message: stale element reference: element is not attached to the page document\n  (Session info: chrome=91.0.4472.101)\n"
     ]
    }
   ],
   "source": [
    "# write on search bar\n",
    "search_job.send_keys('Data Scientist')"
   ]
  },
  {
   "cell_type": "code",
   "execution_count": 23,
   "metadata": {},
   "outputs": [
    {
     "ename": "NoSuchElementException",
     "evalue": "Message: no such element: Unable to locate element: {\"method\":\"css selector\",\"selector\":\"[id=\"qsb-location-sugg\"]\"}\n  (Session info: chrome=91.0.4472.101)\n",
     "output_type": "error",
     "traceback": [
      "\u001b[1;31m---------------------------------------------------------------------------\u001b[0m",
      "\u001b[1;31mNoSuchElementException\u001b[0m                    Traceback (most recent call last)",
      "\u001b[1;32m<ipython-input-23-a37e5a1185a5>\u001b[0m in \u001b[0;36m<module>\u001b[1;34m\u001b[0m\n\u001b[0;32m      1\u001b[0m \u001b[1;31m# finding element for Job\u001b[0m\u001b[1;33m\u001b[0m\u001b[1;33m\u001b[0m\u001b[1;33m\u001b[0m\u001b[0m\n\u001b[1;32m----> 2\u001b[1;33m \u001b[0msearch_loc\u001b[0m\u001b[1;33m=\u001b[0m\u001b[0mdriver\u001b[0m\u001b[1;33m.\u001b[0m\u001b[0mfind_element_by_id\u001b[0m\u001b[1;33m(\u001b[0m\u001b[1;34m'qsb-location-sugg'\u001b[0m\u001b[1;33m)\u001b[0m\u001b[1;33m\u001b[0m\u001b[1;33m\u001b[0m\u001b[0m\n\u001b[0m\u001b[0;32m      3\u001b[0m \u001b[0msearch_loc\u001b[0m\u001b[1;33m.\u001b[0m\u001b[0msend_keys\u001b[0m\u001b[1;33m(\u001b[0m\u001b[1;34m'Bangalore/Bengaluru'\u001b[0m\u001b[1;33m)\u001b[0m\u001b[1;33m\u001b[0m\u001b[1;33m\u001b[0m\u001b[0m\n",
      "\u001b[1;32m~\\anaconda3\\lib\\site-packages\\selenium\\webdriver\\remote\\webdriver.py\u001b[0m in \u001b[0;36mfind_element_by_id\u001b[1;34m(self, id_)\u001b[0m\n\u001b[0;32m    358\u001b[0m             \u001b[0melement\u001b[0m \u001b[1;33m=\u001b[0m \u001b[0mdriver\u001b[0m\u001b[1;33m.\u001b[0m\u001b[0mfind_element_by_id\u001b[0m\u001b[1;33m(\u001b[0m\u001b[1;34m'foo'\u001b[0m\u001b[1;33m)\u001b[0m\u001b[1;33m\u001b[0m\u001b[1;33m\u001b[0m\u001b[0m\n\u001b[0;32m    359\u001b[0m         \"\"\"\n\u001b[1;32m--> 360\u001b[1;33m         \u001b[1;32mreturn\u001b[0m \u001b[0mself\u001b[0m\u001b[1;33m.\u001b[0m\u001b[0mfind_element\u001b[0m\u001b[1;33m(\u001b[0m\u001b[0mby\u001b[0m\u001b[1;33m=\u001b[0m\u001b[0mBy\u001b[0m\u001b[1;33m.\u001b[0m\u001b[0mID\u001b[0m\u001b[1;33m,\u001b[0m \u001b[0mvalue\u001b[0m\u001b[1;33m=\u001b[0m\u001b[0mid_\u001b[0m\u001b[1;33m)\u001b[0m\u001b[1;33m\u001b[0m\u001b[1;33m\u001b[0m\u001b[0m\n\u001b[0m\u001b[0;32m    361\u001b[0m \u001b[1;33m\u001b[0m\u001b[0m\n\u001b[0;32m    362\u001b[0m     \u001b[1;32mdef\u001b[0m \u001b[0mfind_elements_by_id\u001b[0m\u001b[1;33m(\u001b[0m\u001b[0mself\u001b[0m\u001b[1;33m,\u001b[0m \u001b[0mid_\u001b[0m\u001b[1;33m)\u001b[0m\u001b[1;33m:\u001b[0m\u001b[1;33m\u001b[0m\u001b[1;33m\u001b[0m\u001b[0m\n",
      "\u001b[1;32m~\\anaconda3\\lib\\site-packages\\selenium\\webdriver\\remote\\webdriver.py\u001b[0m in \u001b[0;36mfind_element\u001b[1;34m(self, by, value)\u001b[0m\n\u001b[0;32m    974\u001b[0m                 \u001b[0mby\u001b[0m \u001b[1;33m=\u001b[0m \u001b[0mBy\u001b[0m\u001b[1;33m.\u001b[0m\u001b[0mCSS_SELECTOR\u001b[0m\u001b[1;33m\u001b[0m\u001b[1;33m\u001b[0m\u001b[0m\n\u001b[0;32m    975\u001b[0m                 \u001b[0mvalue\u001b[0m \u001b[1;33m=\u001b[0m \u001b[1;34m'[name=\"%s\"]'\u001b[0m \u001b[1;33m%\u001b[0m \u001b[0mvalue\u001b[0m\u001b[1;33m\u001b[0m\u001b[1;33m\u001b[0m\u001b[0m\n\u001b[1;32m--> 976\u001b[1;33m         return self.execute(Command.FIND_ELEMENT, {\n\u001b[0m\u001b[0;32m    977\u001b[0m             \u001b[1;34m'using'\u001b[0m\u001b[1;33m:\u001b[0m \u001b[0mby\u001b[0m\u001b[1;33m,\u001b[0m\u001b[1;33m\u001b[0m\u001b[1;33m\u001b[0m\u001b[0m\n\u001b[0;32m    978\u001b[0m             'value': value})['value']\n",
      "\u001b[1;32m~\\anaconda3\\lib\\site-packages\\selenium\\webdriver\\remote\\webdriver.py\u001b[0m in \u001b[0;36mexecute\u001b[1;34m(self, driver_command, params)\u001b[0m\n\u001b[0;32m    319\u001b[0m         \u001b[0mresponse\u001b[0m \u001b[1;33m=\u001b[0m \u001b[0mself\u001b[0m\u001b[1;33m.\u001b[0m\u001b[0mcommand_executor\u001b[0m\u001b[1;33m.\u001b[0m\u001b[0mexecute\u001b[0m\u001b[1;33m(\u001b[0m\u001b[0mdriver_command\u001b[0m\u001b[1;33m,\u001b[0m \u001b[0mparams\u001b[0m\u001b[1;33m)\u001b[0m\u001b[1;33m\u001b[0m\u001b[1;33m\u001b[0m\u001b[0m\n\u001b[0;32m    320\u001b[0m         \u001b[1;32mif\u001b[0m \u001b[0mresponse\u001b[0m\u001b[1;33m:\u001b[0m\u001b[1;33m\u001b[0m\u001b[1;33m\u001b[0m\u001b[0m\n\u001b[1;32m--> 321\u001b[1;33m             \u001b[0mself\u001b[0m\u001b[1;33m.\u001b[0m\u001b[0merror_handler\u001b[0m\u001b[1;33m.\u001b[0m\u001b[0mcheck_response\u001b[0m\u001b[1;33m(\u001b[0m\u001b[0mresponse\u001b[0m\u001b[1;33m)\u001b[0m\u001b[1;33m\u001b[0m\u001b[1;33m\u001b[0m\u001b[0m\n\u001b[0m\u001b[0;32m    322\u001b[0m             response['value'] = self._unwrap_value(\n\u001b[0;32m    323\u001b[0m                 response.get('value', None))\n",
      "\u001b[1;32m~\\anaconda3\\lib\\site-packages\\selenium\\webdriver\\remote\\errorhandler.py\u001b[0m in \u001b[0;36mcheck_response\u001b[1;34m(self, response)\u001b[0m\n\u001b[0;32m    240\u001b[0m                 \u001b[0malert_text\u001b[0m \u001b[1;33m=\u001b[0m \u001b[0mvalue\u001b[0m\u001b[1;33m[\u001b[0m\u001b[1;34m'alert'\u001b[0m\u001b[1;33m]\u001b[0m\u001b[1;33m.\u001b[0m\u001b[0mget\u001b[0m\u001b[1;33m(\u001b[0m\u001b[1;34m'text'\u001b[0m\u001b[1;33m)\u001b[0m\u001b[1;33m\u001b[0m\u001b[1;33m\u001b[0m\u001b[0m\n\u001b[0;32m    241\u001b[0m             \u001b[1;32mraise\u001b[0m \u001b[0mexception_class\u001b[0m\u001b[1;33m(\u001b[0m\u001b[0mmessage\u001b[0m\u001b[1;33m,\u001b[0m \u001b[0mscreen\u001b[0m\u001b[1;33m,\u001b[0m \u001b[0mstacktrace\u001b[0m\u001b[1;33m,\u001b[0m \u001b[0malert_text\u001b[0m\u001b[1;33m)\u001b[0m\u001b[1;33m\u001b[0m\u001b[1;33m\u001b[0m\u001b[0m\n\u001b[1;32m--> 242\u001b[1;33m         \u001b[1;32mraise\u001b[0m \u001b[0mexception_class\u001b[0m\u001b[1;33m(\u001b[0m\u001b[0mmessage\u001b[0m\u001b[1;33m,\u001b[0m \u001b[0mscreen\u001b[0m\u001b[1;33m,\u001b[0m \u001b[0mstacktrace\u001b[0m\u001b[1;33m)\u001b[0m\u001b[1;33m\u001b[0m\u001b[1;33m\u001b[0m\u001b[0m\n\u001b[0m\u001b[0;32m    243\u001b[0m \u001b[1;33m\u001b[0m\u001b[0m\n\u001b[0;32m    244\u001b[0m     \u001b[1;32mdef\u001b[0m \u001b[0m_value_or_default\u001b[0m\u001b[1;33m(\u001b[0m\u001b[0mself\u001b[0m\u001b[1;33m,\u001b[0m \u001b[0mobj\u001b[0m\u001b[1;33m,\u001b[0m \u001b[0mkey\u001b[0m\u001b[1;33m,\u001b[0m \u001b[0mdefault\u001b[0m\u001b[1;33m)\u001b[0m\u001b[1;33m:\u001b[0m\u001b[1;33m\u001b[0m\u001b[1;33m\u001b[0m\u001b[0m\n",
      "\u001b[1;31mNoSuchElementException\u001b[0m: Message: no such element: Unable to locate element: {\"method\":\"css selector\",\"selector\":\"[id=\"qsb-location-sugg\"]\"}\n  (Session info: chrome=91.0.4472.101)\n"
     ]
    }
   ],
   "source": [
    "# finding element for Job \n",
    "search_loc=driver.find_element_by_id('qsb-location-sugg')\n",
    "search_loc.send_keys('Bangalore/Bengaluru')"
   ]
  },
  {
   "cell_type": "code",
   "execution_count": null,
   "metadata": {},
   "outputs": [],
   "source": [
    "search_btn=driver.find_element_by_xpath('//button[@class=\"btn\"]')\n",
    "search_btn.click()"
   ]
  },
  {
   "cell_type": "code",
   "execution_count": null,
   "metadata": {},
   "outputs": [],
   "source": [
    "# lets extract all the job-titles\n",
    "title_tags=driver.find_elements_by_xpath(\"//a[@class='title fw500 ellipsis']\")\n",
    "title_tags"
   ]
  },
  {
   "cell_type": "code",
   "execution_count": null,
   "metadata": {},
   "outputs": [],
   "source": [
    "# Lets run the loop to extract the text inside them\n",
    "job_titles=[]\n",
    "for i in title_tags:\n",
    "    job_titles.append(i.text)\n",
    "job_titles[1:11]"
   ]
  },
  {
   "cell_type": "code",
   "execution_count": null,
   "metadata": {},
   "outputs": [],
   "source": [
    "# lets extraxt all the tags of  the experience details \n",
    "# lets extract all the company names\n",
    "location_tags=driver.find_elements_by_xpath(\"//li[@class='fleft grey-text br2 placeHolderLi location']/span\")\n",
    "location_tags"
   ]
  },
  {
   "cell_type": "code",
   "execution_count": null,
   "metadata": {},
   "outputs": [],
   "source": [
    "# Lets run the loop to extract the text inside them\n",
    "loc_titles=[]\n",
    "for i in location_tags:\n",
    "     loc_titles.append(i.text)\n",
    "loc_titles[1:11]"
   ]
  },
  {
   "cell_type": "code",
   "execution_count": null,
   "metadata": {},
   "outputs": [],
   "source": [
    "# lets extract all the company names\n",
    "company_tags=driver.find_elements_by_xpath(\"//a[@class='subTitle ellipsis fleft']\")\n",
    "company_tags"
   ]
  },
  {
   "cell_type": "code",
   "execution_count": null,
   "metadata": {},
   "outputs": [],
   "source": [
    "# Lets run the loop to extract the text inside them\n",
    "comp_titles=[]\n",
    "for i in company_tags:\n",
    "    comp_titles.append(i.text)\n",
    "comp_titles[1:11]"
   ]
  },
  {
   "cell_type": "code",
   "execution_count": null,
   "metadata": {},
   "outputs": [],
   "source": [
    "# lets extract all the company names\n",
    "Description_tags=driver.find_elements_by_xpath(\"//div[@class='education']\")\n",
    "Description_tags"
   ]
  },
  {
   "cell_type": "code",
   "execution_count": null,
   "metadata": {},
   "outputs": [],
   "source": [
    "# Creeating the data frame for the extracted dat above\n",
    "print(len(loc_titles),len(comp_titles),len(job_titles))"
   ]
  },
  {
   "cell_type": "code",
   "execution_count": null,
   "metadata": {},
   "outputs": [],
   "source": [
    "jobs=pd.DataFrame({})\n",
    "jobs['Job titles']=job_titles[1:11]\n",
    "jobs['comapny Name']=comp_titles[1:11]\n",
    "jobs['location']=loc_titles[1:11]"
   ]
  },
  {
   "cell_type": "code",
   "execution_count": null,
   "metadata": {},
   "outputs": [],
   "source": [
    "jobs"
   ]
  },
  {
   "cell_type": "markdown",
   "metadata": {},
   "source": [
    "# Question-3"
   ]
  },
  {
   "cell_type": "code",
   "execution_count": null,
   "metadata": {},
   "outputs": [],
   "source": [
    "search_job1=driver.find_element_by_id('qsb-keyword-sugg')\n",
    "search_job1"
   ]
  },
  {
   "cell_type": "code",
   "execution_count": null,
   "metadata": {},
   "outputs": [],
   "source": [
    "# write on search bar\n",
    "search_job1.send_keys('Data Scientist')"
   ]
  },
  {
   "cell_type": "code",
   "execution_count": null,
   "metadata": {},
   "outputs": [],
   "source": [
    "search_btn=driver.find_element_by_xpath('//button[@class=\"btn\"]')\n",
    "search_btn.click()"
   ]
  },
  {
   "cell_type": "code",
   "execution_count": null,
   "metadata": {},
   "outputs": [],
   "source": [
    "# lets extract all the job-titles\n",
    "job_tags=driver.find_elements_by_xpath(\"//a[@class='title fw500 ellipsis']\")\n",
    "job_tags"
   ]
  },
  {
   "cell_type": "code",
   "execution_count": null,
   "metadata": {},
   "outputs": [],
   "source": [
    "# Lets run the loop to extract the text inside them\n",
    "job_titles=[]\n",
    "for i in job_tags:\n",
    "    job_titles.append(i.text)\n",
    "job_titles[1:11]"
   ]
  },
  {
   "cell_type": "code",
   "execution_count": null,
   "metadata": {},
   "outputs": [],
   "source": [
    "# lets extract all the company names\n",
    "company_tags=driver.find_elements_by_xpath(\"//a[@class='subTitle ellipsis fleft']\")\n",
    "company_tags"
   ]
  },
  {
   "cell_type": "code",
   "execution_count": null,
   "metadata": {},
   "outputs": [],
   "source": [
    "# Lets run the loop to extract the text inside them\n",
    "comp_titles=[]\n",
    "for i in company_tags:\n",
    "    comp_titles.append(i.text)\n",
    "comp_titles[1:11]"
   ]
  },
  {
   "cell_type": "code",
   "execution_count": null,
   "metadata": {},
   "outputs": [],
   "source": [
    "# lets extraxt all the tags of  the experience details \n",
    "# lets extract all the company names\n",
    "experience_tags=driver.find_elements_by_xpath(\"//li[@class='fleft grey-text br2 placeHolderLi experience']\")\n",
    "experience_tags"
   ]
  },
  {
   "cell_type": "code",
   "execution_count": null,
   "metadata": {},
   "outputs": [],
   "source": [
    "# Lets run the loop to extract the text inside them\n",
    "exp_titles=[]\n",
    "for i in experience_tags:\n",
    "    exp_titles.append(i.text)\n",
    "exp_titles"
   ]
  },
  {
   "cell_type": "code",
   "execution_count": null,
   "metadata": {},
   "outputs": [],
   "source": [
    "# lets extraxt all the tags of  the experience details \n",
    "# lets extract all the company names\n",
    "location_tags=driver.find_elements_by_xpath(\"//li[@class='fleft grey-text br2 placeHolderLi location']/span\")\n",
    "location_tags\n"
   ]
  },
  {
   "cell_type": "code",
   "execution_count": null,
   "metadata": {},
   "outputs": [],
   "source": [
    "# Lets run the loop to extract the text inside them\n",
    "loc_titles=[]\n",
    "for i in location_tags:\n",
    "     loc_titles.append(i.text)\n",
    "c[1:11]"
   ]
  },
  {
   "cell_type": "code",
   "execution_count": null,
   "metadata": {},
   "outputs": [],
   "source": [
    "# Creeating the data frame for the extracted dat above\n",
    "print(len(loc_titles),len(comp_titles),len(job_titles),len(exp_titles))"
   ]
  },
  {
   "cell_type": "code",
   "execution_count": null,
   "metadata": {},
   "outputs": [],
   "source": [
    "jobs=pd.DataFrame({})\n",
    "jobs['Job titles']=job_titles[1:11]\n",
    "jobs['comapny Name']=comp_titles[1:11]\n",
    "jobs['Experinece Required']=exp_titles[1:11]\n",
    "jobs['location']=loc_titles[1:11]"
   ]
  },
  {
   "cell_type": "code",
   "execution_count": null,
   "metadata": {},
   "outputs": [],
   "source": [
    "jobs"
   ]
  },
  {
   "cell_type": "markdown",
   "metadata": {},
   "source": [
    "# Question -4"
   ]
  },
  {
   "cell_type": "code",
   "execution_count": null,
   "metadata": {},
   "outputs": [],
   "source": []
  },
  {
   "cell_type": "code",
   "execution_count": 47,
   "metadata": {},
   "outputs": [],
   "source": [
    "# lets first connect to the webdriver\n",
    "driver=webdriver.Chrome('chromedriver.exe')"
   ]
  },
  {
   "cell_type": "code",
   "execution_count": 49,
   "metadata": {},
   "outputs": [],
   "source": [
    "url='https://www.glassdoor.co.in/index.htm'\n",
    "driver.get(url)"
   ]
  },
  {
   "cell_type": "code",
   "execution_count": 53,
   "metadata": {},
   "outputs": [
    {
     "data": {
      "text/plain": [
       "<selenium.webdriver.remote.webelement.WebElement (session=\"03a70877d7f7a2ca72fe4bcb367aeba4\", element=\"2b947f17-af9a-4799-b2ae-8e05c7043132\")>"
      ]
     },
     "execution_count": 53,
     "metadata": {},
     "output_type": "execute_result"
    }
   ],
   "source": [
    "search_job=driver.find_element_by_xpath(\"//div[@class='col headerSearchInput css-1ohf0ui']\")\n",
    "search_job"
   ]
  },
  {
   "cell_type": "code",
   "execution_count": 55,
   "metadata": {},
   "outputs": [
    {
     "ename": "ElementNotInteractableException",
     "evalue": "Message: element not interactable\n  (Session info: chrome=91.0.4472.101)\n",
     "output_type": "error",
     "traceback": [
      "\u001b[1;31m---------------------------------------------------------------------------\u001b[0m",
      "\u001b[1;31mElementNotInteractableException\u001b[0m           Traceback (most recent call last)",
      "\u001b[1;32m<ipython-input-55-3d007c893237>\u001b[0m in \u001b[0;36m<module>\u001b[1;34m\u001b[0m\n\u001b[0;32m      1\u001b[0m \u001b[1;31m# write on search bar\u001b[0m\u001b[1;33m\u001b[0m\u001b[1;33m\u001b[0m\u001b[1;33m\u001b[0m\u001b[0m\n\u001b[1;32m----> 2\u001b[1;33m \u001b[0msearch_job\u001b[0m\u001b[1;33m.\u001b[0m\u001b[0msend_keys\u001b[0m\u001b[1;33m(\u001b[0m\u001b[1;34m'Data Scientist'\u001b[0m\u001b[1;33m)\u001b[0m\u001b[1;33m\u001b[0m\u001b[1;33m\u001b[0m\u001b[0m\n\u001b[0m",
      "\u001b[1;32m~\\anaconda3\\lib\\site-packages\\selenium\\webdriver\\remote\\webelement.py\u001b[0m in \u001b[0;36msend_keys\u001b[1;34m(self, *value)\u001b[0m\n\u001b[0;32m    475\u001b[0m                 \u001b[0mvalue\u001b[0m \u001b[1;33m=\u001b[0m \u001b[0mself\u001b[0m\u001b[1;33m.\u001b[0m\u001b[0m_upload\u001b[0m\u001b[1;33m(\u001b[0m\u001b[0mlocal_file\u001b[0m\u001b[1;33m)\u001b[0m\u001b[1;33m\u001b[0m\u001b[1;33m\u001b[0m\u001b[0m\n\u001b[0;32m    476\u001b[0m \u001b[1;33m\u001b[0m\u001b[0m\n\u001b[1;32m--> 477\u001b[1;33m         self._execute(Command.SEND_KEYS_TO_ELEMENT,\n\u001b[0m\u001b[0;32m    478\u001b[0m                       {'text': \"\".join(keys_to_typing(value)),\n\u001b[0;32m    479\u001b[0m                        'value': keys_to_typing(value)})\n",
      "\u001b[1;32m~\\anaconda3\\lib\\site-packages\\selenium\\webdriver\\remote\\webelement.py\u001b[0m in \u001b[0;36m_execute\u001b[1;34m(self, command, params)\u001b[0m\n\u001b[0;32m    631\u001b[0m             \u001b[0mparams\u001b[0m \u001b[1;33m=\u001b[0m \u001b[1;33m{\u001b[0m\u001b[1;33m}\u001b[0m\u001b[1;33m\u001b[0m\u001b[1;33m\u001b[0m\u001b[0m\n\u001b[0;32m    632\u001b[0m         \u001b[0mparams\u001b[0m\u001b[1;33m[\u001b[0m\u001b[1;34m'id'\u001b[0m\u001b[1;33m]\u001b[0m \u001b[1;33m=\u001b[0m \u001b[0mself\u001b[0m\u001b[1;33m.\u001b[0m\u001b[0m_id\u001b[0m\u001b[1;33m\u001b[0m\u001b[1;33m\u001b[0m\u001b[0m\n\u001b[1;32m--> 633\u001b[1;33m         \u001b[1;32mreturn\u001b[0m \u001b[0mself\u001b[0m\u001b[1;33m.\u001b[0m\u001b[0m_parent\u001b[0m\u001b[1;33m.\u001b[0m\u001b[0mexecute\u001b[0m\u001b[1;33m(\u001b[0m\u001b[0mcommand\u001b[0m\u001b[1;33m,\u001b[0m \u001b[0mparams\u001b[0m\u001b[1;33m)\u001b[0m\u001b[1;33m\u001b[0m\u001b[1;33m\u001b[0m\u001b[0m\n\u001b[0m\u001b[0;32m    634\u001b[0m \u001b[1;33m\u001b[0m\u001b[0m\n\u001b[0;32m    635\u001b[0m     \u001b[1;32mdef\u001b[0m \u001b[0mfind_element\u001b[0m\u001b[1;33m(\u001b[0m\u001b[0mself\u001b[0m\u001b[1;33m,\u001b[0m \u001b[0mby\u001b[0m\u001b[1;33m=\u001b[0m\u001b[0mBy\u001b[0m\u001b[1;33m.\u001b[0m\u001b[0mID\u001b[0m\u001b[1;33m,\u001b[0m \u001b[0mvalue\u001b[0m\u001b[1;33m=\u001b[0m\u001b[1;32mNone\u001b[0m\u001b[1;33m)\u001b[0m\u001b[1;33m:\u001b[0m\u001b[1;33m\u001b[0m\u001b[1;33m\u001b[0m\u001b[0m\n",
      "\u001b[1;32m~\\anaconda3\\lib\\site-packages\\selenium\\webdriver\\remote\\webdriver.py\u001b[0m in \u001b[0;36mexecute\u001b[1;34m(self, driver_command, params)\u001b[0m\n\u001b[0;32m    319\u001b[0m         \u001b[0mresponse\u001b[0m \u001b[1;33m=\u001b[0m \u001b[0mself\u001b[0m\u001b[1;33m.\u001b[0m\u001b[0mcommand_executor\u001b[0m\u001b[1;33m.\u001b[0m\u001b[0mexecute\u001b[0m\u001b[1;33m(\u001b[0m\u001b[0mdriver_command\u001b[0m\u001b[1;33m,\u001b[0m \u001b[0mparams\u001b[0m\u001b[1;33m)\u001b[0m\u001b[1;33m\u001b[0m\u001b[1;33m\u001b[0m\u001b[0m\n\u001b[0;32m    320\u001b[0m         \u001b[1;32mif\u001b[0m \u001b[0mresponse\u001b[0m\u001b[1;33m:\u001b[0m\u001b[1;33m\u001b[0m\u001b[1;33m\u001b[0m\u001b[0m\n\u001b[1;32m--> 321\u001b[1;33m             \u001b[0mself\u001b[0m\u001b[1;33m.\u001b[0m\u001b[0merror_handler\u001b[0m\u001b[1;33m.\u001b[0m\u001b[0mcheck_response\u001b[0m\u001b[1;33m(\u001b[0m\u001b[0mresponse\u001b[0m\u001b[1;33m)\u001b[0m\u001b[1;33m\u001b[0m\u001b[1;33m\u001b[0m\u001b[0m\n\u001b[0m\u001b[0;32m    322\u001b[0m             response['value'] = self._unwrap_value(\n\u001b[0;32m    323\u001b[0m                 response.get('value', None))\n",
      "\u001b[1;32m~\\anaconda3\\lib\\site-packages\\selenium\\webdriver\\remote\\errorhandler.py\u001b[0m in \u001b[0;36mcheck_response\u001b[1;34m(self, response)\u001b[0m\n\u001b[0;32m    240\u001b[0m                 \u001b[0malert_text\u001b[0m \u001b[1;33m=\u001b[0m \u001b[0mvalue\u001b[0m\u001b[1;33m[\u001b[0m\u001b[1;34m'alert'\u001b[0m\u001b[1;33m]\u001b[0m\u001b[1;33m.\u001b[0m\u001b[0mget\u001b[0m\u001b[1;33m(\u001b[0m\u001b[1;34m'text'\u001b[0m\u001b[1;33m)\u001b[0m\u001b[1;33m\u001b[0m\u001b[1;33m\u001b[0m\u001b[0m\n\u001b[0;32m    241\u001b[0m             \u001b[1;32mraise\u001b[0m \u001b[0mexception_class\u001b[0m\u001b[1;33m(\u001b[0m\u001b[0mmessage\u001b[0m\u001b[1;33m,\u001b[0m \u001b[0mscreen\u001b[0m\u001b[1;33m,\u001b[0m \u001b[0mstacktrace\u001b[0m\u001b[1;33m,\u001b[0m \u001b[0malert_text\u001b[0m\u001b[1;33m)\u001b[0m\u001b[1;33m\u001b[0m\u001b[1;33m\u001b[0m\u001b[0m\n\u001b[1;32m--> 242\u001b[1;33m         \u001b[1;32mraise\u001b[0m \u001b[0mexception_class\u001b[0m\u001b[1;33m(\u001b[0m\u001b[0mmessage\u001b[0m\u001b[1;33m,\u001b[0m \u001b[0mscreen\u001b[0m\u001b[1;33m,\u001b[0m \u001b[0mstacktrace\u001b[0m\u001b[1;33m)\u001b[0m\u001b[1;33m\u001b[0m\u001b[1;33m\u001b[0m\u001b[0m\n\u001b[0m\u001b[0;32m    243\u001b[0m \u001b[1;33m\u001b[0m\u001b[0m\n\u001b[0;32m    244\u001b[0m     \u001b[1;32mdef\u001b[0m \u001b[0m_value_or_default\u001b[0m\u001b[1;33m(\u001b[0m\u001b[0mself\u001b[0m\u001b[1;33m,\u001b[0m \u001b[0mobj\u001b[0m\u001b[1;33m,\u001b[0m \u001b[0mkey\u001b[0m\u001b[1;33m,\u001b[0m \u001b[0mdefault\u001b[0m\u001b[1;33m)\u001b[0m\u001b[1;33m:\u001b[0m\u001b[1;33m\u001b[0m\u001b[1;33m\u001b[0m\u001b[0m\n",
      "\u001b[1;31mElementNotInteractableException\u001b[0m: Message: element not interactable\n  (Session info: chrome=91.0.4472.101)\n"
     ]
    }
   ],
   "source": [
    "# write on search bar\n",
    "search_job.send_keys('Data Scientist')"
   ]
  },
  {
   "cell_type": "code",
   "execution_count": 32,
   "metadata": {},
   "outputs": [
    {
     "ename": "NoSuchElementException",
     "evalue": "Message: no such element: Unable to locate element: {\"method\":\"xpath\",\"selector\":\"//div[@class='css-1etjok6']\"}\n  (Session info: chrome=91.0.4472.101)\n",
     "output_type": "error",
     "traceback": [
      "\u001b[1;31m---------------------------------------------------------------------------\u001b[0m",
      "\u001b[1;31mNoSuchElementException\u001b[0m                    Traceback (most recent call last)",
      "\u001b[1;32m<ipython-input-32-797ce965a4e7>\u001b[0m in \u001b[0;36m<module>\u001b[1;34m\u001b[0m\n\u001b[0;32m      1\u001b[0m \u001b[1;31m# finding element for Job\u001b[0m\u001b[1;33m\u001b[0m\u001b[1;33m\u001b[0m\u001b[1;33m\u001b[0m\u001b[0m\n\u001b[1;32m----> 2\u001b[1;33m \u001b[0msearch_loc\u001b[0m\u001b[1;33m=\u001b[0m\u001b[0mdriver\u001b[0m\u001b[1;33m.\u001b[0m\u001b[0mfind_element_by_xpath\u001b[0m\u001b[1;33m(\u001b[0m\u001b[1;34m\"//div[@class='css-1etjok6']\"\u001b[0m\u001b[1;33m)\u001b[0m\u001b[1;33m\u001b[0m\u001b[1;33m\u001b[0m\u001b[0m\n\u001b[0m\u001b[0;32m      3\u001b[0m \u001b[1;31m#search_loc.send_keys('Delhi')\u001b[0m\u001b[1;33m\u001b[0m\u001b[1;33m\u001b[0m\u001b[1;33m\u001b[0m\u001b[0m\n",
      "\u001b[1;32m~\\anaconda3\\lib\\site-packages\\selenium\\webdriver\\remote\\webdriver.py\u001b[0m in \u001b[0;36mfind_element_by_xpath\u001b[1;34m(self, xpath)\u001b[0m\n\u001b[0;32m    392\u001b[0m             \u001b[0melement\u001b[0m \u001b[1;33m=\u001b[0m \u001b[0mdriver\u001b[0m\u001b[1;33m.\u001b[0m\u001b[0mfind_element_by_xpath\u001b[0m\u001b[1;33m(\u001b[0m\u001b[1;34m'//div/td[1]'\u001b[0m\u001b[1;33m)\u001b[0m\u001b[1;33m\u001b[0m\u001b[1;33m\u001b[0m\u001b[0m\n\u001b[0;32m    393\u001b[0m         \"\"\"\n\u001b[1;32m--> 394\u001b[1;33m         \u001b[1;32mreturn\u001b[0m \u001b[0mself\u001b[0m\u001b[1;33m.\u001b[0m\u001b[0mfind_element\u001b[0m\u001b[1;33m(\u001b[0m\u001b[0mby\u001b[0m\u001b[1;33m=\u001b[0m\u001b[0mBy\u001b[0m\u001b[1;33m.\u001b[0m\u001b[0mXPATH\u001b[0m\u001b[1;33m,\u001b[0m \u001b[0mvalue\u001b[0m\u001b[1;33m=\u001b[0m\u001b[0mxpath\u001b[0m\u001b[1;33m)\u001b[0m\u001b[1;33m\u001b[0m\u001b[1;33m\u001b[0m\u001b[0m\n\u001b[0m\u001b[0;32m    395\u001b[0m \u001b[1;33m\u001b[0m\u001b[0m\n\u001b[0;32m    396\u001b[0m     \u001b[1;32mdef\u001b[0m \u001b[0mfind_elements_by_xpath\u001b[0m\u001b[1;33m(\u001b[0m\u001b[0mself\u001b[0m\u001b[1;33m,\u001b[0m \u001b[0mxpath\u001b[0m\u001b[1;33m)\u001b[0m\u001b[1;33m:\u001b[0m\u001b[1;33m\u001b[0m\u001b[1;33m\u001b[0m\u001b[0m\n",
      "\u001b[1;32m~\\anaconda3\\lib\\site-packages\\selenium\\webdriver\\remote\\webdriver.py\u001b[0m in \u001b[0;36mfind_element\u001b[1;34m(self, by, value)\u001b[0m\n\u001b[0;32m    974\u001b[0m                 \u001b[0mby\u001b[0m \u001b[1;33m=\u001b[0m \u001b[0mBy\u001b[0m\u001b[1;33m.\u001b[0m\u001b[0mCSS_SELECTOR\u001b[0m\u001b[1;33m\u001b[0m\u001b[1;33m\u001b[0m\u001b[0m\n\u001b[0;32m    975\u001b[0m                 \u001b[0mvalue\u001b[0m \u001b[1;33m=\u001b[0m \u001b[1;34m'[name=\"%s\"]'\u001b[0m \u001b[1;33m%\u001b[0m \u001b[0mvalue\u001b[0m\u001b[1;33m\u001b[0m\u001b[1;33m\u001b[0m\u001b[0m\n\u001b[1;32m--> 976\u001b[1;33m         return self.execute(Command.FIND_ELEMENT, {\n\u001b[0m\u001b[0;32m    977\u001b[0m             \u001b[1;34m'using'\u001b[0m\u001b[1;33m:\u001b[0m \u001b[0mby\u001b[0m\u001b[1;33m,\u001b[0m\u001b[1;33m\u001b[0m\u001b[1;33m\u001b[0m\u001b[0m\n\u001b[0;32m    978\u001b[0m             'value': value})['value']\n",
      "\u001b[1;32m~\\anaconda3\\lib\\site-packages\\selenium\\webdriver\\remote\\webdriver.py\u001b[0m in \u001b[0;36mexecute\u001b[1;34m(self, driver_command, params)\u001b[0m\n\u001b[0;32m    319\u001b[0m         \u001b[0mresponse\u001b[0m \u001b[1;33m=\u001b[0m \u001b[0mself\u001b[0m\u001b[1;33m.\u001b[0m\u001b[0mcommand_executor\u001b[0m\u001b[1;33m.\u001b[0m\u001b[0mexecute\u001b[0m\u001b[1;33m(\u001b[0m\u001b[0mdriver_command\u001b[0m\u001b[1;33m,\u001b[0m \u001b[0mparams\u001b[0m\u001b[1;33m)\u001b[0m\u001b[1;33m\u001b[0m\u001b[1;33m\u001b[0m\u001b[0m\n\u001b[0;32m    320\u001b[0m         \u001b[1;32mif\u001b[0m \u001b[0mresponse\u001b[0m\u001b[1;33m:\u001b[0m\u001b[1;33m\u001b[0m\u001b[1;33m\u001b[0m\u001b[0m\n\u001b[1;32m--> 321\u001b[1;33m             \u001b[0mself\u001b[0m\u001b[1;33m.\u001b[0m\u001b[0merror_handler\u001b[0m\u001b[1;33m.\u001b[0m\u001b[0mcheck_response\u001b[0m\u001b[1;33m(\u001b[0m\u001b[0mresponse\u001b[0m\u001b[1;33m)\u001b[0m\u001b[1;33m\u001b[0m\u001b[1;33m\u001b[0m\u001b[0m\n\u001b[0m\u001b[0;32m    322\u001b[0m             response['value'] = self._unwrap_value(\n\u001b[0;32m    323\u001b[0m                 response.get('value', None))\n",
      "\u001b[1;32m~\\anaconda3\\lib\\site-packages\\selenium\\webdriver\\remote\\errorhandler.py\u001b[0m in \u001b[0;36mcheck_response\u001b[1;34m(self, response)\u001b[0m\n\u001b[0;32m    240\u001b[0m                 \u001b[0malert_text\u001b[0m \u001b[1;33m=\u001b[0m \u001b[0mvalue\u001b[0m\u001b[1;33m[\u001b[0m\u001b[1;34m'alert'\u001b[0m\u001b[1;33m]\u001b[0m\u001b[1;33m.\u001b[0m\u001b[0mget\u001b[0m\u001b[1;33m(\u001b[0m\u001b[1;34m'text'\u001b[0m\u001b[1;33m)\u001b[0m\u001b[1;33m\u001b[0m\u001b[1;33m\u001b[0m\u001b[0m\n\u001b[0;32m    241\u001b[0m             \u001b[1;32mraise\u001b[0m \u001b[0mexception_class\u001b[0m\u001b[1;33m(\u001b[0m\u001b[0mmessage\u001b[0m\u001b[1;33m,\u001b[0m \u001b[0mscreen\u001b[0m\u001b[1;33m,\u001b[0m \u001b[0mstacktrace\u001b[0m\u001b[1;33m,\u001b[0m \u001b[0malert_text\u001b[0m\u001b[1;33m)\u001b[0m\u001b[1;33m\u001b[0m\u001b[1;33m\u001b[0m\u001b[0m\n\u001b[1;32m--> 242\u001b[1;33m         \u001b[1;32mraise\u001b[0m \u001b[0mexception_class\u001b[0m\u001b[1;33m(\u001b[0m\u001b[0mmessage\u001b[0m\u001b[1;33m,\u001b[0m \u001b[0mscreen\u001b[0m\u001b[1;33m,\u001b[0m \u001b[0mstacktrace\u001b[0m\u001b[1;33m)\u001b[0m\u001b[1;33m\u001b[0m\u001b[1;33m\u001b[0m\u001b[0m\n\u001b[0m\u001b[0;32m    243\u001b[0m \u001b[1;33m\u001b[0m\u001b[0m\n\u001b[0;32m    244\u001b[0m     \u001b[1;32mdef\u001b[0m \u001b[0m_value_or_default\u001b[0m\u001b[1;33m(\u001b[0m\u001b[0mself\u001b[0m\u001b[1;33m,\u001b[0m \u001b[0mobj\u001b[0m\u001b[1;33m,\u001b[0m \u001b[0mkey\u001b[0m\u001b[1;33m,\u001b[0m \u001b[0mdefault\u001b[0m\u001b[1;33m)\u001b[0m\u001b[1;33m:\u001b[0m\u001b[1;33m\u001b[0m\u001b[1;33m\u001b[0m\u001b[0m\n",
      "\u001b[1;31mNoSuchElementException\u001b[0m: Message: no such element: Unable to locate element: {\"method\":\"xpath\",\"selector\":\"//div[@class='css-1etjok6']\"}\n  (Session info: chrome=91.0.4472.101)\n"
     ]
    }
   ],
   "source": [
    "# finding element for Job \n",
    "search_loc=driver.find_element_by_xpath(\"//div[@class='css-1etjok6']\")\n",
    "#search_loc.send_keys('Delhi')\n"
   ]
  },
  {
   "cell_type": "markdown",
   "metadata": {},
   "source": [
    "# Question-6"
   ]
  },
  {
   "cell_type": "code",
   "execution_count": 56,
   "metadata": {},
   "outputs": [],
   "source": [
    "# lets first connect to the webdriver\n",
    "driver=webdriver.Chrome('chromedriver.exe')"
   ]
  },
  {
   "cell_type": "code",
   "execution_count": 57,
   "metadata": {},
   "outputs": [],
   "source": [
    "url='https://www.flipkart.com/'\n",
    "driver.get(url)"
   ]
  },
  {
   "cell_type": "code",
   "execution_count": 71,
   "metadata": {},
   "outputs": [
    {
     "data": {
      "text/plain": [
       "[<selenium.webdriver.remote.webelement.WebElement (session=\"745f5e2b25b5b98431ee7c6c32ff79c2\", element=\"6810eaa0-0baf-4ab2-bec8-1c7be3793154\")>,\n",
       " <selenium.webdriver.remote.webelement.WebElement (session=\"745f5e2b25b5b98431ee7c6c32ff79c2\", element=\"7c2316e0-b74e-4cb3-995e-306a034569d3\")>,\n",
       " <selenium.webdriver.remote.webelement.WebElement (session=\"745f5e2b25b5b98431ee7c6c32ff79c2\", element=\"a238eb8c-c4b3-424b-b18b-6779580fc3a4\")>,\n",
       " <selenium.webdriver.remote.webelement.WebElement (session=\"745f5e2b25b5b98431ee7c6c32ff79c2\", element=\"d0d7a0e6-207a-4b7d-847a-4f26428056ff\")>,\n",
       " <selenium.webdriver.remote.webelement.WebElement (session=\"745f5e2b25b5b98431ee7c6c32ff79c2\", element=\"573c8b0a-1e31-40f0-a8de-2b20a715c2bf\")>,\n",
       " <selenium.webdriver.remote.webelement.WebElement (session=\"745f5e2b25b5b98431ee7c6c32ff79c2\", element=\"06145a7d-b560-4aeb-aeb5-def95745c9eb\")>,\n",
       " <selenium.webdriver.remote.webelement.WebElement (session=\"745f5e2b25b5b98431ee7c6c32ff79c2\", element=\"770970ef-d0c2-455e-b29e-b08b385260c5\")>,\n",
       " <selenium.webdriver.remote.webelement.WebElement (session=\"745f5e2b25b5b98431ee7c6c32ff79c2\", element=\"b77eb82e-4c79-4997-b292-9fcb1e91893a\")>,\n",
       " <selenium.webdriver.remote.webelement.WebElement (session=\"745f5e2b25b5b98431ee7c6c32ff79c2\", element=\"e99d9251-dd34-4e7d-8e98-3e8fc828ac4d\")>,\n",
       " <selenium.webdriver.remote.webelement.WebElement (session=\"745f5e2b25b5b98431ee7c6c32ff79c2\", element=\"5d83d288-8c05-48cc-b31e-8c1221f79c2a\")>,\n",
       " <selenium.webdriver.remote.webelement.WebElement (session=\"745f5e2b25b5b98431ee7c6c32ff79c2\", element=\"5fe064b6-a23e-4e2a-92bc-190ab4834074\")>,\n",
       " <selenium.webdriver.remote.webelement.WebElement (session=\"745f5e2b25b5b98431ee7c6c32ff79c2\", element=\"0da1698e-c865-46bc-bed3-1b38bc37a9ef\")>,\n",
       " <selenium.webdriver.remote.webelement.WebElement (session=\"745f5e2b25b5b98431ee7c6c32ff79c2\", element=\"495d3cab-6548-4322-95ce-27ef7918dd9f\")>,\n",
       " <selenium.webdriver.remote.webelement.WebElement (session=\"745f5e2b25b5b98431ee7c6c32ff79c2\", element=\"bb1868b7-2f1f-4ad0-93b3-87d11a7b6c5c\")>,\n",
       " <selenium.webdriver.remote.webelement.WebElement (session=\"745f5e2b25b5b98431ee7c6c32ff79c2\", element=\"a29f6b5e-7e4f-478d-ad89-25d2020a1114\")>,\n",
       " <selenium.webdriver.remote.webelement.WebElement (session=\"745f5e2b25b5b98431ee7c6c32ff79c2\", element=\"bb940c2f-a6c0-4a56-8684-450959bc7da8\")>,\n",
       " <selenium.webdriver.remote.webelement.WebElement (session=\"745f5e2b25b5b98431ee7c6c32ff79c2\", element=\"0031a519-2610-4210-a4ec-23b381905ca2\")>,\n",
       " <selenium.webdriver.remote.webelement.WebElement (session=\"745f5e2b25b5b98431ee7c6c32ff79c2\", element=\"f6762a4c-fe60-42df-a271-377a3c6959b5\")>,\n",
       " <selenium.webdriver.remote.webelement.WebElement (session=\"745f5e2b25b5b98431ee7c6c32ff79c2\", element=\"e72760cd-e4d4-4eda-96a5-5f2158af051c\")>,\n",
       " <selenium.webdriver.remote.webelement.WebElement (session=\"745f5e2b25b5b98431ee7c6c32ff79c2\", element=\"db19cb55-bf0c-43ac-89a2-018795d2b102\")>,\n",
       " <selenium.webdriver.remote.webelement.WebElement (session=\"745f5e2b25b5b98431ee7c6c32ff79c2\", element=\"16feaf81-3ecd-42d4-8a39-a7e4fbebdb12\")>,\n",
       " <selenium.webdriver.remote.webelement.WebElement (session=\"745f5e2b25b5b98431ee7c6c32ff79c2\", element=\"43c38520-beda-44f2-ba0e-a15a146d1431\")>,\n",
       " <selenium.webdriver.remote.webelement.WebElement (session=\"745f5e2b25b5b98431ee7c6c32ff79c2\", element=\"f1b26887-b57f-41a8-b874-bc863f20f6cd\")>,\n",
       " <selenium.webdriver.remote.webelement.WebElement (session=\"745f5e2b25b5b98431ee7c6c32ff79c2\", element=\"acf572f3-d53c-4edf-abd9-7049141f36d4\")>,\n",
       " <selenium.webdriver.remote.webelement.WebElement (session=\"745f5e2b25b5b98431ee7c6c32ff79c2\", element=\"d1883a72-82db-4fdc-ad07-16eebf10064d\")>,\n",
       " <selenium.webdriver.remote.webelement.WebElement (session=\"745f5e2b25b5b98431ee7c6c32ff79c2\", element=\"59c888e5-6f3e-4171-9dda-300db9808261\")>,\n",
       " <selenium.webdriver.remote.webelement.WebElement (session=\"745f5e2b25b5b98431ee7c6c32ff79c2\", element=\"91c58085-dad9-4380-9963-89091f2c818e\")>,\n",
       " <selenium.webdriver.remote.webelement.WebElement (session=\"745f5e2b25b5b98431ee7c6c32ff79c2\", element=\"8330c6e3-ca95-42fa-8a4c-b2c125c2fed5\")>,\n",
       " <selenium.webdriver.remote.webelement.WebElement (session=\"745f5e2b25b5b98431ee7c6c32ff79c2\", element=\"ad6ec581-c6fd-4d9d-b092-6301c705ace9\")>,\n",
       " <selenium.webdriver.remote.webelement.WebElement (session=\"745f5e2b25b5b98431ee7c6c32ff79c2\", element=\"928516b8-86ce-404e-859d-97e513cb44e4\")>,\n",
       " <selenium.webdriver.remote.webelement.WebElement (session=\"745f5e2b25b5b98431ee7c6c32ff79c2\", element=\"e51cf7fa-c6c4-4412-9b1f-d2d82e35ec35\")>,\n",
       " <selenium.webdriver.remote.webelement.WebElement (session=\"745f5e2b25b5b98431ee7c6c32ff79c2\", element=\"3433ed47-1da7-416f-86c9-074185b1268e\")>,\n",
       " <selenium.webdriver.remote.webelement.WebElement (session=\"745f5e2b25b5b98431ee7c6c32ff79c2\", element=\"c3393bfc-1a0d-4245-b951-15d42193995b\")>,\n",
       " <selenium.webdriver.remote.webelement.WebElement (session=\"745f5e2b25b5b98431ee7c6c32ff79c2\", element=\"876b7721-4aaf-41bc-a424-40779ca5eb88\")>,\n",
       " <selenium.webdriver.remote.webelement.WebElement (session=\"745f5e2b25b5b98431ee7c6c32ff79c2\", element=\"53b71c3e-7059-488c-b577-e89877a92b8f\")>,\n",
       " <selenium.webdriver.remote.webelement.WebElement (session=\"745f5e2b25b5b98431ee7c6c32ff79c2\", element=\"775e6639-1716-4940-9547-7aa7663e7019\")>,\n",
       " <selenium.webdriver.remote.webelement.WebElement (session=\"745f5e2b25b5b98431ee7c6c32ff79c2\", element=\"c916dfea-8f47-4247-a158-d4d565a30d44\")>,\n",
       " <selenium.webdriver.remote.webelement.WebElement (session=\"745f5e2b25b5b98431ee7c6c32ff79c2\", element=\"7280b13d-52e6-4779-bfd6-f5e6b7ad55ec\")>,\n",
       " <selenium.webdriver.remote.webelement.WebElement (session=\"745f5e2b25b5b98431ee7c6c32ff79c2\", element=\"0f281022-1ce2-48a6-94e9-c2f68c1066f6\")>,\n",
       " <selenium.webdriver.remote.webelement.WebElement (session=\"745f5e2b25b5b98431ee7c6c32ff79c2\", element=\"88e90066-6d3e-4b8a-8578-e43326b502b4\")>]"
      ]
     },
     "execution_count": 71,
     "metadata": {},
     "output_type": "execute_result"
    }
   ],
   "source": [
    "search_product=driver.find_elements_by_xpath(\"//div[@class='_2WkVRV']\")\n",
    "search_product"
   ]
  },
  {
   "cell_type": "code",
   "execution_count": 72,
   "metadata": {},
   "outputs": [
    {
     "data": {
      "text/plain": [
       "['PIRASO',\n",
       " 'Fastrack',\n",
       " 'Fastrack',\n",
       " 'PIRASO',\n",
       " 'Fastrack',\n",
       " 'PIRASO',\n",
       " 'Singco',\n",
       " 'DEIXELS',\n",
       " 'PIRASO',\n",
       " 'ROZZETTA CRAFT',\n",
       " 'PIRASO',\n",
       " 'GANSTA',\n",
       " 'ROZZETTA CRAFT',\n",
       " 'Fastrack',\n",
       " 'kingsunglasses',\n",
       " 'HIPPON',\n",
       " 'ROZZETTA CRAFT',\n",
       " 'ROYAL SON',\n",
       " 'Singco India',\n",
       " 'PHENOMENAL',\n",
       " 'ROYAL SON',\n",
       " 'NuVew',\n",
       " 'ROYAL SON',\n",
       " 'Singco India',\n",
       " 'Fastrack',\n",
       " 'hipe',\n",
       " 'PHENOMENAL',\n",
       " 'ROYAL SON',\n",
       " 'PIRASO',\n",
       " 'Fravy',\n",
       " 'ROZZETTA CRAFT',\n",
       " 'hipe',\n",
       " 'NuVew',\n",
       " 'Singco India',\n",
       " 'NuVew',\n",
       " 'Poland',\n",
       " 'Cristiano Ronnie',\n",
       " 'GANSTA',\n",
       " 'ROZZETTA CRAFT',\n",
       " 'Singco India']"
      ]
     },
     "execution_count": 72,
     "metadata": {},
     "output_type": "execute_result"
    }
   ],
   "source": [
    "# Lets run the loop to extract the text inside them\n",
    "brand_titles=[]\n",
    "for i in search_product:\n",
    "    brand_titles.append(i.text)\n",
    "brand_titles"
   ]
  },
  {
   "cell_type": "code",
   "execution_count": 74,
   "metadata": {},
   "outputs": [
    {
     "data": {
      "text/plain": [
       "[<selenium.webdriver.remote.webelement.WebElement (session=\"745f5e2b25b5b98431ee7c6c32ff79c2\", element=\"0e425377-d6f5-440e-9276-7d9a2a0bd8f8\")>,\n",
       " <selenium.webdriver.remote.webelement.WebElement (session=\"745f5e2b25b5b98431ee7c6c32ff79c2\", element=\"57ac26c9-95dd-4bbd-8e8a-2afd2bac3f43\")>,\n",
       " <selenium.webdriver.remote.webelement.WebElement (session=\"745f5e2b25b5b98431ee7c6c32ff79c2\", element=\"168bf265-befc-41dd-a76f-1aa2bc3ca1f5\")>,\n",
       " <selenium.webdriver.remote.webelement.WebElement (session=\"745f5e2b25b5b98431ee7c6c32ff79c2\", element=\"1fa4c428-842f-4d18-a34d-41c695bd0169\")>,\n",
       " <selenium.webdriver.remote.webelement.WebElement (session=\"745f5e2b25b5b98431ee7c6c32ff79c2\", element=\"8a1e7062-011c-403b-9632-cc5fdb6026a1\")>,\n",
       " <selenium.webdriver.remote.webelement.WebElement (session=\"745f5e2b25b5b98431ee7c6c32ff79c2\", element=\"00bb211c-1ccf-49b3-8a5b-5d75617fd0df\")>,\n",
       " <selenium.webdriver.remote.webelement.WebElement (session=\"745f5e2b25b5b98431ee7c6c32ff79c2\", element=\"12fa06fa-d910-4e68-82a6-3a18ec80aa6b\")>,\n",
       " <selenium.webdriver.remote.webelement.WebElement (session=\"745f5e2b25b5b98431ee7c6c32ff79c2\", element=\"44281090-1fff-4140-b0cd-e717f073f549\")>,\n",
       " <selenium.webdriver.remote.webelement.WebElement (session=\"745f5e2b25b5b98431ee7c6c32ff79c2\", element=\"af9e21be-30ce-4abe-9400-d5fdcd07b728\")>,\n",
       " <selenium.webdriver.remote.webelement.WebElement (session=\"745f5e2b25b5b98431ee7c6c32ff79c2\", element=\"0386d569-de33-43d3-b607-3c6233c6dd94\")>,\n",
       " <selenium.webdriver.remote.webelement.WebElement (session=\"745f5e2b25b5b98431ee7c6c32ff79c2\", element=\"20b90a17-2ac3-4479-94eb-c2deaa6f815d\")>,\n",
       " <selenium.webdriver.remote.webelement.WebElement (session=\"745f5e2b25b5b98431ee7c6c32ff79c2\", element=\"5b05e29d-996e-44bb-8641-804e3adab76e\")>,\n",
       " <selenium.webdriver.remote.webelement.WebElement (session=\"745f5e2b25b5b98431ee7c6c32ff79c2\", element=\"eaccd693-a76d-45b5-b82e-b7130ad515dc\")>,\n",
       " <selenium.webdriver.remote.webelement.WebElement (session=\"745f5e2b25b5b98431ee7c6c32ff79c2\", element=\"0325e56c-72b7-488b-bfb7-e6ae79183b02\")>,\n",
       " <selenium.webdriver.remote.webelement.WebElement (session=\"745f5e2b25b5b98431ee7c6c32ff79c2\", element=\"61bb8511-fb0a-4700-9c7b-e31bad587a79\")>,\n",
       " <selenium.webdriver.remote.webelement.WebElement (session=\"745f5e2b25b5b98431ee7c6c32ff79c2\", element=\"e314a912-7bba-4e8a-88ab-b408ba3fb3dc\")>,\n",
       " <selenium.webdriver.remote.webelement.WebElement (session=\"745f5e2b25b5b98431ee7c6c32ff79c2\", element=\"20dabff5-aa78-427a-b3a7-e4e725a24a80\")>,\n",
       " <selenium.webdriver.remote.webelement.WebElement (session=\"745f5e2b25b5b98431ee7c6c32ff79c2\", element=\"5a21d91c-21a7-428b-af69-9d2057d36ab6\")>,\n",
       " <selenium.webdriver.remote.webelement.WebElement (session=\"745f5e2b25b5b98431ee7c6c32ff79c2\", element=\"b3e37a62-25ee-4669-b76d-df2635b00934\")>,\n",
       " <selenium.webdriver.remote.webelement.WebElement (session=\"745f5e2b25b5b98431ee7c6c32ff79c2\", element=\"0f3b0f60-39ea-4846-ba2f-572240c7eb1a\")>,\n",
       " <selenium.webdriver.remote.webelement.WebElement (session=\"745f5e2b25b5b98431ee7c6c32ff79c2\", element=\"80f92f08-65b3-40c6-ac67-5a94ad1129a8\")>,\n",
       " <selenium.webdriver.remote.webelement.WebElement (session=\"745f5e2b25b5b98431ee7c6c32ff79c2\", element=\"5a33338c-0d4f-4bf9-894e-a32538aea14e\")>,\n",
       " <selenium.webdriver.remote.webelement.WebElement (session=\"745f5e2b25b5b98431ee7c6c32ff79c2\", element=\"6b886631-f89d-4f3c-98e0-0f0905e74fd6\")>,\n",
       " <selenium.webdriver.remote.webelement.WebElement (session=\"745f5e2b25b5b98431ee7c6c32ff79c2\", element=\"c313e7e4-35cb-44e4-ac18-28f333b7d60a\")>,\n",
       " <selenium.webdriver.remote.webelement.WebElement (session=\"745f5e2b25b5b98431ee7c6c32ff79c2\", element=\"ba5681db-a05a-4ffd-a906-7de305f023ef\")>,\n",
       " <selenium.webdriver.remote.webelement.WebElement (session=\"745f5e2b25b5b98431ee7c6c32ff79c2\", element=\"cbe52a0d-b1ea-4de4-bd18-4eb7bb95077e\")>,\n",
       " <selenium.webdriver.remote.webelement.WebElement (session=\"745f5e2b25b5b98431ee7c6c32ff79c2\", element=\"5421d460-712c-472e-9cf8-c2f87a74ddf4\")>,\n",
       " <selenium.webdriver.remote.webelement.WebElement (session=\"745f5e2b25b5b98431ee7c6c32ff79c2\", element=\"ab032b3a-37a3-4e0c-a75e-5baac853df4a\")>,\n",
       " <selenium.webdriver.remote.webelement.WebElement (session=\"745f5e2b25b5b98431ee7c6c32ff79c2\", element=\"64ceb684-7b75-4b5c-8373-b1969743a081\")>,\n",
       " <selenium.webdriver.remote.webelement.WebElement (session=\"745f5e2b25b5b98431ee7c6c32ff79c2\", element=\"9b6b3e26-786d-4382-9118-d666c95b132a\")>,\n",
       " <selenium.webdriver.remote.webelement.WebElement (session=\"745f5e2b25b5b98431ee7c6c32ff79c2\", element=\"4cd974f0-fd0e-48e4-b7c4-fb64f998fc66\")>,\n",
       " <selenium.webdriver.remote.webelement.WebElement (session=\"745f5e2b25b5b98431ee7c6c32ff79c2\", element=\"f9e9359f-d7a7-40b9-8833-d2cb7392535d\")>,\n",
       " <selenium.webdriver.remote.webelement.WebElement (session=\"745f5e2b25b5b98431ee7c6c32ff79c2\", element=\"8c0ae5de-56b2-4be9-a159-aca860c91425\")>,\n",
       " <selenium.webdriver.remote.webelement.WebElement (session=\"745f5e2b25b5b98431ee7c6c32ff79c2\", element=\"59755dd9-8dcd-43cb-b7aa-297e66c3d264\")>,\n",
       " <selenium.webdriver.remote.webelement.WebElement (session=\"745f5e2b25b5b98431ee7c6c32ff79c2\", element=\"5d5f24af-1cf1-48b6-bd9d-2bc9a541f4a8\")>,\n",
       " <selenium.webdriver.remote.webelement.WebElement (session=\"745f5e2b25b5b98431ee7c6c32ff79c2\", element=\"184ce903-2cba-4ec4-b27f-28c6a6bc4a2e\")>,\n",
       " <selenium.webdriver.remote.webelement.WebElement (session=\"745f5e2b25b5b98431ee7c6c32ff79c2\", element=\"dfe22cf0-fb0b-4c84-83c5-2dda6f930d50\")>,\n",
       " <selenium.webdriver.remote.webelement.WebElement (session=\"745f5e2b25b5b98431ee7c6c32ff79c2\", element=\"31eef7f9-82c3-4dd1-af54-120f895b8e65\")>,\n",
       " <selenium.webdriver.remote.webelement.WebElement (session=\"745f5e2b25b5b98431ee7c6c32ff79c2\", element=\"210f0b3d-c58b-4cdd-9f36-d7f45d9aabce\")>,\n",
       " <selenium.webdriver.remote.webelement.WebElement (session=\"745f5e2b25b5b98431ee7c6c32ff79c2\", element=\"32c77bf6-96be-4cb0-acdd-78e39951946d\")>]"
      ]
     },
     "execution_count": 74,
     "metadata": {},
     "output_type": "execute_result"
    }
   ],
   "source": [
    "search_price=driver.find_elements_by_xpath(\"//div[@class='_30jeq3']\")\n",
    "search_price"
   ]
  },
  {
   "cell_type": "code",
   "execution_count": 75,
   "metadata": {},
   "outputs": [
    {
     "data": {
      "text/plain": [
       "['₹237',\n",
       " '₹541',\n",
       " '₹509',\n",
       " '₹237',\n",
       " '₹733',\n",
       " '₹331',\n",
       " '₹249',\n",
       " '₹213',\n",
       " '₹237',\n",
       " '₹474',\n",
       " '₹331',\n",
       " '₹284',\n",
       " '₹404',\n",
       " '₹1,085',\n",
       " '₹299',\n",
       " '₹251',\n",
       " '₹499',\n",
       " '₹217',\n",
       " '₹212',\n",
       " '₹399',\n",
       " '₹399',\n",
       " '₹156',\n",
       " '₹319',\n",
       " '₹209',\n",
       " '₹674',\n",
       " '₹210',\n",
       " '₹379',\n",
       " '₹265',\n",
       " '₹237',\n",
       " '₹296',\n",
       " '₹426',\n",
       " '₹319',\n",
       " '₹204',\n",
       " '₹252',\n",
       " '₹210',\n",
       " '₹162',\n",
       " '₹399',\n",
       " '₹199',\n",
       " '₹426',\n",
       " '₹322']"
      ]
     },
     "execution_count": 75,
     "metadata": {},
     "output_type": "execute_result"
    }
   ],
   "source": [
    "# Lets run the loop to extract the text inside them\n",
    "price_titles=[]\n",
    "for i in search_price:\n",
    "    price_titles.append(i.text)\n",
    "price_titles"
   ]
  },
  {
   "cell_type": "code",
   "execution_count": 76,
   "metadata": {},
   "outputs": [
    {
     "data": {
      "text/plain": [
       "[<selenium.webdriver.remote.webelement.WebElement (session=\"745f5e2b25b5b98431ee7c6c32ff79c2\", element=\"f640d865-d54f-4413-8de3-8448b4c4e8f6\")>,\n",
       " <selenium.webdriver.remote.webelement.WebElement (session=\"745f5e2b25b5b98431ee7c6c32ff79c2\", element=\"3291c025-95e4-4250-8b1a-63c909867769\")>,\n",
       " <selenium.webdriver.remote.webelement.WebElement (session=\"745f5e2b25b5b98431ee7c6c32ff79c2\", element=\"71db6e7c-7561-4b0f-9386-2128616c0aec\")>,\n",
       " <selenium.webdriver.remote.webelement.WebElement (session=\"745f5e2b25b5b98431ee7c6c32ff79c2\", element=\"8dcd4580-3564-4c22-9f9e-9f4655f572ed\")>,\n",
       " <selenium.webdriver.remote.webelement.WebElement (session=\"745f5e2b25b5b98431ee7c6c32ff79c2\", element=\"a5e501b7-4bca-4bd7-b790-e60f298f1e7b\")>,\n",
       " <selenium.webdriver.remote.webelement.WebElement (session=\"745f5e2b25b5b98431ee7c6c32ff79c2\", element=\"016747ab-627c-4fa9-aa06-6a6fd01d804e\")>,\n",
       " <selenium.webdriver.remote.webelement.WebElement (session=\"745f5e2b25b5b98431ee7c6c32ff79c2\", element=\"bb1d524c-1dc0-4ce7-9322-05d13e6adc86\")>,\n",
       " <selenium.webdriver.remote.webelement.WebElement (session=\"745f5e2b25b5b98431ee7c6c32ff79c2\", element=\"c9b05ce0-a481-43f3-afce-339c2d77ad14\")>,\n",
       " <selenium.webdriver.remote.webelement.WebElement (session=\"745f5e2b25b5b98431ee7c6c32ff79c2\", element=\"0ca95259-9d6a-482c-8807-f5acd8c1a25a\")>,\n",
       " <selenium.webdriver.remote.webelement.WebElement (session=\"745f5e2b25b5b98431ee7c6c32ff79c2\", element=\"7865a251-e0b6-427c-8b50-81753cedd574\")>,\n",
       " <selenium.webdriver.remote.webelement.WebElement (session=\"745f5e2b25b5b98431ee7c6c32ff79c2\", element=\"326b4ef5-8d4f-4707-88c6-8c282c5100fc\")>,\n",
       " <selenium.webdriver.remote.webelement.WebElement (session=\"745f5e2b25b5b98431ee7c6c32ff79c2\", element=\"ac90ab63-cb96-47ff-af42-fd13dc7a2806\")>,\n",
       " <selenium.webdriver.remote.webelement.WebElement (session=\"745f5e2b25b5b98431ee7c6c32ff79c2\", element=\"b79a97ee-9f82-4ea1-aa63-fa48245c1682\")>,\n",
       " <selenium.webdriver.remote.webelement.WebElement (session=\"745f5e2b25b5b98431ee7c6c32ff79c2\", element=\"08b40abc-82cb-4355-9da9-7c480db532b4\")>,\n",
       " <selenium.webdriver.remote.webelement.WebElement (session=\"745f5e2b25b5b98431ee7c6c32ff79c2\", element=\"bfa4f257-bc97-482e-9d6f-de1d96edc96c\")>,\n",
       " <selenium.webdriver.remote.webelement.WebElement (session=\"745f5e2b25b5b98431ee7c6c32ff79c2\", element=\"62217db4-c27f-42e3-ae01-974b9920bab6\")>,\n",
       " <selenium.webdriver.remote.webelement.WebElement (session=\"745f5e2b25b5b98431ee7c6c32ff79c2\", element=\"0ca8fb17-c643-47ea-a330-00b0225ac1ef\")>,\n",
       " <selenium.webdriver.remote.webelement.WebElement (session=\"745f5e2b25b5b98431ee7c6c32ff79c2\", element=\"bcc7c75a-cb38-43f7-be85-58d619170399\")>,\n",
       " <selenium.webdriver.remote.webelement.WebElement (session=\"745f5e2b25b5b98431ee7c6c32ff79c2\", element=\"d53b9cde-f3ce-484c-a0dd-d38c67a60cc5\")>,\n",
       " <selenium.webdriver.remote.webelement.WebElement (session=\"745f5e2b25b5b98431ee7c6c32ff79c2\", element=\"d1ffca68-69ef-4f15-9897-a04fd966abc3\")>,\n",
       " <selenium.webdriver.remote.webelement.WebElement (session=\"745f5e2b25b5b98431ee7c6c32ff79c2\", element=\"30c68c03-9ad6-4bb6-ad7a-6add07792842\")>,\n",
       " <selenium.webdriver.remote.webelement.WebElement (session=\"745f5e2b25b5b98431ee7c6c32ff79c2\", element=\"3aac5cb7-a8ce-4569-b54e-2e6e3a41769a\")>,\n",
       " <selenium.webdriver.remote.webelement.WebElement (session=\"745f5e2b25b5b98431ee7c6c32ff79c2\", element=\"90a3a1ab-a0ad-408f-8a5f-9ca78646cf3e\")>,\n",
       " <selenium.webdriver.remote.webelement.WebElement (session=\"745f5e2b25b5b98431ee7c6c32ff79c2\", element=\"86313dce-6abb-4205-b896-0b8c3eb9203e\")>,\n",
       " <selenium.webdriver.remote.webelement.WebElement (session=\"745f5e2b25b5b98431ee7c6c32ff79c2\", element=\"c56dd583-dd08-45fa-afe0-55d7e0139b6b\")>,\n",
       " <selenium.webdriver.remote.webelement.WebElement (session=\"745f5e2b25b5b98431ee7c6c32ff79c2\", element=\"4bf71114-6297-4759-8b68-db3578019a9a\")>,\n",
       " <selenium.webdriver.remote.webelement.WebElement (session=\"745f5e2b25b5b98431ee7c6c32ff79c2\", element=\"27d9a05c-4447-4cf8-adcb-2cb177ec41a6\")>,\n",
       " <selenium.webdriver.remote.webelement.WebElement (session=\"745f5e2b25b5b98431ee7c6c32ff79c2\", element=\"2d9a7fd7-c471-401c-9997-b3cb683b535a\")>,\n",
       " <selenium.webdriver.remote.webelement.WebElement (session=\"745f5e2b25b5b98431ee7c6c32ff79c2\", element=\"5e9bc470-ca25-480a-bec7-39e5ee15e526\")>,\n",
       " <selenium.webdriver.remote.webelement.WebElement (session=\"745f5e2b25b5b98431ee7c6c32ff79c2\", element=\"042e12fa-c867-4c2d-b59e-c363da5a14b2\")>,\n",
       " <selenium.webdriver.remote.webelement.WebElement (session=\"745f5e2b25b5b98431ee7c6c32ff79c2\", element=\"d16be3ae-31cc-44cd-9f87-4fa844ff2fae\")>,\n",
       " <selenium.webdriver.remote.webelement.WebElement (session=\"745f5e2b25b5b98431ee7c6c32ff79c2\", element=\"4e0f01fc-02e9-47bb-b99f-2f195dc8ab81\")>,\n",
       " <selenium.webdriver.remote.webelement.WebElement (session=\"745f5e2b25b5b98431ee7c6c32ff79c2\", element=\"8634c3aa-36d6-42c9-b108-a3b8cfc184a9\")>,\n",
       " <selenium.webdriver.remote.webelement.WebElement (session=\"745f5e2b25b5b98431ee7c6c32ff79c2\", element=\"50e796f9-486d-41cb-9dea-82f4a3f599f9\")>,\n",
       " <selenium.webdriver.remote.webelement.WebElement (session=\"745f5e2b25b5b98431ee7c6c32ff79c2\", element=\"e58603a8-ca34-4715-939f-1c605fea7bd4\")>,\n",
       " <selenium.webdriver.remote.webelement.WebElement (session=\"745f5e2b25b5b98431ee7c6c32ff79c2\", element=\"fbdd8189-804e-4feb-ba8b-552e7fd4cff9\")>,\n",
       " <selenium.webdriver.remote.webelement.WebElement (session=\"745f5e2b25b5b98431ee7c6c32ff79c2\", element=\"99e863e6-dddd-4804-b0ba-2950dbea78ce\")>,\n",
       " <selenium.webdriver.remote.webelement.WebElement (session=\"745f5e2b25b5b98431ee7c6c32ff79c2\", element=\"e341ea30-fa8c-4b77-98dc-37c471a956f2\")>,\n",
       " <selenium.webdriver.remote.webelement.WebElement (session=\"745f5e2b25b5b98431ee7c6c32ff79c2\", element=\"36dbcd4c-0804-4338-8a1a-35f980bdaed6\")>,\n",
       " <selenium.webdriver.remote.webelement.WebElement (session=\"745f5e2b25b5b98431ee7c6c32ff79c2\", element=\"770b420c-c9ef-4937-a59a-8c642e56fa33\")>]"
      ]
     },
     "execution_count": 76,
     "metadata": {},
     "output_type": "execute_result"
    }
   ],
   "source": [
    "search_discount=driver.find_elements_by_xpath(\"//div[@class='_3Ay6Sb']\")\n",
    "search_discount"
   ]
  },
  {
   "cell_type": "code",
   "execution_count": 88,
   "metadata": {},
   "outputs": [
    {
     "data": {
      "text/plain": [
       "['85% off',\n",
       " '32% off',\n",
       " '36% off',\n",
       " '85% off',\n",
       " '18% off',\n",
       " '87% off',\n",
       " '75% off',\n",
       " '82% off',\n",
       " '85% off',\n",
       " '78% off',\n",
       " '79% off',\n",
       " '85% off',\n",
       " '79% off',\n",
       " '16% off',\n",
       " '88% off',\n",
       " '79% off',\n",
       " '77% off',\n",
       " '78% off',\n",
       " '69% off',\n",
       " '80% off',\n",
       " '73% off',\n",
       " '79% off',\n",
       " '78% off',\n",
       " '79% off',\n",
       " '25% off',\n",
       " '85% off',\n",
       " '81% off',\n",
       " '79% off',\n",
       " '85% off',\n",
       " '85% off',\n",
       " '78% off',\n",
       " '83% off',\n",
       " '74% off',\n",
       " '83% off',\n",
       " '78% off',\n",
       " '67% off',\n",
       " '74% off',\n",
       " '80% off',\n",
       " '80% off',\n",
       " '73% off']"
      ]
     },
     "execution_count": 88,
     "metadata": {},
     "output_type": "execute_result"
    }
   ],
   "source": [
    "# Lets run the loop to extract the text inside them\n",
    "disc_titles=[]\n",
    "for i in search_discount:\n",
    "    disc_titles.append(i.text)\n",
    "disc_titles"
   ]
  },
  {
   "cell_type": "code",
   "execution_count": 93,
   "metadata": {},
   "outputs": [
    {
     "data": {
      "text/plain": [
       "[<selenium.webdriver.remote.webelement.WebElement (session=\"745f5e2b25b5b98431ee7c6c32ff79c2\", element=\"865d2d98-13db-4396-9b87-b55a485fed39\")>,\n",
       " <selenium.webdriver.remote.webelement.WebElement (session=\"745f5e2b25b5b98431ee7c6c32ff79c2\", element=\"b406899e-f410-4f2d-b63e-38755aca2347\")>,\n",
       " <selenium.webdriver.remote.webelement.WebElement (session=\"745f5e2b25b5b98431ee7c6c32ff79c2\", element=\"c3f85fc4-3311-4e81-a799-18ecac5e0199\")>,\n",
       " <selenium.webdriver.remote.webelement.WebElement (session=\"745f5e2b25b5b98431ee7c6c32ff79c2\", element=\"be195c3c-3d11-4a66-a847-d77abc2147bd\")>,\n",
       " <selenium.webdriver.remote.webelement.WebElement (session=\"745f5e2b25b5b98431ee7c6c32ff79c2\", element=\"456316ad-eed9-4d44-b2b9-9097efc08bc2\")>,\n",
       " <selenium.webdriver.remote.webelement.WebElement (session=\"745f5e2b25b5b98431ee7c6c32ff79c2\", element=\"355599a4-d9c2-4aea-a923-f6196e67f20b\")>,\n",
       " <selenium.webdriver.remote.webelement.WebElement (session=\"745f5e2b25b5b98431ee7c6c32ff79c2\", element=\"9e72bcf9-99dc-473c-85ae-46c61e1c960d\")>,\n",
       " <selenium.webdriver.remote.webelement.WebElement (session=\"745f5e2b25b5b98431ee7c6c32ff79c2\", element=\"6664137a-1eed-4c56-a6e5-b1ef08fa5188\")>,\n",
       " <selenium.webdriver.remote.webelement.WebElement (session=\"745f5e2b25b5b98431ee7c6c32ff79c2\", element=\"92f29c9d-7eaa-4213-a990-8884f441fec4\")>,\n",
       " <selenium.webdriver.remote.webelement.WebElement (session=\"745f5e2b25b5b98431ee7c6c32ff79c2\", element=\"fb9afd08-700c-435c-8d7a-ee513d62a1a1\")>,\n",
       " <selenium.webdriver.remote.webelement.WebElement (session=\"745f5e2b25b5b98431ee7c6c32ff79c2\", element=\"121c5eb8-f336-4251-80d0-a8a92eadfd32\")>,\n",
       " <selenium.webdriver.remote.webelement.WebElement (session=\"745f5e2b25b5b98431ee7c6c32ff79c2\", element=\"4efccc5c-6afa-4d49-8c19-9e6b3a6b1a9b\")>,\n",
       " <selenium.webdriver.remote.webelement.WebElement (session=\"745f5e2b25b5b98431ee7c6c32ff79c2\", element=\"aef67903-2b69-4eb9-ab1a-c29305d6c1cb\")>,\n",
       " <selenium.webdriver.remote.webelement.WebElement (session=\"745f5e2b25b5b98431ee7c6c32ff79c2\", element=\"bbe8aa09-c378-4d77-af7b-8d44fa57dbef\")>,\n",
       " <selenium.webdriver.remote.webelement.WebElement (session=\"745f5e2b25b5b98431ee7c6c32ff79c2\", element=\"e29519e9-ce4b-45f2-89fd-372bb07f7279\")>,\n",
       " <selenium.webdriver.remote.webelement.WebElement (session=\"745f5e2b25b5b98431ee7c6c32ff79c2\", element=\"c7f479c0-6375-4a66-b250-4a2413dd06c8\")>,\n",
       " <selenium.webdriver.remote.webelement.WebElement (session=\"745f5e2b25b5b98431ee7c6c32ff79c2\", element=\"67983824-c6c1-4c55-b925-fa42828e4d3b\")>,\n",
       " <selenium.webdriver.remote.webelement.WebElement (session=\"745f5e2b25b5b98431ee7c6c32ff79c2\", element=\"86665d81-f5d8-4e28-af46-5f11aed5f466\")>,\n",
       " <selenium.webdriver.remote.webelement.WebElement (session=\"745f5e2b25b5b98431ee7c6c32ff79c2\", element=\"b9c127f7-35bf-448b-bb6e-24f15141676d\")>,\n",
       " <selenium.webdriver.remote.webelement.WebElement (session=\"745f5e2b25b5b98431ee7c6c32ff79c2\", element=\"b7c84e0c-9aa3-4c86-98f8-5ff32b7fefd7\")>,\n",
       " <selenium.webdriver.remote.webelement.WebElement (session=\"745f5e2b25b5b98431ee7c6c32ff79c2\", element=\"8a00cb36-9b8e-44d6-a7bc-76a2d4154bcd\")>,\n",
       " <selenium.webdriver.remote.webelement.WebElement (session=\"745f5e2b25b5b98431ee7c6c32ff79c2\", element=\"7ee017d7-c304-4e3f-b6b5-a373495d6ede\")>,\n",
       " <selenium.webdriver.remote.webelement.WebElement (session=\"745f5e2b25b5b98431ee7c6c32ff79c2\", element=\"f9b44e84-e5f9-493f-91de-f667a31d53aa\")>,\n",
       " <selenium.webdriver.remote.webelement.WebElement (session=\"745f5e2b25b5b98431ee7c6c32ff79c2\", element=\"e9c22c1d-7f92-4a54-b96d-204ee7b54ca2\")>,\n",
       " <selenium.webdriver.remote.webelement.WebElement (session=\"745f5e2b25b5b98431ee7c6c32ff79c2\", element=\"9de79ad1-4a37-4531-87d0-acdf9867a00d\")>,\n",
       " <selenium.webdriver.remote.webelement.WebElement (session=\"745f5e2b25b5b98431ee7c6c32ff79c2\", element=\"89b6cdab-246a-4c9f-a94f-3f7c8fd3203e\")>,\n",
       " <selenium.webdriver.remote.webelement.WebElement (session=\"745f5e2b25b5b98431ee7c6c32ff79c2\", element=\"1d14304b-4498-4e8a-8aea-18a143f57303\")>,\n",
       " <selenium.webdriver.remote.webelement.WebElement (session=\"745f5e2b25b5b98431ee7c6c32ff79c2\", element=\"c9ccdf04-f18e-40fd-bc83-20b73c66f1f6\")>,\n",
       " <selenium.webdriver.remote.webelement.WebElement (session=\"745f5e2b25b5b98431ee7c6c32ff79c2\", element=\"0e284fff-1260-4a5e-a0a8-9749d439b2a3\")>,\n",
       " <selenium.webdriver.remote.webelement.WebElement (session=\"745f5e2b25b5b98431ee7c6c32ff79c2\", element=\"f3752470-4b04-4b30-bdd9-88b1788d8285\")>,\n",
       " <selenium.webdriver.remote.webelement.WebElement (session=\"745f5e2b25b5b98431ee7c6c32ff79c2\", element=\"8bf2fd2f-847e-4285-a6a4-a39ebc8fb71c\")>]"
      ]
     },
     "execution_count": 93,
     "metadata": {},
     "output_type": "execute_result"
    }
   ],
   "source": [
    "search_discp=driver.find_elements_by_xpath(\"//div[@class='row']\")\n",
    "search_discp"
   ]
  },
  {
   "cell_type": "code",
   "execution_count": 94,
   "metadata": {},
   "outputs": [
    {
     "data": {
      "text/plain": [
       "['4\\nWonderful',\n",
       " 'superbbbb....tnq flipkart',\n",
       " 'Flipkart Customer\\nCertified Buyer\\nAug, 2019',\n",
       " '2\\nCould be way better',\n",
       " \"Very small size its children's product\",\n",
       " '??????? ???\\nCertified Buyer\\n2days ago',\n",
       " '4\\nValue-for-money',\n",
       " 'Worth for the price, expecially for oval faced people.Visibility is little low',\n",
       " 'Flipkart Customer\\nCertified Buyer\\n5months ago',\n",
       " '5\\nExcellent',\n",
       " \"It's a bast sunglasses for boy\",\n",
       " 'Vedant Mirge\\nCertified Buyer\\n1day ago',\n",
       " '5\\nGreat product',\n",
       " 'Hey guys this is GANGESHWAR.\\nRozzetta craft sunglasses are amazing.\\nuh can buy it.❣️😊',\n",
       " 'Flipkart Customer\\nCertified Buyer\\n5months ago',\n",
       " '5\\nPerfect product!',\n",
       " 'Nice such a osm product',\n",
       " 'Afreen Khan\\nCertified Buyer\\n8days ago',\n",
       " '5\\nAwesome',\n",
       " 'So Good Nad Perfect Size!!😍😍',\n",
       " 'Flipkart Customer\\nCertified Buyer\\n6months ago',\n",
       " '5\\nMust buy!',\n",
       " 'NYC product...',\n",
       " 'AMIT SINGH\\nCertified Buyer\\n9days ago',\n",
       " '5\\nWonderful',\n",
       " 'Good and very nice looking',\n",
       " 'Monalisha Palo\\nCertified Buyer\\n2months ago',\n",
       " \"1\\nDon't waste your money\",\n",
       " 'This product was crack',\n",
       " 'Flipkart Customer\\nCertified Buyer\\n5days ago',\n",
       " '']"
      ]
     },
     "execution_count": 94,
     "metadata": {},
     "output_type": "execute_result"
    }
   ],
   "source": [
    "# Lets run the loop to extract the text inside them\n",
    "discp_titles=[]\n",
    "for i in search_discp:\n",
    "    discp_titles.append(i.text)\n",
    "discp_titles"
   ]
  },
  {
   "cell_type": "code",
   "execution_count": 96,
   "metadata": {},
   "outputs": [
    {
     "name": "stdout",
     "output_type": "stream",
     "text": [
      "40 40 40 31\n"
     ]
    }
   ],
   "source": [
    "# Creeating the data frame for the extracted dat above\n",
    "print(len(brand_titles),len(price_titles),len(disc_titles),len(discp_titles))"
   ]
  },
  {
   "cell_type": "code",
   "execution_count": 97,
   "metadata": {},
   "outputs": [],
   "source": [
    "# Creeating the data frame for the extracted data above\n",
    "glasses=pd.DataFrame({})\n",
    "glasses['Brand name']=brand_titles\n",
    "glasses['Price']=price_titles\n",
    "glasses['Discount']=disc_titles"
   ]
  },
  {
   "cell_type": "code",
   "execution_count": 98,
   "metadata": {},
   "outputs": [
    {
     "data": {
      "text/html": [
       "<div>\n",
       "<style scoped>\n",
       "    .dataframe tbody tr th:only-of-type {\n",
       "        vertical-align: middle;\n",
       "    }\n",
       "\n",
       "    .dataframe tbody tr th {\n",
       "        vertical-align: top;\n",
       "    }\n",
       "\n",
       "    .dataframe thead th {\n",
       "        text-align: right;\n",
       "    }\n",
       "</style>\n",
       "<table border=\"1\" class=\"dataframe\">\n",
       "  <thead>\n",
       "    <tr style=\"text-align: right;\">\n",
       "      <th></th>\n",
       "      <th>Brand name</th>\n",
       "      <th>Price</th>\n",
       "      <th>Discount</th>\n",
       "    </tr>\n",
       "  </thead>\n",
       "  <tbody>\n",
       "    <tr>\n",
       "      <th>0</th>\n",
       "      <td>PIRASO</td>\n",
       "      <td>₹237</td>\n",
       "      <td>85% off</td>\n",
       "    </tr>\n",
       "    <tr>\n",
       "      <th>1</th>\n",
       "      <td>Fastrack</td>\n",
       "      <td>₹541</td>\n",
       "      <td>32% off</td>\n",
       "    </tr>\n",
       "    <tr>\n",
       "      <th>2</th>\n",
       "      <td>Fastrack</td>\n",
       "      <td>₹509</td>\n",
       "      <td>36% off</td>\n",
       "    </tr>\n",
       "    <tr>\n",
       "      <th>3</th>\n",
       "      <td>PIRASO</td>\n",
       "      <td>₹237</td>\n",
       "      <td>85% off</td>\n",
       "    </tr>\n",
       "    <tr>\n",
       "      <th>4</th>\n",
       "      <td>Fastrack</td>\n",
       "      <td>₹733</td>\n",
       "      <td>18% off</td>\n",
       "    </tr>\n",
       "    <tr>\n",
       "      <th>5</th>\n",
       "      <td>PIRASO</td>\n",
       "      <td>₹331</td>\n",
       "      <td>87% off</td>\n",
       "    </tr>\n",
       "    <tr>\n",
       "      <th>6</th>\n",
       "      <td>Singco</td>\n",
       "      <td>₹249</td>\n",
       "      <td>75% off</td>\n",
       "    </tr>\n",
       "    <tr>\n",
       "      <th>7</th>\n",
       "      <td>DEIXELS</td>\n",
       "      <td>₹213</td>\n",
       "      <td>82% off</td>\n",
       "    </tr>\n",
       "    <tr>\n",
       "      <th>8</th>\n",
       "      <td>PIRASO</td>\n",
       "      <td>₹237</td>\n",
       "      <td>85% off</td>\n",
       "    </tr>\n",
       "    <tr>\n",
       "      <th>9</th>\n",
       "      <td>ROZZETTA CRAFT</td>\n",
       "      <td>₹474</td>\n",
       "      <td>78% off</td>\n",
       "    </tr>\n",
       "    <tr>\n",
       "      <th>10</th>\n",
       "      <td>PIRASO</td>\n",
       "      <td>₹331</td>\n",
       "      <td>79% off</td>\n",
       "    </tr>\n",
       "    <tr>\n",
       "      <th>11</th>\n",
       "      <td>GANSTA</td>\n",
       "      <td>₹284</td>\n",
       "      <td>85% off</td>\n",
       "    </tr>\n",
       "    <tr>\n",
       "      <th>12</th>\n",
       "      <td>ROZZETTA CRAFT</td>\n",
       "      <td>₹404</td>\n",
       "      <td>79% off</td>\n",
       "    </tr>\n",
       "    <tr>\n",
       "      <th>13</th>\n",
       "      <td>Fastrack</td>\n",
       "      <td>₹1,085</td>\n",
       "      <td>16% off</td>\n",
       "    </tr>\n",
       "    <tr>\n",
       "      <th>14</th>\n",
       "      <td>kingsunglasses</td>\n",
       "      <td>₹299</td>\n",
       "      <td>88% off</td>\n",
       "    </tr>\n",
       "    <tr>\n",
       "      <th>15</th>\n",
       "      <td>HIPPON</td>\n",
       "      <td>₹251</td>\n",
       "      <td>79% off</td>\n",
       "    </tr>\n",
       "    <tr>\n",
       "      <th>16</th>\n",
       "      <td>ROZZETTA CRAFT</td>\n",
       "      <td>₹499</td>\n",
       "      <td>77% off</td>\n",
       "    </tr>\n",
       "    <tr>\n",
       "      <th>17</th>\n",
       "      <td>ROYAL SON</td>\n",
       "      <td>₹217</td>\n",
       "      <td>78% off</td>\n",
       "    </tr>\n",
       "    <tr>\n",
       "      <th>18</th>\n",
       "      <td>Singco India</td>\n",
       "      <td>₹212</td>\n",
       "      <td>69% off</td>\n",
       "    </tr>\n",
       "    <tr>\n",
       "      <th>19</th>\n",
       "      <td>PHENOMENAL</td>\n",
       "      <td>₹399</td>\n",
       "      <td>80% off</td>\n",
       "    </tr>\n",
       "    <tr>\n",
       "      <th>20</th>\n",
       "      <td>ROYAL SON</td>\n",
       "      <td>₹399</td>\n",
       "      <td>73% off</td>\n",
       "    </tr>\n",
       "    <tr>\n",
       "      <th>21</th>\n",
       "      <td>NuVew</td>\n",
       "      <td>₹156</td>\n",
       "      <td>79% off</td>\n",
       "    </tr>\n",
       "    <tr>\n",
       "      <th>22</th>\n",
       "      <td>ROYAL SON</td>\n",
       "      <td>₹319</td>\n",
       "      <td>78% off</td>\n",
       "    </tr>\n",
       "    <tr>\n",
       "      <th>23</th>\n",
       "      <td>Singco India</td>\n",
       "      <td>₹209</td>\n",
       "      <td>79% off</td>\n",
       "    </tr>\n",
       "    <tr>\n",
       "      <th>24</th>\n",
       "      <td>Fastrack</td>\n",
       "      <td>₹674</td>\n",
       "      <td>25% off</td>\n",
       "    </tr>\n",
       "    <tr>\n",
       "      <th>25</th>\n",
       "      <td>hipe</td>\n",
       "      <td>₹210</td>\n",
       "      <td>85% off</td>\n",
       "    </tr>\n",
       "    <tr>\n",
       "      <th>26</th>\n",
       "      <td>PHENOMENAL</td>\n",
       "      <td>₹379</td>\n",
       "      <td>81% off</td>\n",
       "    </tr>\n",
       "    <tr>\n",
       "      <th>27</th>\n",
       "      <td>ROYAL SON</td>\n",
       "      <td>₹265</td>\n",
       "      <td>79% off</td>\n",
       "    </tr>\n",
       "    <tr>\n",
       "      <th>28</th>\n",
       "      <td>PIRASO</td>\n",
       "      <td>₹237</td>\n",
       "      <td>85% off</td>\n",
       "    </tr>\n",
       "    <tr>\n",
       "      <th>29</th>\n",
       "      <td>Fravy</td>\n",
       "      <td>₹296</td>\n",
       "      <td>85% off</td>\n",
       "    </tr>\n",
       "    <tr>\n",
       "      <th>30</th>\n",
       "      <td>ROZZETTA CRAFT</td>\n",
       "      <td>₹426</td>\n",
       "      <td>78% off</td>\n",
       "    </tr>\n",
       "    <tr>\n",
       "      <th>31</th>\n",
       "      <td>hipe</td>\n",
       "      <td>₹319</td>\n",
       "      <td>83% off</td>\n",
       "    </tr>\n",
       "    <tr>\n",
       "      <th>32</th>\n",
       "      <td>NuVew</td>\n",
       "      <td>₹204</td>\n",
       "      <td>74% off</td>\n",
       "    </tr>\n",
       "    <tr>\n",
       "      <th>33</th>\n",
       "      <td>Singco India</td>\n",
       "      <td>₹252</td>\n",
       "      <td>83% off</td>\n",
       "    </tr>\n",
       "    <tr>\n",
       "      <th>34</th>\n",
       "      <td>NuVew</td>\n",
       "      <td>₹210</td>\n",
       "      <td>78% off</td>\n",
       "    </tr>\n",
       "    <tr>\n",
       "      <th>35</th>\n",
       "      <td>Poland</td>\n",
       "      <td>₹162</td>\n",
       "      <td>67% off</td>\n",
       "    </tr>\n",
       "    <tr>\n",
       "      <th>36</th>\n",
       "      <td>Cristiano Ronnie</td>\n",
       "      <td>₹399</td>\n",
       "      <td>74% off</td>\n",
       "    </tr>\n",
       "    <tr>\n",
       "      <th>37</th>\n",
       "      <td>GANSTA</td>\n",
       "      <td>₹199</td>\n",
       "      <td>80% off</td>\n",
       "    </tr>\n",
       "    <tr>\n",
       "      <th>38</th>\n",
       "      <td>ROZZETTA CRAFT</td>\n",
       "      <td>₹426</td>\n",
       "      <td>80% off</td>\n",
       "    </tr>\n",
       "    <tr>\n",
       "      <th>39</th>\n",
       "      <td>Singco India</td>\n",
       "      <td>₹322</td>\n",
       "      <td>73% off</td>\n",
       "    </tr>\n",
       "  </tbody>\n",
       "</table>\n",
       "</div>"
      ],
      "text/plain": [
       "          Brand name   Price Discount\n",
       "0             PIRASO    ₹237  85% off\n",
       "1           Fastrack    ₹541  32% off\n",
       "2           Fastrack    ₹509  36% off\n",
       "3             PIRASO    ₹237  85% off\n",
       "4           Fastrack    ₹733  18% off\n",
       "5             PIRASO    ₹331  87% off\n",
       "6             Singco    ₹249  75% off\n",
       "7            DEIXELS    ₹213  82% off\n",
       "8             PIRASO    ₹237  85% off\n",
       "9     ROZZETTA CRAFT    ₹474  78% off\n",
       "10            PIRASO    ₹331  79% off\n",
       "11            GANSTA    ₹284  85% off\n",
       "12    ROZZETTA CRAFT    ₹404  79% off\n",
       "13          Fastrack  ₹1,085  16% off\n",
       "14    kingsunglasses    ₹299  88% off\n",
       "15            HIPPON    ₹251  79% off\n",
       "16    ROZZETTA CRAFT    ₹499  77% off\n",
       "17         ROYAL SON    ₹217  78% off\n",
       "18      Singco India    ₹212  69% off\n",
       "19        PHENOMENAL    ₹399  80% off\n",
       "20         ROYAL SON    ₹399  73% off\n",
       "21             NuVew    ₹156  79% off\n",
       "22         ROYAL SON    ₹319  78% off\n",
       "23      Singco India    ₹209  79% off\n",
       "24          Fastrack    ₹674  25% off\n",
       "25              hipe    ₹210  85% off\n",
       "26        PHENOMENAL    ₹379  81% off\n",
       "27         ROYAL SON    ₹265  79% off\n",
       "28            PIRASO    ₹237  85% off\n",
       "29             Fravy    ₹296  85% off\n",
       "30    ROZZETTA CRAFT    ₹426  78% off\n",
       "31              hipe    ₹319  83% off\n",
       "32             NuVew    ₹204  74% off\n",
       "33      Singco India    ₹252  83% off\n",
       "34             NuVew    ₹210  78% off\n",
       "35            Poland    ₹162  67% off\n",
       "36  Cristiano Ronnie    ₹399  74% off\n",
       "37            GANSTA    ₹199  80% off\n",
       "38    ROZZETTA CRAFT    ₹426  80% off\n",
       "39      Singco India    ₹322  73% off"
      ]
     },
     "execution_count": 98,
     "metadata": {},
     "output_type": "execute_result"
    }
   ],
   "source": [
    "glasses"
   ]
  },
  {
   "cell_type": "markdown",
   "metadata": {},
   "source": [
    "# Question -7"
   ]
  },
  {
   "cell_type": "code",
   "execution_count": 99,
   "metadata": {},
   "outputs": [],
   "source": [
    "# lets first connect to the webdriver\n",
    "driver=webdriver.Chrome('chromedriver.exe')"
   ]
  },
  {
   "cell_type": "code",
   "execution_count": 101,
   "metadata": {},
   "outputs": [],
   "source": [
    "url='https://www.flipkart.com/apple-iphone-11-black-64-gb-includes-earpods-power-adapter/p/itm0f37c2240b217?pid=MOBFKCTSVZAXUHGR&lid=LSTMOBFKCTSVZAXUHGREPBFGI&marketplace'\n",
    "driver.get(url)"
   ]
  },
  {
   "cell_type": "code",
   "execution_count": 105,
   "metadata": {},
   "outputs": [
    {
     "data": {
      "text/plain": [
       "['https://www.flipkart.com/apple-iphone-11-black-64-gb-includes-earpods-power-adapter/product-reviews/itm0f37c2240b217?pid=MOBFKCTSVZAXUHGR&lid=LSTMOBFKCTSVZAXUHGREPBFGI&marketplace=FLIPKART&page=1',\n",
       " 'https://www.flipkart.com/apple-iphone-11-black-64-gb-includes-earpods-power-adapter/product-reviews/itm0f37c2240b217?pid=MOBFKCTSVZAXUHGR&lid=LSTMOBFKCTSVZAXUHGREPBFGI&marketplace=FLIPKART&page=2',\n",
       " 'https://www.flipkart.com/apple-iphone-11-black-64-gb-includes-earpods-power-adapter/product-reviews/itm0f37c2240b217?pid=MOBFKCTSVZAXUHGR&lid=LSTMOBFKCTSVZAXUHGREPBFGI&marketplace=FLIPKART&page=3',\n",
       " 'https://www.flipkart.com/apple-iphone-11-black-64-gb-includes-earpods-power-adapter/product-reviews/itm0f37c2240b217?pid=MOBFKCTSVZAXUHGR&lid=LSTMOBFKCTSVZAXUHGREPBFGI&marketplace=FLIPKART&page=4',\n",
       " 'https://www.flipkart.com/apple-iphone-11-black-64-gb-includes-earpods-power-adapter/product-reviews/itm0f37c2240b217?pid=MOBFKCTSVZAXUHGR&lid=LSTMOBFKCTSVZAXUHGREPBFGI&marketplace=FLIPKART&page=5',\n",
       " 'https://www.flipkart.com/apple-iphone-11-black-64-gb-includes-earpods-power-adapter/product-reviews/itm0f37c2240b217?pid=MOBFKCTSVZAXUHGR&lid=LSTMOBFKCTSVZAXUHGREPBFGI&marketplace=FLIPKART&page=6',\n",
       " 'https://www.flipkart.com/apple-iphone-11-black-64-gb-includes-earpods-power-adapter/product-reviews/itm0f37c2240b217?pid=MOBFKCTSVZAXUHGR&lid=LSTMOBFKCTSVZAXUHGREPBFGI&marketplace=FLIPKART&page=7',\n",
       " 'https://www.flipkart.com/apple-iphone-11-black-64-gb-includes-earpods-power-adapter/product-reviews/itm0f37c2240b217?pid=MOBFKCTSVZAXUHGR&lid=LSTMOBFKCTSVZAXUHGREPBFGI&marketplace=FLIPKART&page=8',\n",
       " 'https://www.flipkart.com/apple-iphone-11-black-64-gb-includes-earpods-power-adapter/product-reviews/itm0f37c2240b217?pid=MOBFKCTSVZAXUHGR&lid=LSTMOBFKCTSVZAXUHGREPBFGI&marketplace=FLIPKART&page=9',\n",
       " 'https://www.flipkart.com/apple-iphone-11-black-64-gb-includes-earpods-power-adapter/product-reviews/itm0f37c2240b217?pid=MOBFKCTSVZAXUHGR&lid=LSTMOBFKCTSVZAXUHGREPBFGI&marketplace=FLIPKART&page=10',\n",
       " 'https://www.flipkart.com/apple-iphone-11-black-64-gb-includes-earpods-power-adapter/product-reviews/itm0f37c2240b217?pid=MOBFKCTSVZAXUHGR&lid=LSTMOBFKCTSVZAXUHGREPBFGI&marketplace=FLIPKART&page=2']"
      ]
     },
     "execution_count": 105,
     "metadata": {},
     "output_type": "execute_result"
    }
   ],
   "source": [
    "page_urls=[]\n",
    "url=driver.find_elements_by_xpath(\"//nav[@class='yFHi8N']//a\")\n",
    "for i in url:\n",
    "    page_urls.append(i.get_attribute('href'))\n",
    "page_urls"
   ]
  },
  {
   "cell_type": "code",
   "execution_count": 114,
   "metadata": {},
   "outputs": [
    {
     "data": {
      "text/plain": [
       "['5',\n",
       " '5',\n",
       " '5',\n",
       " '5',\n",
       " '4',\n",
       " '5',\n",
       " '5',\n",
       " '5',\n",
       " '5',\n",
       " '5',\n",
       " '5',\n",
       " '5',\n",
       " '5',\n",
       " '4',\n",
       " '5',\n",
       " '5',\n",
       " '5',\n",
       " '5',\n",
       " '5',\n",
       " '5',\n",
       " '5',\n",
       " '5',\n",
       " '5',\n",
       " '5',\n",
       " '5',\n",
       " '5',\n",
       " '5',\n",
       " '4',\n",
       " '5',\n",
       " '5',\n",
       " '5',\n",
       " '5',\n",
       " '5',\n",
       " '5',\n",
       " '5',\n",
       " '5',\n",
       " '5',\n",
       " '4',\n",
       " '4',\n",
       " '5',\n",
       " '5',\n",
       " '5',\n",
       " '5',\n",
       " '5',\n",
       " '5',\n",
       " '5',\n",
       " '5',\n",
       " '5',\n",
       " '5',\n",
       " '5',\n",
       " '5',\n",
       " '5',\n",
       " '5',\n",
       " '5',\n",
       " '5',\n",
       " '5',\n",
       " '5',\n",
       " '5',\n",
       " '4',\n",
       " '5',\n",
       " '5',\n",
       " '5',\n",
       " '4',\n",
       " '5',\n",
       " '5',\n",
       " '5',\n",
       " '5',\n",
       " '4',\n",
       " '5',\n",
       " '5',\n",
       " '5',\n",
       " '5',\n",
       " '5',\n",
       " '5',\n",
       " '4',\n",
       " '5',\n",
       " '5',\n",
       " '5',\n",
       " '3',\n",
       " '5',\n",
       " '5',\n",
       " '5',\n",
       " '5',\n",
       " '5',\n",
       " '5',\n",
       " '5',\n",
       " '4',\n",
       " '4',\n",
       " '4',\n",
       " '5',\n",
       " '5',\n",
       " '5',\n",
       " '5',\n",
       " '5',\n",
       " '3',\n",
       " '5',\n",
       " '5',\n",
       " '5',\n",
       " '5']"
      ]
     },
     "execution_count": 114,
     "metadata": {},
     "output_type": "execute_result"
    }
   ],
   "source": [
    "# Lets run the loop to extract the text inside them\n",
    "rating_titles=[]\n",
    "for i in page_urls:\n",
    "    driver.get(i)\n",
    "    title_tags=driver.find_elements_by_xpath(\"//div[@class='_3LWZlK _1BLPMq']\")\n",
    "    for i in title_tags:\n",
    "        rating_titles.append(i.text)\n",
    "        \n",
    "rating_titles[1:100]"
   ]
  },
  {
   "cell_type": "code",
   "execution_count": 109,
   "metadata": {},
   "outputs": [
    {
     "data": {
      "text/plain": [
       "['Brilliant',\n",
       " 'Perfect product!',\n",
       " 'Great product',\n",
       " 'Worth every penny',\n",
       " 'Fabulous!',\n",
       " 'Good choice',\n",
       " 'Highly recommended',\n",
       " 'Perfect product!',\n",
       " 'Perfect product!',\n",
       " 'Highly recommended',\n",
       " 'Worth every penny',\n",
       " 'Perfect product!',\n",
       " 'Simply awesome',\n",
       " 'Worth every penny',\n",
       " 'Nice product',\n",
       " 'Terrific',\n",
       " 'Classy product',\n",
       " 'Highly recommended',\n",
       " 'Wonderful',\n",
       " 'Brilliant',\n",
       " 'Must buy!',\n",
       " 'Perfect product!',\n",
       " 'Terrific purchase',\n",
       " 'Wonderful',\n",
       " 'Mind-blowing purchase',\n",
       " 'Great product',\n",
       " 'Terrific purchase',\n",
       " 'Simply awesome',\n",
       " 'Good quality product',\n",
       " 'Very poor',\n",
       " 'Best in the market!',\n",
       " 'Perfect product!',\n",
       " 'Must buy!',\n",
       " 'Fabulous!',\n",
       " 'Mind-blowing purchase',\n",
       " 'Mind-blowing purchase',\n",
       " 'Wonderful',\n",
       " 'Worth every penny',\n",
       " 'Great product',\n",
       " 'Good choice',\n",
       " 'Very Good',\n",
       " 'Perfect product!',\n",
       " 'Classy product',\n",
       " 'Perfect product!',\n",
       " 'Just wow!',\n",
       " 'Awesome',\n",
       " 'Terrific',\n",
       " 'Terrific purchase',\n",
       " 'Perfect product!',\n",
       " 'Brilliant',\n",
       " 'Perfect product!',\n",
       " 'Classy product',\n",
       " 'Awesome',\n",
       " 'Excellent',\n",
       " 'Not recommended at all',\n",
       " 'Fabulous!',\n",
       " 'Excellent',\n",
       " 'Must buy!',\n",
       " 'Simply awesome',\n",
       " 'Brilliant',\n",
       " 'Terrific purchase',\n",
       " 'Good quality product',\n",
       " 'Simply awesome',\n",
       " 'Perfect product!',\n",
       " 'Worth every penny',\n",
       " 'Value-for-money',\n",
       " 'Just wow!',\n",
       " 'Super!',\n",
       " 'Best in the market!',\n",
       " 'Perfect product!',\n",
       " 'Value-for-money',\n",
       " 'Mind-blowing purchase',\n",
       " 'Must buy!',\n",
       " 'Fabulous!',\n",
       " 'Awesome',\n",
       " 'Excellent',\n",
       " 'Mind-blowing purchase',\n",
       " 'Good quality product',\n",
       " 'Excellent',\n",
       " 'Terrific purchase',\n",
       " 'Awesome',\n",
       " 'Decent product',\n",
       " 'Wonderful',\n",
       " 'Just wow!',\n",
       " 'Super!',\n",
       " 'Super!',\n",
       " 'Awesome',\n",
       " 'Excellent',\n",
       " 'Highly recommended',\n",
       " 'Wonderful',\n",
       " 'Nice product',\n",
       " 'Good quality product',\n",
       " 'Best in the market!',\n",
       " 'Classy product',\n",
       " 'Excellent',\n",
       " 'Mind-blowing purchase',\n",
       " 'Fabulous!',\n",
       " 'Does the job',\n",
       " 'Fabulous!',\n",
       " 'Awesome',\n",
       " 'Worth every penny',\n",
       " 'Perfect product!',\n",
       " 'Simply awesome',\n",
       " 'Worth every penny',\n",
       " 'Nice product',\n",
       " 'Terrific',\n",
       " 'Classy product',\n",
       " 'Highly recommended',\n",
       " 'Wonderful',\n",
       " 'Brilliant']"
      ]
     },
     "execution_count": 109,
     "metadata": {},
     "output_type": "execute_result"
    }
   ],
   "source": [
    "# Lets run the loop to extract the text inside them\n",
    "summary_titles=[]\n",
    "for i in page_urls:\n",
    "    driver.get(i)\n",
    "    title_tags=driver.find_elements_by_xpath(\"//p[@class='_2-N8zT']\")\n",
    "    for i in title_tags:\n",
    "        summary_titles.append(i.text)\n",
    "        \n",
    "summary_titles[1:100]"
   ]
  },
  {
   "cell_type": "code",
   "execution_count": 115,
   "metadata": {},
   "outputs": [
    {
     "data": {
      "text/plain": [
       "['Amazing phone with great cameras and better battery which gives you the best performance. I just love the camera .',\n",
       " 'Amazing Powerful and Durable Gadget.\\n\\nI’m am very happy with the camera picture quality, Amazing face id unlocked in dark room, Strong battery with perfect screen size as you can carry easily in pocket. This is my third iPhone.\\n\\nI shifted from android Samsung Note series to iPhone because of the strong build quality and peace of mind for next 3-4 years.\\n\\nDon’t think to much just go for it and I suggest you to go for minimum 128gb variant or more 256gb.\\n\\nI’ve attached my puppy pics and no fi...\\nREAD MORE',\n",
       " 'Previously I was using one plus 3t it was a great phone\\nAnd then I decided to upgrade I am stuck between Samsung s10 plus or iPhone 11\\nI have seen the specs and everything were good except the display it’s somewhere between 720-1080 and it’s not even an amoled it’s an LCD display\\nBut I decided to go with iPhone because I have never used an IOS device I have Been an android user from the past 9 years I ordered IPhone 11 (128gb) product red\\nMy experience after using 3 weeks\\n1. The delivery ...\\nREAD MORE',\n",
       " 'This is my first iOS phone. I am very happy with this product. Very much satisfied with this. I love this phone.',\n",
       " 'So far it’s been an AMAZING experience coming back to iOS after nearly a decade but it’s not as versatile as android though phone is sturdy dropped it accidentally a couple of times and nothing happened fortunately camera is awesome',\n",
       " 'iphone 11 is a very good phone to buy only if you can compromise for the display. The display on this is device is pretty good but you can get other options with better displays in this price segment.\\nIf you can survive with an HD+ LCD panel with thicker bezels and a notch up top then this is a very good phone for you.\\nCameras are awesome, battery backup excellent, great performance and a decent premium look. Good job Apple !',\n",
       " 'It’s a must buy who is looking for an upgrade from previous generation of iPhones. If you are using XR then still you can hold on for sometime and upgrade to 2020 model else this phone is a must buy . Camera quality is amazing and wide angle is something to count upon. Performance wise it’s amazing and feels premium while holding in hand. So a big YES for this device. Go for 128 GB variant as the 4K videos will occupy lots of space and the storage can get over very quickly. Try to buy it with...\\nREAD MORE',\n",
       " 'Value for money❤️❤️\\nIts awesome mobile phone in the world ...\\nDisplay was very good and bright ..\\nTrust me freinds you r never regret after Buying..\\nJust go for it....\\nI love this phone and i switch to iphone x to 11',\n",
       " 'What a camera .....just awesome ..you can feel this iPhone just awesome . Good for gaming also ...try pubg in hd it’s just wow',\n",
       " 'Best budget Iphone till date ❤️ go for it guys without second thought. Let me explain you guys about Camera, Display, battery, and performance.\\n\\nCamera: at this price range there is no comparison of camera, you’ll love the picture quality as well as video quality. I am a Vlogger I wanted an iPhone with 4k video by front camera and I got this phone and I am more than happy 😃\\n\\nBattery: I use this phone roughly as I am active social media person and I have a youtube channel. so the battery ba...\\nREAD MORE',\n",
       " \"Iphone is just awesome.. battery backup is very very nice.. continuously for 10 hours we can use it.camera is just awesome.. display is just fab.i love it alot..i had to wait 15 days for it as i pre ordered it..overalll it's worth the price..these all images are clicked by my iPhone..and i love it.\",\n",
       " 'Excellent camera, good performance, no lag. The lcd display is also good.. but difference come when we watch movie in prime and Netflix, the colours are not vibrant.. as we see in amoled display.. and the charger in box is of 5 watts.. takes more than 3 hours to charge from 0 to 100.. so guys be prepare to buy 18 watts charger . Finally I am an android user, it was my first Iapple phone, I promise u guys the iOS is so smooth.. overall the phone is damn good.... close eyes to buy it.. thanks t...\\nREAD MORE',\n",
       " 'It’s been almost a month since I have been using this phone. I upgraded from an iPhone 8. The main issue with my 8 was battery and this phone is just awesome when it comes to battery. It lasts a day and a half for me with my regular use , internet connected always with 4g\\nCan’t move forward without saying this. Battery of this phone is a life saver when I am traveling or at work when I don’t get the option to charge\\nCamera is superb. Front cam selfies and back cam photos are just awesome.\\n...\\nREAD MORE',\n",
       " 'Awesome Phone. Slightly high price but worth. Better than iPhone XR.\\nCamera is superb and wide angle camera is very clear.\\n12MP selfie camera is also very good.\\nA13 Chip gives a very good and smooth performance.',\n",
       " 'Really worth of money. i just love it. It is the best phone ever.',\n",
       " 'Superb Product !!!\\nA big and worthy upgrade from mi 3S to iphone 11 .\\nTotally loved it !',\n",
       " \"It's my first time to use iOS phone and I am loving my upgradation 😍😍 I love the color, I love the assebility of the phone....I need to learn more about its functionality, but as far as I have seen, it's quite easy and it has a lot of functions to work on, specially if you are a content writer or a blogger you get a lot of content creation platforms and they are really amazing.\\n\\nThis phone not only for good quality photography but a lot of other task too.😍💯\",\n",
       " 'This is my first ever I phone. Before this I was using my google nexus 5. But moving from android to iOS is a great experience. It’s worth at this price. I will highly recommend it if you want to move to iOS. The best part of this phone is it’s camera and it’s battery life. This two things have won my heart. I loved it. Happy to have it in my hand. Still exploring its features. And can’t forget to mention Flipkart service. Very prompt service and fast delivery.',\n",
       " 'I have migrated from OP 7pro... and trust me, iPhone 11 is totally worth it.. following are the reasons:-\\n1)there is ABSOLUTELY NO ISSUE WITH THE DISPLAY... its crisp, sharp and I found it to be much much better than OP7 pro. Netflix, Prime video all run crisply... you won’t miss a thing. True Tone works flawlessly...the display brightness is perfect. OP have not calibrated their screens properly.\\n2) iPhone 11 series have really good cameras... others have spoken in depth about them.\\n3) bat...\\nREAD MORE',\n",
       " 'It’s an amazing product from apple and the camera is simply superb. Phone is faster.Night shot is simply superb and detailing and colour differentiation from camera is an added advantage\\n\\nThis review I have written from iPhone 11 only and I am glad to say outside.\\n\\nCons wise if we see HD+ display only, no battery percentage indicator as in older iPhone 8.\\nNo assistive touch control button in it\\nNo oleophobic coating on back panel glass and finger prints are visible but since I bought mint gr...\\nREAD MORE',\n",
       " 'After 1 month use I found camera quality best compared to my previous Samsung note 10+.Display not good as note 10 also charging too slow.Apple should add fast charger like 11 plus and pro.Best phone for daily use',\n",
       " 'Upgraded from iphone 6 to 11 best phone for iphone users battery is much better than other iphones camera is awesome love to use it.camera is so clear in night.',\n",
       " 'I just directly switch from iphone 6s to iphone 11 .The best premium smartphone I recommend to everyone. Excellent quality and colors the iphone have in 11 series.\\nCamera quality is just awesome and the major feel when we hold in our hands. The sound quality and volume is also higher then the previous models.\\nI will recommend to buy iphone 11 instead of pro models , there is nothing much difference as this model contains everything which fulfill our needs.\\n\\nOnly one thing that I dislike abo...\\nREAD MORE',\n",
       " 'This will help you more. See if you are planning to buy iPhone 11. I will say. Yes. But there are some plans I just want to disclose before you buy. 1) If you are an existing iPhone X/XS/XS Max/ XR user, better you guys do not think it to buy. You guys have more or less better gadget. 2) If you are an android user and planning to buy premium phone. I will suggest them to please buy iPhone instead of buying an Android. I bet you will never go back to android after using IOS. Now I want to shar...\\nREAD MORE',\n",
       " 'Well you all know the specifications . One of a kind. Best iPhone till date. Many enhancements to the camera app with many options. Love the glass body with matte finish in the lens area on the back. Lovely colours to choose from. Best battery in an iPhone till date, enough to last more than a day in normal usage. I tested my iPhone 11 battery and lasted for than 24 hours after full charge still with 30% battery charge left. Watched movies for some time. Normal usage on calls, browsing, musi...\\nREAD MORE',\n",
       " 'The built quality is not very premium.\\nThe battery back is great .\\nThe LCD panel is not so sharp but the brightness level is very High .\\nCamera is super duper awesome.\\nThe red colour which people think is bright is actually very soothing and excellent colour to choose from .\\nThe A13 Bionic chip is really a flagship processor and can beat any phone which even has 12 gb ram .\\nCamera module is very great and looks very stylish.',\n",
       " 'Really good actually this is my first apple product am using its really awesome performance wise excellent. Am really happy with this iphone11',\n",
       " 'it is very good at performance. Camera is best like before and very smooth response even in water. Don’t buy 12 mini buy iPhone 11 , it is far better than 12 mini believe me ! Have a nice day \\uf8ff ☺️',\n",
       " 'Reviewing again after 5 months. At the beginning the battery and performance was good but it degraded soon. Also I was facing heating issues. The mobile will heat up like a stove sometimes. You cannot even play Pubg even in low settings properly, performance is not a problem but heating is. Also if you play that game for 10 mins the brightness will be automatically down due to over heating even when the auto brightness is set to off. This will not be solved even if u manually increase the bri...\\nREAD MORE',\n",
       " 'Great iPhone very snappy experience as apple kind. Upgraded from iPhone 7.\\nPros\\n-Camera top class\\n- Battery top performed\\n-Chipset no need to say as apple kind\\n-Security as you expect from apple\\n- Display super bright industry leading colour\\naccuracy and super responsive\\n-Build quality as expect from apple sturdy\\npremium durable beautiful stylish.\\n-Os most stable os in smartphone industry\\n\\nCons\\n-No 5G\\n-Display is not based on OLED technology\\n-Charger headphones and 1 apple stic...\\nREAD MORE',\n",
       " 'It is just awesome mobile for this price from Apple,\\n\\nAfter 10 days review\\n\\nBattery enough for 1 day even 24*7 Internet will be on and mostly internet usage\\n\\nCamera is just awesome cool , android 64 MP is equal to this just 12 MP\\n\\nA13 Bionic chip will give more high performance without hanging\\n\\nAudio stereo speakers will give Dolby atoms sound with crystal clear\\n\\nVideo recording is like cinematic shots of every sec can be a 4K 60fps. Just awesome this phone\\niPhone 11 loved one',\n",
       " 'Best Apple iPhone that i have bought at a very reasonable price, camera quality is next level just awesome n of superior quality android phones not even close(RIP) to that and also battery is really good but packaging by Flipkart of iPhone was very poor of such a expensive product, firstly im bit worried about the quality of product if i purchased it through online how was the product but i think now this was mine best decision to bought it through Flipkart online because i got genuine Apple...\\nREAD MORE',\n",
       " \"I can say I'm damn impressed with iPhone 11. As they says iPhone 11 have the toughest glass ever in the smartphone which you'll find on the front and back and it's totally smooth. The fit and finish is full apple quality - there's no sense that any cheaping out has happened in the construction. Without saying it's camera features this review won't complete. The iPhone 11 has a dual camera system, consisting of a wide angle len's that's pretty much same as found on the iPhone XR last year, but...\\nREAD MORE\",\n",
       " 'Best Quality Product OF iPhone Series , Sound Quality & Camera quality is very awesome, Battery Life is very Sufficient for 24 hr Backup With Full Internet Access , I love this this Product too much , It is very fast & making me Very fast in all my daily Routine\\nHighlights;\\n1.Camera: 5 STAR\\n2.Video Recording: 5 star\\n3.Night mODE sHOOTING & Camera:4 star\\n4. Audio Quality: Awesome\\n5. Battery : 5 Star\\n6. Touch:5 Star\\n7. Processor: Very Fast\\nThe M...\\nREAD MORE',\n",
       " 'First thanks to Flipkart for this amazing deal and phone is outstanding. I upgraded from iPhone 7 and this is like very big upgrade. But the packaging was very basic I expected a good packaging as they only wrapped one layer of bubble wrap which I don’t think is enough to protect this expensive phone. And I recommend this phone and seller as well.\\n\\nAnd I’m posting this review after using it for 4 days.',\n",
       " 'Superfast delivery by Flipkart. Thanks.\\n\\n1. iPhone 11 is a pretty solid phone for the money you are paying.\\n2. All the bad reviews about the display is confusing. It’s not that bad.\\n3. I switched from a Oneplus 7t. I have no complaints about the display quality of iPhone. Yes, it’s not OLED, so, we are missing on the deep blacks. But that’s it. It is a very colour accurate display. Gets adequately bright and I could not find any pixelation.\\n4. Performance is one of the best, if not best, in ...\\nREAD MORE',\n",
       " 'Smooth like butter, camera like fantabulous, sound is crystal clear & its red color is damn attractive, i am just loving it. Must buy if you love photography.\\n\\nLucky to get it in sale, thank you Flipkart.',\n",
       " \"Again back to apple iphone after a gap of 2-3 years. It's pleasure to use iOS and the quality product by Apple. Iphone 11 still works like a beast in 2021 also. It really capable of doing day to day usage as well as hard core gaming. Battery is awesome. I'm really too much satisfied with it. Apart fto the very gorgious IPS LCD (AMOLED will be better) everything is mind boggling. Iphone💕.\",\n",
       " 'Looking so good 👍 😍 super 👌 stylish 😎 phone\\nClean box 📦 good 👍 delivery 👌 fast delivery\\nOriginal box Original iphone 📱 👌 😍😍😍',\n",
       " 'impressive super phone and best in class camera ,sound and face unlock is super fast just see and phone is unlock and fast in daily apps use',\n",
       " 'Battery backup is extraordinary, camera is decent & performance offered by A13 bionic is awsome. The display is good in practical usage like the visibility of display is very good in direct sun light compare to pro models. Iam extremely satisfied for the money I spent.',\n",
       " 'Well while switching from android to iOS the first thing you need to be careful about is that you will loose all your whatsapp chat backups as both are different operating systems. Camera clarity is awesome and though being an lcd screen clarity and resolution is good. Battery backup is also good unlike previous gen iPhone. So far the experience is good will Padre after a few months of usage.\\n\\nP.S the black is more of a dark grey shade and not jet black',\n",
       " 'In love with this iphone great performance,camera ,battery everything. Go for it have a uncompareble battery backup, no doubts in iPhone camera here You can see the picture which is shot on my iPhone In love with this iphone great performance,camera ,battery everything. Go for it have a uncompareble battery backup, no doubts in iPhone camera here You can see the picture which is shot on my iPhone In love with this iphone great performance,camera ,battery everything. Go for it have a uncompare...\\nREAD MORE',\n",
       " 'Best in class. Battery backup is good especially when you play games like Pubg COD. But it is sort of heavy when you hold in hands. Portrait mode is best to click pictures. Stage light effect is awesome. Try to click photos outside in nature because photos inside home or room will not give you the quality in any phone even in DSLR.',\n",
       " 'Very excited to have this phone. This phone has the real power unlike the android phones having SD 855 . The battery life is very good and the camera quality is excellent as comapred to redmi and other phones except google pixel. I M enjoying every single bit of it. Would recommed only if you have the budget.',\n",
       " \"I upgraded (downgraded?) from my iPhone X since the phone fell down and I didn't want to repair the screen. The box that the phone came in was super slim and I was worried that there'd be no 5W charger with it and my fears were confirmed. However, thankfully I had the 18W USB-C PD charger from Apple which I bought for my iPhone X and it worked perfectly. The charging time is as lethargic as ever though and it takes about 1:30 mins or even 2 hours depending on charge remaining. I'll list some ...\\nREAD MORE\",\n",
       " 'Its Very awesome product working and good camera quality and all about best product and also flipkart is very great deal and offer nice price',\n",
       " 'Best and amazing product.....phone looks so premium.... battary is also good as expected .... Wide angle camera is so addictive ...if you are a IOS lover....then this phone will be the best choice for you all!!💯🔥',\n",
       " 'Excellent camera and display touching very nice and smooth very improvement against iPhone XR and new processor is very fast',\n",
       " 'Awesome purchase. Amazing phone with good battery backup. It’s a top notch device. White colour looks amazing. Phone has a few extra feature than iPhone XR. Overall, this is value for money',\n",
       " 'Totally in love with this ❤ the camera quality is amazing just love it 😘😘😘 itsss dammnnnnnn amazing... Must buy iPhone 11 this is my best experience ever ☀👌👌🧡🧡🧡🧡🧡 thanku apple ❤',\n",
       " 'Always love the apple products, upgraded from old iPhone 6S plus to this after having my first baby. I just love to click baby’s photos with it. Overall I just love this phone. Battery back up is okay, sound quality is good. Haven’t tested yet waterproof yet. Only one thing I hate is apple could have given charger & headphones in box.',\n",
       " 'Amazing camera and feel super machine I am not describe my feeling but this is amazing Phone I am so lucky I have this',\n",
       " 'They are selling cheep quality items. There is a black line on the edge of the display. Waiting for the replacement..\\n\\nUpdate:today I got the replacement from flipkart.. The second one is nice and the display and camera quality is much better than the previous one.. Thanks for the support',\n",
       " 'awesome phone to have. it has got many smart features apart from mind blowing looks, camera, display, battery and sound. have fallen in love with this phone. must buy phone if you have got enough money. thanks to flipkart and apple of course..',\n",
       " 'Its a fabulous mobile look awesome performance unbeaten camera like dslr battery good i think this is a beast of mobile',\n",
       " 'Dear friends... I want to share my experience with you about this amazing I phone 11....this is my first iPhone and special things about this mobile is it has great camera, battery backup and awesome display.... I mean everything is perfect.loved it 👍👍👍',\n",
       " \"It's very high performances devise i am like the service of flipkart delevary very fast and packing very nice perfect phone\",\n",
       " 'Amazing phone and on great deal I received with super fast delivery by Flipkart...',\n",
       " 'finally an iPhone with very nice battery backup. update from iPhone 7 and happy to have it. camera is not up to the mark in low light but overall a recommended phone if your budget allows 😀',\n",
       " \"I'm switching this phone to oppo reno 10x zoom\\nIt's really impressive\\nRarely I'm missing smooth display touch response like oppo reno but\\nI really loved it.\\nCamera really impressive\",\n",
       " 'Really satisfied with the Product I received... It’s totally genuine and the packaging was also really good so if ur planning to buy just go for it.',\n",
       " 'Worth the money’ starting first from its performance it beats out all phones , second the smoothness of camera is awesome, contrast ratio is much than expected. Price will not matter if u r a quality person, if not other phones are available with better discount',\n",
       " 'i11 is worthy to buy, too much happy with the product. Thank u flipkart I received the item on time..loved it..',\n",
       " \"I'm Really happy with the product\\nDelivery was fast as well\\n..it was a gift for my sister and she loved it so much.\",\n",
       " 'Great iphone.\\nI am writing this review after 2 months of usage.\\nCamera is excellent, especially the nightmode\\nDisplay perfect\\nBattery backup awesome\\nSound quality very good\\nOverall Apple gives you a perfect iphone in this range.\\nReally in love with iPhone 11',\n",
       " 'Did an upgrade from 6s plus to iphone 11.\\nAo far the experience is well and good. Felt smoother than 6s plus. The camera quality is superb. Battery backup is descent. Not a heavy user, and gets power more than a day. Go for it if you need an alrounder iphone in a competitve price.',\n",
       " 'Damn this phone is a blast . Upgraded from android to ios and is a duperb experience. Battery backup is top notch and display also pretty good',\n",
       " 'Value for money\\n5 star rating\\nExcellent camera\\nBattery backup full day in single charge.\\n\\nTougher and water resistant design, glossy back.\\nThe screen has excellent brightness and contrast.\\nApple A13 Bionic is the fastest smartphone chip on the planet.\\nExcellent battery life, fast charging support.\\nStereo speakers with great quality.',\n",
       " \"Just got this iphone 11\\nAnd it is most powerful mobile phone I have used ever\\n\\nSo,go for it if you want a phone with best specification like camera,battery backup,display, A13 bionic chip\\n\\nThat's my review about this phone but yours can be differ from me....\",\n",
       " 'awesome Phone Smooth Touch Too good Sexyy looks one word Awesome',\n",
       " 'I rate this product 5* as it has got amazing user experience with the best performing A13 bionic processor. The screen responds and graphics rendering is top notch. With casual gaming and internet browsing, the battery lasts for approx. 1 day. Camera is very good. You will fall in love with the portrait mode. You can call me a loyal Apple customer or whatever but I won’t stop praising the products and overall experience. That user experience matters and is worth every penny you pay.\\n\\nBelow ar...\\nREAD MORE',\n",
       " 'I purchased the iPhone 11 a month back. I must say Apple has impressed me yet again . I have been an Apple user for past 5 years . The phone is power packed with amazing features . What impressed me the most was the battery backup the phone offers . Battery can easily run upto 1.5 days in single charge with moderate to\\nHeavy usage . If you’re looking for a value for money device , I don’t see any other phone in the price range which can match the iPhone 11 .\\nOne thing I didn’t like was that ...\\nREAD MORE',\n",
       " 'I am using this phone for 5 days and its one of the best camera out there ❤️ the screen is not oled and i am coming from iphone xs so its little bit not up to the mark i would say\\nBut overall value for money💕😍the battery back up is far better than my iphone xs and its worth in my apple ecosystem💫❤️if u are an apple User and have the eco system then go for it❤️though i will be getting the new iphone but its pretty good💫',\n",
       " \"Just go for it.\\nThis phone is really amazing. I ordered it for my wife and we click photos on this thing which are better than dslr. I own OnePlus 6t but it's camera sucks. iPhone is really amazing when it comes to camera. It's worth spending 50k on this. Cons- only display is lcd. While using u don't feel it but if u compare with other phone then u can see difference quite easily.\\nChanging from Android to iphone is bit difficult coz most of things u don't know but I liked it. Some of the a...\\nREAD MORE\",\n",
       " 'Absolutely powerful gadget. Loved it’s look! Soo glassy and classy. I would definitely recommend this model of Apple. Only disappointed with the 5W charger, one should purchase an 18W adapter for fast charging. Though battery backup is great. Bought it in September 2020, reviewing after so long so I’m gonna put the genuine review here.✅',\n",
       " 'I was torn between the oneplus 8 pro and the iphone 11. I had to shell out extra money for this, but I say if you can afford it, this truely is the best package.\\nMind blowing camera, battery and overall performance. Face Id works like magic even in complete darkness without firing up the screen brightness. The phones with in display fingerprint scanners do this at night time and it really burns your eyes.\\nI wanted the oneplus for its display but tbh the OLEDs on oneplus is really bad. Flick...\\nREAD MORE',\n",
       " \"It was amazing experience for me. Honestly i am using iPhone first time so I don't have that much past experience about that. But after using 7 days this mobile i want to give some honest feedback.\\n1- Display 9 out of 10\\n2- Camera 9.5 out of 10\\n3- Battery 7 out of 10\\n4- Performance 9.5 out of 10\\n5- Features & Functions 10 out of 10\\n6- Outer looks and colour 10 out of 10\\nRest i think i will understand after using this for few months.\\nI will highly recommend you guys if you have budget then you...\\nREAD MORE\",\n",
       " 'I use a Note10+ and have been using both iOS and Android devices.\\n\\nCamera has really good features and portraits are super good, better than Samsung flagship. Overall camera setup can still be enhanced and hopeful for better upgrades on software in next release\\n\\nOperating system is quite a breeze and user experience of daily usage is very high as compared to Android. I moved to iOS very swiftly in 2 days for all my office work from Note10+\\n\\nBattery holds up quite well with 4 hrs of call and ...\\nREAD MORE',\n",
       " 'The phone is completely good\\nAs far as camera Apple is king of it\\nAnd its a beast in performance\\nAnd the battery is pretty good too',\n",
       " 'Everything u ll like it when u use this iPhone. Simple changes only not many to lower models but it’s nice to use. Little heavy compared to previous models like 7,8',\n",
       " 'Nice value for money good and best price I phone mind blowing camera processor very fast other android mobile I am happy India top selling phone 2020',\n",
       " 'The ultimate performance\\nCamera is superb\\nThe battery backup also very good i never saw iphone gives this much of battery backup\\nIf any one wana buy iphone 11 definitely i will recommend this mobile\\nIt has the better battery and powerfull processer peak performance glorious camera and the display also 100% high quality lcd display if u had money for for 12 if u dont wana invest much money on that then go for iphone 11 it has maximum same specs only main difference between the 12 and 11 is...\\nREAD MORE',\n",
       " \"It's a great phone. From camera to display everything is best for the price.\\nBest camera , best performance. I think everyone should buy it . This phone has best battery life so far in iphone series which I had used earlier. Happy to have it. Thanks Flipkart\",\n",
       " 'This is my first ever iPhone.\\nAnd I truly don’t regret switching to IOS from my Android.\\n\\nIt is easily an alternative to a DSLR camera.\\nIf you’re obsessed with photos and videos, just don’t think twice or don’t compare to other androids(Samsung S10 lite or OnePlus 8/8T), as it’s far better from them in every field.\\nComparing will only make you confused.\\n\\nI am getting an average Screen on Time of around 10 hours with 30 percent left. I haven’t let my device discharged below 30 % as it aff...\\nREAD MORE',\n",
       " 'Can’t beat the software and hardware integration of apple.\\nPerforms like a beast. Great quality camera\\n6-7 hours screen on time which is good. Nothing much to complaint about the screen. Good connectivity speeds.\\nGreat buy and Flipkart’s delivery top notch as usual',\n",
       " 'Value for money product. This iphone 11 is really amazing. Again nice release by apple. Great camera, battery backup is excellent. I just love this phone',\n",
       " 'Thanks Flipkart For this amazing deal! I had a dream of owning a iphone since i had known about.\\nIm very happy with my purchase & it is totally worth it.\\nAmazing experience all over !!\\n\\nAnyone who’s thinking of buying it in 2021, i would simply say go for it without any second thoughts ❤️',\n",
       " \"I genuinely liked it. One of the best mobile phones I have used. It's sho smooth and it's security is very astonishing. Plus it has a very good camera quality. so overall it's a win win.\",\n",
       " \"If you are looking for a premium phone under 55k, this is the one for you.Got the iPhone 11 during the Republic day sale. Performance is top notch in this price range. Camera's do a perfect job in taking good quality photos and videos. Battery backup too is satisfactory. Writing this review after using for a week. Any further observations would be updated.\",\n",
       " 'Awesome camera, smooth and fast UI, display is great (though not LED) but the black area at the top could have been reduced. Battery remains a day even if used heavily. Charger in the box is ok, but 12 or 18W could have been nothing like anything. Overall an excellent product and comfortable to use. I have got it almost a month back and so far so good.',\n",
       " \"The best all rounder iphone. Flipkart is doing a great job. They're delivery services are blazing fast. I got delivery on the same day. Genuine Apple Product. Working great. Talking about review There's no need of review for iphones. They're simply the best.\",\n",
       " 'We are on apple ecosystem for almost eight years now with couple of iPads and iPhones, including Xr.\\n\\nBought iPhone 11 as a gift to my daughter who loves it. We chose for a purple coloured one. Believe me it is gorgeous and towards the lighter shade. Dazzling and brilliant!\\n\\nThe phone is great and does excellent RAM management like any other Apple device.\\n\\nThe screen, though a LCD and lesser ppi as compared to other flagship phones of competitor brands, is a delight to watch with perfect re...\\nREAD MORE',\n",
       " 'A perfect phone and a good battery super camera and the sound is dynamic overall the phone is perfect for upgrading from lower iPhone model to iPhone 11',\n",
       " \"i was confused between 11 and 11 pro. i was going towards 11 pro, but the screen size was not enough for me.\\nAnd i saw 11 in the showroom. i didn't find much difference in screen quality.And cameras seems to be ok with me. And i saw offer's in flipkart and made the purchase.\\nthe device is fabulous. The hardware and software quality is excellent. The new iOS is something you need to experience yourself. The drawback i found was absence of fast charger, but the pricing can compensate that. Am...\\nREAD MORE\",\n",
       " 'Product is nice at the deviled time the delivery boy not open the box and this order is oBD but he is not open and not showing product he gives Product and gone time God product is super nice and good Tq Flipkart and seller love you Flipkart Product is nice display good touch screen amazing compared to other brands over all Product is super. Tq Flipkart',\n",
       " \"phone is good but in display is 720p lcd in this price range we can get full hd OLED displays with higher refresh rate processor is very good camera is nice but looks kind of oldish in front of todays phone also there's no charging in box had to buy it seperately\",\n",
       " 'Everything is perfect pictures come out so clearly and at first I wasn’t sure when I got it then when I started to use it and get the hang of it it was amazing!! I can’t wait to see what the next future phones will be like. The screen display on this bad boy are unbelievable they are so clear and never fail me. The performance is super cool there is a lot of cool features as well I like this phone because I feel that it is easy to use and one of my favorite things about this phone is the Face...\\nREAD MORE',\n",
       " 'I dreamt about this day from a long time.... Getting an iPhone with my own money.... Super happy and worth spending every penny']"
      ]
     },
     "execution_count": 115,
     "metadata": {},
     "output_type": "execute_result"
    }
   ],
   "source": [
    "# Lets run the loop to extract the text inside them\n",
    "Full_titles=[]\n",
    "for i in page_urls:\n",
    "    driver.get(i)\n",
    "    title_tags=driver.find_elements_by_xpath(\"//div[@class='t-ZTKy']\")\n",
    "    for i in title_tags:\n",
    "        Full_titles.append(i.text)\n",
    "Full_titles[1:100]"
   ]
  },
  {
   "cell_type": "code",
   "execution_count": 117,
   "metadata": {},
   "outputs": [
    {
     "name": "stdout",
     "output_type": "stream",
     "text": [
      "110 108 110\n"
     ]
    }
   ],
   "source": [
    "# Creeating the data frame for the extracted dat above\n",
    "print(len(Full_titles),len(rating_titles),len(summary_titles))"
   ]
  },
  {
   "cell_type": "code",
   "execution_count": 120,
   "metadata": {},
   "outputs": [],
   "source": [
    "# Creeating the data frame for the extracted data above\n",
    "Apple=pd.DataFrame({})\n",
    "Apple['Rating']=rating_titles[1:101]\n",
    "Apple['Review_summary']=summary_titles[1:101]\n",
    "Apple['Full review']=Full_titles[1:101]"
   ]
  },
  {
   "cell_type": "code",
   "execution_count": 121,
   "metadata": {},
   "outputs": [
    {
     "data": {
      "text/html": [
       "<div>\n",
       "<style scoped>\n",
       "    .dataframe tbody tr th:only-of-type {\n",
       "        vertical-align: middle;\n",
       "    }\n",
       "\n",
       "    .dataframe tbody tr th {\n",
       "        vertical-align: top;\n",
       "    }\n",
       "\n",
       "    .dataframe thead th {\n",
       "        text-align: right;\n",
       "    }\n",
       "</style>\n",
       "<table border=\"1\" class=\"dataframe\">\n",
       "  <thead>\n",
       "    <tr style=\"text-align: right;\">\n",
       "      <th></th>\n",
       "      <th>Rating</th>\n",
       "      <th>Review_summary</th>\n",
       "      <th>Full review</th>\n",
       "    </tr>\n",
       "  </thead>\n",
       "  <tbody>\n",
       "    <tr>\n",
       "      <th>0</th>\n",
       "      <td>5</td>\n",
       "      <td>Perfect product!</td>\n",
       "      <td>Amazing phone with great cameras and better ba...</td>\n",
       "    </tr>\n",
       "    <tr>\n",
       "      <th>1</th>\n",
       "      <td>5</td>\n",
       "      <td>Great product</td>\n",
       "      <td>Amazing Powerful and Durable Gadget.\\n\\nI’m am...</td>\n",
       "    </tr>\n",
       "    <tr>\n",
       "      <th>2</th>\n",
       "      <td>5</td>\n",
       "      <td>Worth every penny</td>\n",
       "      <td>Previously I was using one plus 3t it was a gr...</td>\n",
       "    </tr>\n",
       "    <tr>\n",
       "      <th>3</th>\n",
       "      <td>5</td>\n",
       "      <td>Fabulous!</td>\n",
       "      <td>This is my first iOS phone. I am very happy wi...</td>\n",
       "    </tr>\n",
       "    <tr>\n",
       "      <th>4</th>\n",
       "      <td>4</td>\n",
       "      <td>Good choice</td>\n",
       "      <td>So far it’s been an AMAZING experience coming ...</td>\n",
       "    </tr>\n",
       "    <tr>\n",
       "      <th>...</th>\n",
       "      <td>...</td>\n",
       "      <td>...</td>\n",
       "      <td>...</td>\n",
       "    </tr>\n",
       "    <tr>\n",
       "      <th>95</th>\n",
       "      <td>5</td>\n",
       "      <td>Fabulous!</td>\n",
       "      <td>Product is nice at the deviled time the delive...</td>\n",
       "    </tr>\n",
       "    <tr>\n",
       "      <th>96</th>\n",
       "      <td>5</td>\n",
       "      <td>Does the job</td>\n",
       "      <td>phone is good but in display is 720p lcd in th...</td>\n",
       "    </tr>\n",
       "    <tr>\n",
       "      <th>97</th>\n",
       "      <td>5</td>\n",
       "      <td>Fabulous!</td>\n",
       "      <td>Everything is perfect pictures come out so cle...</td>\n",
       "    </tr>\n",
       "    <tr>\n",
       "      <th>98</th>\n",
       "      <td>5</td>\n",
       "      <td>Awesome</td>\n",
       "      <td>I dreamt about this day from a long time.... G...</td>\n",
       "    </tr>\n",
       "    <tr>\n",
       "      <th>99</th>\n",
       "      <td>5</td>\n",
       "      <td>Worth every penny</td>\n",
       "      <td>Best budget Iphone till date ❤️ go for it guys...</td>\n",
       "    </tr>\n",
       "  </tbody>\n",
       "</table>\n",
       "<p>100 rows × 3 columns</p>\n",
       "</div>"
      ],
      "text/plain": [
       "   Rating     Review_summary  \\\n",
       "0       5   Perfect product!   \n",
       "1       5      Great product   \n",
       "2       5  Worth every penny   \n",
       "3       5          Fabulous!   \n",
       "4       4        Good choice   \n",
       "..    ...                ...   \n",
       "95      5          Fabulous!   \n",
       "96      5       Does the job   \n",
       "97      5          Fabulous!   \n",
       "98      5            Awesome   \n",
       "99      5  Worth every penny   \n",
       "\n",
       "                                          Full review  \n",
       "0   Amazing phone with great cameras and better ba...  \n",
       "1   Amazing Powerful and Durable Gadget.\\n\\nI’m am...  \n",
       "2   Previously I was using one plus 3t it was a gr...  \n",
       "3   This is my first iOS phone. I am very happy wi...  \n",
       "4   So far it’s been an AMAZING experience coming ...  \n",
       "..                                                ...  \n",
       "95  Product is nice at the deviled time the delive...  \n",
       "96  phone is good but in display is 720p lcd in th...  \n",
       "97  Everything is perfect pictures come out so cle...  \n",
       "98  I dreamt about this day from a long time.... G...  \n",
       "99  Best budget Iphone till date ❤️ go for it guys...  \n",
       "\n",
       "[100 rows x 3 columns]"
      ]
     },
     "execution_count": 121,
     "metadata": {},
     "output_type": "execute_result"
    }
   ],
   "source": [
    "Apple"
   ]
  },
  {
   "cell_type": "markdown",
   "metadata": {},
   "source": [
    "# Question-8"
   ]
  },
  {
   "cell_type": "code",
   "execution_count": 5,
   "metadata": {},
   "outputs": [],
   "source": [
    "# lets first connect to the webdriver\n",
    "driver=webdriver.Chrome('chromedriver.exe')"
   ]
  },
  {
   "cell_type": "code",
   "execution_count": 6,
   "metadata": {},
   "outputs": [],
   "source": [
    "url='https://www.flipkart.com/search?q=sneakers&otracker=search&otracker1=search&marketplace=FLIPKART&as-show=on&as=off'\n",
    "driver.get(url)"
   ]
  },
  {
   "cell_type": "code",
   "execution_count": 7,
   "metadata": {},
   "outputs": [
    {
     "data": {
      "text/plain": [
       "['https://www.flipkart.com/search?q=sneakers&otracker=search&otracker1=search&marketplace=FLIPKART&as-show=on&as=off&page=1',\n",
       " 'https://www.flipkart.com/search?q=sneakers&otracker=search&otracker1=search&marketplace=FLIPKART&as-show=on&as=off&page=2',\n",
       " 'https://www.flipkart.com/search?q=sneakers&otracker=search&otracker1=search&marketplace=FLIPKART&as-show=on&as=off&page=3',\n",
       " 'https://www.flipkart.com/search?q=sneakers&otracker=search&otracker1=search&marketplace=FLIPKART&as-show=on&as=off&page=4',\n",
       " 'https://www.flipkart.com/search?q=sneakers&otracker=search&otracker1=search&marketplace=FLIPKART&as-show=on&as=off&page=5',\n",
       " 'https://www.flipkart.com/search?q=sneakers&otracker=search&otracker1=search&marketplace=FLIPKART&as-show=on&as=off&page=6',\n",
       " 'https://www.flipkart.com/search?q=sneakers&otracker=search&otracker1=search&marketplace=FLIPKART&as-show=on&as=off&page=7',\n",
       " 'https://www.flipkart.com/search?q=sneakers&otracker=search&otracker1=search&marketplace=FLIPKART&as-show=on&as=off&page=8',\n",
       " 'https://www.flipkart.com/search?q=sneakers&otracker=search&otracker1=search&marketplace=FLIPKART&as-show=on&as=off&page=9',\n",
       " 'https://www.flipkart.com/search?q=sneakers&otracker=search&otracker1=search&marketplace=FLIPKART&as-show=on&as=off&page=10',\n",
       " 'https://www.flipkart.com/search?q=sneakers&otracker=search&otracker1=search&marketplace=FLIPKART&as-show=on&as=off&page=2']"
      ]
     },
     "execution_count": 7,
     "metadata": {},
     "output_type": "execute_result"
    }
   ],
   "source": [
    "page_urls=[]\n",
    "url=driver.find_elements_by_xpath(\"//nav[@class='yFHi8N']//a\")\n",
    "for i in url:\n",
    "    page_urls.append(i.get_attribute('href'))\n",
    "page_urls"
   ]
  },
  {
   "cell_type": "code",
   "execution_count": 8,
   "metadata": {},
   "outputs": [
    {
     "data": {
      "text/plain": [
       "['India hub',\n",
       " 'CALCADOS',\n",
       " 'Shoes Bank',\n",
       " 'Robbie jones',\n",
       " 'ORICUM',\n",
       " 'PEHANOSA',\n",
       " 'Alfiya',\n",
       " 'KULP',\n",
       " 'bluemaker',\n",
       " 'Stefano Rads',\n",
       " 'Numenzo',\n",
       " 'Absolute comfort',\n",
       " 'HOTSTYLE',\n",
       " 'Chevit',\n",
       " 'Birde',\n",
       " 'ASTEROID',\n",
       " 'HOTSTYLE',\n",
       " 'Chevit',\n",
       " 'Birde',\n",
       " 'SCATCHITE',\n",
       " 'Chevit',\n",
       " 'kardam&sons',\n",
       " 'TR',\n",
       " 'PUMA',\n",
       " 'restinfoot',\n",
       " 'Kraasa',\n",
       " 'Chevit',\n",
       " 'Zsyto',\n",
       " 'D-SNEAKERZ',\n",
       " 'Zorth',\n",
       " 'bluemaker',\n",
       " 'ORICUM',\n",
       " 'SPARX',\n",
       " 'World Wear Footwear',\n",
       " 'PUMA',\n",
       " 'Aura',\n",
       " 'Chevit',\n",
       " 'SPARX',\n",
       " 'ESSENCE',\n",
       " '3SIX5',\n",
       " 'Jokatoo',\n",
       " 'PUMA',\n",
       " 'Arohi',\n",
       " 'Robbie jones',\n",
       " 'SWIGGY',\n",
       " 'India hub',\n",
       " 'T-ROCK',\n",
       " 'FILA',\n",
       " 'CAMPUS',\n",
       " 'Nilatin',\n",
       " 'ASTEROID',\n",
       " 'HOC',\n",
       " 'Robbie jones',\n",
       " 'HOTSTYLE',\n",
       " 'ADIDAS',\n",
       " 'bluemaker',\n",
       " 'Magnolia',\n",
       " 'Ktiz',\n",
       " 'Zorth',\n",
       " 'Chevit',\n",
       " 'Ktiz',\n",
       " 'D-SNEAKERZ',\n",
       " 'Absolute comfort',\n",
       " 'SHOELIFE',\n",
       " 'Robbie jones',\n",
       " 'PUMA',\n",
       " 'BRUTON',\n",
       " 'Absolute comfort',\n",
       " 'STRANGER BROTHERS',\n",
       " 'D-SNEAKERZ',\n",
       " 'Birde',\n",
       " 'BRUTON',\n",
       " 'tigonis',\n",
       " 'Ktiz',\n",
       " 'WRIZT',\n",
       " 'PUMA',\n",
       " 'Birde',\n",
       " 'Svpanther',\n",
       " 'BLACK BOTTOM',\n",
       " 'World Wear Footwear',\n",
       " 'GUSTO',\n",
       " 'HOCKWOOD',\n",
       " 'PUMA',\n",
       " 'T-ROCK',\n",
       " 'World Wear Footwear',\n",
       " 'Jack Diamond',\n",
       " 'SPARX',\n",
       " 'Birde',\n",
       " 'Robbie jones',\n",
       " 'ESSENCE',\n",
       " 'SHOEFLY',\n",
       " 'SPARX',\n",
       " 'FILA',\n",
       " 'Magnolia',\n",
       " 'PUMA',\n",
       " 'PUMA',\n",
       " 'Numenzo',\n",
       " 'FILA',\n",
       " 'bluemaker']"
      ]
     },
     "execution_count": 8,
     "metadata": {},
     "output_type": "execute_result"
    }
   ],
   "source": [
    "# Lets run the loop to extract the text inside them\n",
    "brand_titles=[]\n",
    "for i in page_urls:\n",
    "    driver.get(i)\n",
    "    title_tags=driver.find_elements_by_xpath(\"//div[@class='_2WkVRV']\")\n",
    "    for i in title_tags:\n",
    "        brand_titles.append(i.text)\n",
    "        \n",
    "brand_titles[1:100]"
   ]
  },
  {
   "cell_type": "code",
   "execution_count": 9,
   "metadata": {},
   "outputs": [
    {
     "data": {
      "text/plain": [
       "['₹389',\n",
       " '₹748',\n",
       " '₹349',\n",
       " '₹474',\n",
       " '₹377',\n",
       " '₹499',\n",
       " '₹377',\n",
       " '₹399',\n",
       " '₹474',\n",
       " '₹242',\n",
       " '₹398',\n",
       " '₹199',\n",
       " '₹283',\n",
       " '₹369',\n",
       " '₹330',\n",
       " '₹499',\n",
       " '₹283',\n",
       " '₹473',\n",
       " '₹661',\n",
       " '₹398',\n",
       " '₹472',\n",
       " '₹379',\n",
       " '₹379',\n",
       " '₹1,506',\n",
       " '₹379',\n",
       " '₹416',\n",
       " '₹498',\n",
       " '₹398',\n",
       " '₹365',\n",
       " '₹538',\n",
       " '₹474',\n",
       " '₹472',\n",
       " '₹630',\n",
       " '₹499',\n",
       " '₹1,419',\n",
       " '₹525',\n",
       " '₹719',\n",
       " '₹769',\n",
       " '₹442',\n",
       " '₹214',\n",
       " '₹418',\n",
       " '₹1,644',\n",
       " '₹439',\n",
       " '₹499',\n",
       " '₹719',\n",
       " '₹449',\n",
       " '₹398',\n",
       " '₹1,266',\n",
       " '₹1,329',\n",
       " '₹407',\n",
       " '₹451',\n",
       " '₹379',\n",
       " '₹474',\n",
       " '₹192',\n",
       " '₹1,860',\n",
       " '₹474',\n",
       " '₹311',\n",
       " '₹474',\n",
       " '₹573',\n",
       " '₹224',\n",
       " '₹440',\n",
       " '₹384',\n",
       " '₹284',\n",
       " '₹401',\n",
       " '₹499',\n",
       " '₹1,405',\n",
       " '₹474',\n",
       " '₹199',\n",
       " '₹469',\n",
       " '₹346',\n",
       " '₹757',\n",
       " '₹341',\n",
       " '₹379',\n",
       " '₹399',\n",
       " '₹279',\n",
       " '₹1,707',\n",
       " '₹661',\n",
       " '₹499',\n",
       " '₹449',\n",
       " '₹240',\n",
       " '₹679',\n",
       " '₹674',\n",
       " '₹1,687',\n",
       " '₹499',\n",
       " '₹240',\n",
       " '₹635',\n",
       " '₹769',\n",
       " '₹714',\n",
       " '₹474',\n",
       " '₹442',\n",
       " '₹362',\n",
       " '₹730',\n",
       " '₹1,267',\n",
       " '₹424',\n",
       " '₹1,397',\n",
       " '₹1,529',\n",
       " '₹569',\n",
       " '₹1,333',\n",
       " '₹474']"
      ]
     },
     "execution_count": 9,
     "metadata": {},
     "output_type": "execute_result"
    }
   ],
   "source": [
    "# Lets run the loop to extract the text inside them\n",
    "price_titles=[]\n",
    "for i in page_urls:\n",
    "    driver.get(i)\n",
    "    title_tags=driver.find_elements_by_xpath(\"//div[@class='_30jeq3']\")\n",
    "    for i in title_tags:\n",
    "        price_titles.append(i.text)\n",
    "        \n",
    "price_titles[1:100]"
   ]
  },
  {
   "cell_type": "code",
   "execution_count": 10,
   "metadata": {},
   "outputs": [
    {
     "data": {
      "text/plain": [
       "['87% off',\n",
       " '62% off',\n",
       " '65% off',\n",
       " '52% off',\n",
       " '62% off',\n",
       " '50% off',\n",
       " '62% off',\n",
       " '60% off',\n",
       " '52% off',\n",
       " '65% off',\n",
       " '60% off',\n",
       " '60% off',\n",
       " '43% off',\n",
       " '26% off',\n",
       " '33% off',\n",
       " '75% off',\n",
       " '43% off',\n",
       " '73% off',\n",
       " '66% off',\n",
       " '60% off',\n",
       " '76% off',\n",
       " '81% off',\n",
       " '81% off',\n",
       " '49% off',\n",
       " '62% off',\n",
       " '58% off',\n",
       " '50% off',\n",
       " '69% off',\n",
       " '44% off',\n",
       " '46% off',\n",
       " '52% off',\n",
       " '52% off',\n",
       " '15% off',\n",
       " '81% off',\n",
       " '56% off',\n",
       " '47% off',\n",
       " '71% off',\n",
       " '23% off',\n",
       " '55% off',\n",
       " '57% off',\n",
       " '71% off',\n",
       " '58% off',\n",
       " '56% off',\n",
       " '50% off',\n",
       " '71% off',\n",
       " '85% off',\n",
       " '60% off',\n",
       " '59% off',\n",
       " '30% off',\n",
       " '68% off',\n",
       " '54% off',\n",
       " '70% off',\n",
       " '52% off',\n",
       " '61% off',\n",
       " '48% off',\n",
       " '52% off',\n",
       " '68% off',\n",
       " '63% off',\n",
       " '42% off',\n",
       " '55% off',\n",
       " '66% off',\n",
       " '61% off',\n",
       " '71% off',\n",
       " '59% off',\n",
       " '50% off',\n",
       " '49% off',\n",
       " '88% off',\n",
       " '60% off',\n",
       " '53% off',\n",
       " '65% off',\n",
       " '62% off',\n",
       " '85% off',\n",
       " '78% off',\n",
       " '60% off',\n",
       " '72% off',\n",
       " '57% off',\n",
       " '55% off',\n",
       " '50% off',\n",
       " '55% off',\n",
       " '51% off',\n",
       " '47% off',\n",
       " '32% off',\n",
       " '43% off',\n",
       " '50% off',\n",
       " '51% off',\n",
       " '36% off',\n",
       " '23% off',\n",
       " '52% off',\n",
       " '52% off',\n",
       " '55% off',\n",
       " '72% off',\n",
       " '23% off',\n",
       " '59% off',\n",
       " '57% off',\n",
       " '53% off',\n",
       " '49% off',\n",
       " '43% off',\n",
       " '56% off',\n",
       " '52% off']"
      ]
     },
     "execution_count": 10,
     "metadata": {},
     "output_type": "execute_result"
    }
   ],
   "source": [
    "# Lets run the loop to extract the text inside them\n",
    "Discount_titles=[]\n",
    "for i in page_urls:\n",
    "    driver.get(i)\n",
    "    title_tags=driver.find_elements_by_xpath(\"//div[@class='_3Ay6Sb']\")\n",
    "    for i in title_tags:\n",
    "        Discount_titles.append(i.text)\n",
    "        \n",
    "Discount_titles[1:100]"
   ]
  },
  {
   "cell_type": "code",
   "execution_count": 11,
   "metadata": {},
   "outputs": [
    {
     "data": {
      "text/plain": [
       "['Perfect product...in under price\\nVery fast delivery....thank u flipkart 😊🤗',\n",
       " 'AKKU SAINI\\nCertified Buyer\\n21days ago',\n",
       " '5\\nWonderful',\n",
       " \"This shoes is awesome in looking ,and it's classi design is really beautiful , thanks to Flipkart ,I am happy for bought this product ☺️😊,..\",\n",
       " 'Zill kabir\\nCertified Buyer\\n1day ago',\n",
       " '5\\nMind-blowing purchase',\n",
       " 'Thanks for Flipkart good products',\n",
       " 'Chand md\\nCertified Buyer\\n1month ago',\n",
       " \"1\\nDon't waste your money\",\n",
       " \"Total waste. Don't purchase this item.\",\n",
       " 'Flipkart Customer\\nCertified Buyer\\n6days ago',\n",
       " '3\\nJust okay',\n",
       " 'Good quality in white but black is not good',\n",
       " 'Gulam Shabir\\nCertified Buyer\\n2months ago',\n",
       " '5\\nFabulous!',\n",
       " 'Is good product... quality is so good',\n",
       " 'Flipkart Customer\\nCertified Buyer\\n2days ago',\n",
       " '5\\nGreat product',\n",
       " \"it's too good, I love it, santosh kumar Mohapatra, bhanpur cuttack\",\n",
       " 'Santosh kumar Mohapatra\\nCertified Buyer\\nJul, 2019',\n",
       " '5\\nJust wow!',\n",
       " \"It's really nice product. When I saw it first time than I was thinking about its quality but after delivery I am totally satisfied and impressed. ANY one can...\\nRead full review\",\n",
       " 'PRAMOD GANGWAR\\nCertified Buyer\\nToday',\n",
       " '5\\nBrilliant',\n",
       " 'Excilent your product 😄😄',\n",
       " 'anurag anand\\nCertified Buyer\\n2months ago',\n",
       " '4\\nWonderful',\n",
       " 'Very nice product....buy it',\n",
       " 'Flipkart Customer\\nCertified Buyer\\n7days ago',\n",
       " '',\n",
       " '5\\nExcellent',\n",
       " 'I have liked it very much. 😘😘😘😘',\n",
       " 'Flipkart Customer\\nCertified Buyer\\n8days ago',\n",
       " '4\\nReally Nice',\n",
       " 'Very nice product in good price.....',\n",
       " 'Flipkart Customer\\nCertified Buyer\\n1day ago',\n",
       " '5\\nClassy product',\n",
       " 'Very good product worth for price',\n",
       " 'Flipkart Customer\\nCertified Buyer\\n11days ago',\n",
       " '5\\nHighly recommended',\n",
       " 'Shoes are v. Nice. I like it. And it fited proply . Good service',\n",
       " 'Pooja Vaskar\\nCertified Buyer\\n5days ago',\n",
       " '5\\nAwesome',\n",
       " 'Its amzing 😎🙈👍I.like this',\n",
       " 'Atheeq Ahamed\\nCertified Buyer\\n3months ago',\n",
       " '4\\nPretty good',\n",
       " 'Its design is good looking but quality is little worse.\\nAll the 5 shoes came up to 1 yr after, its souls came out with pieces',\n",
       " 'Flipkart Customer\\nCertified Buyer\\n11days ago',\n",
       " '5\\nGreat product',\n",
       " \"it's too good, I love it, santosh kumar Mohapatra, bhanpur cuttack\",\n",
       " 'Santosh kumar Mohapatra\\nCertified Buyer\\nJul, 2019',\n",
       " '5\\nJust wow!',\n",
       " \"It's really nice product. When I saw it first time than I was thinking about its quality but after delivery I am totally satisfied and impressed. ANY one can...\\nRead full review\",\n",
       " 'PRAMOD GANGWAR\\nCertified Buyer\\nToday',\n",
       " '3\\nGood',\n",
       " 'avg product....poor packing and delivery.....size not as per the chart....its very small if u wear 8 go for 9',\n",
       " 'Himanshu Mittal\\nCertified Buyer\\nNov, 2019',\n",
       " '1\\nWaste of money!',\n",
       " 'Not good ,,, low quality ,, but good for fashion user',\n",
       " 'Avadhut Apate\\nCertified Buyer\\n13days ago',\n",
       " '',\n",
       " '1\\nUtterly Disappointed',\n",
       " 'Slightly tight in fitting but looks good.',\n",
       " 'Labanya Nidhi Raut\\nCertified Buyer\\n4months ago',\n",
       " '1\\nHated it!',\n",
       " 'Not a original Reebok , very poor quality and very poor design',\n",
       " 'Flipkart Customer\\nCertified Buyer\\n1day ago',\n",
       " '5\\nClassy product',\n",
       " \"it's amazing.... worth ❤️\",\n",
       " 'Shikhar Saroop\\nCertified Buyer\\nJul, 2018',\n",
       " '3\\nNice',\n",
       " 'Product is very good but is not lite wet',\n",
       " 'Bobby Yadav\\nCertified Buyer\\n5days ago',\n",
       " '5\\nTerrific',\n",
       " 'Nice shoes just go far it',\n",
       " 'Prince Rai\\nCertified Buyer\\nSep, 2019',\n",
       " '5\\nClassy product',\n",
       " 'Super shoes, I love this products',\n",
       " 'DHINESH KUMAR\\nCertified Buyer\\nToday',\n",
       " '2\\nSlightly disappointed',\n",
       " 'Base is hard but top is very poor🥴',\n",
       " 'Flipkart Customer\\nCertified Buyer\\n7months ago',\n",
       " '4\\nGood choice',\n",
       " 'Nice product .........good quality',\n",
       " 'Sunny Sunny\\nCertified Buyer\\n6days ago',\n",
       " '4\\nWorth the money',\n",
       " 'Good product, at this price',\n",
       " 'Vinay Kumar M\\nCertified Buyer\\nMar, 2020',\n",
       " '5\\nWonderful',\n",
       " 'Good quality n very comfortable',\n",
       " 'Flipkart Customer\\nCertified Buyer\\n1day ago',\n",
       " '',\n",
       " '5\\nBest in the market!',\n",
       " 'Thanks Flipkart\\nReally good 👍👍👍👍😘😘😘😘😘 shoes',\n",
       " 'Bishal soy Bishal soy\\nCertified Buyer\\n3months ago',\n",
       " '5\\nTerrific purchase',\n",
       " '_Super colitis 😍😍brand shuse _👌👌',\n",
       " 'Shankar_ Pathave\\nCertified Buyer\\n1day ago',\n",
       " '5\\nPerfect product!']"
      ]
     },
     "execution_count": 11,
     "metadata": {},
     "output_type": "execute_result"
    }
   ],
   "source": [
    "# Lets run the loop to extract the text inside them\n",
    "Dscr_titles=[]\n",
    "for i in page_urls:\n",
    "    driver.get(i)\n",
    "    title_tags=driver.find_elements_by_xpath(\"//div[@class='row']\")\n",
    "    for i in title_tags:\n",
    "        Dscr_titles.append(i.text)\n",
    "        \n",
    "Dscr_titles[1:100]"
   ]
  },
  {
   "cell_type": "code",
   "execution_count": 15,
   "metadata": {},
   "outputs": [],
   "source": [
    "# Creeating the data frame for the extracted data above\n",
    "Sneakers=pd.DataFrame({})\n",
    "Sneakers['Brand']=brand_titles[1:101]\n",
    "Sneakers['Price']=price_titles[1:101]\n",
    "Sneakers['Discount']=Discount_titles[1:101]\n",
    "Sneakers['Description']=Dscr_titles[1:101]"
   ]
  },
  {
   "cell_type": "code",
   "execution_count": 16,
   "metadata": {},
   "outputs": [
    {
     "data": {
      "text/html": [
       "<div>\n",
       "<style scoped>\n",
       "    .dataframe tbody tr th:only-of-type {\n",
       "        vertical-align: middle;\n",
       "    }\n",
       "\n",
       "    .dataframe tbody tr th {\n",
       "        vertical-align: top;\n",
       "    }\n",
       "\n",
       "    .dataframe thead th {\n",
       "        text-align: right;\n",
       "    }\n",
       "</style>\n",
       "<table border=\"1\" class=\"dataframe\">\n",
       "  <thead>\n",
       "    <tr style=\"text-align: right;\">\n",
       "      <th></th>\n",
       "      <th>Brand</th>\n",
       "      <th>Price</th>\n",
       "      <th>Discount</th>\n",
       "      <th>Description</th>\n",
       "    </tr>\n",
       "  </thead>\n",
       "  <tbody>\n",
       "    <tr>\n",
       "      <th>0</th>\n",
       "      <td>India hub</td>\n",
       "      <td>₹389</td>\n",
       "      <td>87% off</td>\n",
       "      <td>Perfect product...in under price\\nVery fast de...</td>\n",
       "    </tr>\n",
       "    <tr>\n",
       "      <th>1</th>\n",
       "      <td>CALCADOS</td>\n",
       "      <td>₹748</td>\n",
       "      <td>62% off</td>\n",
       "      <td>AKKU SAINI\\nCertified Buyer\\n21days ago</td>\n",
       "    </tr>\n",
       "    <tr>\n",
       "      <th>2</th>\n",
       "      <td>Shoes Bank</td>\n",
       "      <td>₹349</td>\n",
       "      <td>65% off</td>\n",
       "      <td>5\\nWonderful</td>\n",
       "    </tr>\n",
       "    <tr>\n",
       "      <th>3</th>\n",
       "      <td>Robbie jones</td>\n",
       "      <td>₹474</td>\n",
       "      <td>52% off</td>\n",
       "      <td>This shoes is awesome in looking ,and it's cla...</td>\n",
       "    </tr>\n",
       "    <tr>\n",
       "      <th>4</th>\n",
       "      <td>ORICUM</td>\n",
       "      <td>₹377</td>\n",
       "      <td>62% off</td>\n",
       "      <td>Zill kabir\\nCertified Buyer\\n1day ago</td>\n",
       "    </tr>\n",
       "    <tr>\n",
       "      <th>...</th>\n",
       "      <td>...</td>\n",
       "      <td>...</td>\n",
       "      <td>...</td>\n",
       "      <td>...</td>\n",
       "    </tr>\n",
       "    <tr>\n",
       "      <th>95</th>\n",
       "      <td>PUMA</td>\n",
       "      <td>₹1,529</td>\n",
       "      <td>49% off</td>\n",
       "      <td>5\\nTerrific purchase</td>\n",
       "    </tr>\n",
       "    <tr>\n",
       "      <th>96</th>\n",
       "      <td>Numenzo</td>\n",
       "      <td>₹569</td>\n",
       "      <td>43% off</td>\n",
       "      <td>_Super colitis 😍😍brand shuse _👌👌</td>\n",
       "    </tr>\n",
       "    <tr>\n",
       "      <th>97</th>\n",
       "      <td>FILA</td>\n",
       "      <td>₹1,333</td>\n",
       "      <td>56% off</td>\n",
       "      <td>Shankar_ Pathave\\nCertified Buyer\\n1day ago</td>\n",
       "    </tr>\n",
       "    <tr>\n",
       "      <th>98</th>\n",
       "      <td>bluemaker</td>\n",
       "      <td>₹474</td>\n",
       "      <td>52% off</td>\n",
       "      <td>5\\nPerfect product!</td>\n",
       "    </tr>\n",
       "    <tr>\n",
       "      <th>99</th>\n",
       "      <td>BRUTON</td>\n",
       "      <td>₹359</td>\n",
       "      <td>85% off</td>\n",
       "      <td>Nice product fit as expected</td>\n",
       "    </tr>\n",
       "  </tbody>\n",
       "</table>\n",
       "<p>100 rows × 4 columns</p>\n",
       "</div>"
      ],
      "text/plain": [
       "           Brand   Price Discount  \\\n",
       "0      India hub    ₹389  87% off   \n",
       "1       CALCADOS    ₹748  62% off   \n",
       "2     Shoes Bank    ₹349  65% off   \n",
       "3   Robbie jones    ₹474  52% off   \n",
       "4         ORICUM    ₹377  62% off   \n",
       "..           ...     ...      ...   \n",
       "95          PUMA  ₹1,529  49% off   \n",
       "96       Numenzo    ₹569  43% off   \n",
       "97          FILA  ₹1,333  56% off   \n",
       "98     bluemaker    ₹474  52% off   \n",
       "99        BRUTON    ₹359  85% off   \n",
       "\n",
       "                                          Description  \n",
       "0   Perfect product...in under price\\nVery fast de...  \n",
       "1             AKKU SAINI\\nCertified Buyer\\n21days ago  \n",
       "2                                        5\\nWonderful  \n",
       "3   This shoes is awesome in looking ,and it's cla...  \n",
       "4               Zill kabir\\nCertified Buyer\\n1day ago  \n",
       "..                                                ...  \n",
       "95                               5\\nTerrific purchase  \n",
       "96                   _Super colitis 😍😍brand shuse _👌👌  \n",
       "97        Shankar_ Pathave\\nCertified Buyer\\n1day ago  \n",
       "98                                5\\nPerfect product!  \n",
       "99                       Nice product fit as expected  \n",
       "\n",
       "[100 rows x 4 columns]"
      ]
     },
     "execution_count": 16,
     "metadata": {},
     "output_type": "execute_result"
    }
   ],
   "source": [
    "Sneakers"
   ]
  },
  {
   "cell_type": "markdown",
   "metadata": {},
   "source": [
    "# Question-9"
   ]
  },
  {
   "cell_type": "code",
   "execution_count": 17,
   "metadata": {},
   "outputs": [],
   "source": [
    "# lets first connect to the webdriver\n",
    "driver=webdriver.Chrome('chromedriver.exe')"
   ]
  },
  {
   "cell_type": "code",
   "execution_count": 23,
   "metadata": {},
   "outputs": [],
   "source": [
    "url='https://www.myntra.com/shoes?f=Color%3ABlack_36454f&plaEnabled=false&rf=Price%3A6649.0_13099.0_6649.0%20TO%2013099.0'\n",
    "driver.get(url)"
   ]
  },
  {
   "cell_type": "code",
   "execution_count": 24,
   "metadata": {},
   "outputs": [
    {
     "data": {
      "text/plain": [
       "['https://www.myntra.com/shoes?f=Color%3ABlack_36454f&plaEnabled=false&rf=Price%3A6649.0_13099.0_6649.0%20TO%2013099.0&p=2',\n",
       " 'https://www.myntra.com/shoes?f=Color%3ABlack_36454f&plaEnabled=false&rf=Price%3A6649.0_13099.0_6649.0%20TO%2013099.0&p=3',\n",
       " 'https://www.myntra.com/shoes?f=Color%3ABlack_36454f&plaEnabled=false&rf=Price%3A6649.0_13099.0_6649.0%20TO%2013099.0&p=4',\n",
       " 'https://www.myntra.com/shoes?f=Color%3ABlack_36454f&plaEnabled=false&rf=Price%3A6649.0_13099.0_6649.0%20TO%2013099.0&p=5',\n",
       " 'https://www.myntra.com/shoes?f=Color%3ABlack_36454f&plaEnabled=false&rf=Price%3A6649.0_13099.0_6649.0%20TO%2013099.0&p=6',\n",
       " 'https://www.myntra.com/shoes?f=Color%3ABlack_36454f&plaEnabled=false&rf=Price%3A6649.0_13099.0_6649.0%20TO%2013099.0&p=7',\n",
       " 'https://www.myntra.com/shoes?f=Color%3ABlack_36454f&plaEnabled=false&rf=Price%3A6649.0_13099.0_6649.0%20TO%2013099.0&p=8',\n",
       " 'https://www.myntra.com/shoes?f=Color%3ABlack_36454f&plaEnabled=false&rf=Price%3A6649.0_13099.0_6649.0%20TO%2013099.0&p=9',\n",
       " 'https://www.myntra.com/shoes?f=Color%3ABlack_36454f&plaEnabled=false&rf=Price%3A6649.0_13099.0_6649.0%20TO%2013099.0&p=10']"
      ]
     },
     "execution_count": 24,
     "metadata": {},
     "output_type": "execute_result"
    }
   ],
   "source": [
    "page_urls=[]\n",
    "url=driver.find_elements_by_xpath(\"//li[@class='pagination-number']//a\")\n",
    "for i in url:\n",
    "    page_urls.append(i.get_attribute('href'))\n",
    "page_urls"
   ]
  },
  {
   "cell_type": "code",
   "execution_count": 20,
   "metadata": {},
   "outputs": [
    {
     "data": {
      "text/plain": [
       "['Cole Haan',\n",
       " 'Florsheim',\n",
       " 'FILA',\n",
       " 'KIPRUN By Decathlon',\n",
       " 'FILA',\n",
       " 'RAPAWALK',\n",
       " 'RAPAWALK',\n",
       " 'Puma',\n",
       " 'ADIDAS',\n",
       " 'Ruosh',\n",
       " 'ADIDAS',\n",
       " 'Cole Haan',\n",
       " 'Cole Haan',\n",
       " 'FILA',\n",
       " 'Puma',\n",
       " 'Cole Haan',\n",
       " 'FILA',\n",
       " 'FILA',\n",
       " 'Geox',\n",
       " 'Ruosh',\n",
       " 'Nike',\n",
       " 'Nike',\n",
       " 'VIONIC',\n",
       " 'Nike',\n",
       " 'Nike',\n",
       " 'J.FONTINI',\n",
       " 'Hush Puppies',\n",
       " 'Hush Puppies',\n",
       " 'Nike',\n",
       " 'Nike',\n",
       " 'UNDER ARMOUR',\n",
       " 'Nike',\n",
       " 'Heel & Buckle London',\n",
       " 'Heel & Buckle London',\n",
       " 'Saint G',\n",
       " 'Saint G',\n",
       " 'Lacoste',\n",
       " 'Lacoste',\n",
       " 'Puma',\n",
       " 'Puma',\n",
       " 'ASICS',\n",
       " 'Cole Haan',\n",
       " 'Cole Haan',\n",
       " 'San Frissco',\n",
       " 'FILA',\n",
       " 'Cole Haan',\n",
       " 'Nike',\n",
       " 'Heel & Buckle London',\n",
       " 'UNDER ARMOUR',\n",
       " 'UNDER ARMOUR',\n",
       " 'Heel & Buckle London',\n",
       " 'Lacoste',\n",
       " 'Heel & Buckle London',\n",
       " 'UNDER ARMOUR',\n",
       " 'Reebok',\n",
       " 'Hush Puppies',\n",
       " 'ADIDAS',\n",
       " 'Bugatti',\n",
       " 'Geox',\n",
       " 'Kenneth Cole',\n",
       " 'Nike',\n",
       " 'Geox',\n",
       " 'Teakwood Leathers',\n",
       " 'Ruosh',\n",
       " 'Florsheim',\n",
       " 'Bugatti',\n",
       " 'Bugatti',\n",
       " 'PUMA Motorsport',\n",
       " 'Puma',\n",
       " 'Geox',\n",
       " 'UNDER ARMOUR',\n",
       " 'ALDO',\n",
       " 'Tommy Hilfiger',\n",
       " 'ADIDAS',\n",
       " 'J.FONTINI',\n",
       " 'Heel & Buckle London',\n",
       " 'J.FONTINI',\n",
       " 'Puma',\n",
       " 'DAVINCHI',\n",
       " 'DAVINCHI',\n",
       " 'Puma',\n",
       " 'DAVINCHI',\n",
       " 'Puma',\n",
       " 'DAVINCHI',\n",
       " 'Bugatti',\n",
       " 'Bugatti',\n",
       " 'Bugatti',\n",
       " 'Tommy Hilfiger',\n",
       " 'Tommy Hilfiger',\n",
       " 'DAVINCHI',\n",
       " 'Puma',\n",
       " 'UNDER ARMOUR',\n",
       " 'ALDO',\n",
       " 'Lacoste',\n",
       " 'Nike',\n",
       " 'Puma',\n",
       " 'RAPAWALK',\n",
       " 'ASICS',\n",
       " 'Clarks']"
      ]
     },
     "execution_count": 20,
     "metadata": {},
     "output_type": "execute_result"
    }
   ],
   "source": [
    "# Lets run the loop to extract the text inside them\n",
    "brand_titles=[]\n",
    "for i in page_urls:\n",
    "    driver.get(i)\n",
    "    title_tags=driver.find_elements_by_xpath(\"//h3[@class='product-brand']\")\n",
    "    for i in title_tags:\n",
    "        brand_titles.append(i.text)\n",
    "        \n",
    "brand_titles[1:100]"
   ]
  },
  {
   "cell_type": "code",
   "execution_count": 25,
   "metadata": {},
   "outputs": [
    {
     "data": {
      "text/plain": [
       "['Women Leather Sneakers',\n",
       " 'Men Solid Leather Formal Loafers',\n",
       " 'Men Running Shoes',\n",
       " 'Women Running Shoes',\n",
       " 'Men Leather Sneakers',\n",
       " 'Wide Width Leather Slip Ons',\n",
       " 'Wide Width Leather Slip Ons',\n",
       " 'Men Liberate Nitro Running',\n",
       " 'Women Edge Lux 4 Running',\n",
       " 'Women Supernova+ Running',\n",
       " 'Men Wingtip Oxford Sneakers',\n",
       " 'Men GENERATION ZEROGRAND STITCHLITE',\n",
       " 'Men Leather Sneakers',\n",
       " 'Men IGNITE Dual Running Shoes',\n",
       " 'Leather Sneakers',\n",
       " 'Men Solid Sneakers',\n",
       " 'Men Sneakers',\n",
       " 'Men Leather Driving Shoes',\n",
       " 'Men Textured Leather Monks',\n",
       " 'Men Leather Formal Brogues',\n",
       " 'Men JORDAN ONE TAKE II Shoes',\n",
       " 'Men AIR ZOOM PEGASUS 38 Run',\n",
       " 'Men Textured Sneakers',\n",
       " 'Men AIR ZOOM PEGASUS 38 Run',\n",
       " 'Men Zoom Winflo 8 Running',\n",
       " 'Men Textured Leather Loafers',\n",
       " 'Men Leather Slip-On Sneakers',\n",
       " 'Men Colourblocked Driving Shoes',\n",
       " 'Men REACT MILER 2 Running',\n",
       " 'Men REACT MILER 2 Running',\n",
       " 'Charged Pursuit 2 Running',\n",
       " 'Men ZOOM WINFLO 6 Running',\n",
       " 'Women Solid Leather Gladiators',\n",
       " 'Women Solid Leather Heels',\n",
       " 'Women Heeled Boots',\n",
       " 'Women Leather Heeled Boots',\n",
       " 'Men Woven Design Sneakers',\n",
       " 'Men Woven Design Slip-On Sneakers',\n",
       " 'Unisex Futurverse Sneakers',\n",
       " 'Men UltraRide Running Shoes',\n",
       " 'Men Running Shoes',\n",
       " 'Women Open Toe Flats',\n",
       " 'Women Solid Leather Ballerinas',\n",
       " 'Men Leather Loafers',\n",
       " 'Women Sneakers',\n",
       " 'Women Woven Design Sneakers',\n",
       " 'Men ZOOM WINFLO8 Running Shoes',\n",
       " 'Men Leather Formal Oxfords',\n",
       " 'Charged RC Sportstyle Sneakers',\n",
       " 'Charged RC Sportstyle Sneakers',\n",
       " 'Woven Design Casual Sneakers',\n",
       " 'Women Leather Pumps',\n",
       " 'Liquify Rebel Running Shoes',\n",
       " 'Women Nanoflex Training Shoes',\n",
       " 'Men Adizero Ubersonic 4 Tennis',\n",
       " 'Women Solid Block Heels',\n",
       " 'Men Leather Formal Derbys',\n",
       " 'Women Solid Flat Boots',\n",
       " 'Men Solid Leather Formal Slip-Ons',\n",
       " 'Women AIR MAX VIVA Sneakers',\n",
       " 'Men Solid Leather Formal Monks',\n",
       " 'Men Leather Semiformal Driving',\n",
       " 'Men Solid Leather Loafers',\n",
       " 'Women Black Sneakers',\n",
       " 'Men Solid Leather Formal Derbys',\n",
       " 'Women Mid-Top Sneakers',\n",
       " 'Men Ferrari Race Kart Sneakers',\n",
       " 'Unisex RS-FAST TECH Sneakers',\n",
       " 'Men Leather Loafers',\n",
       " 'HOVR Infinite 2 Running Shoes',\n",
       " 'Men Solid Leather Loafers',\n",
       " 'Men Solid Leather Sneakers',\n",
       " 'Men Supernova Running Shoes',\n",
       " 'Men Solid Leather Formal Derbys',\n",
       " 'Men Solid Leather Formal Penny Loafers',\n",
       " 'Men Leather Formal Loafers',\n",
       " 'Men Leather Formal Derbys',\n",
       " 'Women RS-X Suede Sneakers',\n",
       " 'Ustraa black',\n",
       " 'Men Formal Leather Slip-Ons',\n",
       " 'Unisex RS-Fast Sneakers',\n",
       " 'Men Textured Formal Leather Loafers',\n",
       " 'Future Rider Peanuts Sneakers',\n",
       " 'Men Solid Formal Leather Slip-On Shoes',\n",
       " 'Men Textured Leather Formal Loafers',\n",
       " 'Men Solid Leather Formal Derbys',\n",
       " 'Men Solid Leather Formal Derbys',\n",
       " 'Men Solid Sneakers',\n",
       " 'Men Solid Sneakers',\n",
       " 'Men Leather Formal Loafers',\n",
       " 'Calibrate Restored Sneakers',\n",
       " 'Men HOVR Rise 2 Training Shoes',\n",
       " 'Women Sneakers',\n",
       " 'Men Colourblocked Sneakers',\n",
       " 'Men PG 5 EP Basketball Shoes',\n",
       " 'Men Ultra Triller FM Shoes',\n",
       " 'Standard Width Leather Oxfords',\n",
       " 'Men EvoRide TOKYO Shoes',\n",
       " 'Men Solid Leather Formal Derbys']"
      ]
     },
     "execution_count": 25,
     "metadata": {},
     "output_type": "execute_result"
    }
   ],
   "source": [
    "# Lets run the loop to extract the text inside them\n",
    "Description_titles=[]\n",
    "for i in page_urls:\n",
    "    driver.get(i)\n",
    "    title_tags=driver.find_elements_by_xpath(\"//h4[@class='product-product']\")\n",
    "    for i in title_tags:\n",
    "        Description_titles.append(i.text)\n",
    "        \n",
    "Description_titles[1:100]"
   ]
  },
  {
   "cell_type": "code",
   "execution_count": 22,
   "metadata": {},
   "outputs": [
    {
     "data": {
      "text/plain": [
       "['Rs. 7699Rs. 10999(30% OFF)',\n",
       " 'Rs. 6995',\n",
       " 'Rs. 7649Rs. 8499(10% OFF)',\n",
       " 'Rs. 7006Rs. 7149(2% OFF)',\n",
       " 'Rs. 8850',\n",
       " 'Rs. 8850',\n",
       " 'Rs. 9999',\n",
       " 'Rs. 7999',\n",
       " 'Rs. 7799Rs. 11999(35% OFF)',\n",
       " 'Rs. 6990',\n",
       " 'Rs. 12999',\n",
       " 'Rs. 11999',\n",
       " 'Rs. 7999',\n",
       " 'Rs. 6999',\n",
       " 'Rs. 10999',\n",
       " 'Rs. 7499',\n",
       " 'Rs. 6999',\n",
       " 'Rs. 6993Rs. 9990(30% OFF)',\n",
       " 'Rs. 6990',\n",
       " 'Rs. 7050Rs. 8295(15% OFF)',\n",
       " 'Rs. 9995',\n",
       " 'Rs. 7039Rs. 10999(36% OFF)',\n",
       " 'Rs. 9995',\n",
       " 'Rs. 7050Rs. 8295(15% OFF)',\n",
       " 'Rs. 7690',\n",
       " 'Rs. 9999',\n",
       " 'Rs. 8999',\n",
       " 'Rs. 8621Rs. 11495(25% OFF)',\n",
       " 'Rs. 6990',\n",
       " 'Rs. 8621Rs. 11495(25% OFF)',\n",
       " 'Rs. 6999',\n",
       " 'Rs. 7195Rs. 7995(10% OFF)',\n",
       " 'Rs. 6990',\n",
       " 'Rs. 6993Rs. 9990(30% OFF)',\n",
       " 'Rs. 6993Rs. 9990(30% OFF)',\n",
       " 'Rs. 7440Rs. 8000(7% OFF)',\n",
       " 'Rs. 6675Rs. 8900(25% OFF)',\n",
       " 'Rs. 8500',\n",
       " 'Rs. 8500',\n",
       " 'Rs. 9999',\n",
       " 'Rs. 7199Rs. 8999(20% OFF)',\n",
       " 'Rs. 11999',\n",
       " 'Rs. 8399Rs. 11999(30% OFF)',\n",
       " 'Rs. 6999',\n",
       " 'Rs. 9799Rs. 13999(30% OFF)',\n",
       " 'Rs. 8247Rs. 14995(45% OFF)',\n",
       " 'Rs. 8999',\n",
       " 'Rs. 6749Rs. 14999(55% OFF)',\n",
       " 'Rs. 7050Rs. 8295(15% OFF)',\n",
       " 'Rs. 7595Rs. 10850(30% OFF)',\n",
       " 'Rs. 7050Rs. 8295(15% OFF)',\n",
       " 'Rs. 7192Rs. 8990(20% OFF)',\n",
       " 'Rs. 8999',\n",
       " 'Rs. 7599',\n",
       " 'Rs. 8499',\n",
       " 'Rs. 6999',\n",
       " 'Rs. 10499Rs. 13999(25% OFF)',\n",
       " 'Rs. 8043Rs. 11490(30% OFF)',\n",
       " 'Rs. 9513Rs. 13590(30% OFF)',\n",
       " 'Rs. 12495',\n",
       " 'Rs. 7343Rs. 10490(30% OFF)',\n",
       " 'Rs. 6999',\n",
       " 'Rs. 6995',\n",
       " 'Rs. 7999',\n",
       " 'Rs. 7499',\n",
       " 'Rs. 7999Rs. 9999(20% OFF)',\n",
       " 'Rs. 9999',\n",
       " 'Rs. 9999',\n",
       " 'Rs. 7693Rs. 10990(30% OFF)',\n",
       " 'Rs. 11999',\n",
       " 'Rs. 8399Rs. 13999(40% OFF)',\n",
       " 'Rs. 7599',\n",
       " 'Rs. 6990',\n",
       " 'Rs. 6990',\n",
       " 'Rs. 8792Rs. 10990(20% OFF)',\n",
       " 'Rs. 6990',\n",
       " 'Rs. 7999Rs. 9999(20% OFF)',\n",
       " 'Rs. 6749Rs. 8999(25% OFF)',\n",
       " 'Rs. 8990',\n",
       " 'Rs. 8990',\n",
       " 'Rs. 8990',\n",
       " 'Rs. 6990',\n",
       " 'Rs. 9999',\n",
       " 'Rs. 8999',\n",
       " 'Rs. 7999',\n",
       " 'Rs. 7499',\n",
       " 'Rs. 9999',\n",
       " 'Rs. 7599',\n",
       " 'Rs. 6999',\n",
       " 'Rs. 6990',\n",
       " 'Rs. 11999',\n",
       " 'Rs. 9999',\n",
       " 'Rs. 11999',\n",
       " 'Rs. 10500',\n",
       " 'Rs. 6971Rs. 9295(25% OFF)',\n",
       " 'Rs. 6749Rs. 8999(25% OFF)',\n",
       " 'Rs. 8850',\n",
       " 'Rs. 7499Rs. 9999(25% OFF)',\n",
       " 'Rs. 7999']"
      ]
     },
     "execution_count": 22,
     "metadata": {},
     "output_type": "execute_result"
    }
   ],
   "source": [
    "# Lets run the loop to extract the text inside them\n",
    "price_titles=[]\n",
    "for i in page_urls:\n",
    "    driver.get(i)\n",
    "    title_tags=driver.find_elements_by_xpath(\"//div[@class='product-price']\")\n",
    "    for i in title_tags:\n",
    "        price_titles.append(i.text)\n",
    "        \n",
    "price_titles[1:100]"
   ]
  },
  {
   "cell_type": "code",
   "execution_count": 26,
   "metadata": {},
   "outputs": [],
   "source": [
    "# Creeating the data frame for the extracted dat above\n",
    "Shoes=pd.DataFrame({})\n",
    "Shoes['Brand']=brand_titles[1:101]\n",
    "Shoes['Short Description']=Description_titles[1:101]\n",
    "Shoes['Price']=price_titles[1:101]"
   ]
  },
  {
   "cell_type": "code",
   "execution_count": 27,
   "metadata": {},
   "outputs": [
    {
     "data": {
      "text/html": [
       "<div>\n",
       "<style scoped>\n",
       "    .dataframe tbody tr th:only-of-type {\n",
       "        vertical-align: middle;\n",
       "    }\n",
       "\n",
       "    .dataframe tbody tr th {\n",
       "        vertical-align: top;\n",
       "    }\n",
       "\n",
       "    .dataframe thead th {\n",
       "        text-align: right;\n",
       "    }\n",
       "</style>\n",
       "<table border=\"1\" class=\"dataframe\">\n",
       "  <thead>\n",
       "    <tr style=\"text-align: right;\">\n",
       "      <th></th>\n",
       "      <th>Brand</th>\n",
       "      <th>Short Description</th>\n",
       "      <th>Price</th>\n",
       "    </tr>\n",
       "  </thead>\n",
       "  <tbody>\n",
       "    <tr>\n",
       "      <th>0</th>\n",
       "      <td>Cole Haan</td>\n",
       "      <td>Women Leather Sneakers</td>\n",
       "      <td>Rs. 7699Rs. 10999(30% OFF)</td>\n",
       "    </tr>\n",
       "    <tr>\n",
       "      <th>1</th>\n",
       "      <td>Florsheim</td>\n",
       "      <td>Men Solid Leather Formal Loafers</td>\n",
       "      <td>Rs. 6995</td>\n",
       "    </tr>\n",
       "    <tr>\n",
       "      <th>2</th>\n",
       "      <td>FILA</td>\n",
       "      <td>Men Running Shoes</td>\n",
       "      <td>Rs. 7649Rs. 8499(10% OFF)</td>\n",
       "    </tr>\n",
       "    <tr>\n",
       "      <th>3</th>\n",
       "      <td>KIPRUN By Decathlon</td>\n",
       "      <td>Women Running Shoes</td>\n",
       "      <td>Rs. 7006Rs. 7149(2% OFF)</td>\n",
       "    </tr>\n",
       "    <tr>\n",
       "      <th>4</th>\n",
       "      <td>FILA</td>\n",
       "      <td>Men Leather Sneakers</td>\n",
       "      <td>Rs. 8850</td>\n",
       "    </tr>\n",
       "    <tr>\n",
       "      <th>...</th>\n",
       "      <td>...</td>\n",
       "      <td>...</td>\n",
       "      <td>...</td>\n",
       "    </tr>\n",
       "    <tr>\n",
       "      <th>95</th>\n",
       "      <td>Puma</td>\n",
       "      <td>Men Ultra Triller FM Shoes</td>\n",
       "      <td>Rs. 6749Rs. 8999(25% OFF)</td>\n",
       "    </tr>\n",
       "    <tr>\n",
       "      <th>96</th>\n",
       "      <td>RAPAWALK</td>\n",
       "      <td>Standard Width Leather Oxfords</td>\n",
       "      <td>Rs. 8850</td>\n",
       "    </tr>\n",
       "    <tr>\n",
       "      <th>97</th>\n",
       "      <td>ASICS</td>\n",
       "      <td>Men EvoRide TOKYO Shoes</td>\n",
       "      <td>Rs. 7499Rs. 9999(25% OFF)</td>\n",
       "    </tr>\n",
       "    <tr>\n",
       "      <th>98</th>\n",
       "      <td>Clarks</td>\n",
       "      <td>Men Solid Leather Formal Derbys</td>\n",
       "      <td>Rs. 7999</td>\n",
       "    </tr>\n",
       "    <tr>\n",
       "      <th>99</th>\n",
       "      <td>Saint G</td>\n",
       "      <td>Men Leather Chelsea Boots</td>\n",
       "      <td>Rs. 11305Rs. 11900(5% OFF)</td>\n",
       "    </tr>\n",
       "  </tbody>\n",
       "</table>\n",
       "<p>100 rows × 3 columns</p>\n",
       "</div>"
      ],
      "text/plain": [
       "                  Brand                 Short Description  \\\n",
       "0             Cole Haan            Women Leather Sneakers   \n",
       "1             Florsheim  Men Solid Leather Formal Loafers   \n",
       "2                  FILA                 Men Running Shoes   \n",
       "3   KIPRUN By Decathlon               Women Running Shoes   \n",
       "4                  FILA              Men Leather Sneakers   \n",
       "..                  ...                               ...   \n",
       "95                 Puma        Men Ultra Triller FM Shoes   \n",
       "96             RAPAWALK    Standard Width Leather Oxfords   \n",
       "97                ASICS           Men EvoRide TOKYO Shoes   \n",
       "98               Clarks   Men Solid Leather Formal Derbys   \n",
       "99              Saint G         Men Leather Chelsea Boots   \n",
       "\n",
       "                         Price  \n",
       "0   Rs. 7699Rs. 10999(30% OFF)  \n",
       "1                     Rs. 6995  \n",
       "2    Rs. 7649Rs. 8499(10% OFF)  \n",
       "3     Rs. 7006Rs. 7149(2% OFF)  \n",
       "4                     Rs. 8850  \n",
       "..                         ...  \n",
       "95   Rs. 6749Rs. 8999(25% OFF)  \n",
       "96                    Rs. 8850  \n",
       "97   Rs. 7499Rs. 9999(25% OFF)  \n",
       "98                    Rs. 7999  \n",
       "99  Rs. 11305Rs. 11900(5% OFF)  \n",
       "\n",
       "[100 rows x 3 columns]"
      ]
     },
     "execution_count": 27,
     "metadata": {},
     "output_type": "execute_result"
    }
   ],
   "source": [
    "Shoes"
   ]
  },
  {
   "cell_type": "markdown",
   "metadata": {},
   "source": [
    "# Question-10"
   ]
  },
  {
   "cell_type": "code",
   "execution_count": 28,
   "metadata": {},
   "outputs": [],
   "source": [
    "# lets first connect to the webdriver\n",
    "driver=webdriver.Chrome('chromedriver.exe')"
   ]
  },
  {
   "cell_type": "code",
   "execution_count": 29,
   "metadata": {},
   "outputs": [],
   "source": [
    "url='https://www.amazon.in/s?k=laptop&i=computers&rh=n%3A1375424031%2Cp_n_feature_thirteen_browse-bin%3A12598163031%7C16757432031&dc&qid=1623933072&rnid=12598141031&ref=sr_nr_p_n_feature_thirteen_browse-bin_27'\n",
    "driver.get(url)"
   ]
  },
  {
   "cell_type": "code",
   "execution_count": 35,
   "metadata": {},
   "outputs": [
    {
     "data": {
      "text/plain": [
       "[<selenium.webdriver.remote.webelement.WebElement (session=\"5262d9940709d97288d570611ca8539d\", element=\"af40a596-db70-4a45-8ff2-e6d60f1f6ecd\")>,\n",
       " <selenium.webdriver.remote.webelement.WebElement (session=\"5262d9940709d97288d570611ca8539d\", element=\"9a513e73-4543-487e-9b36-ee094b8146dc\")>,\n",
       " <selenium.webdriver.remote.webelement.WebElement (session=\"5262d9940709d97288d570611ca8539d\", element=\"ee3374d8-6fea-45a7-8ff7-1a24f393b39d\")>,\n",
       " <selenium.webdriver.remote.webelement.WebElement (session=\"5262d9940709d97288d570611ca8539d\", element=\"b254930c-29b3-4468-9eec-de146a7d936f\")>,\n",
       " <selenium.webdriver.remote.webelement.WebElement (session=\"5262d9940709d97288d570611ca8539d\", element=\"09e93fa7-93b2-4583-b6e9-3480b17a7327\")>,\n",
       " <selenium.webdriver.remote.webelement.WebElement (session=\"5262d9940709d97288d570611ca8539d\", element=\"a8bc7a4e-55ae-49d4-9bb3-180e0afce874\")>,\n",
       " <selenium.webdriver.remote.webelement.WebElement (session=\"5262d9940709d97288d570611ca8539d\", element=\"df92acfa-74f0-46d0-80e3-9b7f2f556c43\")>,\n",
       " <selenium.webdriver.remote.webelement.WebElement (session=\"5262d9940709d97288d570611ca8539d\", element=\"6ca52c44-379b-409b-9c97-e15bcbffb6fd\")>,\n",
       " <selenium.webdriver.remote.webelement.WebElement (session=\"5262d9940709d97288d570611ca8539d\", element=\"6d12e961-224a-49a1-b7f0-aa945aac3e50\")>,\n",
       " <selenium.webdriver.remote.webelement.WebElement (session=\"5262d9940709d97288d570611ca8539d\", element=\"ade8dbda-18d0-45e9-90bc-295dc4681273\")>,\n",
       " <selenium.webdriver.remote.webelement.WebElement (session=\"5262d9940709d97288d570611ca8539d\", element=\"0cddfca2-52cf-47ae-bd52-f0410e64ef65\")>,\n",
       " <selenium.webdriver.remote.webelement.WebElement (session=\"5262d9940709d97288d570611ca8539d\", element=\"e201f17f-7ee6-4494-89b5-4ce74938da11\")>,\n",
       " <selenium.webdriver.remote.webelement.WebElement (session=\"5262d9940709d97288d570611ca8539d\", element=\"d2c9b009-8146-42af-a16f-114897bebc30\")>,\n",
       " <selenium.webdriver.remote.webelement.WebElement (session=\"5262d9940709d97288d570611ca8539d\", element=\"e7bc1670-3c29-4ca9-8d88-18d5b01ab44d\")>,\n",
       " <selenium.webdriver.remote.webelement.WebElement (session=\"5262d9940709d97288d570611ca8539d\", element=\"a32f4230-e446-4dee-be3d-f41f947ead5c\")>,\n",
       " <selenium.webdriver.remote.webelement.WebElement (session=\"5262d9940709d97288d570611ca8539d\", element=\"8d317159-abd1-4b67-bc42-af06475466ea\")>,\n",
       " <selenium.webdriver.remote.webelement.WebElement (session=\"5262d9940709d97288d570611ca8539d\", element=\"a954719e-eabe-45d1-9ff1-d66cb361bd0c\")>,\n",
       " <selenium.webdriver.remote.webelement.WebElement (session=\"5262d9940709d97288d570611ca8539d\", element=\"94c5ef93-37d8-41ec-817e-119ad3e451b0\")>,\n",
       " <selenium.webdriver.remote.webelement.WebElement (session=\"5262d9940709d97288d570611ca8539d\", element=\"0ca931af-1bfd-42cb-8c86-e2ff6651b7f1\")>,\n",
       " <selenium.webdriver.remote.webelement.WebElement (session=\"5262d9940709d97288d570611ca8539d\", element=\"3ac487b4-4087-4d5d-8cf1-bb2810826f35\")>,\n",
       " <selenium.webdriver.remote.webelement.WebElement (session=\"5262d9940709d97288d570611ca8539d\", element=\"9d6c6d33-6dc3-4852-b2aa-5b4519771782\")>,\n",
       " <selenium.webdriver.remote.webelement.WebElement (session=\"5262d9940709d97288d570611ca8539d\", element=\"407db6e8-5560-4beb-8ed2-da6c82cb1abd\")>,\n",
       " <selenium.webdriver.remote.webelement.WebElement (session=\"5262d9940709d97288d570611ca8539d\", element=\"060c8c34-b37e-4496-8748-90b68ebb16d9\")>,\n",
       " <selenium.webdriver.remote.webelement.WebElement (session=\"5262d9940709d97288d570611ca8539d\", element=\"8e43452a-0f37-4003-a711-5e7b0dfc9c92\")>]"
      ]
     },
     "execution_count": 35,
     "metadata": {},
     "output_type": "execute_result"
    }
   ],
   "source": [
    "# lets extract all the company names\n",
    "Title_tags=driver.find_elements_by_xpath(\"//span[@class='a-size-medium a-color-base a-text-normal']\")\n",
    "Title_tags"
   ]
  },
  {
   "cell_type": "code",
   "execution_count": 36,
   "metadata": {},
   "outputs": [
    {
     "data": {
      "text/plain": [
       "['Mi Notebook Horizon Edition 14 Intel Core i5-10210U 10th Gen 14-inch (35.56 cms) Thin and Light Laptop(8GB/512GB SSD/Windows 10/Nvidia MX350 2GB Graphics/Grey/1.35Kg), XMA1904-AR+Webcam',\n",
       " 'HP Pavilion (2021) Thin & Light 11th Gen Core i7 Laptop, 16 GB RAM, 1TB SSD, Iris Xe Graphics, 14\" (35.56cms) FHD Screen, Windows 10, MS Office, Backlit Keyboard (14-dv0058TU)',\n",
       " 'HP 14 Thin & Light 14\" (35.56cms) FHD Laptop (11th Gen Intel i7-1165G7/8GB/512GB SSD/Windows 10/MS Office 2019/Alexa Built-in/Pale Gold/1.47 kg), 14s-dr2007TU',\n",
       " 'HP Pavilion Gaming 10th Gen Intel Core i7 Processor 15.6-inch FHD Gaming Laptop (16GB/512GB SSD + 32GB Intel Optane/Windows 10/NVIDIA 1650Ti 4GB/Shadow Black), 15-dk1509TX',\n",
       " 'Life Digital Laptop 15.6-inch (39.62 cms) (Intel Core i7, 4GB RAM, 256GB SSD, Windows 10), ZED AIR CX7',\n",
       " 'Lenovo Ideapad 5 Intel i7 11th Gen 15.6\" Thin and Light (16GB/512SSD/Win10 +Office Home/Intel Iris Xe Graphics/Graphite Grey/1.66kg), 82FG0117IN',\n",
       " 'Lenovo ThinkPad E15 (2021) Intel Core i7 11th Gen 15.6\" FHD Thin and Light Laptop (16GB RAM/512GB SSD/Windows 10/MS Office/Fingerprint Reader/Black/Aluminium Surface/ 1.7 kg), 20TDS0G100',\n",
       " 'ASUS ROG Zephyrus Duo 15, 15.6\" 4K UHD, Intel Core i7-10875H 10th Gen, RTX 2080 Super Max-Q 8GB Graphics, Gaming Laptop (32GB/2TB RAID 0 SSD/Windows 10/MS Office/Gray/2.48 Kg) GX550LXS-HC145TS',\n",
       " 'Lenovo IdeaPad Gaming 3 10th Gen Intel Core i7 15.6-inch FHD IPS Gaming Laptop (8GB/1TB HDD + 256 GB SSD/Windows 10/NVIDIA GTX 1650 4GB GDDR6/with M100 RGB Gaming Mouse/Onyx Black/2.2Kg), 81Y400VAIN',\n",
       " 'Lenovo Yoga 7 11th Gen Intel Core i7 14\" (35.56cms) Full HD IPS 2-in-1 Touchscreen Laptop (16GB/512GB SSD/Windows 10/MS Office 2019/Fingerprint Reader/Slate Grey/Aluminium Surface/1.43Kg), 82BH004HIN',\n",
       " 'MSI GF63 Thin Core i7 9th Gen - (8 GB/512 GB SSD/Windows 10 Home/4 GB Graphics/NVIDIA Geforce GTX 1650 Ti with Max-Q) GF63 Thin 9SCSR-1039IN Gaming Laptop (15.6 inch, Black, 1.86 kg)',\n",
       " '(Renewed) Dell G7 7500 15.6inch FHD 300 Hz Display Gaming Laptop (10th Gen i9-10885H / 16 GB / 1TB SSD / NVIDIA RTX 2070 8GB Graphics / 1Yr Premium Warranty / Win 10 + MS Office H&S 2019) D560233WIN9B, Black',\n",
       " 'Lenovo Legion 5Pi 10th Gen Intel Core i7 15.6\" FHD Gaming Laptop (16GB/1TB SSD/Windows 10/MS Office 2019/144 Hz/NVIDIA RTX 2060 6GB GDDR6/with M300 RGB Gaming Mouse/Iron Grey/2.3Kg), 82AW005SIN',\n",
       " 'Lenovo ThinkPad E15 (2021) Intel Core i7 11th Gen 15.6\" FHD Thin and Light Laptop (16GB RAM/1TB SSD/Windows 10/MS Office/NVIDIA MX450 2GB Graphics/FPR/Black/Aluminium Surface/ 1.7 kg), 20TDS0G200',\n",
       " 'Dell Alienware m15(R3) 15.6-inch FHD Gaming Laptop (10th Gen Core i7-10750H/16GB/512GB SSD/Windows 10 Home & MS Office/6GB NVIDIA GTX 1660 Ti Graphics), Lunar Light',\n",
       " '(Renewed) Lenovo T430 14-inch Laptop (Core i7/ 8GB RAM(Upgradable to 16)/512GB SSD/Windows 10 Pro/MS Office 2019, Intel Integrated Graphics, PAN INDIA WARRANTY) Black',\n",
       " 'ASUS VivoBook S S14 Intel Core i7-1165G7 11th Gen, 14-inch FHD Thin and Light Laptop (8GB RAM/512GB SSD + 32GB Optane Memory/Windows 10/Office 2019/Iris X Graphics- Indie Black/1.4 Kg), S433EA-AM701TS',\n",
       " 'ASUS ZenBook 14 (2020) Intel Core i7-1165G7 11th Gen 14\" (35.56cms) FHD T&L Laptop (16GB RAM/512GB NVMe SSD/Windows 10/MS Office 2019/Intel Iris Xáµ‰ Graphics/Pine Grey/1.17 kg), UX425EA-BM701TS',\n",
       " '(Renewed) Lenovo T430 14-inch Laptop (Core i7/ 8GB RAM (Upgradable to 16)/500GB HDD/Windows 10 Pro/MS Office 2019, Intel Integrated Graphics, PAN INDIA WARRANTY) Black',\n",
       " 'Dell XPS 9570 15.6\" (39.62cms) UHD Laptop (8th Gen i9-8950HK/32GB/1TB SSD/Win 10 + MS Office/Integrated Graphics), Silver',\n",
       " 'ASUS ZenBook Pro Duo Intel Core i9-10980HK 10th Gen 15.6\" 4K UHD OLED Touchscreen Laptop (32GB RAM/1TB NVMe SSD/Windows 10/6GB NVIDIA GeForce RTX 2060 Graphics/Celestial Blue/2.5 Kg), UX581LV-H2035T',\n",
       " 'HP Envy x360 Convertible Touchscreen 13.3-inch FHD Laptop (11th Gen Intel Core i7-1165G7/16GB/512GB SSD/Win 10 Home/Alexa Built-in/Pale Gold/1.32kg), 13-bd0063TU',\n",
       " 'Lenovo Yoga S740 Intel Core i7 10th Gen 14 inch UHD Ultra Thin and Light Laptop (16GB/1TB SSD/Windows/Office/NVIDIA MX250 2GB/Iron Grey/1.4Kg), 81RS00B0IN',\n",
       " 'Dell G3 3500 Gaming Laptop 15.6\" (39.62cms) FHD 120 Hz (10th Gen Core i7-10750H/8GB/512GB SSD/Windows 10 Home Plus & MS Office/NVIDIA1650 Ti Graphics/Eclipse Black) D560260WIN9BE']"
      ]
     },
     "execution_count": 36,
     "metadata": {},
     "output_type": "execute_result"
    }
   ],
   "source": [
    "# Lets run the loop to extract the text inside them\n",
    "Name_titles=[]\n",
    "for i in Title_tags:\n",
    "    Name_titles.append(i.text)\n",
    "Name_titles"
   ]
  },
  {
   "cell_type": "code",
   "execution_count": 37,
   "metadata": {},
   "outputs": [
    {
     "data": {
      "text/plain": [
       "[<selenium.webdriver.remote.webelement.WebElement (session=\"5262d9940709d97288d570611ca8539d\", element=\"a5bc0cc8-60a5-478a-a88e-1dda0dd69e29\")>,\n",
       " <selenium.webdriver.remote.webelement.WebElement (session=\"5262d9940709d97288d570611ca8539d\", element=\"ad21d3d6-b77b-4970-b1e8-fc61fae6778d\")>,\n",
       " <selenium.webdriver.remote.webelement.WebElement (session=\"5262d9940709d97288d570611ca8539d\", element=\"8791f93f-2ff1-4ac1-bad4-0090c2d1b329\")>,\n",
       " <selenium.webdriver.remote.webelement.WebElement (session=\"5262d9940709d97288d570611ca8539d\", element=\"e546b4e6-fbbd-4d33-b12e-10b002679e14\")>,\n",
       " <selenium.webdriver.remote.webelement.WebElement (session=\"5262d9940709d97288d570611ca8539d\", element=\"3b1dc1b5-2f2a-4509-9a87-c3609bbf688c\")>,\n",
       " <selenium.webdriver.remote.webelement.WebElement (session=\"5262d9940709d97288d570611ca8539d\", element=\"686deaa7-f00b-4169-8dde-aec30d40e9f0\")>,\n",
       " <selenium.webdriver.remote.webelement.WebElement (session=\"5262d9940709d97288d570611ca8539d\", element=\"e5d93bdf-092d-49f2-b8d1-1601ae96ee50\")>,\n",
       " <selenium.webdriver.remote.webelement.WebElement (session=\"5262d9940709d97288d570611ca8539d\", element=\"c26034c1-9c3e-49f4-a0e6-4bf5c5c8ea64\")>,\n",
       " <selenium.webdriver.remote.webelement.WebElement (session=\"5262d9940709d97288d570611ca8539d\", element=\"a5246480-45ae-4c79-b001-7cfc2b38f722\")>,\n",
       " <selenium.webdriver.remote.webelement.WebElement (session=\"5262d9940709d97288d570611ca8539d\", element=\"6a46b567-7c84-4283-a8be-edbb2a178e06\")>,\n",
       " <selenium.webdriver.remote.webelement.WebElement (session=\"5262d9940709d97288d570611ca8539d\", element=\"53aa35c5-aa78-4358-bc7f-e2fbc4f8c88d\")>,\n",
       " <selenium.webdriver.remote.webelement.WebElement (session=\"5262d9940709d97288d570611ca8539d\", element=\"88763f5e-8bb4-4af1-bacd-d73f0dfe7429\")>,\n",
       " <selenium.webdriver.remote.webelement.WebElement (session=\"5262d9940709d97288d570611ca8539d\", element=\"8f8edb19-d79a-4bff-a26c-60b61ddd4aa0\")>,\n",
       " <selenium.webdriver.remote.webelement.WebElement (session=\"5262d9940709d97288d570611ca8539d\", element=\"7d958ead-c395-44cd-a4d9-994a4357a307\")>,\n",
       " <selenium.webdriver.remote.webelement.WebElement (session=\"5262d9940709d97288d570611ca8539d\", element=\"b0fe471f-9238-4b4f-b5e5-e21f6ed7dc45\")>,\n",
       " <selenium.webdriver.remote.webelement.WebElement (session=\"5262d9940709d97288d570611ca8539d\", element=\"11a4a0f0-b23d-46ef-a2a8-ec8cfe5fb81f\")>,\n",
       " <selenium.webdriver.remote.webelement.WebElement (session=\"5262d9940709d97288d570611ca8539d\", element=\"6162c80d-d529-4010-b823-5f8e340f555d\")>,\n",
       " <selenium.webdriver.remote.webelement.WebElement (session=\"5262d9940709d97288d570611ca8539d\", element=\"e776332b-0399-465c-ad45-9642b77f0ab4\")>,\n",
       " <selenium.webdriver.remote.webelement.WebElement (session=\"5262d9940709d97288d570611ca8539d\", element=\"0b45863c-bc77-4782-80df-724de7286939\")>]"
      ]
     },
     "execution_count": 37,
     "metadata": {},
     "output_type": "execute_result"
    }
   ],
   "source": [
    "# lets extract all the company names\n",
    "Rating_tags=driver.find_elements_by_xpath(\"//span[@class='a-size-base']\")\n",
    "Rating_tags"
   ]
  },
  {
   "cell_type": "code",
   "execution_count": 38,
   "metadata": {},
   "outputs": [
    {
     "data": {
      "text/plain": [
       "['844',\n",
       " '98',\n",
       " '7',\n",
       " '22',\n",
       " '8',\n",
       " '4',\n",
       " '8',\n",
       " '35',\n",
       " '12',\n",
       " '1',\n",
       " '64',\n",
       " '18',\n",
       " '99',\n",
       " '248',\n",
       " '27',\n",
       " '5',\n",
       " '7',\n",
       " '13',\n",
       " '100']"
      ]
     },
     "execution_count": 38,
     "metadata": {},
     "output_type": "execute_result"
    }
   ],
   "source": [
    "# Lets run the loop to extract the text inside them\n",
    "rating_titles=[]\n",
    "for i in Rating_tags:\n",
    "    rating_titles.append(i.text)\n",
    "rating_titles"
   ]
  },
  {
   "cell_type": "code",
   "execution_count": 39,
   "metadata": {},
   "outputs": [
    {
     "data": {
      "text/plain": [
       "[<selenium.webdriver.remote.webelement.WebElement (session=\"5262d9940709d97288d570611ca8539d\", element=\"897f322c-67f6-4442-92b8-18afd1286278\")>,\n",
       " <selenium.webdriver.remote.webelement.WebElement (session=\"5262d9940709d97288d570611ca8539d\", element=\"1b223651-38fd-4f6a-b53a-974eb4b6ea28\")>,\n",
       " <selenium.webdriver.remote.webelement.WebElement (session=\"5262d9940709d97288d570611ca8539d\", element=\"eb6a956a-29cb-4c44-a5d4-5957832f1b28\")>,\n",
       " <selenium.webdriver.remote.webelement.WebElement (session=\"5262d9940709d97288d570611ca8539d\", element=\"28b52b8d-2b9d-423c-9d72-bfd36e748e39\")>,\n",
       " <selenium.webdriver.remote.webelement.WebElement (session=\"5262d9940709d97288d570611ca8539d\", element=\"86a20635-dd33-4b62-a024-22c1caa54370\")>,\n",
       " <selenium.webdriver.remote.webelement.WebElement (session=\"5262d9940709d97288d570611ca8539d\", element=\"ca8f5c5c-aecf-4129-9ca0-bc027f1b1b21\")>,\n",
       " <selenium.webdriver.remote.webelement.WebElement (session=\"5262d9940709d97288d570611ca8539d\", element=\"1eda7b3e-e9e9-44bc-854a-09a25792df8a\")>,\n",
       " <selenium.webdriver.remote.webelement.WebElement (session=\"5262d9940709d97288d570611ca8539d\", element=\"d5158944-09b6-4daa-b370-dbfd3886da17\")>,\n",
       " <selenium.webdriver.remote.webelement.WebElement (session=\"5262d9940709d97288d570611ca8539d\", element=\"3f929caa-9160-4127-8347-2b15d45118bf\")>,\n",
       " <selenium.webdriver.remote.webelement.WebElement (session=\"5262d9940709d97288d570611ca8539d\", element=\"f6ab35ce-a4f1-498c-80d2-8ca1f3c54a70\")>,\n",
       " <selenium.webdriver.remote.webelement.WebElement (session=\"5262d9940709d97288d570611ca8539d\", element=\"eb26a227-5509-4c07-b6f5-8f632f3ab093\")>,\n",
       " <selenium.webdriver.remote.webelement.WebElement (session=\"5262d9940709d97288d570611ca8539d\", element=\"6f4223ba-0172-4ca3-8139-ddb64d970ef8\")>,\n",
       " <selenium.webdriver.remote.webelement.WebElement (session=\"5262d9940709d97288d570611ca8539d\", element=\"0e9966f3-3312-4a9e-996a-61a628a75aa4\")>,\n",
       " <selenium.webdriver.remote.webelement.WebElement (session=\"5262d9940709d97288d570611ca8539d\", element=\"f11e660a-0d7f-4e16-9898-e4bbac9d38d5\")>,\n",
       " <selenium.webdriver.remote.webelement.WebElement (session=\"5262d9940709d97288d570611ca8539d\", element=\"3c16d523-a2a4-4f10-b256-a8b8ea0aec8a\")>,\n",
       " <selenium.webdriver.remote.webelement.WebElement (session=\"5262d9940709d97288d570611ca8539d\", element=\"4e3be0e0-a2f0-4a3b-8e1d-1c77f1e5953e\")>,\n",
       " <selenium.webdriver.remote.webelement.WebElement (session=\"5262d9940709d97288d570611ca8539d\", element=\"81e49be1-8fd9-4ce6-8ab5-36a8c899d20d\")>,\n",
       " <selenium.webdriver.remote.webelement.WebElement (session=\"5262d9940709d97288d570611ca8539d\", element=\"12a16cf2-6b29-4fc0-9e96-541c594a9106\")>,\n",
       " <selenium.webdriver.remote.webelement.WebElement (session=\"5262d9940709d97288d570611ca8539d\", element=\"6905ae88-f688-4cde-bb03-91e66085a97c\")>,\n",
       " <selenium.webdriver.remote.webelement.WebElement (session=\"5262d9940709d97288d570611ca8539d\", element=\"a39485d6-63ad-4942-b5f9-ed249c56ac35\")>,\n",
       " <selenium.webdriver.remote.webelement.WebElement (session=\"5262d9940709d97288d570611ca8539d\", element=\"69792c27-3eec-410e-b674-462c66c6e245\")>,\n",
       " <selenium.webdriver.remote.webelement.WebElement (session=\"5262d9940709d97288d570611ca8539d\", element=\"99e98036-4edd-4d73-b614-98239bdba621\")>,\n",
       " <selenium.webdriver.remote.webelement.WebElement (session=\"5262d9940709d97288d570611ca8539d\", element=\"b7243f0a-ef42-4f81-b591-580050260c0f\")>]"
      ]
     },
     "execution_count": 39,
     "metadata": {},
     "output_type": "execute_result"
    }
   ],
   "source": [
    "# lets extract all the company names\n",
    "Price_tags=driver.find_elements_by_xpath(\"//span[@class='a-price-whole']\")\n",
    "Price_tags"
   ]
  },
  {
   "cell_type": "code",
   "execution_count": 40,
   "metadata": {},
   "outputs": [
    {
     "data": {
      "text/plain": [
       "['54,999',\n",
       " '84,990',\n",
       " '89,000',\n",
       " '86,990',\n",
       " '26,990',\n",
       " '84,999',\n",
       " '90,990',\n",
       " '2,69,990',\n",
       " '77,990',\n",
       " '97,990',\n",
       " '70,990',\n",
       " '1,70,587',\n",
       " '1,05,990',\n",
       " '1,74,990',\n",
       " '51,999',\n",
       " '77,175',\n",
       " '99,990',\n",
       " '50,499',\n",
       " '2,49,990',\n",
       " '2,79,990',\n",
       " '1,04,999',\n",
       " '1,09,990',\n",
       " '86,290']"
      ]
     },
     "execution_count": 40,
     "metadata": {},
     "output_type": "execute_result"
    }
   ],
   "source": [
    "# Lets run the loop to extract the text inside them\n",
    "price_titles=[]\n",
    "for i in Price_tags:\n",
    "    price_titles.append(i.text)\n",
    "price_titles"
   ]
  },
  {
   "cell_type": "code",
   "execution_count": 42,
   "metadata": {},
   "outputs": [],
   "source": [
    "## Creeating the data frame for the extracted dat above\n",
    "Laptop=pd.DataFrame({})\n",
    "Laptop['title']=Name_titles[0:10]\n",
    "Laptop['Rating']=rating_titles[0:10]\n",
    "Laptop['Price']=price_titles[0:10]"
   ]
  },
  {
   "cell_type": "code",
   "execution_count": 43,
   "metadata": {},
   "outputs": [
    {
     "data": {
      "text/html": [
       "<div>\n",
       "<style scoped>\n",
       "    .dataframe tbody tr th:only-of-type {\n",
       "        vertical-align: middle;\n",
       "    }\n",
       "\n",
       "    .dataframe tbody tr th {\n",
       "        vertical-align: top;\n",
       "    }\n",
       "\n",
       "    .dataframe thead th {\n",
       "        text-align: right;\n",
       "    }\n",
       "</style>\n",
       "<table border=\"1\" class=\"dataframe\">\n",
       "  <thead>\n",
       "    <tr style=\"text-align: right;\">\n",
       "      <th></th>\n",
       "      <th>title</th>\n",
       "      <th>Rating</th>\n",
       "      <th>Price</th>\n",
       "    </tr>\n",
       "  </thead>\n",
       "  <tbody>\n",
       "    <tr>\n",
       "      <th>0</th>\n",
       "      <td>Mi Notebook Horizon Edition 14 Intel Core i5-1...</td>\n",
       "      <td>844</td>\n",
       "      <td>54,999</td>\n",
       "    </tr>\n",
       "    <tr>\n",
       "      <th>1</th>\n",
       "      <td>HP Pavilion (2021) Thin &amp; Light 11th Gen Core ...</td>\n",
       "      <td>98</td>\n",
       "      <td>84,990</td>\n",
       "    </tr>\n",
       "    <tr>\n",
       "      <th>2</th>\n",
       "      <td>HP 14 Thin &amp; Light 14\" (35.56cms) FHD Laptop (...</td>\n",
       "      <td>7</td>\n",
       "      <td>89,000</td>\n",
       "    </tr>\n",
       "    <tr>\n",
       "      <th>3</th>\n",
       "      <td>HP Pavilion Gaming 10th Gen Intel Core i7 Proc...</td>\n",
       "      <td>22</td>\n",
       "      <td>86,990</td>\n",
       "    </tr>\n",
       "    <tr>\n",
       "      <th>4</th>\n",
       "      <td>Life Digital Laptop 15.6-inch (39.62 cms) (Int...</td>\n",
       "      <td>8</td>\n",
       "      <td>26,990</td>\n",
       "    </tr>\n",
       "    <tr>\n",
       "      <th>5</th>\n",
       "      <td>Lenovo Ideapad 5 Intel i7 11th Gen 15.6\" Thin ...</td>\n",
       "      <td>4</td>\n",
       "      <td>84,999</td>\n",
       "    </tr>\n",
       "    <tr>\n",
       "      <th>6</th>\n",
       "      <td>Lenovo ThinkPad E15 (2021) Intel Core i7 11th ...</td>\n",
       "      <td>8</td>\n",
       "      <td>90,990</td>\n",
       "    </tr>\n",
       "    <tr>\n",
       "      <th>7</th>\n",
       "      <td>ASUS ROG Zephyrus Duo 15, 15.6\" 4K UHD, Intel ...</td>\n",
       "      <td>35</td>\n",
       "      <td>2,69,990</td>\n",
       "    </tr>\n",
       "    <tr>\n",
       "      <th>8</th>\n",
       "      <td>Lenovo IdeaPad Gaming 3 10th Gen Intel Core i7...</td>\n",
       "      <td>12</td>\n",
       "      <td>77,990</td>\n",
       "    </tr>\n",
       "    <tr>\n",
       "      <th>9</th>\n",
       "      <td>Lenovo Yoga 7 11th Gen Intel Core i7 14\" (35.5...</td>\n",
       "      <td>1</td>\n",
       "      <td>97,990</td>\n",
       "    </tr>\n",
       "  </tbody>\n",
       "</table>\n",
       "</div>"
      ],
      "text/plain": [
       "                                               title Rating     Price\n",
       "0  Mi Notebook Horizon Edition 14 Intel Core i5-1...    844    54,999\n",
       "1  HP Pavilion (2021) Thin & Light 11th Gen Core ...     98    84,990\n",
       "2  HP 14 Thin & Light 14\" (35.56cms) FHD Laptop (...      7    89,000\n",
       "3  HP Pavilion Gaming 10th Gen Intel Core i7 Proc...     22    86,990\n",
       "4  Life Digital Laptop 15.6-inch (39.62 cms) (Int...      8    26,990\n",
       "5  Lenovo Ideapad 5 Intel i7 11th Gen 15.6\" Thin ...      4    84,999\n",
       "6  Lenovo ThinkPad E15 (2021) Intel Core i7 11th ...      8    90,990\n",
       "7  ASUS ROG Zephyrus Duo 15, 15.6\" 4K UHD, Intel ...     35  2,69,990\n",
       "8  Lenovo IdeaPad Gaming 3 10th Gen Intel Core i7...     12    77,990\n",
       "9  Lenovo Yoga 7 11th Gen Intel Core i7 14\" (35.5...      1    97,990"
      ]
     },
     "execution_count": 43,
     "metadata": {},
     "output_type": "execute_result"
    }
   ],
   "source": [
    "Laptop"
   ]
  },
  {
   "cell_type": "code",
   "execution_count": null,
   "metadata": {},
   "outputs": [],
   "source": []
  }
 ],
 "metadata": {
  "kernelspec": {
   "display_name": "Python 3",
   "language": "python",
   "name": "python3"
  },
  "language_info": {
   "codemirror_mode": {
    "name": "ipython",
    "version": 3
   },
   "file_extension": ".py",
   "mimetype": "text/x-python",
   "name": "python",
   "nbconvert_exporter": "python",
   "pygments_lexer": "ipython3",
   "version": "3.8.5"
  }
 },
 "nbformat": 4,
 "nbformat_minor": 4
}
