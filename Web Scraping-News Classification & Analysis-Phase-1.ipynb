{
 "cells": [
  {
   "cell_type": "code",
   "execution_count": 1,
   "metadata": {},
   "outputs": [],
   "source": [
    "# Importing Libraries\n",
    "import selenium\n",
    "import pandas as pd\n",
    "import time\n",
    "from bs4 import BeautifulSoup\n",
    "\n",
    "# Importing selenium webdriver \n",
    "from selenium import webdriver\n",
    "\n",
    "# Importing required Exceptions which needs to handled\n",
    "from selenium.common.exceptions import StaleElementReferenceException, NoSuchElementException,ElementNotInteractableException\n",
    "\n",
    "#Importing requests\n",
    "import requests\n",
    "\n",
    "# importing regex\n",
    "import re"
   ]
  },
  {
   "cell_type": "code",
   "execution_count": 2,
   "metadata": {},
   "outputs": [],
   "source": [
    "# Activating the chrome browser\n",
    "driver=webdriver.Chrome(\"chromedriver.exe\") \n",
    "time.sleep(2)"
   ]
  },
  {
   "cell_type": "code",
   "execution_count": 42,
   "metadata": {},
   "outputs": [],
   "source": [
    "# Opening the wikipedia\n",
    "url = \"https://timesofindia.indiatimes.com//city/chandigarh/keshni-anand-arora-is-new-haryana-chief-secretary/articleshow/70018892.cms\"\n",
    "driver.get(url)\n",
    "\n",
    "time.sleep(2)\n"
   ]
  },
  {
   "cell_type": "code",
   "execution_count": 43,
   "metadata": {},
   "outputs": [],
   "source": [
    "#scraping details of news on July 1\n",
    "Date=[]\n",
    "Author=[]\n",
    "Vertical=[]\n",
    "Headline=[]\n",
    "Description=[]"
   ]
  },
  {
   "cell_type": "code",
   "execution_count": 44,
   "metadata": {},
   "outputs": [
    {
     "data": {
      "text/plain": [
       "['Manveer Saini']"
      ]
     },
     "execution_count": 44,
     "metadata": {},
     "output_type": "execute_result"
    }
   ],
   "source": [
    "#scraping details of news on July 1\n",
    " \n",
    "# Scraping the Author name\n",
    "Author=[]\n",
    "try:\n",
    "    authr=driver.find_elements_by_xpath(\"//div[@class='yYIu- byline']/a\")\n",
    "    for i in authr:\n",
    "         Author.append(i.text)               \n",
    "except NoSuchElementException:#handling no such element exception\n",
    "    Date.append('No details available')\n",
    "except StaleElementReferenceException:#handling Stale element exception\n",
    "    Date.append('No details available')\n",
    "    \n",
    "time.sleep(2) \n",
    "\n",
    "Author[0:2]"
   ]
  },
  {
   "cell_type": "code",
   "execution_count": 45,
   "metadata": {},
   "outputs": [
    {
     "data": {
      "text/plain": [
       "['Keshni Anand Arora is new Haryana chief secretary']"
      ]
     },
     "execution_count": 45,
     "metadata": {},
     "output_type": "execute_result"
    }
   ],
   "source": [
    "#scraping details of news on July 1\n",
    "\n",
    "Headline=[]\n",
    "try:\n",
    "    Headlines=driver.find_elements_by_xpath(\"//h1[@class='_1Y-96']/span\")\n",
    "    for i in Headlines:\n",
    "        Headline.append(i.text)\n",
    "except NoSuchElementException:#handling no such element exception\n",
    "    Headline.append('No details available')\n",
    "except StaleElementReferenceException:#handling Stale element exception\n",
    "    Headline.append('No details available')\n",
    "    \n",
    "time.sleep(2)   \n",
    "\n",
    "Headline[0:2]"
   ]
  },
  {
   "cell_type": "code",
   "execution_count": 46,
   "metadata": {},
   "outputs": [
    {
     "data": {
      "text/plain": [
       "['CHANDIGARH: The Haryana government has appointed 1983 batch IAS officer Keshni Anand Arora as the new chief secretary in place of Depinder Singh Dhesi, who retired on Sunday.\\nThe 58-year-old will have a 15-month tenure as she is due to retire on September 1, 2020. Arora was the additional chief secretary (disaster management and consolidation) and financial commissioner, revenue, before her elevation as the senior-most bureaucrat in Haryana. She had got All India Rank 2 in the 1983 batch of UPSC examination.\\n\\nInterestingly, Arora is the third sister from her family to become the chief secretary of the state. Her elder sisters Meenaxi Anand Chaudhary and Urvashi Gulati were appointed to the post of the state’s chief secretary in 2005 and 2009, respectively.\\nThe eldest sister Meenaxi, a 1969 batch IAS officer, was the first woman chief secretary of Haryana. The second sister Urvashi Gulati, a 1975 batch IAS officer, married IAS officer Naresh Gulati, who after retirement was the chief information commissioner of Haryana. Their father Jagdish Anand was a professor of political science in the Panjab University. The family, originally from Rawalpindi, shifted to India after Partition.\\n‘This is the moment of pride for all of us’\\nThe three sisters grew up in Chandigarh. “Our parents would have been the most delighted today after seeing that Keshni too has reached the top position. Certainly, this is the moment of pride for all of us. This has come at the time when her daughter Shruti too has joined IPS,’’ Meenaxi Anand Chaudhary told TOI.\\nMeenaxi’s son Maneesh Chaudhary is an IPS officer and is currently posted as DIG (security) in the Haryana police. Urvashi’s daughters, however, work in corporate sector.\\n“And believe me, it’s not just our children, she has been a guiding force to many IAS aspirants and young officers in the cadre,” Meenaxi added.\\nJoining her, the middle sister Urvashi Gulati said, “This is really an emotional moment for all of us. I wish our parents were alive today. She has lived up to their dreams, especially our mother,” she said and added that the family is confident that she will do well.\\n“I owe it to my mom and dad, my didis, family and of course seniors who have shown faith in me. I shall try to live up to the expectations of all,” Keshni Anand Arora told TOI in an one-line response on Sunday afternoon.\\nArora was deputy director-general, UIDAI, during her deputation to the Centre and headed the project in north western region — Punjab, Haryana, Himachal Pradesh, Jammu & Kashmir and Union Territory of Chandigarh.\\nA central government panel had recommended disciplinary proceedings under the All India Services (discipline and appeal) Rules against Keshni Anand Arora, during her tenure as the financial commissioner (forest) between April 2010 and October 7, 2010 along with other bureaucrats/politicians and officials of the forest department for harassing Magsaysay awardee and whistle-blower Indian Forest Service (IFS) officer Sanjiv Chaturvedi.\\nIn March 2014, the then Bhupinder Singh Hooda government had challenged the report before the Punjab and Haryana high court. The petition, however, is still pending.']"
      ]
     },
     "execution_count": 46,
     "metadata": {},
     "output_type": "execute_result"
    }
   ],
   "source": [
    "#scraping details of news on July 1\n",
    "Description=[]\n",
    "try:\n",
    "    Descriptions=driver.find_elements_by_xpath(\"//div[@class='_3YYSt clearfix  ']\")\n",
    "    for i in Descriptions:\n",
    "        Description.append(i.text)\n",
    "except NoSuchElementException:#handling no such element exception\n",
    "    Description.append('No details available')\n",
    "except StaleElementReferenceException:#handling Stale element exception\n",
    "    Description.append('No details available')\n",
    "    \n",
    "time.sleep(2)   \n",
    "\n",
    "Description[0:2]\n",
    " "
   ]
  },
  {
   "cell_type": "code",
   "execution_count": 49,
   "metadata": {},
   "outputs": [
    {
     "data": {
      "text/html": [
       "<div>\n",
       "<style scoped>\n",
       "    .dataframe tbody tr th:only-of-type {\n",
       "        vertical-align: middle;\n",
       "    }\n",
       "\n",
       "    .dataframe tbody tr th {\n",
       "        vertical-align: top;\n",
       "    }\n",
       "\n",
       "    .dataframe thead th {\n",
       "        text-align: right;\n",
       "    }\n",
       "</style>\n",
       "<table border=\"1\" class=\"dataframe\">\n",
       "  <thead>\n",
       "    <tr style=\"text-align: right;\">\n",
       "      <th></th>\n",
       "      <th>Date</th>\n",
       "      <th>Headline</th>\n",
       "      <th>Description</th>\n",
       "    </tr>\n",
       "  </thead>\n",
       "  <tbody>\n",
       "    <tr>\n",
       "      <th>0</th>\n",
       "      <td>NaN</td>\n",
       "      <td>Keshni Anand Arora is new Haryana chief secretary</td>\n",
       "      <td>CHANDIGARH: The Haryana government has appoint...</td>\n",
       "    </tr>\n",
       "  </tbody>\n",
       "</table>\n",
       "</div>"
      ],
      "text/plain": [
       "   Date                                           Headline  \\\n",
       "0   NaN  Keshni Anand Arora is new Haryana chief secretary   \n",
       "\n",
       "                                         Description  \n",
       "0  CHANDIGARH: The Haryana government has appoint...  "
      ]
     },
     "execution_count": 49,
     "metadata": {},
     "output_type": "execute_result"
    }
   ],
   "source": [
    "#creating dataframe\n",
    "\n",
    "df=pd.DataFrame({})\n",
    "df['Date']= Date[:2]\n",
    "df['Headline']= Headline[:2]\n",
    "df['Description']= Description[:2]\n",
    "\n",
    "df"
   ]
  },
  {
   "cell_type": "markdown",
   "metadata": {},
   "source": [
    "#scraping details of news on July 2"
   ]
  },
  {
   "cell_type": "code",
   "execution_count": 66,
   "metadata": {},
   "outputs": [],
   "source": [
    "# Opening the times of india\n",
    "url = \"https://timesofindia.indiatimes.com/city/bhopal/damoh-batman-gets-bail-says-would-soon-meet-vijayvargiya/articleshow/70032191.cms\"\n",
    "driver.get(url)\n",
    "\n",
    "time.sleep(2)"
   ]
  },
  {
   "cell_type": "code",
   "execution_count": 74,
   "metadata": {},
   "outputs": [
    {
     "data": {
      "text/plain": [
       "['Deshdeep Saxena', 'Ariba Khaliq', 'Ramendra Singh']"
      ]
     },
     "execution_count": 74,
     "metadata": {},
     "output_type": "execute_result"
    }
   ],
   "source": [
    "#scraping details of news on July 2\n",
    " \n",
    "# Scraping the Author name\n",
    "Author=[]\n",
    "try:\n",
    "    authr=driver.find_elements_by_xpath(\"//div[@class='yYIu- byline']/a\")\n",
    "    for i in authr:\n",
    "         Author.append(i.text)               \n",
    "except NoSuchElementException:#handling no such element exception\n",
    "    Date.append('No details available')\n",
    "except StaleElementReferenceException:#handling Stale element exception\n",
    "    Date.append('No details available')\n",
    "    \n",
    "time.sleep(2) \n",
    "\n",
    "Author[0:3]"
   ]
  },
  {
   "cell_type": "code",
   "execution_count": 68,
   "metadata": {},
   "outputs": [
    {
     "data": {
      "text/plain": [
       "['After two days in jail, bail for Damoh ‘batman’',\n",
       " 'Saharia women not allowed to marry non-tribals: MP Mahapanchayat diktat',\n",
       " 'How Vedantu Improvement Promise is redefining learning by guaranteeing academic progress: A Fireside chat with Vamsi Krishna, CEO and Co-founder, Vedantu']"
      ]
     },
     "execution_count": 68,
     "metadata": {},
     "output_type": "execute_result"
    }
   ],
   "source": [
    "#scraping details of news on July 2\n",
    "\n",
    "Headline=[]\n",
    "try:\n",
    "    Headlines=driver.find_elements_by_xpath(\"//h1[@class='_1Y-96']/span\")\n",
    "    for i in Headlines:\n",
    "        Headline.append(i.text)\n",
    "except NoSuchElementException:#handling no such element exception\n",
    "    Headline.append('No details available')\n",
    "except StaleElementReferenceException:#handling Stale element exception\n",
    "    Headline.append('No details available')\n",
    "    \n",
    "time.sleep(2)   \n",
    "\n",
    "Headline[0:3]"
   ]
  },
  {
   "cell_type": "code",
   "execution_count": 69,
   "metadata": {},
   "outputs": [
    {
     "data": {
      "text/plain": [
       "['BHOPAL: After spending more than two days in jail for terrorizing a municipal officer, Vivek Agrawal — the ‘batman’ of Damoh, was given bail on Monday afternoon. He left the jail around 7:30 in the evening post completion of the paper work.\\nSpeaking to medi, he said “ I was inspired by Akash Vijayvargiya and would soon meet him to seek his blessings.”\\n\\nAgrawal, who is also vice president of Bhartiya Janata Yuva Morcha in Damoh, terrorized the municipality personnel in Damoh. He was arrested under section 151 of the CrPC on Saturday. After the SDM denied bail, Agrawal was sent to jail.\\nThe same day, he was also booked under section 186 (obstructing work of public servant) and 506 (abuse) after an FIR lodged by the chef municipal officer of Damoh.\\nAs Vivek had introduced himself representative of her mother, who is a BJP corporator, she too, was served the notice and asked to explain her position.',\n",
       " 'BHOPAL: In the tribal land of Sheopur, the remote district of Madhya Pradesh dominated by the most primitive tribe of Saharias, a Mahapanchayat of 84-villages issued a dictate that the tribe\\'s women are not allowed inter-caste marriage. Those who violate the norm will be fined Rs 1.5 lakh.\\nSuch women will be ostracised and their children would not be treated as tribals, the Mahapanchayat ruled.\\nSources in the Saharia tribals claimed that a woman was also fined with Rs 1.5 lakh and the panchayat of the village where her inter-caste marriage took place was also reprimanded.\\nThough the district collector of Sheopur expressed “ignorance” about the decision, president of the Mahapanchayat said the decision was taken to protect their immovable properties.\\n“Many non-tribals marry tribal women and then usurp their land and other properties,” Mahapanchayat president Tundaram Languria told TOI over phone.\\nThe Manapanchayat took place on Sunday evening at Salapura village.\\n“There has been a spike in the cases of elopement of Saharia girls with non-tribal men especially in the villages closer to cities,” general secretary of the Manahapchayat Gangaram said.\\nReprimanding the Saharia panchayat of Salapura, Gangaram recommended a fine of Rs 30,000 on the village body.\\n“After the inter-caste marriage was reported, the village panchayat initiated attempts to reach a compromise with the woman’s family.”\\nInterestingly, there is a provision of Rs 2.5 lakh incentive for inter-caste marriages in the state under its MP Antarjatiya Vivah Protsahan Yojana.\\n\"Such incident has not come to my notice. Let me look into it,” district collector Vasant Kurre said.\\n“It may be a social decision. People are free to follow their religion and culture,\" tribal welfare minister Onkar Markam said.\\n“Of late, a trend has been witnessed in Chambal region inhabited by Saharias that non-tribals are getting married to the Saharia women to get benefits reserved for the Scheduled Tribes. After marriage, they also grab tribal land which otherwise is not possible,” the Mahapanchayat chief said.\\nThis is being witnessed especially in Vijapur and Karhal block of the district where many non-tribal men have two wives and one of them belongs to Saharias, he said .\\nBesides, he said: “the tribal women married to non-tribals are also used politically to usurp the powers in local bodies like panchayats and municipalities.',\n",
       " \"The mediocre teacher tells. The good teacher explains. The superior teacher demonstrates. The great teacher inspires.—William Arthur Ward\\nA teacher is an important figure in the teaching and learning process. And a great teacher is at the core of designing and delivering the most effective learning experiences and outcomes.If you'll look back over your career to date, you'll find vast majority of impactful teachers sharing certain core traits and attitudes that fashioned them to be effective educators - they all cared deeply about their profession and their students. This realisation led to the launch of Vedantu - a live online learning platform that was started to make quality education accessible and affordable to every kid in India. The edtech platform puts into action persuasive student-centred approaches to impart online learning effectively. And at the core of it all is teaching, which is excellent and innovative and empathetic. It hires teachers who help students excel academically and become well-rounded individuals rather than just dispassionately transfer knowledge to students. In short, teachers at Vedantu are teachers by choice and not teachers by chance.\\nThis passion for teaching enabled Vedantu to go beyond the defined terms of providing educational services to launch an unprecedented initiative - Vedantu Improvement Promise, aka VIP. It is set to change the significant lack of responsibility and accountability on learning platforms and assure predictable learning improvement for students. The promise comes with a guarantee that if there is no improvement within a year, the LIVE online tutoring platform will return the course fee, no questions asked. This answers the unspoken question in parents' minds: when a child falters in securing the desired results, why does the onus for improvement only rest with the students and their parents and not the academic platform, school, and the entire education system too. This co-ownership of students' performance is meant to build a steadfast trust with parents and revolutionise the one-way process of providing education.\\nHere is an FB live session with Vamsi Krishna, CEO and Co-Founder Vedantu, having a fireside chat with Sujit John, Assistant Resident Editor, TOI, about everything that makes Vedantu what it is today. They chat about how it all started with the Lakshay initiative, the subsequent formation of Vedantu, teaching principles that it follows, and finally about VIP and how Vedantu teachers are all geared up for the extraordinary challenge:\\n\\nVedantu, as we know it today, provides one-to-one and one-to-many LIVE online classes across 1st to the 12th grade and prepares students for various competitive exams across segments. Courses are delivered in a live real-time, interactive virtual learning environment. The platform also grants free, live masterclasses across subjects on its app, web and Youtube channels.\\nHowever, the journey of this esteemed edutech platform, as told by Vamsi Krishna, has been full of over-the-top aspirations, inspiring benchmarks, and logistical challenges of making education comprehensible and matching the quality of teaching by changing the image of the profession. Although teaching has always been treated as a noble profession in India, it has never met the void of passionate teaching.\\nVedantu's teaching force is not just thorough experts but teachers by choice who have a passion for teaching; they facilitate students with knowledge and skills that can be employed in classrooms and the practical world. Teachers at Vedantu constantly monitor students' progress based on their in-class and post-class activities and performance and personalise weekly learning plans to ensure progress. These performances and programs are regularly shared during parent-teacher interactions to keep parents involved in their child's progress.\\nVIP – step in the right direction\\nVedantu - VIP: Khaandani Tips\\n\\nVedantu enables students to access a real-time, robust peer-learning environment just like a real classroom while ensuring unrestricted access to the most skilled teachers from across India with a passion for teaching. Difficult subjects are taught through immersive 3D content, live quizzes, and games to keep students captivated. In addition, Vedantu's innovative LIVE platform supports a healthy real-time exchange between students and teachers to get all their doubts clarified. Additionally, Vedantu's patented Artificial Intelligence (AI)-enabled Wave technology acts as a unique model by using machine learning (ML) to evaluate each student's learning patterns at distinct points during the class.\\nParent involvement in a child's early education is consistently found to be positively associated with a child's academic performance. Specifically, children whose parents are more involved in their education have higher levels of academic performance than children whose parents are involved to a lesser degree. While on one hand, VIP takes ownership of each student's academic performance, on the other, it gives parents constant insights on how their kid is making progress, in a very transparent way - something they aren't accustomed to seeing.\\nWith schools being closed since early 2020 to protect children from the COVID-19 pandemic, chalk-and-board teaching had to shift to digital mediums overnight. It wasn't easy for teachers to adapt to digital education spontaneously, which served as the edtech industry's moment of reckoning. With the disruption having upended the Indian educational system, Vedantu supports students and their worried parents to help students continue and excel at academics.\\nDisclaimer: This article has been produced on behalf of Vedantu by Times Internet’s Spotlight team.\"]"
      ]
     },
     "execution_count": 69,
     "metadata": {},
     "output_type": "execute_result"
    }
   ],
   "source": [
    "#scraping details of news on July 2\n",
    "Description=[]\n",
    "try:\n",
    "    Descriptions=driver.find_elements_by_xpath(\"//div[@class='_3YYSt clearfix  ']\")\n",
    "    for i in Descriptions:\n",
    "        Description.append(i.text)\n",
    "except NoSuchElementException:#handling no such element exception\n",
    "    Description.append('No details available')\n",
    "except StaleElementReferenceException:#handling Stale element exception\n",
    "    Description.append('No details available')\n",
    "    \n",
    "time.sleep(2)   \n",
    "\n",
    "Description[0:3]\n",
    " "
   ]
  },
  {
   "cell_type": "code",
   "execution_count": 75,
   "metadata": {},
   "outputs": [
    {
     "data": {
      "text/html": [
       "<div>\n",
       "<style scoped>\n",
       "    .dataframe tbody tr th:only-of-type {\n",
       "        vertical-align: middle;\n",
       "    }\n",
       "\n",
       "    .dataframe tbody tr th {\n",
       "        vertical-align: top;\n",
       "    }\n",
       "\n",
       "    .dataframe thead th {\n",
       "        text-align: right;\n",
       "    }\n",
       "</style>\n",
       "<table border=\"1\" class=\"dataframe\">\n",
       "  <thead>\n",
       "    <tr style=\"text-align: right;\">\n",
       "      <th></th>\n",
       "      <th>Headline</th>\n",
       "      <th>Description</th>\n",
       "      <th>Author</th>\n",
       "    </tr>\n",
       "  </thead>\n",
       "  <tbody>\n",
       "    <tr>\n",
       "      <th>0</th>\n",
       "      <td>After two days in jail, bail for Damoh ‘batman’</td>\n",
       "      <td>BHOPAL: After spending more than two days in j...</td>\n",
       "      <td>Deshdeep Saxena</td>\n",
       "    </tr>\n",
       "    <tr>\n",
       "      <th>1</th>\n",
       "      <td>Saharia women not allowed to marry non-tribals...</td>\n",
       "      <td>BHOPAL: In the tribal land of Sheopur, the rem...</td>\n",
       "      <td>Ariba Khaliq</td>\n",
       "    </tr>\n",
       "    <tr>\n",
       "      <th>2</th>\n",
       "      <td>How Vedantu Improvement Promise is redefining ...</td>\n",
       "      <td>The mediocre teacher tells. The good teacher e...</td>\n",
       "      <td>Ramendra Singh</td>\n",
       "    </tr>\n",
       "  </tbody>\n",
       "</table>\n",
       "</div>"
      ],
      "text/plain": [
       "                                            Headline  \\\n",
       "0    After two days in jail, bail for Damoh ‘batman’   \n",
       "1  Saharia women not allowed to marry non-tribals...   \n",
       "2  How Vedantu Improvement Promise is redefining ...   \n",
       "\n",
       "                                         Description           Author  \n",
       "0  BHOPAL: After spending more than two days in j...  Deshdeep Saxena  \n",
       "1  BHOPAL: In the tribal land of Sheopur, the rem...     Ariba Khaliq  \n",
       "2  The mediocre teacher tells. The good teacher e...   Ramendra Singh  "
      ]
     },
     "execution_count": 75,
     "metadata": {},
     "output_type": "execute_result"
    }
   ],
   "source": [
    "# creating dataframe\n",
    "\n",
    "df=pd.DataFrame({})\n",
    "df['Headline']= Headline[:3]\n",
    "df['Description']= Description[:3]\n",
    "df['Author']=Author[:3]\n",
    "\n",
    "df"
   ]
  },
  {
   "cell_type": "markdown",
   "metadata": {},
   "source": [
    "scraping details of news on July 3"
   ]
  },
  {
   "cell_type": "code",
   "execution_count": 91,
   "metadata": {},
   "outputs": [],
   "source": [
    "# Opening the times of india\n",
    "url = \"https://timesofindia.indiatimes.com//city/kochi/special-school-turns-hi-tech/articleshow/70064242.cms\"\n",
    "driver.get(url)\n",
    "\n",
    "time.sleep(2)"
   ]
  },
  {
   "cell_type": "code",
   "execution_count": 98,
   "metadata": {},
   "outputs": [
    {
     "data": {
      "text/plain": [
       "[]"
      ]
     },
     "execution_count": 98,
     "metadata": {},
     "output_type": "execute_result"
    }
   ],
   "source": [
    "#scraping details of news on July 3\n",
    " \n",
    "# Scraping the Author name\n",
    "Author=[]\n",
    "try:\n",
    "    authr=driver.find_elements_by_xpath(\"//div[@class='yYIu- byline']/a\")\n",
    "    for i in authr:\n",
    "         Author.append(i.text)               \n",
    "except NoSuchElementException:#handling no such element exception\n",
    "    Date.append('No details available')\n",
    "except StaleElementReferenceException:#handling Stale element exception\n",
    "    Date.append('No details available')\n",
    "    \n",
    "time.sleep(2) \n",
    "\n",
    "Author[0:3]"
   ]
  },
  {
   "cell_type": "code",
   "execution_count": 93,
   "metadata": {},
   "outputs": [
    {
     "data": {
      "text/plain": [
       "['Kochi: Special school turns hi-tech']"
      ]
     },
     "execution_count": 93,
     "metadata": {},
     "output_type": "execute_result"
    }
   ],
   "source": [
    "#scraping details of news on July 3\n",
    "\n",
    "Headline=[]\n",
    "try:\n",
    "    Headlines=driver.find_elements_by_xpath(\"//h1[@class='_1Y-96']/span\")\n",
    "    for i in Headlines:\n",
    "        Headline.append(i.text)\n",
    "except NoSuchElementException:#handling no such element exception\n",
    "    Headline.append('No details available')\n",
    "except StaleElementReferenceException:#handling Stale element exception\n",
    "    Headline.append('No details available')\n",
    "    \n",
    "time.sleep(2)   \n",
    "\n",
    "Headline[0:3]"
   ]
  },
  {
   "cell_type": "code",
   "execution_count": 94,
   "metadata": {},
   "outputs": [
    {
     "data": {
      "text/plain": [
       "['KOCHI: The Snehanilayam Special School at Chembumukku, Kakkanad, has become hi-tech with the launch of a new smart classroom. The Interactive Intelligent Panel by Senses, popularly called Smart Class/Touch Smart Board, was inaugurated by Cochin International Airport Limited (Cial) managing director V J Kurian on Tuesday.\\nUsing the touch board, teachers can take live pictures of any object in the classroom and display them on the canvas instantly for easy explanation. The board has direct internet access and features like voice recognition and formula recognition, which will make the learning process easier and interesting.\\nThe project is part of Cial’s corporate social responsibility (CSR) activities. Kurian also inaugurated the newly installed solar power panels at the school. The inauguration was followed by an interactive session between Kurian and the students, in which he answered the queries of the students regarding the airport and solar power supplies. After that various cultural programmes by the students were also held.']"
      ]
     },
     "execution_count": 94,
     "metadata": {},
     "output_type": "execute_result"
    }
   ],
   "source": [
    "#scraping details of news on July 3\n",
    "Description=[]\n",
    "try:\n",
    "    Descriptions=driver.find_elements_by_xpath(\"//div[@class='_3YYSt clearfix  ']\")\n",
    "    for i in Descriptions:\n",
    "        Description.append(i.text)\n",
    "except NoSuchElementException:#handling no such element exception\n",
    "    Description.append('No details available')\n",
    "except StaleElementReferenceException:#handling Stale element exception\n",
    "    Description.append('No details available')\n",
    "    \n",
    "time.sleep(2)   \n",
    "\n",
    "Description[0:3]"
   ]
  },
  {
   "cell_type": "code",
   "execution_count": 100,
   "metadata": {},
   "outputs": [
    {
     "data": {
      "text/html": [
       "<div>\n",
       "<style scoped>\n",
       "    .dataframe tbody tr th:only-of-type {\n",
       "        vertical-align: middle;\n",
       "    }\n",
       "\n",
       "    .dataframe tbody tr th {\n",
       "        vertical-align: top;\n",
       "    }\n",
       "\n",
       "    .dataframe thead th {\n",
       "        text-align: right;\n",
       "    }\n",
       "</style>\n",
       "<table border=\"1\" class=\"dataframe\">\n",
       "  <thead>\n",
       "    <tr style=\"text-align: right;\">\n",
       "      <th></th>\n",
       "      <th>Headline</th>\n",
       "      <th>Description</th>\n",
       "    </tr>\n",
       "  </thead>\n",
       "  <tbody>\n",
       "    <tr>\n",
       "      <th>0</th>\n",
       "      <td>Kochi: Special school turns hi-tech</td>\n",
       "      <td>KOCHI: The Snehanilayam Special School at Chem...</td>\n",
       "    </tr>\n",
       "  </tbody>\n",
       "</table>\n",
       "</div>"
      ],
      "text/plain": [
       "                              Headline  \\\n",
       "0  Kochi: Special school turns hi-tech   \n",
       "\n",
       "                                         Description  \n",
       "0  KOCHI: The Snehanilayam Special School at Chem...  "
      ]
     },
     "execution_count": 100,
     "metadata": {},
     "output_type": "execute_result"
    }
   ],
   "source": [
    "# creating dataframe\n",
    "\n",
    "df=pd.DataFrame({})\n",
    "df['Headline']= Headline[:3]\n",
    "df['Description']= Description[:3]\n",
    "\n",
    "\n",
    "df"
   ]
  },
  {
   "cell_type": "markdown",
   "metadata": {},
   "source": [
    "scraping details of news on July 4"
   ]
  },
  {
   "cell_type": "code",
   "execution_count": 9,
   "metadata": {},
   "outputs": [],
   "source": [
    "#scraping details of news on July 4\n",
    "# Opening the times of india\n",
    "url = \"https://timesofindia.indiatimes.com//gadgets-news/google-photos-is-set-to-get-all-these-new-features/articleshow/70066913.cms\"\n",
    "driver.get(url)\n",
    "\n",
    "time.sleep(2)\n"
   ]
  },
  {
   "cell_type": "code",
   "execution_count": 10,
   "metadata": {},
   "outputs": [
    {
     "data": {
      "text/plain": [
       "[]"
      ]
     },
     "execution_count": 10,
     "metadata": {},
     "output_type": "execute_result"
    }
   ],
   "source": [
    "#scraping details of news on July 4\n",
    " \n",
    "# Scraping the Author name\n",
    "Author=[]\n",
    "try:\n",
    "    authr=driver.find_elements_by_xpath(\"//div[@class='yYIu- byline']/a\")\n",
    "    for i in authr:\n",
    "         Author.append(i.text)               \n",
    "except NoSuchElementException:#handling no such element exception\n",
    "    Date.append('No details available')\n",
    "except StaleElementReferenceException:#handling Stale element exception\n",
    "    Date.append('No details available')\n",
    "    \n",
    "time.sleep(2) \n",
    "\n",
    "Author[0:3]"
   ]
  },
  {
   "cell_type": "code",
   "execution_count": 14,
   "metadata": {},
   "outputs": [
    {
     "data": {
      "text/plain": [
       "['Google Photos is set to get all these new features',\n",
       " \"When Google CEO Sundar Pichai 'quoted' MS Dhoni\",\n",
       " 'Think beyond the regular BBA with Manav Rachna’s unique BBA specialisations']"
      ]
     },
     "execution_count": 14,
     "metadata": {},
     "output_type": "execute_result"
    }
   ],
   "source": [
    "#scraping details of news on July 3\n",
    "\n",
    "Headline=[]\n",
    "try:\n",
    "    Headlines=driver.find_elements_by_xpath(\"//h1[@class='_23498']\")\n",
    "    for i in Headlines:\n",
    "        Headline.append(i.text)\n",
    "except NoSuchElementException:#handling no such element exception\n",
    "    Headline.append('No details available')\n",
    "except StaleElementReferenceException:#handling Stale element exception\n",
    "    Headline.append('No details available')\n",
    "    \n",
    "time.sleep(2)   \n",
    "\n",
    "Headline[0:3]"
   ]
  },
  {
   "cell_type": "code",
   "execution_count": 15,
   "metadata": {},
   "outputs": [
    {
     "data": {
      "text/plain": [
       "['Internet search giant Google is set to add numerous new features to its Google Photos app, confirmed the Google Photos’ product lead David Lieb on Twitter. Lieb asked Google Photos users on Twitter to tell what they would like to see on the photo storing/sharing platform and when the users did, he also confirmed which all features were making way to Google Photos\\nManual face tags\\nLeib confirmed to a user that the option to manually tag a user’s face in Google Photos is “definitely on the roadmap.” Right now the platform only gives you the option to untag a picture you feel has been wrongly tagged.\\nEasy access to recently added photos\\nNEWS IN BRIEF\\nEXPLORE BRIEFS\\nPUBG rival FAU-G pre-registration starts for Android users\\nWith PUBG Mobile on track to make a comeback in India after it was banned in September, desi PUBG Mobile game rival FAU-G (or Fearless And United-Guards) is gearing up to launch. The FAU-G game is now available for pre-registration for Android users. Gamers can visit Google Play store to search the game and pre-register for the same. The game is expected to be similar to PUBG Mobile.\\nApple iPhone users may have to wait longer to play PUBG Mobile India\\nPUBG Mobile is all set to make a comeback in India. But chances are Apple iPhone users may have to wait a bit longer to play PUBG Mobile. Media reports claim that the new PUBG Mobile India game will be launched for Android users first and will come to Apple App Store later. Having said that the game is confirmed to be available for free on both iOS and Android.\\nLeib said that the ability to search for recently added photos on the platform is “coming soon if not already available.” Notably, this feature is already present on the web version of the platform.\\nEditable timestamp on Android\\nCurrently, you can change the date and time stamps for photos and videos using a computer or an iOS device, but as per Lieb, this will soon be enabled for Android users as well.\\nShare pet pictures with partner\\nGoogle Photos has an option to create Partner sharing albums and soon the platform will allow users to automatically add their pet’s pics to the shared album.\\nDelete picture from album on Android\\nWhen a user raised an issue that the Android app doesn’t give the option to delete the album while browsing the pics in the app, Leib said that the “team is on it.”\\nAdd favourites in shared album\\nConfirming with “that’s in the works” Leib said that users will soon get the option to add an image to favourites in a shared album.\\nRecently, it was revealed that once the Dark Mode is rolled out as part of the next Android update — Android Q — Google Photos will get a background in this app will be in dark grey instead of pure black “because that saturation contrasts well against bright pixels to better express colourful photos, and icons appear in desaturated soft grays and blues for stronger legibility.” Google thinks it creates a slideshow effect as well, which is a nice way to view images. “…imagine turning the lights off at home to watch home videos or project vacation photos on to the wall.”',\n",
       " 'At the recent India vs England cricket match in the 2019 World Cup, India’s most ‘famous’ techie met India’s most famous cricketer. Google CEO Sundar Pichai met Sachin Tendulkar and the Board for Cricket Control in India (BCCI) had tweeted a picture of the two of them. Now, Tendulkar has posted two pictures of himself and Pichai watching the India-England match on Twitter with the caption “kya yeh Sundar pic-hai?” The tweet is a word play on the Google’s CEO’s name in which Tendulkar is asking whether the pictures he posted are great pictures or not.\\n\\nInterestingly, Pichai responded to Tendulkar’s tweet and ‘quoted’ MS Dhoni. Pichai wrote, “As Mahi bhai would say, \"Bahut Badhiya”. Pleasure watching the game with you, brought back great memories, till next time.”\\n\\nNEWS IN BRIEF\\nEXPLORE BRIEFS\\nPUBG rival FAU-G pre-registration starts for Android users\\nWith PUBG Mobile on track to make a comeback in India after it was banned in September, desi PUBG Mobile game rival FAU-G (or Fearless And United-Guards) is gearing up to launch. The FAU-G game is now available for pre-registration for Android users. Gamers can visit Google Play store to search the game and pre-register for the same. The game is expected to be similar to PUBG Mobile.\\nApple iPhone users may have to wait longer to play PUBG Mobile India\\nPUBG Mobile is all set to make a comeback in India. But chances are Apple iPhone users may have to wait a bit longer to play PUBG Mobile. Media reports claim that the new PUBG Mobile India game will be launched for Android users first and will come to Apple App Store later. Having said that the game is confirmed to be available for free on both iOS and Android.\\nDhoni is known to say “bahut badhiya” which loosely translates into “well done” when he is keeping behind the stumps as words of encouragement to the bowlers. Pichai clearly knows his cricket and addressing Dhoni as ‘Mahi Bhai’ and his quoting one of his commonly-used term is an indicator of his love for the game.\\nPichai is an avid cricket fan and just before the start of the World Cup was asked to predict who will play in the final. Interestingly, he had picked India and England to play in the final and was spotted at the same two teams’ match in the group stages. Apart from these two teams, he also had said that Australia and New Zealand are two other two teams he had fancied. At least one part of his prediction looks set to be on course of coming true as India sealed a spot in the World Cup semi-finals whereas England’s fate still hangs in the balance.\\nIn 2018, Pichai had also tweeted to Virat Kohli about an innings he played in the Indian Premier League.',\n",
       " \"Business Management is a quintessential part of any organisation that plays a crucial role in an organisation’s success. The high-end demands of the industry require professionals who can take up the challenges of the corporate world and respond effectively. BBA Education at Manav Rachna is delivered on a new model that has been shaped by the needs of an innovation-driven industry. As an acknowledgement of the strong teaching-learning processes, Manav Rachna has been rated QS 5 Star for Teaching, Employability, Academic Development, Facilities, Social Responsibility and Inclusiveness.\\nRanked among the Top 4 Private Universities in North India for BBA as per the Times BBA Survey 2021, Manav Rachna has been a pioneer in BBA education with robust industry connect and strong associations with international universities. All the courses have been designed on a Choice Based Credit System (CBCS), making the course curricula highly flexible and accommodating.\\nApart from BBA (General), Manav Rachna offers some very unique BBA specialisations:\\nBBA (Banking & Financial Markets) in association with BSE: This comes with six courses on Financial Planning, Private Banking, Project-report & Presentation, Equity and Derivative markets, Investment Products and Management, and Fundamentals and Technical Analysis with exposure to virtual Stock Trading Platform and MS Excel. Bombay Stock Exchange (BSE) Institute delivers short-term courses in Stock Market, Financial Services and Insurance to students with certification.\\nNEWS IN BRIEF\\nEXPLORE BRIEFS\\nPUBG rival FAU-G pre-registration starts for Android users\\nWith PUBG Mobile on track to make a comeback in India after it was banned in September, desi PUBG Mobile game rival FAU-G (or Fearless And United-Guards) is gearing up to launch. The FAU-G game is now available for pre-registration for Android users. Gamers can visit Google Play store to search the game and pre-register for the same. The game is expected to be similar to PUBG Mobile.\\nApple iPhone users may have to wait longer to play PUBG Mobile India\\nPUBG Mobile is all set to make a comeback in India. But chances are Apple iPhone users may have to wait a bit longer to play PUBG Mobile. Media reports claim that the new PUBG Mobile India game will be launched for Android users first and will come to Apple App Store later. Having said that the game is confirmed to be available for free on both iOS and Android.\\nBBA in Digital Marketing: Digital advertisements have become one of the most sought-after trends in the 21st century. Today, recruiters wish to zero their searches on the contenders with a thorough knowledge of digital toolkits and international trades. The BBA in Digital Marketing degree course at Manav Rachna provides assistance for obtaining Google Ads Certificates, Facebook Marketing Certificates, Content Marketing Certificate, Hub spot’s Social Media Certificates and Real Life Projects.\\nBBA (G) International Business: Manav Rachna offers BBA-(Global) International Business in collaboration with Auckland Institute of Studies (AIS), New Zealand, inclusive of a 4-week study abroad internship at AIS Auckland, New Zealand. As part of the BBA Global IB programme, and students also have an option of going to Nottingham Trent University, UK and undergo a one year course that would help them enhance their skills, knowledge and qualifications in the field of International Business. Scholarships with international partners have been in-built into the curriculum.\\n\\nBBA (Finance & Accounts): The course offers a diverse curriculum with electives, both from the accounting as well as finance domains. Industry Visits to financial firms, banking, NBFC, stock exchanges are part of the curriculum.\\nBBA (Entrepreneurship & Family business): The program design and delivery of BBA (Entrepreneurship & Family Business) is offered with the National Entrepreneurship Network and NIESBUD, GoI. Management simulation on software licensed by “Marketplace, U.S.A Simulation Games” is the added advantage.\\nBBA (Health Care Management): The syllabus of this course is designed as per the NABH standards and guidelines. The curriculum includes a mandatory one year of work experience for the students wherein they undertake 10 months of internship at the leading hospitals of NCR, including the Asian Institute of Medical Sciences and Sarvodaya Hospital.\\nBBA (Operations Management with specialisation in SCM, Logistics and Project Management): The curriculum is designed in association with APICS USA and CII – Institute of Logistics for SCM and Logistics. Students pursuing the course get support for Global professional certification by APICS USA (Association for Supply Chain Management). Value-add IT courses like MIS, CIS, Ad Excel, RDBMS, and SAP BA enhance students’ technical skills. Industry projects from the 2nd year onwards are a mandatory part of the curriculum.\\nBBA (Business Analytics): LinkedIn lists Business Analysis as one of the skills companies need most. The Bureau of Labor Statistics projects operations research analyst jobs to grow by 25 percent through 2026—a rate much faster than the average for all occupations. During this programme, students are imparted with the knowledge of core courses (Entrepreneurial Development, Organization Behavior, Marketing Management, Human Resource Management) embedded with specialised courses like Business Analytics, Spreadsheet Modeling, Marketing & HR Analytics, Supply-Chain Analytics, Data Visualization, R programming, Business Intelligence & Data Mining.\\nBBA (IBM) in association with University of New Castle, Australia: Under this programme, the eligible students have a provision to proceed to the University of New Castle (UoNC), Australia in 2nd year directly with the transfer of credits of all courses/subjects studied at Manav Rachna and complete the rest of their programme of Bachelor of Business at UoNC with the award of their degree of Bachelors of Business. UoNC Australia provides academic support in terms of course details and delivery during the first year of this programme at Manav Rachna through the faculty members of UoNC Australia.\\nIn all of the above, students are given rich training in soft skills and setting up their start-ups. Massive Open Online Courses (MOOCs) help students learn a few courses at their own pace and convenience. Special Enrichment Lecture Series Programme (ELSP) is conducted for the students to expose them to the current issues and areas of inter-disciplinary interest to broaden their mental horizon, improve general awareness and strengthen critical thinking. Admission to the BBA program at Manav Rachna can be availed through scholarships against limited seats.\\nFor more information, click here.\\nDisclaimer: This article has been produced on behalf of Manav Rachna Educational Institutions by Times Internet's Spotlight Team.\"]"
      ]
     },
     "execution_count": 15,
     "metadata": {},
     "output_type": "execute_result"
    }
   ],
   "source": [
    "#scraping details of news on July 3\n",
    "Description=[]\n",
    "try:\n",
    "    Descriptions=driver.find_elements_by_xpath(\"//div[@class='ga-headlines']\")\n",
    "    for i in Descriptions:\n",
    "        Description.append(i.text)\n",
    "except NoSuchElementException:#handling no such element exception\n",
    "    Description.append('No details available')\n",
    "except StaleElementReferenceException:#handling Stale element exception\n",
    "    Description.append('No details available')\n",
    "    \n",
    "time.sleep(2)   \n",
    "\n",
    "Description[0:3]"
   ]
  },
  {
   "cell_type": "code",
   "execution_count": 17,
   "metadata": {},
   "outputs": [
    {
     "data": {
      "text/html": [
       "<div>\n",
       "<style scoped>\n",
       "    .dataframe tbody tr th:only-of-type {\n",
       "        vertical-align: middle;\n",
       "    }\n",
       "\n",
       "    .dataframe tbody tr th {\n",
       "        vertical-align: top;\n",
       "    }\n",
       "\n",
       "    .dataframe thead th {\n",
       "        text-align: right;\n",
       "    }\n",
       "</style>\n",
       "<table border=\"1\" class=\"dataframe\">\n",
       "  <thead>\n",
       "    <tr style=\"text-align: right;\">\n",
       "      <th></th>\n",
       "      <th>Headline</th>\n",
       "      <th>Description</th>\n",
       "    </tr>\n",
       "  </thead>\n",
       "  <tbody>\n",
       "    <tr>\n",
       "      <th>0</th>\n",
       "      <td>Google Photos is set to get all these new feat...</td>\n",
       "      <td>Internet search giant Google is set to add num...</td>\n",
       "    </tr>\n",
       "    <tr>\n",
       "      <th>1</th>\n",
       "      <td>When Google CEO Sundar Pichai 'quoted' MS Dhoni</td>\n",
       "      <td>At the recent India vs England cricket match i...</td>\n",
       "    </tr>\n",
       "    <tr>\n",
       "      <th>2</th>\n",
       "      <td>Think beyond the regular BBA with Manav Rachna...</td>\n",
       "      <td>Business Management is a quintessential part o...</td>\n",
       "    </tr>\n",
       "  </tbody>\n",
       "</table>\n",
       "</div>"
      ],
      "text/plain": [
       "                                            Headline  \\\n",
       "0  Google Photos is set to get all these new feat...   \n",
       "1    When Google CEO Sundar Pichai 'quoted' MS Dhoni   \n",
       "2  Think beyond the regular BBA with Manav Rachna...   \n",
       "\n",
       "                                         Description  \n",
       "0  Internet search giant Google is set to add num...  \n",
       "1  At the recent India vs England cricket match i...  \n",
       "2  Business Management is a quintessential part o...  "
      ]
     },
     "execution_count": 17,
     "metadata": {},
     "output_type": "execute_result"
    }
   ],
   "source": [
    "# creating dataframe\n",
    "\n",
    "df=pd.DataFrame({})\n",
    "df['Headline']= Headline[:3]\n",
    "df['Description']= Description[:3]\n",
    "\n",
    "\n",
    "\n",
    "df"
   ]
  },
  {
   "cell_type": "markdown",
   "metadata": {},
   "source": [
    "scraping details of news on July 5"
   ]
  },
  {
   "cell_type": "code",
   "execution_count": 19,
   "metadata": {},
   "outputs": [],
   "source": [
    "#scraping details of news on July 5\n",
    "# Opening the times of india\n",
    "url = \"https://timesofindia.indiatimes.com//city/navi-mumbai/stray-stuck-in-sewage-plant-well-rescued/articleshow/70083046.cms\"\n",
    "driver.get(url)\n",
    "\n",
    "time.sleep(2)"
   ]
  },
  {
   "cell_type": "code",
   "execution_count": 20,
   "metadata": {},
   "outputs": [
    {
     "data": {
      "text/plain": [
       "['Umesh K Parida', 'George Mendonca', 'Ariba Khaliq']"
      ]
     },
     "execution_count": 20,
     "metadata": {},
     "output_type": "execute_result"
    }
   ],
   "source": [
    "#scraping details of news on July 5\n",
    " \n",
    "# Scraping the Author name\n",
    "Author=[]\n",
    "try:\n",
    "    authr=driver.find_elements_by_xpath(\"//div[@class='yYIu- byline']/a\")\n",
    "    for i in authr:\n",
    "         Author.append(i.text)               \n",
    "except NoSuchElementException:#handling no such element exception\n",
    "    Date.append('No details available')\n",
    "except StaleElementReferenceException:#handling Stale element exception\n",
    "    Date.append('No details available')\n",
    "    \n",
    "time.sleep(2) \n",
    "\n",
    "Author[0:3]"
   ]
  },
  {
   "cell_type": "code",
   "execution_count": 21,
   "metadata": {},
   "outputs": [
    {
     "data": {
      "text/plain": [
       "['Stray stuck in sewage plant well rescued',\n",
       " 'IED was planted to extort Rs 2 crore from builder: Cops',\n",
       " 'The time Rajat almost lost INR 80,000; here’s how to be sure that your online transactions are legitimate']"
      ]
     },
     "execution_count": 21,
     "metadata": {},
     "output_type": "execute_result"
    }
   ],
   "source": [
    "#scraping details of news on July 5\n",
    "\n",
    "Headline=[]\n",
    "try:\n",
    "    Headlines=driver.find_elements_by_xpath(\"//h1[@class='_1Y-96']\")\n",
    "    for i in Headlines:\n",
    "        Headline.append(i.text)\n",
    "except NoSuchElementException:#handling no such element exception\n",
    "    Headline.append('No details available')\n",
    "except StaleElementReferenceException:#handling Stale element exception\n",
    "    Headline.append('No details available')\n",
    "    \n",
    "time.sleep(2)   \n",
    "\n",
    "Headline[0:3]"
   ]
  },
  {
   "cell_type": "code",
   "execution_count": 22,
   "metadata": {},
   "outputs": [
    {
     "data": {
      "text/plain": [
       "['dog', 'Kharghar', 'chicken']"
      ]
     },
     "execution_count": 22,
     "metadata": {},
     "output_type": "execute_result"
    }
   ],
   "source": [
    "#scraping details of news on July 5\n",
    "Description=[]\n",
    "try:\n",
    "    Descriptions=driver.find_elements_by_xpath(\"//div[@class='_3YYSt clearfix  ']/a\")\n",
    "    for i in Descriptions:\n",
    "        Description.append(i.text)\n",
    "except NoSuchElementException:#handling no such element exception\n",
    "    Description.append('No details available')\n",
    "except StaleElementReferenceException:#handling Stale element exception\n",
    "    Description.append('No details available')\n",
    "    \n",
    "time.sleep(2)   \n",
    "\n",
    "Description[0:3]"
   ]
  },
  {
   "cell_type": "code",
   "execution_count": 23,
   "metadata": {},
   "outputs": [
    {
     "data": {
      "text/html": [
       "<div>\n",
       "<style scoped>\n",
       "    .dataframe tbody tr th:only-of-type {\n",
       "        vertical-align: middle;\n",
       "    }\n",
       "\n",
       "    .dataframe tbody tr th {\n",
       "        vertical-align: top;\n",
       "    }\n",
       "\n",
       "    .dataframe thead th {\n",
       "        text-align: right;\n",
       "    }\n",
       "</style>\n",
       "<table border=\"1\" class=\"dataframe\">\n",
       "  <thead>\n",
       "    <tr style=\"text-align: right;\">\n",
       "      <th></th>\n",
       "      <th>Headline</th>\n",
       "      <th>Description</th>\n",
       "      <th>Author</th>\n",
       "    </tr>\n",
       "  </thead>\n",
       "  <tbody>\n",
       "    <tr>\n",
       "      <th>0</th>\n",
       "      <td>Stray stuck in sewage plant well rescued</td>\n",
       "      <td>dog</td>\n",
       "      <td>Umesh K Parida</td>\n",
       "    </tr>\n",
       "    <tr>\n",
       "      <th>1</th>\n",
       "      <td>IED was planted to extort Rs 2 crore from buil...</td>\n",
       "      <td>Kharghar</td>\n",
       "      <td>George Mendonca</td>\n",
       "    </tr>\n",
       "    <tr>\n",
       "      <th>2</th>\n",
       "      <td>The time Rajat almost lost INR 80,000; here’s ...</td>\n",
       "      <td>chicken</td>\n",
       "      <td>Ariba Khaliq</td>\n",
       "    </tr>\n",
       "  </tbody>\n",
       "</table>\n",
       "</div>"
      ],
      "text/plain": [
       "                                            Headline Description  \\\n",
       "0           Stray stuck in sewage plant well rescued         dog   \n",
       "1  IED was planted to extort Rs 2 crore from buil...    Kharghar   \n",
       "2  The time Rajat almost lost INR 80,000; here’s ...     chicken   \n",
       "\n",
       "            Author  \n",
       "0   Umesh K Parida  \n",
       "1  George Mendonca  \n",
       "2     Ariba Khaliq  "
      ]
     },
     "execution_count": 23,
     "metadata": {},
     "output_type": "execute_result"
    }
   ],
   "source": [
    "# creating dataframe\n",
    "\n",
    "df=pd.DataFrame({})\n",
    "df['Headline']= Headline[:3]\n",
    "df['Description']= Description[:3]\n",
    "df['Author']=Author[:3]\n",
    "\n",
    "df"
   ]
  },
  {
   "cell_type": "markdown",
   "metadata": {},
   "source": [
    "scraping details of news on July 6"
   ]
  },
  {
   "cell_type": "code",
   "execution_count": 25,
   "metadata": {},
   "outputs": [
    {
     "data": {
      "text/plain": [
       "['Ariba Khaliq']"
      ]
     },
     "execution_count": 25,
     "metadata": {},
     "output_type": "execute_result"
    }
   ],
   "source": [
    "#scraping details of news on July 6\n",
    " \n",
    "# Scraping the Author name\n",
    "Author=[]\n",
    "try:\n",
    "    authr=driver.find_elements_by_xpath(\"//div[@class='yYIu- byline']/a\")\n",
    "    for i in authr:\n",
    "         Author.append(i.text)               \n",
    "except NoSuchElementException:#handling no such element exception\n",
    "    Date.append('No details available')\n",
    "except StaleElementReferenceException:#handling Stale element exception\n",
    "    Date.append('No details available')\n",
    "    \n",
    "time.sleep(2) \n",
    "\n",
    "Author[0:3]"
   ]
  },
  {
   "cell_type": "code",
   "execution_count": 26,
   "metadata": {},
   "outputs": [
    {
     "data": {
      "text/plain": [
       "['Yes, this is monsoon! You can breathe easy',\n",
       " 'Rs 290 crore boost for policing projects',\n",
       " 'The time Rajat almost lost INR 80,000; here’s how to be sure that your online transactions are legitimate']"
      ]
     },
     "execution_count": 26,
     "metadata": {},
     "output_type": "execute_result"
    }
   ],
   "source": [
    "#scraping details of news on July 6\n",
    "\n",
    "Headline=[]\n",
    "try:\n",
    "    Headlines=driver.find_elements_by_xpath(\"//h1[@class='_1Y-96']\")\n",
    "    for i in Headlines:\n",
    "        Headline.append(i.text)\n",
    "except NoSuchElementException:#handling no such element exception\n",
    "    Headline.append('No details available')\n",
    "except StaleElementReferenceException:#handling Stale element exception\n",
    "    Headline.append('No details available')\n",
    "    \n",
    "time.sleep(2)   \n",
    "\n",
    "Headline[0:3]"
   ]
  },
  {
   "cell_type": "code",
   "execution_count": 27,
   "metadata": {},
   "outputs": [
    {
     "data": {
      "text/plain": [
       "['monsoon', 'rain', 'Delhi Police']"
      ]
     },
     "execution_count": 27,
     "metadata": {},
     "output_type": "execute_result"
    }
   ],
   "source": [
    "#scraping details of news on July 6\n",
    "Description=[]\n",
    "try:\n",
    "    Descriptions=driver.find_elements_by_xpath(\"//div[@class='_3YYSt clearfix  ']/a\")\n",
    "    for i in Descriptions:\n",
    "        Description.append(i.text)\n",
    "except NoSuchElementException:#handling no such element exception\n",
    "    Description.append('No details available')\n",
    "except StaleElementReferenceException:#handling Stale element exception\n",
    "    Description.append('No details available')\n",
    "    \n",
    "time.sleep(2)   \n",
    "\n",
    "Description[0:3]"
   ]
  },
  {
   "cell_type": "code",
   "execution_count": 29,
   "metadata": {},
   "outputs": [
    {
     "data": {
      "text/html": [
       "<div>\n",
       "<style scoped>\n",
       "    .dataframe tbody tr th:only-of-type {\n",
       "        vertical-align: middle;\n",
       "    }\n",
       "\n",
       "    .dataframe tbody tr th {\n",
       "        vertical-align: top;\n",
       "    }\n",
       "\n",
       "    .dataframe thead th {\n",
       "        text-align: right;\n",
       "    }\n",
       "</style>\n",
       "<table border=\"1\" class=\"dataframe\">\n",
       "  <thead>\n",
       "    <tr style=\"text-align: right;\">\n",
       "      <th></th>\n",
       "      <th>Headline</th>\n",
       "      <th>Description</th>\n",
       "    </tr>\n",
       "  </thead>\n",
       "  <tbody>\n",
       "    <tr>\n",
       "      <th>0</th>\n",
       "      <td>Yes, this is monsoon! You can breathe easy</td>\n",
       "      <td>monsoon</td>\n",
       "    </tr>\n",
       "    <tr>\n",
       "      <th>1</th>\n",
       "      <td>Rs 290 crore boost for policing projects</td>\n",
       "      <td>rain</td>\n",
       "    </tr>\n",
       "    <tr>\n",
       "      <th>2</th>\n",
       "      <td>The time Rajat almost lost INR 80,000; here’s ...</td>\n",
       "      <td>Delhi Police</td>\n",
       "    </tr>\n",
       "  </tbody>\n",
       "</table>\n",
       "</div>"
      ],
      "text/plain": [
       "                                            Headline   Description\n",
       "0         Yes, this is monsoon! You can breathe easy       monsoon\n",
       "1           Rs 290 crore boost for policing projects          rain\n",
       "2  The time Rajat almost lost INR 80,000; here’s ...  Delhi Police"
      ]
     },
     "execution_count": 29,
     "metadata": {},
     "output_type": "execute_result"
    }
   ],
   "source": [
    "# creating dataframe\n",
    "\n",
    "df=pd.DataFrame({})\n",
    "df['Headline']= Headline[:3]\n",
    "df['Description']= Description[:3]\n",
    "\n",
    "\n",
    "df"
   ]
  },
  {
   "cell_type": "markdown",
   "metadata": {},
   "source": [
    "# scraping details of news on July 7"
   ]
  },
  {
   "cell_type": "code",
   "execution_count": 3,
   "metadata": {},
   "outputs": [],
   "source": [
    "#scraping details of news on July 7\n",
    "# Opening the times of india\n",
    "url = \"https://timesofindia.indiatimes.com//city/mumbai/pure-and-social-science-courses-a-big-hit-at-iits/articleshow/70111608.cms\"\n",
    "driver.get(url)\n",
    "\n",
    "time.sleep(2)"
   ]
  },
  {
   "cell_type": "code",
   "execution_count": 4,
   "metadata": {},
   "outputs": [
    {
     "data": {
      "text/plain": [
       "['Yogita Rao']"
      ]
     },
     "execution_count": 4,
     "metadata": {},
     "output_type": "execute_result"
    }
   ],
   "source": [
    "#scraping details of news on July 7\n",
    " \n",
    "# Scraping the Author name\n",
    "Author=[]\n",
    "try:\n",
    "    authr=driver.find_elements_by_xpath(\"//div[@class='yYIu- byline']/a\")\n",
    "    for i in authr:\n",
    "         Author.append(i.text)               \n",
    "except NoSuchElementException:#handling no such element exception\n",
    "    Date.append('No details available')\n",
    "except StaleElementReferenceException:#handling Stale element exception\n",
    "    Date.append('No details available')\n",
    "    \n",
    "time.sleep(2) \n",
    "\n",
    "Author[0:3]"
   ]
  },
  {
   "cell_type": "code",
   "execution_count": 5,
   "metadata": {},
   "outputs": [
    {
     "data": {
      "text/plain": [
       "['Pure and social science courses a big hit at IITs']"
      ]
     },
     "execution_count": 5,
     "metadata": {},
     "output_type": "execute_result"
    }
   ],
   "source": [
    "#scraping details of news on July 7\n",
    "\n",
    "Headline=[]\n",
    "try:\n",
    "    Headlines=driver.find_elements_by_xpath(\"//h1[@class='_1Y-96']\")\n",
    "    for i in Headlines:\n",
    "        Headline.append(i.text)\n",
    "except NoSuchElementException:#handling no such element exception\n",
    "    Headline.append('No details available')\n",
    "except StaleElementReferenceException:#handling Stale element exception\n",
    "    Headline.append('No details available')\n",
    "    \n",
    "time.sleep(2)   \n",
    "\n",
    "Headline[0:3]"
   ]
  },
  {
   "cell_type": "code",
   "execution_count": 6,
   "metadata": {},
   "outputs": [
    {
     "data": {
      "text/plain": [
       "['mathematics', 'Olympiad', 'investment banking']"
      ]
     },
     "execution_count": 6,
     "metadata": {},
     "output_type": "execute_result"
    }
   ],
   "source": [
    "#scraping details of news on July 7\n",
    "Description=[]\n",
    "try:\n",
    "    Descriptions=driver.find_elements_by_xpath(\"//div[@class='_3YYSt clearfix  ']/a\")\n",
    "    for i in Descriptions:\n",
    "        Description.append(i.text)\n",
    "except NoSuchElementException:#handling no such element exception\n",
    "    Description.append('No details available')\n",
    "except StaleElementReferenceException:#handling Stale element exception\n",
    "    Description.append('No details available')\n",
    "    \n",
    "time.sleep(2)   \n",
    "\n",
    "Description[0:3]"
   ]
  },
  {
   "cell_type": "code",
   "execution_count": 8,
   "metadata": {},
   "outputs": [
    {
     "data": {
      "text/html": [
       "<div>\n",
       "<style scoped>\n",
       "    .dataframe tbody tr th:only-of-type {\n",
       "        vertical-align: middle;\n",
       "    }\n",
       "\n",
       "    .dataframe tbody tr th {\n",
       "        vertical-align: top;\n",
       "    }\n",
       "\n",
       "    .dataframe thead th {\n",
       "        text-align: right;\n",
       "    }\n",
       "</style>\n",
       "<table border=\"1\" class=\"dataframe\">\n",
       "  <thead>\n",
       "    <tr style=\"text-align: right;\">\n",
       "      <th></th>\n",
       "      <th>Headline</th>\n",
       "      <th>Description</th>\n",
       "      <th>Author</th>\n",
       "    </tr>\n",
       "  </thead>\n",
       "  <tbody>\n",
       "    <tr>\n",
       "      <th>0</th>\n",
       "      <td>Pure and social science courses a big hit at IITs</td>\n",
       "      <td>mathematics</td>\n",
       "      <td>Yogita Rao</td>\n",
       "    </tr>\n",
       "  </tbody>\n",
       "</table>\n",
       "</div>"
      ],
      "text/plain": [
       "                                            Headline  Description      Author\n",
       "0  Pure and social science courses a big hit at IITs  mathematics  Yogita Rao"
      ]
     },
     "execution_count": 8,
     "metadata": {},
     "output_type": "execute_result"
    }
   ],
   "source": [
    "# creating dataframe\n",
    "\n",
    "df=pd.DataFrame({})\n",
    "df['Headline']= Headline[:1]\n",
    "df['Description']= Description[:1]\n",
    "df['Author']=Author[:1]\n",
    "\n",
    "df"
   ]
  },
  {
   "cell_type": "markdown",
   "metadata": {},
   "source": [
    "scraping details of news on July 8"
   ]
  },
  {
   "cell_type": "code",
   "execution_count": 22,
   "metadata": {},
   "outputs": [],
   "source": [
    "#scraping details of news on July 8\n",
    "# Opening the times of india\n",
    "url = \"https://timesofindia.indiatimes.com//city/navi-mumbai/rain-causes-landslide-on-expressway-floods-goa-highway/articleshow/70121473.cms\"\n",
    "driver.get(url)\n",
    "time.sleep(2)"
   ]
  },
  {
   "cell_type": "code",
   "execution_count": 23,
   "metadata": {},
   "outputs": [
    {
     "data": {
      "text/plain": [
       "['Umesh K Parida', 'Gitesh Shelke', 'Ariba Khaliq']"
      ]
     },
     "execution_count": 23,
     "metadata": {},
     "output_type": "execute_result"
    }
   ],
   "source": [
    "#scraping details of news on July 8\n",
    " \n",
    "# Scraping the Author name\n",
    "Author=[]\n",
    "try:\n",
    "    authr=driver.find_elements_by_xpath(\"//div[@class='yYIu- byline']/a\")\n",
    "    for i in authr:\n",
    "         Author.append(i.text)               \n",
    "except NoSuchElementException:#handling no such element exception\n",
    "    Date.append('No details available')\n",
    "except StaleElementReferenceException:#handling Stale element exception\n",
    "    Date.append('No details available')\n",
    "    \n",
    "time.sleep(2) \n",
    "\n",
    "Author[0:3]"
   ]
  },
  {
   "cell_type": "code",
   "execution_count": 24,
   "metadata": {},
   "outputs": [
    {
     "data": {
      "text/plain": [
       "['Rain causes landslide on Expressway, floods Goa highway',\n",
       " 'Pune businessman in BMW held for auto driver’s death',\n",
       " 'The time Rajat almost lost INR 80,000; here’s how to be sure that your online transactions are legitimate']"
      ]
     },
     "execution_count": 24,
     "metadata": {},
     "output_type": "execute_result"
    }
   ],
   "source": [
    "#scraping details of news on July 8\n",
    "\n",
    "Headline=[]\n",
    "try:\n",
    "    Headlines=driver.find_elements_by_xpath(\"//h1[@class='_1Y-96']\")\n",
    "    for i in Headlines:\n",
    "        Headline.append(i.text)\n",
    "except NoSuchElementException:#handling no such element exception\n",
    "    Headline.append('No details available')\n",
    "except StaleElementReferenceException:#handling Stale element exception\n",
    "    Headline.append('No details available')\n",
    "    \n",
    "time.sleep(2)   \n",
    "\n",
    "Headline[0:3]"
   ]
  },
  {
   "cell_type": "code",
   "execution_count": 26,
   "metadata": {},
   "outputs": [
    {
     "data": {
      "text/plain": [
       "[\"NAVI MUMBAI/PUNE: Heavy rainfall over the weekend disrupted traffic on the Mumbai-Pune Expressway and Mumbai-Goa highway. Huge boulders crashed on the Mumbai-bound carriageway of the Expressway near Adoshi tunnel in Baur Ghat section in the wee hours of Sunday resulting in shutting of two lanes, while two stretches on the Mumbai-Goa highway were closed for 6-10 hours after two rivers swelled in Ratnagiri district on Saturday.\\nState highway safety patrol Baur Ghat unit constable Sunil Shirsat said the Expressway landslide was reported in the wee hours of Sunday after several days of incessant rain. The authorities cleared the two lanes using earth-movers. Till then, vehicles heading towards Mumbai were diverted from Somatne Phata to the old Pune-Mumbai highway, resulting in traffic jams in Lonavla till traffic movement was restored on the Expressway by 9am. Officials said as it was Sunday, there wasn't much traffic on the Mumbai-bound carriageway. However, in the evening, there was a traffic jam on the Pune carriageway stretching up to 1.5km.\\n\\nIn 2015, boulders had fallen on the same spot near Adoshi tunnel on June 22 and July 27. The authorities had then removed the loose rocks and sludge from the hill slope, undertaken repairs on the 8km Baur ghat stretch to avert such incidents and installed an iron mesh to prevent boulders from rolling down to the Expressway.\\nOn the Mumbai-Goa highway, the Chiplun city stretch was closed for traffic on Saturday 8pm as Vashisthi river crossed the 6.5m danger level, while the Khed stretch was shut from midnight after the Jagbudi riverwater inundated the highway near Bharna and Veral villages. Both sections were re-opened for traffic on Sunday 6am after the water receded.\\nChiplun tehsildar Jivan Desai said that heavy vehicles were not allowed to ply on the highway, while light vehicles were diverted to the Guhaghar-Khed-Parshuram bypass.\",\n",
       " 'NAVI MUMBAI: A 29-year-old businessman from Pune was arrested by the Vashi police for rash and negligent driving that caused the death of an auto driver and seriously injured another .\\nInvestigating officer API Sachin Khondre said: “The accused, Ishant Bhat, was driving a BMW along Palm Beach road. An auto rickshaw took a right turn onto the road at the Arenja corner junction, and crashed into the car around 2am. Bhat was unharmed.”\\nThe deceased auto driver, Deepak Prasad (19), did not have a licence. His friend, Babu Pal (18), was travelling in the auto and suffered serious injuries. The auto’s owner, identified as ‘Anna’ will also be booked for allowing Prasad to drive without a licence.\\nInspector Sanjeev Dhumal said, “In CCTV footage, the BMW can be seen accelerating without slowing down at the junction.',\n",
       " \"A Mumbai-based man was left baffled after a close encounter with getting scammed for using QR Code the wrong way to sell his DSLR camera. Rajat, 32, put his high-end camera up for sale online and was contacted by Sumant, who expressed his willingness to buy the camera for INR 80,000. He then forwarded Rajat a link to a Quick Response (QR) code to transfer the payment. Rajat happily scanned the code and entered the required passcodes as told by Sumant. However, he then received a message from his bank app “ Pay Rs 80,000 to Sumant”- as he had activated Airtel Safe Pay. That’s when Rajat realised it was a scam, and he had just been narrowly saved. He immediately cancelled the transaction and called the cybersecurity cell to make a formal complaint.\\nUnfortunately, the internet is being used commonly to commit fraud, and criminals are becoming smarter with their hacking techniques -the above being one of the latest examples. In this particular case, most people are unaware that money is not received but sent by scanning a QR code, so QR codes shared by anyone should not be scanned unless the objective is to pay.\\nHere are a few hacks to keep the intruders away and your data and money safe:\\n1. Use anti-virus software & strong passwords\\nShield your data against bugs, malware, and other malicious software threats by installing the latest security software, web browser, and operating system and setting strong passwords.\\n2. Beware of phishing scams\\nDo not open attachments, links, or pop-up screens; download any apps you cannot trust that come through suspicious emails. Also, don’t let anyone install any app on your phone; it might give them access to your devices.\\n3. Keep personal information personal\\nAvoid posting personal information, like your birthday, nicknames, personal account info, boarding pass, ATM PIN, etc., online. Anybody promising cashback or other rewards in lieu of a fee is a red flag.\\n4. Shop safely\\nMake sure your favourite website uses secure technology. Authenticate that the web address begins with HTTPS and go ahead with your payment only if the tiny, locked padlock symbol appears beside the page URL. If you would like to go the extra mile, read the site’s privacy policies.\\n5. Choose Multi-Factor Authentication (MFA) for financial transactions\\nHere, if one factor is compromised or broken, the fraudster will still have to cross at least one or more barriers to breach. Just like a third-factor authentication by Airtel Safe Pay shielded Rajat from losing his hard-earned money and precious possession. It uses Airtel's Network Intelligence to send real-time alerts to your mobile number, and you will not be charged for responding to them. It works on NetBanking and UPI transactions and provides real-time confirmation alerts. Airtel Safe Pay also safeguards your privacy as there is no exposure to your primary account, and you use an Airtel Payments Bank account for your transactions.\\nJust get an Airtel Payments Bank account linked to your Airtel number and enable Airtel Safe Pay for your account on the Airtel Thanks App. Whenever required, transact using your Airtel Payments Bank account by entering transaction amount, mPIN, etc., authorise the transaction alert you get on your phone, and voila, your transaction is complete without a sweat!\\nDisclaimer: This article has been produced on behalf of Airtel Payments Bank by Times Internet’s Spotlight team.\"]"
      ]
     },
     "execution_count": 26,
     "metadata": {},
     "output_type": "execute_result"
    }
   ],
   "source": [
    "#scraping details of news on July 8\n",
    "Description=[]\n",
    "try:\n",
    "    Descriptions=driver.find_elements_by_xpath(\"//div[@class='_3YYSt clearfix  ']\")\n",
    "    for i in Descriptions:\n",
    "        Description.append(i.text)\n",
    "except NoSuchElementException:#handling no such element exception\n",
    "    Description.append('No details available')\n",
    "except StaleElementReferenceException:#handling Stale element exception\n",
    "    Description.append('No details available')\n",
    "    \n",
    "time.sleep(2)   \n",
    "\n",
    "Description[0:3]"
   ]
  },
  {
   "cell_type": "code",
   "execution_count": 28,
   "metadata": {},
   "outputs": [
    {
     "data": {
      "text/html": [
       "<div>\n",
       "<style scoped>\n",
       "    .dataframe tbody tr th:only-of-type {\n",
       "        vertical-align: middle;\n",
       "    }\n",
       "\n",
       "    .dataframe tbody tr th {\n",
       "        vertical-align: top;\n",
       "    }\n",
       "\n",
       "    .dataframe thead th {\n",
       "        text-align: right;\n",
       "    }\n",
       "</style>\n",
       "<table border=\"1\" class=\"dataframe\">\n",
       "  <thead>\n",
       "    <tr style=\"text-align: right;\">\n",
       "      <th></th>\n",
       "      <th>Headline</th>\n",
       "      <th>Description</th>\n",
       "      <th>Author</th>\n",
       "    </tr>\n",
       "  </thead>\n",
       "  <tbody>\n",
       "    <tr>\n",
       "      <th>0</th>\n",
       "      <td>Rain causes landslide on Expressway, floods Go...</td>\n",
       "      <td>NAVI MUMBAI/PUNE: Heavy rainfall over the week...</td>\n",
       "      <td>Umesh K Parida</td>\n",
       "    </tr>\n",
       "    <tr>\n",
       "      <th>1</th>\n",
       "      <td>Pune businessman in BMW held for auto driver’s...</td>\n",
       "      <td>NAVI MUMBAI: A 29-year-old businessman from Pu...</td>\n",
       "      <td>Gitesh Shelke</td>\n",
       "    </tr>\n",
       "    <tr>\n",
       "      <th>2</th>\n",
       "      <td>The time Rajat almost lost INR 80,000; here’s ...</td>\n",
       "      <td>A Mumbai-based man was left baffled after a cl...</td>\n",
       "      <td>Ariba Khaliq</td>\n",
       "    </tr>\n",
       "  </tbody>\n",
       "</table>\n",
       "</div>"
      ],
      "text/plain": [
       "                                            Headline  \\\n",
       "0  Rain causes landslide on Expressway, floods Go...   \n",
       "1  Pune businessman in BMW held for auto driver’s...   \n",
       "2  The time Rajat almost lost INR 80,000; here’s ...   \n",
       "\n",
       "                                         Description          Author  \n",
       "0  NAVI MUMBAI/PUNE: Heavy rainfall over the week...  Umesh K Parida  \n",
       "1  NAVI MUMBAI: A 29-year-old businessman from Pu...   Gitesh Shelke  \n",
       "2  A Mumbai-based man was left baffled after a cl...    Ariba Khaliq  "
      ]
     },
     "execution_count": 28,
     "metadata": {},
     "output_type": "execute_result"
    }
   ],
   "source": [
    "# creating dataframe\n",
    "\n",
    "df=pd.DataFrame({})\n",
    "df['Headline']= Headline[:3]\n",
    "df['Description']= Description[:3]\n",
    "df['Author']=Author[:3]\n",
    "\n",
    "df"
   ]
  },
  {
   "cell_type": "markdown",
   "metadata": {},
   "source": [
    "scraping details of news on July 9"
   ]
  },
  {
   "cell_type": "code",
   "execution_count": 29,
   "metadata": {},
   "outputs": [],
   "source": [
    "#scraping details of news on July 9\n",
    "# Opening the times of india\n",
    "url = \"https://timesofindia.indiatimes.com//city/gurgaon/man-booked-for-sodomy/articleshow/70135402.cms\"\n",
    "driver.get(url)\n",
    "time.sleep(2)"
   ]
  },
  {
   "cell_type": "code",
   "execution_count": 30,
   "metadata": {},
   "outputs": [
    {
     "data": {
      "text/plain": [
       "['Sanjay Yadav']"
      ]
     },
     "execution_count": 30,
     "metadata": {},
     "output_type": "execute_result"
    }
   ],
   "source": [
    "# Scraping the Author name\n",
    "Author=[]\n",
    "try:\n",
    "    authr=driver.find_elements_by_xpath(\"//div[@class='yYIu- byline']/a\")\n",
    "    for i in authr:\n",
    "         Author.append(i.text)               \n",
    "except NoSuchElementException:#handling no such element exception\n",
    "    Date.append('No details available')\n",
    "except StaleElementReferenceException:#handling Stale element exception\n",
    "    Date.append('No details available')\n",
    "    \n",
    "time.sleep(2) \n",
    "\n",
    "Author[0:3]"
   ]
  },
  {
   "cell_type": "code",
   "execution_count": 31,
   "metadata": {},
   "outputs": [
    {
     "data": {
      "text/plain": [
       "['Gurugram man booked for sodomy']"
      ]
     },
     "execution_count": 31,
     "metadata": {},
     "output_type": "execute_result"
    }
   ],
   "source": [
    "\n",
    "Headline=[]\n",
    "try:\n",
    "    Headlines=driver.find_elements_by_xpath(\"//h1[@class='_1Y-96']\")\n",
    "    for i in Headlines:\n",
    "        Headline.append(i.text)\n",
    "except NoSuchElementException:#handling no such element exception\n",
    "    Headline.append('No details available')\n",
    "except StaleElementReferenceException:#handling Stale element exception\n",
    "    Headline.append('No details available')\n",
    "    \n",
    "time.sleep(2)   \n",
    "\n",
    "Headline[0:3]"
   ]
  },
  {
   "cell_type": "code",
   "execution_count": 32,
   "metadata": {},
   "outputs": [
    {
     "data": {
      "text/plain": [
       "['GURUGRAM: A man has been booked for allegedly sodomising his 14-year-old neighbour in Teekli village. An FIR has been registered at Badshapur police station under Section 4 of POCSO Act.\\nAccording to police, the crime took place on July 2 but as the victim was scared initially, he confided in his family on Sunday. “An investigation is underway to nab the accused who is absconding,” police said. As per the complaint filed by the boy’s father, the accused, identified as Neeraj (24), lured his son on some pretext and took him to a cemetery near the village and committed the crime.']"
      ]
     },
     "execution_count": 32,
     "metadata": {},
     "output_type": "execute_result"
    }
   ],
   "source": [
    "Description=[]\n",
    "try:\n",
    "    Descriptions=driver.find_elements_by_xpath(\"//div[@class='_3YYSt clearfix  ']\")\n",
    "    for i in Descriptions:\n",
    "        Description.append(i.text)\n",
    "except NoSuchElementException:#handling no such element exception\n",
    "    Description.append('No details available')\n",
    "except StaleElementReferenceException:#handling Stale element exception\n",
    "    Description.append('No details available')\n",
    "    \n",
    "time.sleep(2)   \n",
    "\n",
    "Description[0:3]"
   ]
  },
  {
   "cell_type": "code",
   "execution_count": 33,
   "metadata": {},
   "outputs": [
    {
     "data": {
      "text/html": [
       "<div>\n",
       "<style scoped>\n",
       "    .dataframe tbody tr th:only-of-type {\n",
       "        vertical-align: middle;\n",
       "    }\n",
       "\n",
       "    .dataframe tbody tr th {\n",
       "        vertical-align: top;\n",
       "    }\n",
       "\n",
       "    .dataframe thead th {\n",
       "        text-align: right;\n",
       "    }\n",
       "</style>\n",
       "<table border=\"1\" class=\"dataframe\">\n",
       "  <thead>\n",
       "    <tr style=\"text-align: right;\">\n",
       "      <th></th>\n",
       "      <th>Headline</th>\n",
       "      <th>Description</th>\n",
       "      <th>Author</th>\n",
       "    </tr>\n",
       "  </thead>\n",
       "  <tbody>\n",
       "    <tr>\n",
       "      <th>0</th>\n",
       "      <td>Gurugram man booked for sodomy</td>\n",
       "      <td>GURUGRAM: A man has been booked for allegedly ...</td>\n",
       "      <td>Sanjay Yadav</td>\n",
       "    </tr>\n",
       "  </tbody>\n",
       "</table>\n",
       "</div>"
      ],
      "text/plain": [
       "                         Headline  \\\n",
       "0  Gurugram man booked for sodomy   \n",
       "\n",
       "                                         Description        Author  \n",
       "0  GURUGRAM: A man has been booked for allegedly ...  Sanjay Yadav  "
      ]
     },
     "execution_count": 33,
     "metadata": {},
     "output_type": "execute_result"
    }
   ],
   "source": [
    "# creating dataframe\n",
    "\n",
    "df=pd.DataFrame({})\n",
    "df['Headline']= Headline[:1]\n",
    "df['Description']= Description[:1]\n",
    "df['Author']=Author[:1]\n",
    "\n",
    "df"
   ]
  },
  {
   "cell_type": "markdown",
   "metadata": {},
   "source": [
    "scraping details of news on July 10"
   ]
  },
  {
   "cell_type": "code",
   "execution_count": 34,
   "metadata": {},
   "outputs": [],
   "source": [
    "#scraping details of news on July 10\n",
    "# Opening the times of india\n",
    "url = \"https://timesofindia.indiatimes.com//city/lucknow/seven-lions-for-up-with-love-from-gujarat/articleshow/70150644.cms\"\n",
    "driver.get(url)\n",
    "time.sleep(2)"
   ]
  },
  {
   "cell_type": "code",
   "execution_count": 35,
   "metadata": {},
   "outputs": [
    {
     "data": {
      "text/plain": [
       "['Neha Shukla']"
      ]
     },
     "execution_count": 35,
     "metadata": {},
     "output_type": "execute_result"
    }
   ],
   "source": [
    "# Scraping the Author name\n",
    "Author=[]\n",
    "try:\n",
    "    authr=driver.find_elements_by_xpath(\"//div[@class='yYIu- byline']/a\")\n",
    "    for i in authr:\n",
    "         Author.append(i.text)               \n",
    "except NoSuchElementException:#handling no such element exception\n",
    "    Date.append('No details available')\n",
    "except StaleElementReferenceException:#handling Stale element exception\n",
    "    Date.append('No details available')\n",
    "    \n",
    "time.sleep(2) \n",
    "\n",
    "Author[0:3]"
   ]
  },
  {
   "cell_type": "code",
   "execution_count": 36,
   "metadata": {},
   "outputs": [
    {
     "data": {
      "text/plain": [
       "['Seven lions for Uttar Pradesh, with love from Gujarat']"
      ]
     },
     "execution_count": 36,
     "metadata": {},
     "output_type": "execute_result"
    }
   ],
   "source": [
    "Headline=[]\n",
    "try:\n",
    "    Headlines=driver.find_elements_by_xpath(\"//h1[@class='_1Y-96']\")\n",
    "    for i in Headlines:\n",
    "        Headline.append(i.text)\n",
    "except NoSuchElementException:#handling no such element exception\n",
    "    Headline.append('No details available')\n",
    "except StaleElementReferenceException:#handling Stale element exception\n",
    "    Headline.append('No details available')\n",
    "    \n",
    "time.sleep(2)   \n",
    "\n",
    "Headline[0:3]"
   ]
  },
  {
   "cell_type": "code",
   "execution_count": 37,
   "metadata": {},
   "outputs": [
    {
     "data": {
      "text/plain": [
       "['LUCKNOW: Uttar Pradesh is preparing to greet seven lions from Gujarat, instead of eight initially planned, at Etawah Safari Park and chief minister Yogi Adityanath’s showpiece Gorakhpur zoo.\\nA team of two vets that visited Junagarh zoo and thoroughly examined the big cats found one female to be suffering from neurological issues. The others, including two males, have received a medical clean chit and their health certificates have reached the state government.\\n\\n“We are expecting seven lions, five of them females, from Junagarh zoo very soon,” said director of Etawah safari VK Singh.\\nThe extra precaution of getting the lions medically examined in their parent state before bringing them to UP stemmed from the embarrassment the erstwhile Akhilesh Yadav government had faced after five out of the 10 lions brought from Gujarat between 2013 and 2015 under an animal exchange programme died between 2014 and 2016. The big cats had contracted the canine distemper virus, which attacks the respiratory, gastrointestinal and nervous systems in domestic and wild animals.\\nThis time, the big cats from Junagarh are a gift from the Vijay Rupani government, which passed on their custody to UP on June 11. The safari has since been sanitised against the contagion, courtesy a vaccine provided by San Diego zoo, US.\\nThe big cats were initially set to reach Etawah by May 22, but the blistering heat forced the forest department to postpone the plan. The decision for medical check-up further delayed their arrival. Now, the lions are likely to reach UP by the end of July. Four safari keepers have been to Junagarh zoo twice to spend time with the lions to understand their behaviour, habits and needs.\\nThe lions will be quarantined for 21 days at the safari before being shifted to their new home, the Gorakhpur zoo, which is likely be ready for them only by November.\\nThe fact that the zoo can house only three lions indicates that the rest may stay back in Etawah.']"
      ]
     },
     "execution_count": 37,
     "metadata": {},
     "output_type": "execute_result"
    }
   ],
   "source": [
    "Description=[]\n",
    "try:\n",
    "    Descriptions=driver.find_elements_by_xpath(\"//div[@class='_3YYSt clearfix  ']\")\n",
    "    for i in Descriptions:\n",
    "        Description.append(i.text)\n",
    "except NoSuchElementException:#handling no such element exception\n",
    "    Description.append('No details available')\n",
    "except StaleElementReferenceException:#handling Stale element exception\n",
    "    Description.append('No details available')\n",
    "    \n",
    "time.sleep(2)   \n",
    "\n",
    "Description[0:3]"
   ]
  },
  {
   "cell_type": "code",
   "execution_count": 38,
   "metadata": {},
   "outputs": [
    {
     "data": {
      "text/html": [
       "<div>\n",
       "<style scoped>\n",
       "    .dataframe tbody tr th:only-of-type {\n",
       "        vertical-align: middle;\n",
       "    }\n",
       "\n",
       "    .dataframe tbody tr th {\n",
       "        vertical-align: top;\n",
       "    }\n",
       "\n",
       "    .dataframe thead th {\n",
       "        text-align: right;\n",
       "    }\n",
       "</style>\n",
       "<table border=\"1\" class=\"dataframe\">\n",
       "  <thead>\n",
       "    <tr style=\"text-align: right;\">\n",
       "      <th></th>\n",
       "      <th>Headline</th>\n",
       "      <th>Description</th>\n",
       "      <th>Author</th>\n",
       "    </tr>\n",
       "  </thead>\n",
       "  <tbody>\n",
       "    <tr>\n",
       "      <th>0</th>\n",
       "      <td>Seven lions for Uttar Pradesh, with love from ...</td>\n",
       "      <td>LUCKNOW: Uttar Pradesh is preparing to greet s...</td>\n",
       "      <td>Neha Shukla</td>\n",
       "    </tr>\n",
       "  </tbody>\n",
       "</table>\n",
       "</div>"
      ],
      "text/plain": [
       "                                            Headline  \\\n",
       "0  Seven lions for Uttar Pradesh, with love from ...   \n",
       "\n",
       "                                         Description       Author  \n",
       "0  LUCKNOW: Uttar Pradesh is preparing to greet s...  Neha Shukla  "
      ]
     },
     "execution_count": 38,
     "metadata": {},
     "output_type": "execute_result"
    }
   ],
   "source": [
    "# creating dataframe\n",
    "\n",
    "df=pd.DataFrame({})\n",
    "df['Headline']= Headline[:1]\n",
    "df['Description']= Description[:1]\n",
    "df['Author']=Author[:1]\n",
    "\n",
    "df"
   ]
  },
  {
   "cell_type": "markdown",
   "metadata": {},
   "source": [
    "scraping details of news on July 11"
   ]
  },
  {
   "cell_type": "code",
   "execution_count": 39,
   "metadata": {},
   "outputs": [],
   "source": [
    "#scraping details of news on July 11\n",
    "# Opening the times of india\n",
    "url = \"https://timesofindia.indiatimes.com//city/mumbai/iit-b-develops-first-desi-biodegradable-bone-screws/articleshow/70164721.cms\"\n",
    "driver.get(url)\n",
    "time.sleep(2)"
   ]
  },
  {
   "cell_type": "code",
   "execution_count": 40,
   "metadata": {},
   "outputs": [
    {
     "data": {
      "text/plain": [
       "['Yogita Rao']"
      ]
     },
     "execution_count": 40,
     "metadata": {},
     "output_type": "execute_result"
    }
   ],
   "source": [
    "# Scraping the Author name\n",
    "Author=[]\n",
    "try:\n",
    "    authr=driver.find_elements_by_xpath(\"//div[@class='yYIu- byline']/a\")\n",
    "    for i in authr:\n",
    "         Author.append(i.text)               \n",
    "except NoSuchElementException:#handling no such element exception\n",
    "    Date.append('No details available')\n",
    "except StaleElementReferenceException:#handling Stale element exception\n",
    "    Date.append('No details available')\n",
    "    \n",
    "time.sleep(2) \n",
    "\n",
    "Author[0:3]"
   ]
  },
  {
   "cell_type": "code",
   "execution_count": 41,
   "metadata": {},
   "outputs": [
    {
     "data": {
      "text/plain": [
       "['IIT-Bombay develops first desi biodegradable bone screws']"
      ]
     },
     "execution_count": 41,
     "metadata": {},
     "output_type": "execute_result"
    }
   ],
   "source": [
    "Headline=[]\n",
    "try:\n",
    "    Headlines=driver.find_elements_by_xpath(\"//h1[@class='_1Y-96']\")\n",
    "    for i in Headlines:\n",
    "        Headline.append(i.text)\n",
    "except NoSuchElementException:#handling no such element exception\n",
    "    Headline.append('No details available')\n",
    "except StaleElementReferenceException:#handling Stale element exception\n",
    "    Headline.append('No details available')\n",
    "    \n",
    "time.sleep(2)   \n",
    "\n",
    "Headline[0:3]"
   ]
  },
  {
   "cell_type": "code",
   "execution_count": 42,
   "metadata": {},
   "outputs": [
    {
     "data": {
      "text/plain": [
       "['MUMBAI: A team of researchers from IIT-Bombay has developed the first-ever indigenous biodegradable screws that can be used to fix bone and soft tissue injuries .\\n\\nCommonly used bone screws (implants) made of metals can impede bone growth, especially in children. Biodegradable screws degrade over time and do not interfere with bone growth. These also reduce the risk of infection.\\nThough imported biodegradable screws are used extensively in India, they are expensive.\\nTo bring down the cost of surgery and help injuries heal faster, researchers at IIT-Bombay developed the screws using localized biomaterial such as magnesium oxide and silk that have unique customizable mechanic and biodegradable properties. The research carried out by Ajay Suryavanshi, Kunal Khanna, Sindhu K R, Jayesh Bellare and Rohit Srivastava was funded by the Indian Council of Medical Research and was recently published in the journal Biomedical Materials. The team is now looking at transferring the technology to an industry.\\nSrivastava, who is from the institute’s bioscience and bioengineering department, said the basic material used in making the imported screws was expensive. “Each screw costs around Rs 15,000 to Rs 16,000 and in a surgery, where three to four screws are required, the cost goes up significantly. Though it has tremendous advantages over metallic screws, surgeons preferred to not use them,” he said.\\nThe team had difficulty initially in choosing a material that can have enough strength to hold the bone tissues together and should also be biocompatible. In the beginning, they used a polymer (polycaprolactone), which was very soft. It was later decided to fill this polymer with biocompatible material such as magnesium oxide and reinforced it with silk, which is widely used in sutures. The magnesium oxide provided strength, while silk enhanced elasticity.\\nSuryavanshi said, “Other imported polymers take more time to degrade than the desired bone healing rate. The degradation of our product can be tuned as per requirement.” The team has already filed for patent. “Developing these low-cost resorbable orthopaedic fixation devices matching international standards can make high-quality medical care devices affordable to the masses. This technology can now provide a platform to manufacture various other implants such as suture anchors, bone plates, etc at an affordable rate,” said Suryavanshi. But the bone screws have limited application in heavy-weight bearing surgeries such as knee and hip surgeries.\\nDr Sanjay Agarwala, director, and head of orthopaedic surgery at P D Hinduja Hospital, said bone injuries have varying healing period. “If the biodegradable screws can serve this function, it is a welcome research,” he said. Dr Dinesh Lokhande, professor and heady of surgery, Bombay Veterinary College, said, “The screws will dissolve automatically and there will be no need to remove the implant after a while, especially in strays.”']"
      ]
     },
     "execution_count": 42,
     "metadata": {},
     "output_type": "execute_result"
    }
   ],
   "source": [
    "Description=[]\n",
    "try:\n",
    "    Descriptions=driver.find_elements_by_xpath(\"//div[@class='_3YYSt clearfix  ']\")\n",
    "    for i in Descriptions:\n",
    "        Description.append(i.text)\n",
    "except NoSuchElementException:#handling no such element exception\n",
    "    Description.append('No details available')\n",
    "except StaleElementReferenceException:#handling Stale element exception\n",
    "    Description.append('No details available')\n",
    "    \n",
    "time.sleep(2)   \n",
    "\n",
    "Description[0:3]"
   ]
  },
  {
   "cell_type": "code",
   "execution_count": 43,
   "metadata": {},
   "outputs": [
    {
     "data": {
      "text/html": [
       "<div>\n",
       "<style scoped>\n",
       "    .dataframe tbody tr th:only-of-type {\n",
       "        vertical-align: middle;\n",
       "    }\n",
       "\n",
       "    .dataframe tbody tr th {\n",
       "        vertical-align: top;\n",
       "    }\n",
       "\n",
       "    .dataframe thead th {\n",
       "        text-align: right;\n",
       "    }\n",
       "</style>\n",
       "<table border=\"1\" class=\"dataframe\">\n",
       "  <thead>\n",
       "    <tr style=\"text-align: right;\">\n",
       "      <th></th>\n",
       "      <th>Headline</th>\n",
       "      <th>Description</th>\n",
       "      <th>Author</th>\n",
       "    </tr>\n",
       "  </thead>\n",
       "  <tbody>\n",
       "    <tr>\n",
       "      <th>0</th>\n",
       "      <td>IIT-Bombay develops first desi biodegradable b...</td>\n",
       "      <td>MUMBAI: A team of researchers from IIT-Bombay ...</td>\n",
       "      <td>Yogita Rao</td>\n",
       "    </tr>\n",
       "  </tbody>\n",
       "</table>\n",
       "</div>"
      ],
      "text/plain": [
       "                                            Headline  \\\n",
       "0  IIT-Bombay develops first desi biodegradable b...   \n",
       "\n",
       "                                         Description      Author  \n",
       "0  MUMBAI: A team of researchers from IIT-Bombay ...  Yogita Rao  "
      ]
     },
     "execution_count": 43,
     "metadata": {},
     "output_type": "execute_result"
    }
   ],
   "source": [
    "# creating dataframe\n",
    "\n",
    "df=pd.DataFrame({})\n",
    "df['Headline']= Headline[:1]\n",
    "df['Description']= Description[:1]\n",
    "df['Author']=Author[:1]\n",
    "\n",
    "df"
   ]
  },
  {
   "cell_type": "markdown",
   "metadata": {},
   "source": [
    "scraping details of news on July 12"
   ]
  },
  {
   "cell_type": "code",
   "execution_count": 45,
   "metadata": {},
   "outputs": [],
   "source": [
    "#scraping details of news on July 12\n",
    "# Opening the times of india\n",
    "url = \"https://timesofindia.indiatimes.com//city/thane/thane-man-arrested-for-strangling-wife-after-tiff/articleshow/70185667.cms\"\n",
    "driver.get(url)\n",
    "time.sleep(2)"
   ]
  },
  {
   "cell_type": "code",
   "execution_count": 46,
   "metadata": {},
   "outputs": [
    {
     "data": {
      "text/plain": [
       "['Pradeep Gupta', 'Ariba Khaliq']"
      ]
     },
     "execution_count": 46,
     "metadata": {},
     "output_type": "execute_result"
    }
   ],
   "source": [
    "# Scraping the Author name\n",
    "Author=[]\n",
    "try:\n",
    "    authr=driver.find_elements_by_xpath(\"//div[@class='yYIu- byline']/a\")\n",
    "    for i in authr:\n",
    "         Author.append(i.text)               \n",
    "except NoSuchElementException:#handling no such element exception\n",
    "    Date.append('No details available')\n",
    "except StaleElementReferenceException:#handling Stale element exception\n",
    "    Date.append('No details available')\n",
    "    \n",
    "time.sleep(2) \n",
    "\n",
    "Author[0:3]"
   ]
  },
  {
   "cell_type": "code",
   "execution_count": 47,
   "metadata": {},
   "outputs": [
    {
     "data": {
      "text/plain": [
       "['Thane: Man arrested for strangling wife after tiff',\n",
       " 'Maharashtra: Bridge washed away after heavy rain, no casualty',\n",
       " 'The time Rajat almost lost INR 80,000; here’s how to be sure that your online transactions are legitimate']"
      ]
     },
     "execution_count": 47,
     "metadata": {},
     "output_type": "execute_result"
    }
   ],
   "source": [
    "Headline=[]\n",
    "try:\n",
    "    Headlines=driver.find_elements_by_xpath(\"//h1[@class='_1Y-96']\")\n",
    "    for i in Headlines:\n",
    "        Headline.append(i.text)\n",
    "except NoSuchElementException:#handling no such element exception\n",
    "    Headline.append('No details available')\n",
    "except StaleElementReferenceException:#handling Stale element exception\n",
    "    Headline.append('No details available')\n",
    "    \n",
    "time.sleep(2)   \n",
    "\n",
    "Headline[0:3]"
   ]
  },
  {
   "cell_type": "code",
   "execution_count": 48,
   "metadata": {},
   "outputs": [
    {
     "data": {
      "text/plain": [
       "['KALYAN: The Shivaji Nagar police have arrested a 41-year-old man for allegedly killing his wife. According to the police, Deepak Bhoee strangled his wife, Rupali, after they had an argument. Rupali wanted to visit her relative\\'s house for a wedding, which Bhoee was opposed to.\\nThe couple lived in Pale Gaon, Ambernath (E). On Wednesday evening, while their 6-year-old daughter was in school and their 2-year-old son slept in the other room, they argued and Deepak strangled his wife with her scarf. He told his neighbours, who then informed the police.\\nHe was arrested on the charge of murder. \"The couple argued frequently, and further probe is on,\" said a senior police inspector.',\n",
       " 'PALGHAR: A major portion of a bridge across a river was washed away on Thursday following heavy rains in Maharashtra\\'s Palghar district, officials said.\\nNo casualty was reported in the incident, district disaster management cell chief Vivekananda Kadam said.\\nThe bridge was located over a small river at Morchundi village in Mokhada taluka, he said.\\n\"A major portion of the bridge got washed away early morning. Vehicular movement was stopped on either side of the bridge to prevent any mishap,\" Mokhada police station\\'s senior inspector Sanjay Ambre said.\\nTraffic movement from Jawhar taluka to neighbouring Nashik district was suspended, the official said.\\nIn another incident, huge boulders rolled down the Torangana Ghat slope and crashed into the wall of a bridge located on MokhadaTrimbakeshwar route, Ambre said.\\nThis affected vehicular movement from Mokhada taluka to Nashik, he added.',\n",
       " \"A Mumbai-based man was left baffled after a close encounter with getting scammed for using QR Code the wrong way to sell his DSLR camera. Rajat, 32, put his high-end camera up for sale online and was contacted by Sumant, who expressed his willingness to buy the camera for INR 80,000. He then forwarded Rajat a link to a Quick Response (QR) code to transfer the payment. Rajat happily scanned the code and entered the required passcodes as told by Sumant. However, he then received a message from his bank app “ Pay Rs 80,000 to Sumant”- as he had activated Airtel Safe Pay. That’s when Rajat realised it was a scam, and he had just been narrowly saved. He immediately cancelled the transaction and called the cybersecurity cell to make a formal complaint.\\nUnfortunately, the internet is being used commonly to commit fraud, and criminals are becoming smarter with their hacking techniques -the above being one of the latest examples. In this particular case, most people are unaware that money is not received but sent by scanning a QR code, so QR codes shared by anyone should not be scanned unless the objective is to pay.\\nHere are a few hacks to keep the intruders away and your data and money safe:\\n1. Use anti-virus software & strong passwords\\nShield your data against bugs, malware, and other malicious software threats by installing the latest security software, web browser, and operating system and setting strong passwords.\\n2. Beware of phishing scams\\nDo not open attachments, links, or pop-up screens; download any apps you cannot trust that come through suspicious emails. Also, don’t let anyone install any app on your phone; it might give them access to your devices.\\n3. Keep personal information personal\\nAvoid posting personal information, like your birthday, nicknames, personal account info, boarding pass, ATM PIN, etc., online. Anybody promising cashback or other rewards in lieu of a fee is a red flag.\\n4. Shop safely\\nMake sure your favourite website uses secure technology. Authenticate that the web address begins with HTTPS and go ahead with your payment only if the tiny, locked padlock symbol appears beside the page URL. If you would like to go the extra mile, read the site’s privacy policies.\\n5. Choose Multi-Factor Authentication (MFA) for financial transactions\\nHere, if one factor is compromised or broken, the fraudster will still have to cross at least one or more barriers to breach. Just like a third-factor authentication by Airtel Safe Pay shielded Rajat from losing his hard-earned money and precious possession. It uses Airtel's Network Intelligence to send real-time alerts to your mobile number, and you will not be charged for responding to them. It works on NetBanking and UPI transactions and provides real-time confirmation alerts. Airtel Safe Pay also safeguards your privacy as there is no exposure to your primary account, and you use an Airtel Payments Bank account for your transactions.\\nJust get an Airtel Payments Bank account linked to your Airtel number and enable Airtel Safe Pay for your account on the Airtel Thanks App. Whenever required, transact using your Airtel Payments Bank account by entering transaction amount, mPIN, etc., authorise the transaction alert you get on your phone, and voila, your transaction is complete without a sweat!\\nDisclaimer: This article has been produced on behalf of Airtel Payments Bank by Times Internet’s Spotlight team.\"]"
      ]
     },
     "execution_count": 48,
     "metadata": {},
     "output_type": "execute_result"
    }
   ],
   "source": [
    "Description=[]\n",
    "try:\n",
    "    Descriptions=driver.find_elements_by_xpath(\"//div[@class='_3YYSt clearfix  ']\")\n",
    "    for i in Descriptions:\n",
    "        Description.append(i.text)\n",
    "except NoSuchElementException:#handling no such element exception\n",
    "    Description.append('No details available')\n",
    "except StaleElementReferenceException:#handling Stale element exception\n",
    "    Description.append('No details available')\n",
    "    \n",
    "time.sleep(2)   \n",
    "\n",
    "Description[0:3]"
   ]
  },
  {
   "cell_type": "code",
   "execution_count": 49,
   "metadata": {},
   "outputs": [
    {
     "data": {
      "text/html": [
       "<div>\n",
       "<style scoped>\n",
       "    .dataframe tbody tr th:only-of-type {\n",
       "        vertical-align: middle;\n",
       "    }\n",
       "\n",
       "    .dataframe tbody tr th {\n",
       "        vertical-align: top;\n",
       "    }\n",
       "\n",
       "    .dataframe thead th {\n",
       "        text-align: right;\n",
       "    }\n",
       "</style>\n",
       "<table border=\"1\" class=\"dataframe\">\n",
       "  <thead>\n",
       "    <tr style=\"text-align: right;\">\n",
       "      <th></th>\n",
       "      <th>Headline</th>\n",
       "      <th>Description</th>\n",
       "      <th>Author</th>\n",
       "    </tr>\n",
       "  </thead>\n",
       "  <tbody>\n",
       "    <tr>\n",
       "      <th>0</th>\n",
       "      <td>Thane: Man arrested for strangling wife after ...</td>\n",
       "      <td>KALYAN: The Shivaji Nagar police have arrested...</td>\n",
       "      <td>Pradeep Gupta</td>\n",
       "    </tr>\n",
       "    <tr>\n",
       "      <th>1</th>\n",
       "      <td>Maharashtra: Bridge washed away after heavy ra...</td>\n",
       "      <td>PALGHAR: A major portion of a bridge across a ...</td>\n",
       "      <td>Ariba Khaliq</td>\n",
       "    </tr>\n",
       "  </tbody>\n",
       "</table>\n",
       "</div>"
      ],
      "text/plain": [
       "                                            Headline  \\\n",
       "0  Thane: Man arrested for strangling wife after ...   \n",
       "1  Maharashtra: Bridge washed away after heavy ra...   \n",
       "\n",
       "                                         Description         Author  \n",
       "0  KALYAN: The Shivaji Nagar police have arrested...  Pradeep Gupta  \n",
       "1  PALGHAR: A major portion of a bridge across a ...   Ariba Khaliq  "
      ]
     },
     "execution_count": 49,
     "metadata": {},
     "output_type": "execute_result"
    }
   ],
   "source": [
    "# creating dataframe\n",
    "\n",
    "df=pd.DataFrame({})\n",
    "df['Headline']= Headline[:2]\n",
    "df['Description']= Description[:2]\n",
    "df['Author']=Author[:2]\n",
    "\n",
    "df"
   ]
  },
  {
   "cell_type": "code",
   "execution_count": 4,
   "metadata": {},
   "outputs": [],
   "source": [
    "#scraping details of news on July 13\n",
    "# Opening the times of india\n",
    "url = \"https://timesofindia.indiatimes.com//city/chennai/relief-as-water-arrives-from-vellore/articleshow/70198682.cms\"\n",
    "driver.get(url)\n",
    "time.sleep(2)"
   ]
  },
  {
   "cell_type": "code",
   "execution_count": 5,
   "metadata": {},
   "outputs": [
    {
     "data": {
      "text/plain": [
       "['P Oppili', 'V Ayyappan']"
      ]
     },
     "execution_count": 5,
     "metadata": {},
     "output_type": "execute_result"
    }
   ],
   "source": [
    "# Scraping the Author name\n",
    "Author=[]\n",
    "try:\n",
    "    authr=driver.find_elements_by_xpath(\"//div[@class='yYIu- byline']/a\")\n",
    "    for i in authr:\n",
    "         Author.append(i.text)               \n",
    "except NoSuchElementException:#handling no such element exception\n",
    "    Date.append('No details available')\n",
    "except StaleElementReferenceException:#handling Stale element exception\n",
    "    Date.append('No details available')\n",
    "    \n",
    "time.sleep(2) \n",
    "\n",
    "Author[0:3]"
   ]
  },
  {
   "cell_type": "code",
   "execution_count": 6,
   "metadata": {},
   "outputs": [
    {
     "data": {
      "text/plain": [
       "['Relief as water arrives from Vellore']"
      ]
     },
     "execution_count": 6,
     "metadata": {},
     "output_type": "execute_result"
    }
   ],
   "source": [
    "Headline=[]\n",
    "try:\n",
    "    Headlines=driver.find_elements_by_xpath(\"//h1[@class='_1Y-96']\")\n",
    "    for i in Headlines:\n",
    "        Headline.append(i.text)\n",
    "except NoSuchElementException:#handling no such element exception\n",
    "    Headline.append('No details available')\n",
    "except StaleElementReferenceException:#handling Stale element exception\n",
    "    Headline.append('No details available')\n",
    "    \n",
    "time.sleep(2)   \n",
    "\n",
    "Headline[0:3]"
   ]
  },
  {
   "cell_type": "code",
   "execution_count": 7,
   "metadata": {},
   "outputs": [
    {
     "data": {
      "text/plain": [
       "['CHENNAI: Relief for the water-starved city, though minimal, arrived by train on Friday. Fifty wagons with 2.75 million litres from Jolarpet arrived at the dedicated track near Villivakkam railway station around noon.\\nSources said after the water special arrived, top Union government officials directed Southern Railway to wait for the state government ministers before unloading and the train was sent to Tondiarpet yard. After an ‘official function’, the pumping began around 4pm and finished close to 10pm.\\n\\nA senior Metrowater official said the government’s request to Southern Railway to help transport 11 MLD from Jolarpet to Chennai prompted the Chennai division to make arrangements to run the water special over the 200 km.\\nTwo Bogie Tank wagons (BTPN) rakes, with the capacity to load 55,000 litres in each wagon for a complement of 2.75 million litres in each water special, were made at the wagon repair shop at Kota in Rajasthan. The Kota workshop, primarily tasked with making wagons for transporting edible oil, began work on the water wagons on June 25 after a rake arrived from Karchhia in Vadodara, also in Western Railway. The wagons were subjected to a steam cleaning for eight hours, freeing them of edible oil sediments. All fittings were opened and cleaned mechanically and manually. Sedimentary remains were scratched.\\nDedicated loading and unloading facilities were installed both at Jolarpettai and Villivakkam by TWAD (Tamil Nadu Water Supply and Drainage Board) and Chennai Metropolitan Water Supply and Sewerage Board. Three pumps of 50hp capacity were installed to complete unloading. One pump was reserved as standby. Water unloading facilities were completed at Villivakkam with a 600-metre pipeline to carry the water to Kilpauk water works for treatment before it can be distributed. Two dedicated electrical engines in a push-pull formation were attached to each water special to enable the railways to cut down on engine turnaround and wagon turnaround time. Metrowater had made elaborate security and lighting arrangements at Villivakkam to make the operations safer, said the official.']"
      ]
     },
     "execution_count": 7,
     "metadata": {},
     "output_type": "execute_result"
    }
   ],
   "source": [
    "Description=[]\n",
    "try:\n",
    "    Descriptions=driver.find_elements_by_xpath(\"//div[@class='_3YYSt clearfix  ']\")\n",
    "    for i in Descriptions:\n",
    "        Description.append(i.text)\n",
    "except NoSuchElementException:#handling no such element exception\n",
    "    Description.append('No details available')\n",
    "except StaleElementReferenceException:#handling Stale element exception\n",
    "    Description.append('No details available')\n",
    "    \n",
    "time.sleep(2)   \n",
    "\n",
    "Description[0:3]"
   ]
  },
  {
   "cell_type": "code",
   "execution_count": 8,
   "metadata": {},
   "outputs": [
    {
     "data": {
      "text/html": [
       "<div>\n",
       "<style scoped>\n",
       "    .dataframe tbody tr th:only-of-type {\n",
       "        vertical-align: middle;\n",
       "    }\n",
       "\n",
       "    .dataframe tbody tr th {\n",
       "        vertical-align: top;\n",
       "    }\n",
       "\n",
       "    .dataframe thead th {\n",
       "        text-align: right;\n",
       "    }\n",
       "</style>\n",
       "<table border=\"1\" class=\"dataframe\">\n",
       "  <thead>\n",
       "    <tr style=\"text-align: right;\">\n",
       "      <th></th>\n",
       "      <th>Headline</th>\n",
       "      <th>Description</th>\n",
       "      <th>Author</th>\n",
       "    </tr>\n",
       "  </thead>\n",
       "  <tbody>\n",
       "    <tr>\n",
       "      <th>0</th>\n",
       "      <td>Relief as water arrives from Vellore</td>\n",
       "      <td>CHENNAI: Relief for the water-starved city, th...</td>\n",
       "      <td>P Oppili</td>\n",
       "    </tr>\n",
       "  </tbody>\n",
       "</table>\n",
       "</div>"
      ],
      "text/plain": [
       "                               Headline  \\\n",
       "0  Relief as water arrives from Vellore   \n",
       "\n",
       "                                         Description    Author  \n",
       "0  CHENNAI: Relief for the water-starved city, th...  P Oppili  "
      ]
     },
     "execution_count": 8,
     "metadata": {},
     "output_type": "execute_result"
    }
   ],
   "source": [
    "# creating dataframe\n",
    "\n",
    "df=pd.DataFrame({})\n",
    "df['Headline']= Headline[:1]\n",
    "df['Description']= Description[:1]\n",
    "df['Author']=Author[:1]\n",
    "\n",
    "df"
   ]
  },
  {
   "cell_type": "markdown",
   "metadata": {},
   "source": [
    "Scraping details of news on July 14"
   ]
  },
  {
   "cell_type": "code",
   "execution_count": 9,
   "metadata": {},
   "outputs": [],
   "source": [
    "#scraping details of news on July 14\n",
    "# Opening the times of india\n",
    "url = \"https://timesofindia.indiatimes.com//city/chennai/i-t-finds-rs-27-lakh-from-vellore-realtors-estate/articleshow/70211750.cms\"\n",
    "driver.get(url)\n",
    "time.sleep(2)"
   ]
  },
  {
   "cell_type": "code",
   "execution_count": 10,
   "metadata": {},
   "outputs": [
    {
     "data": {
      "text/plain": [
       "['B Sivakumar']"
      ]
     },
     "execution_count": 10,
     "metadata": {},
     "output_type": "execute_result"
    }
   ],
   "source": [
    "# Scraping the Author name\n",
    "Author=[]\n",
    "try:\n",
    "    authr=driver.find_elements_by_xpath(\"//div[@class='yYIu- byline']/a\")\n",
    "    for i in authr:\n",
    "         Author.append(i.text)               \n",
    "except NoSuchElementException:#handling no such element exception\n",
    "    Date.append('No details available')\n",
    "except StaleElementReferenceException:#handling Stale element exception\n",
    "    Date.append('No details available')\n",
    "    \n",
    "time.sleep(2) \n",
    "\n",
    "Author[0:3]"
   ]
  },
  {
   "cell_type": "code",
   "execution_count": 11,
   "metadata": {},
   "outputs": [
    {
     "data": {
      "text/plain": [
       "['I-T finds Rs 27 lakh from Vellore realtor’s estate']"
      ]
     },
     "execution_count": 11,
     "metadata": {},
     "output_type": "execute_result"
    }
   ],
   "source": [
    "Headline=[]\n",
    "try:\n",
    "    Headlines=driver.find_elements_by_xpath(\"//h1[@class='_1Y-96']\")\n",
    "    for i in Headlines:\n",
    "        Headline.append(i.text)\n",
    "except NoSuchElementException:#handling no such element exception\n",
    "    Headline.append('No details available')\n",
    "except StaleElementReferenceException:#handling Stale element exception\n",
    "    Headline.append('No details available')\n",
    "    \n",
    "time.sleep(2)   \n",
    "\n",
    "Headline[0:3]"
   ]
  },
  {
   "cell_type": "code",
   "execution_count": 12,
   "metadata": {},
   "outputs": [
    {
     "data": {
      "text/plain": [
       "['CHENNAI: The income tax department on Saturday seized ₹27 lakh from a real estate businessman’s premises in Vellore.\\nThe I-T officials, along with the election department’s flying and static squads, started the searches at the residence of Elumalai at Vasur near Vellore on Saturday evening as part of the effort to prevent cash distribution to voters in Vellore Lok Sabha constituency, where election is slated for August 5.\\n\\nThe I-T department drafted officials from different parts of the state to carry out the searches.\\n“The searches are going on for more than 5 hours. We received information from flying squads that Elumalai was in possession of huge amount of cash. The model code gives us powers to search any premises including houses if we have credible information about stocking of cash and valuables,” said a senior Income Tax official.\\nMoney was found buried in the backyard of Elumalai’s residence, the official said.\\n“Elumalai deals in real estate and is said to be close to leaders of a party which is contesting in the Vellore election. He was not able to show source of the seized money. Further questioning is on to ascertain whether the cash was meant for distribution to voters,” said the official.\\nThis is the first Income Tax search after the Vellore election was announced earlier this month.\\nIn April this year, the Election Commission, based on a report from the Income Tax department, rescinded Vellore election just days before the scheduled date of polling following seizure of huge amount of cash, meant for distribution to voters.\\nMore than ₹10 lakh unaccounted money was seized from DMK candidate Kathir Anand’s house in Katpadi on March 29. An FIR has been registered in this regard. Anand is DMK treasurer Duraimurugan’s son.\\nLater, I-T officials searched the residence of a DMK functionary Damodaran and seized Rs 11.48 crore. “But another party functionary, Poonjolay Srinivasan, called the income tax department and accepted that the cash seized belonged to him and it was to be used for distributing to the voters,” the FIR said quoting the I-T report. Following the raids, DMK had accused I-T of indulging in witch hunting at the hustings.\\nFollowing filing of the FIR, the Income Tax investigation wing sent a detailed report to the EC. Vellore was the only LS constituency in the country where election was rescinded on charges of voter bribing.']"
      ]
     },
     "execution_count": 12,
     "metadata": {},
     "output_type": "execute_result"
    }
   ],
   "source": [
    "Description=[]\n",
    "try:\n",
    "    Descriptions=driver.find_elements_by_xpath(\"//div[@class='_3YYSt clearfix  ']\")\n",
    "    for i in Descriptions:\n",
    "        Description.append(i.text)\n",
    "except NoSuchElementException:#handling no such element exception\n",
    "    Description.append('No details available')\n",
    "except StaleElementReferenceException:#handling Stale element exception\n",
    "    Description.append('No details available')\n",
    "    \n",
    "time.sleep(2)   \n",
    "\n",
    "Description[0:3]"
   ]
  },
  {
   "cell_type": "code",
   "execution_count": 13,
   "metadata": {},
   "outputs": [
    {
     "data": {
      "text/html": [
       "<div>\n",
       "<style scoped>\n",
       "    .dataframe tbody tr th:only-of-type {\n",
       "        vertical-align: middle;\n",
       "    }\n",
       "\n",
       "    .dataframe tbody tr th {\n",
       "        vertical-align: top;\n",
       "    }\n",
       "\n",
       "    .dataframe thead th {\n",
       "        text-align: right;\n",
       "    }\n",
       "</style>\n",
       "<table border=\"1\" class=\"dataframe\">\n",
       "  <thead>\n",
       "    <tr style=\"text-align: right;\">\n",
       "      <th></th>\n",
       "      <th>Headline</th>\n",
       "      <th>Description</th>\n",
       "      <th>Author</th>\n",
       "    </tr>\n",
       "  </thead>\n",
       "  <tbody>\n",
       "    <tr>\n",
       "      <th>0</th>\n",
       "      <td>I-T finds Rs 27 lakh from Vellore realtor’s es...</td>\n",
       "      <td>CHENNAI: The income tax department on Saturday...</td>\n",
       "      <td>B Sivakumar</td>\n",
       "    </tr>\n",
       "  </tbody>\n",
       "</table>\n",
       "</div>"
      ],
      "text/plain": [
       "                                            Headline  \\\n",
       "0  I-T finds Rs 27 lakh from Vellore realtor’s es...   \n",
       "\n",
       "                                         Description       Author  \n",
       "0  CHENNAI: The income tax department on Saturday...  B Sivakumar  "
      ]
     },
     "execution_count": 13,
     "metadata": {},
     "output_type": "execute_result"
    }
   ],
   "source": [
    "# creating dataframe\n",
    "\n",
    "df=pd.DataFrame({})\n",
    "df['Headline']= Headline[:1]\n",
    "df['Description']= Description[:1]\n",
    "df['Author']=Author[:1]\n",
    "\n",
    "df"
   ]
  },
  {
   "cell_type": "markdown",
   "metadata": {},
   "source": [
    "Scraping details of news on July 15"
   ]
  },
  {
   "cell_type": "code",
   "execution_count": 14,
   "metadata": {},
   "outputs": [],
   "source": [
    "#scraping details of news on July 15\n",
    "# Opening the times of india\n",
    "url = \"https://timesofindia.indiatimes.com//city/patna/govt-playing-with-careers-of-students/articleshow/70218738.cms\"\n",
    "driver.get(url)\n",
    "time.sleep(2)"
   ]
  },
  {
   "cell_type": "code",
   "execution_count": 15,
   "metadata": {},
   "outputs": [
    {
     "data": {
      "text/plain": [
       "[]"
      ]
     },
     "execution_count": 15,
     "metadata": {},
     "output_type": "execute_result"
    }
   ],
   "source": [
    "# Scraping the Author name\n",
    "Author=[]\n",
    "try:\n",
    "    authr=driver.find_elements_by_xpath(\"//div[@class='yYIu- byline']/a\")\n",
    "    for i in authr:\n",
    "         Author.append(i.text)               \n",
    "except NoSuchElementException:#handling no such element exception\n",
    "    Date.append('No details available')\n",
    "except StaleElementReferenceException:#handling Stale element exception\n",
    "    Date.append('No details available')\n",
    "    \n",
    "time.sleep(2) \n",
    "\n",
    "Author[0:3]"
   ]
  },
  {
   "cell_type": "code",
   "execution_count": 16,
   "metadata": {},
   "outputs": [
    {
     "data": {
      "text/plain": [
       "['‘Government playing with careers of students’',\n",
       " 'Bihar: Floodwaters enter Forbesganj town',\n",
       " '5 factors to consider before choosing exterior wall paint']"
      ]
     },
     "execution_count": 16,
     "metadata": {},
     "output_type": "execute_result"
    }
   ],
   "source": [
    "Headline=[]\n",
    "try:\n",
    "    Headlines=driver.find_elements_by_xpath(\"//h1[@class='_1Y-96']\")\n",
    "    for i in Headlines:\n",
    "        Headline.append(i.text)\n",
    "except NoSuchElementException:#handling no such element exception\n",
    "    Headline.append('No details available')\n",
    "except StaleElementReferenceException:#handling Stale element exception\n",
    "    Headline.append('No details available')\n",
    "    \n",
    "time.sleep(2)   \n",
    "\n",
    "Headline[0:3]"
   ]
  },
  {
   "cell_type": "code",
   "execution_count": 17,
   "metadata": {},
   "outputs": [
    {
     "data": {
      "text/plain": [
       "['PATNA: Rashtriya Lok Samata Party (RLSP) chief Upendra Kushwaha on Sunday said the recent change in criteria for the eligibility of students willing to avail the student credit card (SCC) facility adversely affected the career of students who took admissions in various institutions outside the state for higher technical studies in June.\\n“The government has every right to change the criteria for seeking loan, but it should have been done before June,” Kushwaha said.\\n\\nThe notification issued on July 5 by the education department made it conditional that the students seeking Rs 4 lakh loan through SCC from the state’s corpus fund would have to be selective about the institutes, Kushwaha said.\\nAs per the notification, the institute concerned should be duly recognised by National Assessment and Accreditation Council (NAAC) and should also be in its minimum Grade A category, or the institute’s courses and programmes should have accreditation from National Board of Accreditation, or the institute should enjoy ranking as released under National Institutional Ranking Framework (NIRF).',\n",
       " 'ARARIA: Floodwaters entered several houses in villages under Narpatganj, Sikti, Kursakanta and Kuwari blocks in Araria district on Sunday. Even Forbesganj and Araria towns came under floodwaters.\\nThe famous Lord Shiva temple at Madanpur Bazar, 15km from here, came under waist-deep water. The swollen Bakra river damaged the road between Pipra Bijwar and Dharamganj, virtually cutting off the locals from rest of the world.\\nSeveral villages under Rahatmina, Sorgaon, Lakshmipur, Jagirprasi and Sikti gram panchayats were affected by floods. The eight villages of Sikti block, including Ramnagar, Belwadi, Pothia and Jamuwa, were worst affected.\\nThe floodwaters also entered platform number 2 of Jogbani railway station, forcing the railways to stop all Jogbani-bound trains at Forbesganj.\\nThe floodwater was flowing at least 2-feet high on national highway diversions near Bhangiya and Boria, submerging standing crops on hundreds of acres of land. The floodwaters of the Parman river entered Kochgama, Bhimsena and Mushahari Tola villages, damaging crops spread in an area of about 200 hectares. Forbesganj SDO Rabi Prakash visited the flood-hit areas on Sunday to take stock of situation.\\nAraria DM Baidyanath Yadav has ordered suspension of vehicular movement on NH-327 E near Boria. Heavy vehicles have been barred from using the Beli bridge.\\nThe embankment of the Noona river near Pararia village under Sikti block was also damaged. All rivers, such as the Bakra, the Parman, the Barjan, the Lohandra, the Masna and the Noon in Aria district were flowing above danger mark on Sunday.\\nThe floodwater has also damaged road between Forbesganj and Kursakanta, affecting hundreds of people.\\nAll the circle officers have been put on high alert in the district. The NDRF team from Patna is expected to reach the district on Monday, the DM said.',\n",
       " 'The Covid-19 pandemic and the subsequent lockdowns across the globe reoriented the way we live, work, play, and connect. During this time, we formed an intimate relationship with our home which not only became our safe and secure space but also doubled up as an office and eased our quarantine anxiety. This pretty much explains why living in lively and well-designed spaces can be an energy booster and enhance our quality of life. Now, as the country enters into the new normal, many people are looking to redesign their home spaces having realised how big of an investment it can be. Whether it is renovating the interiors, or getting the exteriors painted, the pandemic has clearly brought about the need to make the home functional and aesthetic.\\nIf we are to study home decor trends in India specifically, the last few months have seen people directing their interest towards exterior painting. Apart from enhancing the market value of a home, exterior wall painting is a smart way to keep it protected, increase its kerb appeal, promote good indoor quality, and also rejig the aura of one’s home. However, homeowners often contemplate getting their home exteriors painted because it can be an arduous, costly task. Added to this, there are also many confusions regarding the number of years one should wait for before getting their home exteriors painted, the paint that they should choose, or the weather that is best for exterior painting. To clear these doubts, here is a list of factors that you should consider before giving your house a fresh coat of paint and adding to its overall appeal.\\n1.\\nDurability\\n\\nThis is one of the top-most factors that you should consider before choosing an exterior painting solution for your home. A good painting system should be able to withstand the elements and protect your home against extreme weather conditions for at least 10-15 years. This is why, while giving your home the much-needed facelift, choose acrylic exterior paints that promise to keep the surface of the walls smooth and uniform over the years. Nippon Paint Weatherbond Pro is one of the top solutions that you can consider for high-performance protection for your exterior walls. It is high on durability and comes with Double Layer technology and the best Bio-pack system that has an anti-fading formula. The base coat of PRO is elastomeric in nature and is enriched with fibers which give mechanical strength to the structure and also help in bridging hairline cracks. Thus, the surface and colour of your home stays uniform even after being exposed to different types of extreme weather conditions.\\n2.\\n360-degree protection\\n\\nSmart exterior painting solutions like Nippon Paint Weatherbond Pro also take care of various environmental issues that often end up damaging exterior paints. The anti-carbonation property of WB PRO prevents carbonation, and chloride attack. Further, this painting solution has also been proven to be resistant against algal and fungal attack, dust/dirt pick-up, efflorescence, hairline crack bridging and water seepage through exteriors. This means that your home is bound to stay protected against the effects of nature and would not lose its sheen over time.\\n3.\\nWater Proofing\\n\\nWater-proofing plays a major role in the durability of exterior paints. Especially in India, where many places are susceptible to heavy monsoon rains, it is extremely important for people to choose water-resistant exterior emulsions to withstand water damages, and ward off moisture, dampness and mold. Nippon Paint Weatherbond Pro offers 360-degree protection against water as it comes with a water-resistant film that protects the house against water damages, keeping the surface and colour of your home uniform and preventing the formation of rain lines. The base coat being elastomeric in nature and having fibers in it helps reinforce the strength and prevents water from seeping through the surface. WB PRO offers 10 years of waterproofing warranty also, when applied as per the recommended system of coating.\\n4. VOC levels\\n\\nVOCs or Volatile Organic Compounds are often found in solvent-based paints in small quantities as they aid in transferring the paint from the can to the surface and allow smooth painting operations. However, once the paint is applied, VOCs often evaporate and the area that is painted should be appropriately ventilated because excessive exposure to VOCs can have negative effects on one’s health and the environment. This is why one should consider low VOC paints for one’s home. Weatherbond Pro range has a low VOC level and emits less air-polluting vapours and paint odour that pollutes the environment. It is a relatively greener painting solution that also lets you occupy the house immediately after painting. WB PRO is a Green-certified product by the Confederation of Indian Industries (CII).\\n5. Warranty\\n\\nExterior painting can be a costly and tedious affair and choosing a poor quality paint would mean that you’ll have to repeat the process sometime soon. To avoid this, it is advisable to choose a painting system that comes with a longer period of warranty. Nippon Paint Weatherbond Pro offers a performance warranty of up to 15 years when applied as a system on vertical walls. Further, it comes with upto 10 years of waterproofing warranty and 10 years of Algal warranty for vertical walls when applied as a system. This means that you do not have to worry about your home’s protection if you invest in this range by Nippon Paint.\\nWith all this and more, Nippon Paint Weatherbond Pro is certainly a force to reckon with if you are looking to give your home a fresh new appeal this year. Apart from providing you with long-lasting results, this painting system comes with many eye-catching colours to make your home add charm to the entire locality. Check out Nippon Paint’s website for more details and perk up your space right before the festive season.\\nDisclaimer: This article has been produced on behalf of Nippon Paint India by Times Internet’s Spotlight team']"
      ]
     },
     "execution_count": 17,
     "metadata": {},
     "output_type": "execute_result"
    }
   ],
   "source": [
    "Description=[]\n",
    "try:\n",
    "    Descriptions=driver.find_elements_by_xpath(\"//div[@class='_3YYSt clearfix  ']\")\n",
    "    for i in Descriptions:\n",
    "        Description.append(i.text)\n",
    "except NoSuchElementException:#handling no such element exception\n",
    "    Description.append('No details available')\n",
    "except StaleElementReferenceException:#handling Stale element exception\n",
    "    Description.append('No details available')\n",
    "    \n",
    "time.sleep(2)   \n",
    "\n",
    "Description[0:3]"
   ]
  },
  {
   "cell_type": "code",
   "execution_count": 18,
   "metadata": {},
   "outputs": [
    {
     "data": {
      "text/html": [
       "<div>\n",
       "<style scoped>\n",
       "    .dataframe tbody tr th:only-of-type {\n",
       "        vertical-align: middle;\n",
       "    }\n",
       "\n",
       "    .dataframe tbody tr th {\n",
       "        vertical-align: top;\n",
       "    }\n",
       "\n",
       "    .dataframe thead th {\n",
       "        text-align: right;\n",
       "    }\n",
       "</style>\n",
       "<table border=\"1\" class=\"dataframe\">\n",
       "  <thead>\n",
       "    <tr style=\"text-align: right;\">\n",
       "      <th></th>\n",
       "      <th>Headline</th>\n",
       "      <th>Description</th>\n",
       "    </tr>\n",
       "  </thead>\n",
       "  <tbody>\n",
       "    <tr>\n",
       "      <th>0</th>\n",
       "      <td>‘Government playing with careers of students’</td>\n",
       "      <td>PATNA: Rashtriya Lok Samata Party (RLSP) chief...</td>\n",
       "    </tr>\n",
       "    <tr>\n",
       "      <th>1</th>\n",
       "      <td>Bihar: Floodwaters enter Forbesganj town</td>\n",
       "      <td>ARARIA: Floodwaters entered several houses in ...</td>\n",
       "    </tr>\n",
       "    <tr>\n",
       "      <th>2</th>\n",
       "      <td>5 factors to consider before choosing exterior...</td>\n",
       "      <td>The Covid-19 pandemic and the subsequent lockd...</td>\n",
       "    </tr>\n",
       "  </tbody>\n",
       "</table>\n",
       "</div>"
      ],
      "text/plain": [
       "                                            Headline  \\\n",
       "0      ‘Government playing with careers of students’   \n",
       "1           Bihar: Floodwaters enter Forbesganj town   \n",
       "2  5 factors to consider before choosing exterior...   \n",
       "\n",
       "                                         Description  \n",
       "0  PATNA: Rashtriya Lok Samata Party (RLSP) chief...  \n",
       "1  ARARIA: Floodwaters entered several houses in ...  \n",
       "2  The Covid-19 pandemic and the subsequent lockd...  "
      ]
     },
     "execution_count": 18,
     "metadata": {},
     "output_type": "execute_result"
    }
   ],
   "source": [
    "# creating dataframe\n",
    "\n",
    "df=pd.DataFrame({})\n",
    "df['Headline']= Headline[:3]\n",
    "df['Description']= Description[:3]\n",
    "\n",
    "\n",
    "df"
   ]
  },
  {
   "cell_type": "markdown",
   "metadata": {},
   "source": [
    "Scraping details of news on July 16"
   ]
  },
  {
   "cell_type": "code",
   "execution_count": 3,
   "metadata": {},
   "outputs": [],
   "source": [
    "#scraping details of news on July 16\n",
    "# Opening the times of india\n",
    "url = \"https://timesofindia.indiatimes.com//city/mumbai/after-bull-run-iit-bombay-plans-gaushala-on-campus/articleshow/70238090.cms\"\n",
    "driver.get(url)\n",
    "time.sleep(2)"
   ]
  },
  {
   "cell_type": "code",
   "execution_count": 4,
   "metadata": {},
   "outputs": [
    {
     "data": {
      "text/plain": [
       "['Yogita Rao']"
      ]
     },
     "execution_count": 4,
     "metadata": {},
     "output_type": "execute_result"
    }
   ],
   "source": [
    "# Scraping the Author name\n",
    "Author=[]\n",
    "try:\n",
    "    authr=driver.find_elements_by_xpath(\"//div[@class='yYIu- byline']/a\")\n",
    "    for i in authr:\n",
    "         Author.append(i.text)               \n",
    "except NoSuchElementException:#handling no such element exception\n",
    "    Date.append('No details available')\n",
    "except StaleElementReferenceException:#handling Stale element exception\n",
    "    Date.append('No details available')\n",
    "    \n",
    "time.sleep(2) \n",
    "\n",
    "Author[0:3]"
   ]
  },
  {
   "cell_type": "code",
   "execution_count": 5,
   "metadata": {},
   "outputs": [
    {
     "data": {
      "text/plain": [
       "['After bull run, IIT-Bombay plans gaushala on campus']"
      ]
     },
     "execution_count": 5,
     "metadata": {},
     "output_type": "execute_result"
    }
   ],
   "source": [
    "Headline=[]\n",
    "try:\n",
    "    Headlines=driver.find_elements_by_xpath(\"//h1[@class='_1Y-96']\")\n",
    "    for i in Headlines:\n",
    "        Headline.append(i.text)\n",
    "except NoSuchElementException:#handling no such element exception\n",
    "    Headline.append('No details available')\n",
    "except StaleElementReferenceException:#handling Stale element exception\n",
    "    Headline.append('No details available')\n",
    "    \n",
    "time.sleep(2)   \n",
    "\n",
    "Headline[0:3]"
   ]
  },
  {
   "cell_type": "code",
   "execution_count": 6,
   "metadata": {},
   "outputs": [
    {
     "data": {
      "text/plain": [
       "['MUMBAI: IIT-Bombay may soon have a shelter to take care of the cattle on its campus. Institute officials and the cow lovers\\' association on the campus are planning to identify areas that are slightly away from the residential and academic areas for the cattle to roam freely. Thursday\\'s freak accident wherein an intern suffered injuries after being knocked down by two raging bulls has prompted the authorities to act on the long-pending shelter plan. Though the bulls were not charging at the student, he was in their path and was run over.\\nOn Monday, when a BMC van went to pick up the stray cattle near Powai and some staffers tried to capture bulls outside IIT gate, many campus residents opposed them. \"They claimed that the bull was from their campus and had ventured out. While one bull was captured, the residents forced the other one inside the campus to protect it from our staffers,\" said a civic official, who had to approach the Powai police. Senior inspector from Powai police station Anil Pophale said that the cops intervened, and the matter was resolved.\\n\\nThough the institute plans to provide shelter to the cattle, it will not be a confined space like a gaushala, said dean of student affairs Tapanendu Kundu. He said, \"Many on the campus believe that it is their natural habitat, and therefore, they should not be thrown out. We are planning to identify areas where they can be taken care of by the cow lovers\\' association and cannot venture out towards the academic and residential areas. This way, we can ensure there is no conflict between the two,\" said the dean.\\nRead this story in Bengali']"
      ]
     },
     "execution_count": 6,
     "metadata": {},
     "output_type": "execute_result"
    }
   ],
   "source": [
    "Description=[]\n",
    "try:\n",
    "    Descriptions=driver.find_elements_by_xpath(\"//div[@class='_3YYSt clearfix  ']\")\n",
    "    for i in Descriptions:\n",
    "        Description.append(i.text)\n",
    "except NoSuchElementException:#handling no such element exception\n",
    "    Description.append('No details available')\n",
    "except StaleElementReferenceException:#handling Stale element exception\n",
    "    Description.append('No details available')\n",
    "    \n",
    "time.sleep(2)   \n",
    "\n",
    "Description[0:3]"
   ]
  },
  {
   "cell_type": "code",
   "execution_count": 7,
   "metadata": {},
   "outputs": [
    {
     "data": {
      "text/html": [
       "<div>\n",
       "<style scoped>\n",
       "    .dataframe tbody tr th:only-of-type {\n",
       "        vertical-align: middle;\n",
       "    }\n",
       "\n",
       "    .dataframe tbody tr th {\n",
       "        vertical-align: top;\n",
       "    }\n",
       "\n",
       "    .dataframe thead th {\n",
       "        text-align: right;\n",
       "    }\n",
       "</style>\n",
       "<table border=\"1\" class=\"dataframe\">\n",
       "  <thead>\n",
       "    <tr style=\"text-align: right;\">\n",
       "      <th></th>\n",
       "      <th>Headline</th>\n",
       "      <th>Description</th>\n",
       "      <th>Author</th>\n",
       "    </tr>\n",
       "  </thead>\n",
       "  <tbody>\n",
       "    <tr>\n",
       "      <th>0</th>\n",
       "      <td>After bull run, IIT-Bombay plans gaushala on c...</td>\n",
       "      <td>MUMBAI: IIT-Bombay may soon have a shelter to ...</td>\n",
       "      <td>Yogita Rao</td>\n",
       "    </tr>\n",
       "  </tbody>\n",
       "</table>\n",
       "</div>"
      ],
      "text/plain": [
       "                                            Headline  \\\n",
       "0  After bull run, IIT-Bombay plans gaushala on c...   \n",
       "\n",
       "                                         Description      Author  \n",
       "0  MUMBAI: IIT-Bombay may soon have a shelter to ...  Yogita Rao  "
      ]
     },
     "execution_count": 7,
     "metadata": {},
     "output_type": "execute_result"
    }
   ],
   "source": [
    "# creating dataframe\n",
    "\n",
    "df=pd.DataFrame({})\n",
    "df['Headline']= Headline[:1]\n",
    "df['Description']= Description[:1]\n",
    "df['Author']=Author[:1]\n",
    "\n",
    "df"
   ]
  },
  {
   "cell_type": "markdown",
   "metadata": {},
   "source": [
    "Scraping details of news on July 17"
   ]
  },
  {
   "cell_type": "code",
   "execution_count": 8,
   "metadata": {},
   "outputs": [],
   "source": [
    "#scraping details of news on July 17\n",
    "# Opening the times of india\n",
    "url = \"https://timesofindia.indiatimes.com//city/guwahati/5-more-die-in-assam-floods-toll-touches-20/articleshow/70254244.cms\"\n",
    "driver.get(url)\n",
    "time.sleep(2)"
   ]
  },
  {
   "cell_type": "code",
   "execution_count": 9,
   "metadata": {},
   "outputs": [
    {
     "data": {
      "text/plain": [
       "['Naresh Mitra']"
      ]
     },
     "execution_count": 9,
     "metadata": {},
     "output_type": "execute_result"
    }
   ],
   "source": [
    "# Scraping the Author name\n",
    "Author=[]\n",
    "try:\n",
    "    authr=driver.find_elements_by_xpath(\"//div[@class='yYIu- byline']/a\")\n",
    "    for i in authr:\n",
    "         Author.append(i.text)               \n",
    "except NoSuchElementException:#handling no such element exception\n",
    "    Date.append('No details available')\n",
    "except StaleElementReferenceException:#handling Stale element exception\n",
    "    Date.append('No details available')\n",
    "    \n",
    "time.sleep(2) \n",
    "\n",
    "Author[0:3]"
   ]
  },
  {
   "cell_type": "code",
   "execution_count": 10,
   "metadata": {},
   "outputs": [
    {
     "data": {
      "text/plain": [
       "['5 more die in Assam floods, toll touches 20']"
      ]
     },
     "execution_count": 10,
     "metadata": {},
     "output_type": "execute_result"
    }
   ],
   "source": [
    "Headline=[]\n",
    "try:\n",
    "    Headlines=driver.find_elements_by_xpath(\"//h1[@class='_1Y-96']\")\n",
    "    for i in Headlines:\n",
    "        Headline.append(i.text)\n",
    "except NoSuchElementException:#handling no such element exception\n",
    "    Headline.append('No details available')\n",
    "except StaleElementReferenceException:#handling Stale element exception\n",
    "    Headline.append('No details available')\n",
    "    \n",
    "time.sleep(2)   \n",
    "\n",
    "Headline[0:3]"
   ]
  },
  {
   "cell_type": "code",
   "execution_count": 11,
   "metadata": {},
   "outputs": [
    {
     "data": {
      "text/plain": [
       "['GUWAHATI: The death toll in Assam floods increased to 20 on Tuesday after five more bodies were found in Barpeta, Dhubri, Morigaon and Nagaon districts. All of them had drowned.\\nAccording to the Assam State Disaster Management Authority (ASDMA), 52,59,142 lakh people in 30 districts have been hit in the second wave of floods that hit the state early this month. Till Monday, nearly 43 lakh people were affected. Barpeta district in lower Assam, where 12,15,672 people are in the grip of the deluge, continues to be the worst hit. Till Tuesday, croplands spanning over 1,63,969.02 hectares were under inundated.\\n\\nThe Brahmaputra and its tributaries are flowing above the danger mark at many places across the state. In Guwahati, the Brahmaputra is flowing at 51.23 meters, only 0.23 meters below the highest flood level of 51.46 meters recorded on July 21, 2004. Several places in the city have been inundated.\\nThe ASDMA said 405 relief distribution centres have been opened in the affected districts and over 1.47 lakh flood-displaced people have taken shelter in 290 relief camps.\\nOn Tuesday, Union Jal Shakti minister Gajendra Singh Shekhawat discussed the prevailing flood situation in the state with chief minister Sarbananda Sonowal. He also did an aerial survey of the flood-hit areas and interacted with inmates of some relief camps. Shekhawat said the Centre and state government are committed to finding a solution to the flood problem in the state.\\nThe Centre has released Rs 251.55 crore as the first installment for the State Disaster Response Fund. Sonowal said this will help the state government in conducting relief and rescue operations.\\nArmy\\'s General Officer Commanding in chief, Eastern Command, Lt Gen MM Naravane, took stock of the situation and assured a quick response by the Army on being requisitioned for flood relief work. \"The Army has asked the flood relief columns to be prepared for deployment on short notice. Altogether 95 flood relief columns, along with additional 31 columns as reserve, have been kept on standby,\" said defence PRO Lt Col P Khongsai.\\nNational Disaster Response Force (NDRF) said 4,500 people have been rescued from the flood-hit areas of Baksa, Morigaon, Golaghat and Kamrup (Rural) districts from July 11 till Tuesday.\\nOn the other hand, train services along the Lumding-Silchar section in the Barak Valley have been suspended till July 19 because of the ongoing restoration work on tracks damaged in landslides on July 12. Northeast Frontier Railway (NFR) CPRO PJ Sharma said the Railways will provide additional coaches in trains connecting upper Assam with Guwahati in view of road communication disruption in upper Assam due to floods.']"
      ]
     },
     "execution_count": 11,
     "metadata": {},
     "output_type": "execute_result"
    }
   ],
   "source": [
    "Description=[]\n",
    "try:\n",
    "    Descriptions=driver.find_elements_by_xpath(\"//div[@class='_3YYSt clearfix  ']\")\n",
    "    for i in Descriptions:\n",
    "        Description.append(i.text)\n",
    "except NoSuchElementException:#handling no such element exception\n",
    "    Description.append('No details available')\n",
    "except StaleElementReferenceException:#handling Stale element exception\n",
    "    Description.append('No details available')\n",
    "    \n",
    "time.sleep(2)   \n",
    "\n",
    "Description[0:3]"
   ]
  },
  {
   "cell_type": "code",
   "execution_count": 12,
   "metadata": {},
   "outputs": [
    {
     "data": {
      "text/html": [
       "<div>\n",
       "<style scoped>\n",
       "    .dataframe tbody tr th:only-of-type {\n",
       "        vertical-align: middle;\n",
       "    }\n",
       "\n",
       "    .dataframe tbody tr th {\n",
       "        vertical-align: top;\n",
       "    }\n",
       "\n",
       "    .dataframe thead th {\n",
       "        text-align: right;\n",
       "    }\n",
       "</style>\n",
       "<table border=\"1\" class=\"dataframe\">\n",
       "  <thead>\n",
       "    <tr style=\"text-align: right;\">\n",
       "      <th></th>\n",
       "      <th>Headline</th>\n",
       "      <th>Description</th>\n",
       "      <th>Author</th>\n",
       "    </tr>\n",
       "  </thead>\n",
       "  <tbody>\n",
       "    <tr>\n",
       "      <th>0</th>\n",
       "      <td>5 more die in Assam floods, toll touches 20</td>\n",
       "      <td>GUWAHATI: The death toll in Assam floods incre...</td>\n",
       "      <td>Naresh Mitra</td>\n",
       "    </tr>\n",
       "  </tbody>\n",
       "</table>\n",
       "</div>"
      ],
      "text/plain": [
       "                                      Headline  \\\n",
       "0  5 more die in Assam floods, toll touches 20   \n",
       "\n",
       "                                         Description        Author  \n",
       "0  GUWAHATI: The death toll in Assam floods incre...  Naresh Mitra  "
      ]
     },
     "execution_count": 12,
     "metadata": {},
     "output_type": "execute_result"
    }
   ],
   "source": [
    "# creating dataframe\n",
    "\n",
    "df=pd.DataFrame({})\n",
    "df['Headline']= Headline[:1]\n",
    "df['Description']= Description[:1]\n",
    "df['Author']=Author[:1]\n",
    "\n",
    "df"
   ]
  },
  {
   "cell_type": "markdown",
   "metadata": {},
   "source": [
    "Scraping details of news on July 18"
   ]
  },
  {
   "cell_type": "code",
   "execution_count": 13,
   "metadata": {},
   "outputs": [],
   "source": [
    "#scraping details of news on July 18\n",
    "# Opening the times of india\n",
    "url = \"https://timesofindia.indiatimes.com//city/bareilly/three-criminals-escape-from-custody-after-killing-two-constables/articleshow/70266931.cms\"\n",
    "driver.get(url)\n",
    "time.sleep(2)"
   ]
  },
  {
   "cell_type": "code",
   "execution_count": 14,
   "metadata": {},
   "outputs": [
    {
     "data": {
      "text/plain": [
       "['Pankul Sharma']"
      ]
     },
     "execution_count": 14,
     "metadata": {},
     "output_type": "execute_result"
    }
   ],
   "source": [
    "# Scraping the Author name\n",
    "Author=[]\n",
    "try:\n",
    "    authr=driver.find_elements_by_xpath(\"//div[@class='yYIu- byline']/a\")\n",
    "    for i in authr:\n",
    "         Author.append(i.text)               \n",
    "except NoSuchElementException:#handling no such element exception\n",
    "    Date.append('No details available')\n",
    "except StaleElementReferenceException:#handling Stale element exception\n",
    "    Date.append('No details available')\n",
    "    \n",
    "time.sleep(2) \n",
    "\n",
    "Author[0:3]"
   ]
  },
  {
   "cell_type": "code",
   "execution_count": 15,
   "metadata": {},
   "outputs": [
    {
     "data": {
      "text/plain": [
       "['Three criminals kill 2 cops, escape from prison van in UP']"
      ]
     },
     "execution_count": 15,
     "metadata": {},
     "output_type": "execute_result"
    }
   ],
   "source": [
    "Headline=[]\n",
    "try:\n",
    "    Headlines=driver.find_elements_by_xpath(\"//h1[@class='_1Y-96']\")\n",
    "    for i in Headlines:\n",
    "        Headline.append(i.text)\n",
    "except NoSuchElementException:#handling no such element exception\n",
    "    Headline.append('No details available')\n",
    "except StaleElementReferenceException:#handling Stale element exception\n",
    "    Headline.append('No details available')\n",
    "    \n",
    "time.sleep(2)   \n",
    "\n",
    "Headline[0:3]"
   ]
  },
  {
   "cell_type": "code",
   "execution_count": 16,
   "metadata": {},
   "outputs": [
    {
     "data": {
      "text/plain": [
       "['BAREILLY: In yet another sensational escape, three dreaded criminals shot two constables who were part of the team that was taking them back to Moradabad jail after a court appearance in Chandausi on Wednes-day evening. On July 2, notorious gangster Rohit Saandu had also escaped while being taken to a court after killing a sub-inspector in Muzaffarnagar.\\nSaandu and his three aides were later killed in a police encounter on Tuesday.\\n\\nThe slain constables — Harendra Singh and Brijpal Singh — were sitting with the three accused Kamal Bahadur, Shakeel and Dharmpal and 21 other undetrials who were being taken in a van from Chandausi court to Moradabad jail after the hearing. Four other constables were sitting on the front seat.\\nChief minister Yogi Adityanath has announced compensation of Rs 50 lakh, government service for one dependent and extraordinary pension to the wife of each of the three deceased constables. Sambhal police chief Yamuna Prasad said that around 5 pm, as soon as the van carrying jail inmates reached Devakheda village under Baniather police station limits of the district, the driver of the vehicle applied sudden brakes after hearing sound of gun shots.\\nThe SP said, “The miscreants had shot two of our constables, apparently after snatching rifles from them and fled the scene killing them on the spot. In all, 24 jail inmates were being taken back to Moradabad jail after being produced before a Chandausi court. We are combing the area and very soon the culprits will be arrested.”\\n“We are also trying to find out whether they got any weapon during the court appearance earlier in the day. We have found chilli powder inside the van. Bodies have been sent for the post mortem,” the SSP added. Ironically, bodies of two slain constables were taken in an open mini truck instead of any ambulance. After the incident, remaining 21 prisoners didn’t try to run away and remained at the sport until the police force reached there.\\nWhen the incident took place, additional director general of Bareilly zone Avinash Chandra was presiding over a meeting with police officials of Moradabad range in Amroha district. After hearing about the incident, he immediately rushed to the spot along with IG (Moradabad) Ramit Sharma. Officials said that the police in neighbouring districts Budaun, Amroha, Moradabad and Bareilly had been put on high a alert.\\nUP DGP OP Singh later tweeted: “I express my deepest condolence on the tragic demise of constable Brijpal Singh & Harendra Singh. It is a irreparable loss to UP Police but their sacrifice in the line of duty shall not go in vain. The accused shall be brought to book and strictest punishment accorded to them.” DGP UP tweeted.\\nBoth Harender and Brijpal were posted at police lines in Moradabad. The three runaway criminals who were lodged in Moradabad jail, are from Brahampura in Behjoi of Sambhal district. Out of them, Kamal and Shakeel are facing trial for allegedly abducting an engineer in 2014 after giving him lift in their vehicle when he was going to Delhi. They later allegedly killed him after robbing him. Although they had abandoned the engineer’s body in a well, still extorted Rs 18 lakh from the engineer’s family as ransom. Later, police nabbed them along with the ransom money. Dharmpal was also facing trial in cases related attempt to murder and other crimes.\\nIn a similar incident, dreaded criminal Rohit Saandu escaped from police custody on July 2 when he was being brought to Muzaffarnagar court from Mirzapur jail. In that incident, one police sub-inspector Durg Vijay Singh was shot at who later succumbed to injuries during treatment.']"
      ]
     },
     "execution_count": 16,
     "metadata": {},
     "output_type": "execute_result"
    }
   ],
   "source": [
    "Description=[]\n",
    "try:\n",
    "    Descriptions=driver.find_elements_by_xpath(\"//div[@class='_3YYSt clearfix  ']\")\n",
    "    for i in Descriptions:\n",
    "        Description.append(i.text)\n",
    "except NoSuchElementException:#handling no such element exception\n",
    "    Description.append('No details available')\n",
    "except StaleElementReferenceException:#handling Stale element exception\n",
    "    Description.append('No details available')\n",
    "    \n",
    "time.sleep(2)   \n",
    "\n",
    "Description[0:3]"
   ]
  },
  {
   "cell_type": "code",
   "execution_count": 17,
   "metadata": {},
   "outputs": [
    {
     "data": {
      "text/html": [
       "<div>\n",
       "<style scoped>\n",
       "    .dataframe tbody tr th:only-of-type {\n",
       "        vertical-align: middle;\n",
       "    }\n",
       "\n",
       "    .dataframe tbody tr th {\n",
       "        vertical-align: top;\n",
       "    }\n",
       "\n",
       "    .dataframe thead th {\n",
       "        text-align: right;\n",
       "    }\n",
       "</style>\n",
       "<table border=\"1\" class=\"dataframe\">\n",
       "  <thead>\n",
       "    <tr style=\"text-align: right;\">\n",
       "      <th></th>\n",
       "      <th>Headline</th>\n",
       "      <th>Description</th>\n",
       "      <th>Author</th>\n",
       "    </tr>\n",
       "  </thead>\n",
       "  <tbody>\n",
       "    <tr>\n",
       "      <th>0</th>\n",
       "      <td>Three criminals kill 2 cops, escape from priso...</td>\n",
       "      <td>BAREILLY: In yet another sensational escape, t...</td>\n",
       "      <td>Pankul Sharma</td>\n",
       "    </tr>\n",
       "  </tbody>\n",
       "</table>\n",
       "</div>"
      ],
      "text/plain": [
       "                                            Headline  \\\n",
       "0  Three criminals kill 2 cops, escape from priso...   \n",
       "\n",
       "                                         Description         Author  \n",
       "0  BAREILLY: In yet another sensational escape, t...  Pankul Sharma  "
      ]
     },
     "execution_count": 17,
     "metadata": {},
     "output_type": "execute_result"
    }
   ],
   "source": [
    "# creating dataframe\n",
    "\n",
    "df=pd.DataFrame({})\n",
    "df['Headline']= Headline[:1]\n",
    "df['Description']= Description[:1]\n",
    "df['Author']=Author[:1]\n",
    "\n",
    "df"
   ]
  },
  {
   "cell_type": "markdown",
   "metadata": {},
   "source": [
    "Scraping details of news on July 19"
   ]
  },
  {
   "cell_type": "code",
   "execution_count": 18,
   "metadata": {},
   "outputs": [],
   "source": [
    "#scraping details of news on July 19\n",
    "# Opening the times of india\n",
    "url = \"https://timesofindia.indiatimes.com//city/bareilly/three-criminals-escape-from-custody-after-killing-two-constables/articleshow/70266931.cms\"\n",
    "driver.get(url)\n",
    "time.sleep(2)"
   ]
  },
  {
   "cell_type": "code",
   "execution_count": 19,
   "metadata": {},
   "outputs": [
    {
     "data": {
      "text/plain": [
       "['Pankul Sharma']"
      ]
     },
     "execution_count": 19,
     "metadata": {},
     "output_type": "execute_result"
    }
   ],
   "source": [
    "# Scraping the Author name\n",
    "Author=[]\n",
    "try:\n",
    "    authr=driver.find_elements_by_xpath(\"//div[@class='yYIu- byline']/a\")\n",
    "    for i in authr:\n",
    "         Author.append(i.text)               \n",
    "except NoSuchElementException:#handling no such element exception\n",
    "    Date.append('No details available')\n",
    "except StaleElementReferenceException:#handling Stale element exception\n",
    "    Date.append('No details available')\n",
    "    \n",
    "time.sleep(2) \n",
    "\n",
    "Author[0:3]"
   ]
  },
  {
   "cell_type": "code",
   "execution_count": 20,
   "metadata": {},
   "outputs": [
    {
     "data": {
      "text/plain": [
       "['Three criminals kill 2 cops, escape from prison van in UP']"
      ]
     },
     "execution_count": 20,
     "metadata": {},
     "output_type": "execute_result"
    }
   ],
   "source": [
    "Headline=[]\n",
    "try:\n",
    "    Headlines=driver.find_elements_by_xpath(\"//h1[@class='_1Y-96']\")\n",
    "    for i in Headlines:\n",
    "        Headline.append(i.text)\n",
    "except NoSuchElementException:#handling no such element exception\n",
    "    Headline.append('No details available')\n",
    "except StaleElementReferenceException:#handling Stale element exception\n",
    "    Headline.append('No details available')\n",
    "    \n",
    "time.sleep(2)   \n",
    "\n",
    "Headline[0:3]"
   ]
  },
  {
   "cell_type": "code",
   "execution_count": 21,
   "metadata": {},
   "outputs": [
    {
     "data": {
      "text/plain": [
       "['BAREILLY: In yet another sensational escape, three dreaded criminals shot two constables who were part of the team that was taking them back to Moradabad jail after a court appearance in Chandausi on Wednes-day evening. On July 2, notorious gangster Rohit Saandu had also escaped while being taken to a court after killing a sub-inspector in Muzaffarnagar.\\nSaandu and his three aides were later killed in a police encounter on Tuesday.\\n\\nThe slain constables — Harendra Singh and Brijpal Singh — were sitting with the three accused Kamal Bahadur, Shakeel and Dharmpal and 21 other undetrials who were being taken in a van from Chandausi court to Moradabad jail after the hearing. Four other constables were sitting on the front seat.\\nChief minister Yogi Adityanath has announced compensation of Rs 50 lakh, government service for one dependent and extraordinary pension to the wife of each of the three deceased constables. Sambhal police chief Yamuna Prasad said that around 5 pm, as soon as the van carrying jail inmates reached Devakheda village under Baniather police station limits of the district, the driver of the vehicle applied sudden brakes after hearing sound of gun shots.\\nThe SP said, “The miscreants had shot two of our constables, apparently after snatching rifles from them and fled the scene killing them on the spot. In all, 24 jail inmates were being taken back to Moradabad jail after being produced before a Chandausi court. We are combing the area and very soon the culprits will be arrested.”\\n“We are also trying to find out whether they got any weapon during the court appearance earlier in the day. We have found chilli powder inside the van. Bodies have been sent for the post mortem,” the SSP added. Ironically, bodies of two slain constables were taken in an open mini truck instead of any ambulance. After the incident, remaining 21 prisoners didn’t try to run away and remained at the sport until the police force reached there.\\nWhen the incident took place, additional director general of Bareilly zone Avinash Chandra was presiding over a meeting with police officials of Moradabad range in Amroha district. After hearing about the incident, he immediately rushed to the spot along with IG (Moradabad) Ramit Sharma. Officials said that the police in neighbouring districts Budaun, Amroha, Moradabad and Bareilly had been put on high a alert.\\nUP DGP OP Singh later tweeted: “I express my deepest condolence on the tragic demise of constable Brijpal Singh & Harendra Singh. It is a irreparable loss to UP Police but their sacrifice in the line of duty shall not go in vain. The accused shall be brought to book and strictest punishment accorded to them.” DGP UP tweeted.\\nBoth Harender and Brijpal were posted at police lines in Moradabad. The three runaway criminals who were lodged in Moradabad jail, are from Brahampura in Behjoi of Sambhal district. Out of them, Kamal and Shakeel are facing trial for allegedly abducting an engineer in 2014 after giving him lift in their vehicle when he was going to Delhi. They later allegedly killed him after robbing him. Although they had abandoned the engineer’s body in a well, still extorted Rs 18 lakh from the engineer’s family as ransom. Later, police nabbed them along with the ransom money. Dharmpal was also facing trial in cases related attempt to murder and other crimes.\\nIn a similar incident, dreaded criminal Rohit Saandu escaped from police custody on July 2 when he was being brought to Muzaffarnagar court from Mirzapur jail. In that incident, one police sub-inspector Durg Vijay Singh was shot at who later succumbed to injuries during treatment.']"
      ]
     },
     "execution_count": 21,
     "metadata": {},
     "output_type": "execute_result"
    }
   ],
   "source": [
    "Description=[]\n",
    "try:\n",
    "    Descriptions=driver.find_elements_by_xpath(\"//div[@class='_3YYSt clearfix  ']\")\n",
    "    for i in Descriptions:\n",
    "        Description.append(i.text)\n",
    "except NoSuchElementException:#handling no such element exception\n",
    "    Description.append('No details available')\n",
    "except StaleElementReferenceException:#handling Stale element exception\n",
    "    Description.append('No details available')\n",
    "    \n",
    "time.sleep(2)   \n",
    "\n",
    "Description[0:3]"
   ]
  },
  {
   "cell_type": "code",
   "execution_count": 22,
   "metadata": {},
   "outputs": [
    {
     "data": {
      "text/html": [
       "<div>\n",
       "<style scoped>\n",
       "    .dataframe tbody tr th:only-of-type {\n",
       "        vertical-align: middle;\n",
       "    }\n",
       "\n",
       "    .dataframe tbody tr th {\n",
       "        vertical-align: top;\n",
       "    }\n",
       "\n",
       "    .dataframe thead th {\n",
       "        text-align: right;\n",
       "    }\n",
       "</style>\n",
       "<table border=\"1\" class=\"dataframe\">\n",
       "  <thead>\n",
       "    <tr style=\"text-align: right;\">\n",
       "      <th></th>\n",
       "      <th>Headline</th>\n",
       "      <th>Description</th>\n",
       "      <th>Author</th>\n",
       "    </tr>\n",
       "  </thead>\n",
       "  <tbody>\n",
       "    <tr>\n",
       "      <th>0</th>\n",
       "      <td>Three criminals kill 2 cops, escape from priso...</td>\n",
       "      <td>BAREILLY: In yet another sensational escape, t...</td>\n",
       "      <td>Pankul Sharma</td>\n",
       "    </tr>\n",
       "  </tbody>\n",
       "</table>\n",
       "</div>"
      ],
      "text/plain": [
       "                                            Headline  \\\n",
       "0  Three criminals kill 2 cops, escape from priso...   \n",
       "\n",
       "                                         Description         Author  \n",
       "0  BAREILLY: In yet another sensational escape, t...  Pankul Sharma  "
      ]
     },
     "execution_count": 22,
     "metadata": {},
     "output_type": "execute_result"
    }
   ],
   "source": [
    "# creating dataframe\n",
    "\n",
    "df=pd.DataFrame({})\n",
    "df['Headline']= Headline[:1]\n",
    "df['Description']= Description[:1]\n",
    "df['Author']=Author[:1]\n",
    "\n",
    "df"
   ]
  },
  {
   "cell_type": "markdown",
   "metadata": {},
   "source": [
    "Scraping details of news on July 20"
   ]
  },
  {
   "cell_type": "code",
   "execution_count": 23,
   "metadata": {},
   "outputs": [],
   "source": [
    "#scraping details of news on July 20\n",
    "# Opening the times of india\n",
    "url = \"https://timesofindia.indiatimes.com//city/chennai/chaos-at-chennai-airport-over-free-entry-rule/articleshow/70302000.cms\"\n",
    "driver.get(url)\n",
    "time.sleep(2)"
   ]
  },
  {
   "cell_type": "code",
   "execution_count": 24,
   "metadata": {},
   "outputs": [
    {
     "data": {
      "text/plain": [
       "['Pankul Sharma']"
      ]
     },
     "execution_count": 24,
     "metadata": {},
     "output_type": "execute_result"
    }
   ],
   "source": [
    "# Scraping the Author name\n",
    "Author=[]\n",
    "try:\n",
    "    authr=driver.find_elements_by_xpath(\"//div[@class='yYIu- byline']/a\")\n",
    "    for i in authr:\n",
    "         Author.append(i.text)               \n",
    "except NoSuchElementException:#handling no such element exception\n",
    "    Date.append('No details available')\n",
    "except StaleElementReferenceException:#handling Stale element exception\n",
    "    Date.append('No details available')\n",
    "    \n",
    "time.sleep(2) \n",
    "\n",
    "Author[0:3]"
   ]
  },
  {
   "cell_type": "code",
   "execution_count": 25,
   "metadata": {},
   "outputs": [
    {
     "data": {
      "text/plain": [
       "['Three criminals kill 2 cops, escape from prison van in UP']"
      ]
     },
     "execution_count": 25,
     "metadata": {},
     "output_type": "execute_result"
    }
   ],
   "source": [
    "Headline=[]\n",
    "try:\n",
    "    Headlines=driver.find_elements_by_xpath(\"//h1[@class='_1Y-96']\")\n",
    "    for i in Headlines:\n",
    "        Headline.append(i.text)\n",
    "except NoSuchElementException:#handling no such element exception\n",
    "    Headline.append('No details available')\n",
    "except StaleElementReferenceException:#handling Stale element exception\n",
    "    Headline.append('No details available')\n",
    "    \n",
    "time.sleep(2)   \n",
    "\n",
    "Headline[0:3]"
   ]
  },
  {
   "cell_type": "code",
   "execution_count": 26,
   "metadata": {},
   "outputs": [
    {
     "data": {
      "text/plain": [
       "['BAREILLY: In yet another sensational escape, three dreaded criminals shot two constables who were part of the team that was taking them back to Moradabad jail after a court appearance in Chandausi on Wednes-day evening. On July 2, notorious gangster Rohit Saandu had also escaped while being taken to a court after killing a sub-inspector in Muzaffarnagar.\\nSaandu and his three aides were later killed in a police encounter on Tuesday.\\n\\nThe slain constables — Harendra Singh and Brijpal Singh — were sitting with the three accused Kamal Bahadur, Shakeel and Dharmpal and 21 other undetrials who were being taken in a van from Chandausi court to Moradabad jail after the hearing. Four other constables were sitting on the front seat.\\nChief minister Yogi Adityanath has announced compensation of Rs 50 lakh, government service for one dependent and extraordinary pension to the wife of each of the three deceased constables. Sambhal police chief Yamuna Prasad said that around 5 pm, as soon as the van carrying jail inmates reached Devakheda village under Baniather police station limits of the district, the driver of the vehicle applied sudden brakes after hearing sound of gun shots.\\nThe SP said, “The miscreants had shot two of our constables, apparently after snatching rifles from them and fled the scene killing them on the spot. In all, 24 jail inmates were being taken back to Moradabad jail after being produced before a Chandausi court. We are combing the area and very soon the culprits will be arrested.”\\n“We are also trying to find out whether they got any weapon during the court appearance earlier in the day. We have found chilli powder inside the van. Bodies have been sent for the post mortem,” the SSP added. Ironically, bodies of two slain constables were taken in an open mini truck instead of any ambulance. After the incident, remaining 21 prisoners didn’t try to run away and remained at the sport until the police force reached there.\\nWhen the incident took place, additional director general of Bareilly zone Avinash Chandra was presiding over a meeting with police officials of Moradabad range in Amroha district. After hearing about the incident, he immediately rushed to the spot along with IG (Moradabad) Ramit Sharma. Officials said that the police in neighbouring districts Budaun, Amroha, Moradabad and Bareilly had been put on high a alert.\\nUP DGP OP Singh later tweeted: “I express my deepest condolence on the tragic demise of constable Brijpal Singh & Harendra Singh. It is a irreparable loss to UP Police but their sacrifice in the line of duty shall not go in vain. The accused shall be brought to book and strictest punishment accorded to them.” DGP UP tweeted.\\nBoth Harender and Brijpal were posted at police lines in Moradabad. The three runaway criminals who were lodged in Moradabad jail, are from Brahampura in Behjoi of Sambhal district. Out of them, Kamal and Shakeel are facing trial for allegedly abducting an engineer in 2014 after giving him lift in their vehicle when he was going to Delhi. They later allegedly killed him after robbing him. Although they had abandoned the engineer’s body in a well, still extorted Rs 18 lakh from the engineer’s family as ransom. Later, police nabbed them along with the ransom money. Dharmpal was also facing trial in cases related attempt to murder and other crimes.\\nIn a similar incident, dreaded criminal Rohit Saandu escaped from police custody on July 2 when he was being brought to Muzaffarnagar court from Mirzapur jail. In that incident, one police sub-inspector Durg Vijay Singh was shot at who later succumbed to injuries during treatment.']"
      ]
     },
     "execution_count": 26,
     "metadata": {},
     "output_type": "execute_result"
    }
   ],
   "source": [
    "Description=[]\n",
    "try:\n",
    "    Descriptions=driver.find_elements_by_xpath(\"//div[@class='_3YYSt clearfix  ']\")\n",
    "    for i in Descriptions:\n",
    "        Description.append(i.text)\n",
    "except NoSuchElementException:#handling no such element exception\n",
    "    Description.append('No details available')\n",
    "except StaleElementReferenceException:#handling Stale element exception\n",
    "    Description.append('No details available')\n",
    "    \n",
    "time.sleep(2)   \n",
    "\n",
    "Description[0:3]"
   ]
  },
  {
   "cell_type": "code",
   "execution_count": 27,
   "metadata": {},
   "outputs": [
    {
     "data": {
      "text/html": [
       "<div>\n",
       "<style scoped>\n",
       "    .dataframe tbody tr th:only-of-type {\n",
       "        vertical-align: middle;\n",
       "    }\n",
       "\n",
       "    .dataframe tbody tr th {\n",
       "        vertical-align: top;\n",
       "    }\n",
       "\n",
       "    .dataframe thead th {\n",
       "        text-align: right;\n",
       "    }\n",
       "</style>\n",
       "<table border=\"1\" class=\"dataframe\">\n",
       "  <thead>\n",
       "    <tr style=\"text-align: right;\">\n",
       "      <th></th>\n",
       "      <th>Headline</th>\n",
       "      <th>Description</th>\n",
       "      <th>Author</th>\n",
       "    </tr>\n",
       "  </thead>\n",
       "  <tbody>\n",
       "    <tr>\n",
       "      <th>0</th>\n",
       "      <td>Three criminals kill 2 cops, escape from priso...</td>\n",
       "      <td>BAREILLY: In yet another sensational escape, t...</td>\n",
       "      <td>Pankul Sharma</td>\n",
       "    </tr>\n",
       "  </tbody>\n",
       "</table>\n",
       "</div>"
      ],
      "text/plain": [
       "                                            Headline  \\\n",
       "0  Three criminals kill 2 cops, escape from priso...   \n",
       "\n",
       "                                         Description         Author  \n",
       "0  BAREILLY: In yet another sensational escape, t...  Pankul Sharma  "
      ]
     },
     "execution_count": 27,
     "metadata": {},
     "output_type": "execute_result"
    }
   ],
   "source": [
    "# creating dataframe\n",
    "\n",
    "df=pd.DataFrame({})\n",
    "df['Headline']= Headline[:1]\n",
    "df['Description']= Description[:1]\n",
    "df['Author']=Author[:1]\n",
    "\n",
    "df"
   ]
  },
  {
   "cell_type": "markdown",
   "metadata": {},
   "source": [
    "Scraping details of news on July 21"
   ]
  },
  {
   "cell_type": "code",
   "execution_count": 8,
   "metadata": {},
   "outputs": [],
   "source": [
    "#scraping details of news on July 21\n",
    "# Opening the times of india\n",
    "url = \"https://timesofindia.indiatimes.com//city/patna/bjp-to-remake-country-chouhan/articleshow/70310167.cms\"\n",
    "driver.get(url)\n",
    "\n",
    "time.sleep(2)"
   ]
  },
  {
   "cell_type": "code",
   "execution_count": 9,
   "metadata": {},
   "outputs": [
    {
     "data": {
      "text/plain": [
       "['Abhay Singh']"
      ]
     },
     "execution_count": 9,
     "metadata": {},
     "output_type": "execute_result"
    }
   ],
   "source": [
    "# Scraping the Author name\n",
    "Author=[]\n",
    "try:\n",
    "    authr=driver.find_elements_by_xpath(\"//div[@class='yYIu- byline']/a\")\n",
    "    for i in authr:\n",
    "         Author.append(i.text)               \n",
    "except NoSuchElementException:#handling no such element exception\n",
    "    Date.append('No details available')\n",
    "except StaleElementReferenceException:#handling Stale element exception\n",
    "    Date.append('No details available')\n",
    "    \n",
    "time.sleep(2) \n",
    "\n",
    "Author[0:3]"
   ]
  },
  {
   "cell_type": "code",
   "execution_count": 10,
   "metadata": {},
   "outputs": [
    {
     "data": {
      "text/plain": [
       "['BJP to remake country: Shivraj Singh Chouhan']"
      ]
     },
     "execution_count": 10,
     "metadata": {},
     "output_type": "execute_result"
    }
   ],
   "source": [
    "Headline=[]\n",
    "try:\n",
    "    Headlines=driver.find_elements_by_xpath(\"//h1[@class='_1Y-96']\")\n",
    "    for i in Headlines:\n",
    "        Headline.append(i.text)\n",
    "except NoSuchElementException:#handling no such element exception\n",
    "    Headline.append('No details available')\n",
    "except StaleElementReferenceException:#handling Stale element exception\n",
    "    Headline.append('No details available')\n",
    "    \n",
    "time.sleep(2)   \n",
    "\n",
    "Headline[0:3]"
   ]
  },
  {
   "cell_type": "code",
   "execution_count": 11,
   "metadata": {},
   "outputs": [
    {
     "data": {
      "text/plain": [
       "['PATNA: BJP national vice-president and the party’s nationwide membership drive incharge Shivraj Singh Chouhan on Saturday said apart from adding new members, transforming the BJP was also a task given to him.\\n“Under the leadership of PM Narendra Modi, BJP is not just a party, but a campaign committed to remaking the country,” Chouhan, who arrived here on a one-day tour to assess the party’s membership drive, told reporters.\\n\\nHe said the aim is to induct intellectuals, people from professional groups, doctors, lawyers and social workers into the party.\\nWith 11 crore active members, BJP is already the largest political party in the world. The existing strength of BJP in Bihar is 80 lakh members, but the aim is to add 45 lakh new members, taking the total to 1.25 crore, which is half of the 2.50 crore votes polled by the three NDA partners in the state – BJP, JD(U) and Lok Janshkati Party (LJP) – in the recently concluded parliamentary elections.\\nChouhan held two rounds of meeting with partymen along with Union minister and state BJP chief Nityanand Rai. He gave membership slips to select 50 people.']"
      ]
     },
     "execution_count": 11,
     "metadata": {},
     "output_type": "execute_result"
    }
   ],
   "source": [
    "Description=[]\n",
    "try:\n",
    "    Descriptions=driver.find_elements_by_xpath(\"//div[@class='_3YYSt clearfix  ']\")\n",
    "    for i in Descriptions:\n",
    "        Description.append(i.text)\n",
    "except NoSuchElementException:#handling no such element exception\n",
    "    Description.append('No details available')\n",
    "except StaleElementReferenceException:#handling Stale element exception\n",
    "    Description.append('No details available')\n",
    "    \n",
    "time.sleep(2)   \n",
    "\n",
    "Description[0:3]"
   ]
  },
  {
   "cell_type": "code",
   "execution_count": 12,
   "metadata": {},
   "outputs": [
    {
     "data": {
      "text/html": [
       "<div>\n",
       "<style scoped>\n",
       "    .dataframe tbody tr th:only-of-type {\n",
       "        vertical-align: middle;\n",
       "    }\n",
       "\n",
       "    .dataframe tbody tr th {\n",
       "        vertical-align: top;\n",
       "    }\n",
       "\n",
       "    .dataframe thead th {\n",
       "        text-align: right;\n",
       "    }\n",
       "</style>\n",
       "<table border=\"1\" class=\"dataframe\">\n",
       "  <thead>\n",
       "    <tr style=\"text-align: right;\">\n",
       "      <th></th>\n",
       "      <th>Headline</th>\n",
       "      <th>Description</th>\n",
       "      <th>Author</th>\n",
       "    </tr>\n",
       "  </thead>\n",
       "  <tbody>\n",
       "    <tr>\n",
       "      <th>0</th>\n",
       "      <td>BJP to remake country: Shivraj Singh Chouhan</td>\n",
       "      <td>PATNA: BJP national vice-president and the par...</td>\n",
       "      <td>Abhay Singh</td>\n",
       "    </tr>\n",
       "  </tbody>\n",
       "</table>\n",
       "</div>"
      ],
      "text/plain": [
       "                                       Headline  \\\n",
       "0  BJP to remake country: Shivraj Singh Chouhan   \n",
       "\n",
       "                                         Description       Author  \n",
       "0  PATNA: BJP national vice-president and the par...  Abhay Singh  "
      ]
     },
     "execution_count": 12,
     "metadata": {},
     "output_type": "execute_result"
    }
   ],
   "source": [
    "# creating dataframe\n",
    "\n",
    "df=pd.DataFrame({})\n",
    "df['Headline']= Headline[:1]\n",
    "df['Description']= Description[:1]\n",
    "df['Author']=Author[:1]\n",
    "\n",
    "df"
   ]
  },
  {
   "cell_type": "markdown",
   "metadata": {},
   "source": [
    "Scraping details of news on July 22"
   ]
  },
  {
   "cell_type": "code",
   "execution_count": 13,
   "metadata": {},
   "outputs": [],
   "source": [
    "#scraping details of news on July 22\n",
    "# Opening the times of india\n",
    "url = \"https://timesofindia.indiatimes.com/city/ghaziabad/boys-not-ill-treated-says-gzb-madrassa/articleshow/70322125.cms\"\n",
    "driver.get(url)\n",
    "time.sleep(2)"
   ]
  },
  {
   "cell_type": "code",
   "execution_count": 14,
   "metadata": {},
   "outputs": [
    {
     "data": {
      "text/plain": [
       "['Avishek Kumar Dubey']"
      ]
     },
     "execution_count": 14,
     "metadata": {},
     "output_type": "execute_result"
    }
   ],
   "source": [
    "# Scraping the Author name\n",
    "Author=[]\n",
    "try:\n",
    "    authr=driver.find_elements_by_xpath(\"//div[@class='yYIu- byline']/a\")\n",
    "    for i in authr:\n",
    "         Author.append(i.text)               \n",
    "except NoSuchElementException:#handling no such element exception\n",
    "    Date.append('No details available')\n",
    "except StaleElementReferenceException:#handling Stale element exception\n",
    "    Date.append('No details available')\n",
    "    \n",
    "time.sleep(2) \n",
    "\n",
    "Author[0:3]"
   ]
  },
  {
   "cell_type": "code",
   "execution_count": 15,
   "metadata": {},
   "outputs": [
    {
     "data": {
      "text/plain": [
       "['Boys not ill-treated, says Ghaziabad madrassa']"
      ]
     },
     "execution_count": 15,
     "metadata": {},
     "output_type": "execute_result"
    }
   ],
   "source": [
    "Headline=[]\n",
    "try:\n",
    "    Headlines=driver.find_elements_by_xpath(\"//h1[@class='_1Y-96']\")\n",
    "    for i in Headlines:\n",
    "        Headline.append(i.text)\n",
    "except NoSuchElementException:#handling no such element exception\n",
    "    Headline.append('No details available')\n",
    "except StaleElementReferenceException:#handling Stale element exception\n",
    "    Headline.append('No details available')\n",
    "    \n",
    "time.sleep(2)   \n",
    "\n",
    "Headline[0:3]"
   ]
  },
  {
   "cell_type": "code",
   "execution_count": 16,
   "metadata": {},
   "outputs": [
    {
     "data": {
      "text/plain": [
       "['GHAZIABAD: A day after five teenagers, who ran away from a Ghaziabad-based madrassa were found in Aligarh railway station, the staffers of the institution denied all allegations of ill-treatment.\\nOn Saturday, when Aligarh police found the children, they had reportedly said they were not treated well at the madrassa and not given food regularly. They said that they wanted to return home, but could not contact their parents.\\n\\nMeanwhile, the madrassa staffers have claimed that the children living there had no such issues. The rescued boys are Israel (11), his two brothers Irshad (10) and Ishrafeel (7). The three are from Basatpur in Banka district of Bihar. The two other boys are Bahruddin (11) and Mohammad Amir (9). They are from Purnia.\\nMd Nazim, a teacher and also a manager in the madrassa, told TOI that Jamia Millia Madina-tul-ilm has been running for six years now in Balaji Vihar area in Pusta Road. “We have 150 children and five teachers. While around 15 children come from other cities, the others belong to nearby areas,” he added. “There are five rooms for children who are not from Ghaziabad and they are cleaned by Nagar Nigam staff. The people who reside near the madrassa often give food to the children. Also, we have tied up with a hotel that provides food for the children,” Naxim said.\\n“At 5 pm on Friday, the five children had gone to a nearby playground. When they didn\\'t return, I sent a staffer to check on them. When he didn’t locate them, we started to look in nearby areas. Around 8 pm, one of the teachers received a call from a person in Anand Vihar railway station saying that the children are sitting on the platform,\" he added. Another teacher, Rehmadulah, said, “We thought about lodging a report in the police station the next day but were informed that the children were rescued in Aligarh,” he said.\\n“The boys told me in front of police that they got scared and gave a statement against the madrasa,” he added.\\nSenior superintendent of police (Ghaziabad) Sudhir Kumar Singh, said that no missing report has been lodged in any police station in the city. Meanwhile, Vikas Chandra, additional probation officer (Ghaziabad) told TOI, “We will check whether the madrassa is registered or not and then an appropriate action will be taken,” he added']"
      ]
     },
     "execution_count": 16,
     "metadata": {},
     "output_type": "execute_result"
    }
   ],
   "source": [
    "Description=[]\n",
    "try:\n",
    "    Descriptions=driver.find_elements_by_xpath(\"//div[@class='_3YYSt clearfix  ']\")\n",
    "    for i in Descriptions:\n",
    "        Description.append(i.text)\n",
    "except NoSuchElementException:#handling no such element exception\n",
    "    Description.append('No details available')\n",
    "except StaleElementReferenceException:#handling Stale element exception\n",
    "    Description.append('No details available')\n",
    "    \n",
    "time.sleep(2)   \n",
    "\n",
    "Description[0:3]"
   ]
  },
  {
   "cell_type": "code",
   "execution_count": 17,
   "metadata": {},
   "outputs": [
    {
     "data": {
      "text/html": [
       "<div>\n",
       "<style scoped>\n",
       "    .dataframe tbody tr th:only-of-type {\n",
       "        vertical-align: middle;\n",
       "    }\n",
       "\n",
       "    .dataframe tbody tr th {\n",
       "        vertical-align: top;\n",
       "    }\n",
       "\n",
       "    .dataframe thead th {\n",
       "        text-align: right;\n",
       "    }\n",
       "</style>\n",
       "<table border=\"1\" class=\"dataframe\">\n",
       "  <thead>\n",
       "    <tr style=\"text-align: right;\">\n",
       "      <th></th>\n",
       "      <th>Headline</th>\n",
       "      <th>Description</th>\n",
       "      <th>Author</th>\n",
       "    </tr>\n",
       "  </thead>\n",
       "  <tbody>\n",
       "    <tr>\n",
       "      <th>0</th>\n",
       "      <td>Boys not ill-treated, says Ghaziabad madrassa</td>\n",
       "      <td>GHAZIABAD: A day after five teenagers, who ran...</td>\n",
       "      <td>Avishek Kumar Dubey</td>\n",
       "    </tr>\n",
       "  </tbody>\n",
       "</table>\n",
       "</div>"
      ],
      "text/plain": [
       "                                        Headline  \\\n",
       "0  Boys not ill-treated, says Ghaziabad madrassa   \n",
       "\n",
       "                                         Description               Author  \n",
       "0  GHAZIABAD: A day after five teenagers, who ran...  Avishek Kumar Dubey  "
      ]
     },
     "execution_count": 17,
     "metadata": {},
     "output_type": "execute_result"
    }
   ],
   "source": [
    "# creating dataframe\n",
    "\n",
    "df=pd.DataFrame({})\n",
    "df['Headline']= Headline[:1]\n",
    "df['Description']= Description[:1]\n",
    "df['Author']=Author[:1]\n",
    "\n",
    "df"
   ]
  },
  {
   "cell_type": "markdown",
   "metadata": {},
   "source": [
    "Scraping details of news on July 23"
   ]
  },
  {
   "cell_type": "code",
   "execution_count": 18,
   "metadata": {},
   "outputs": [],
   "source": [
    "#scraping details of news on July 23\n",
    "# Opening the times of india\n",
    "url = \"https://timesofindia.indiatimes.com//city/gurgaon/a-sapling-selfie-thats-worth-rs-100-a-year/articleshow/70337284.cms\"\n",
    "driver.get(url)\n",
    "time.sleep(2)"
   ]
  },
  {
   "cell_type": "code",
   "execution_count": 19,
   "metadata": {},
   "outputs": [
    {
     "data": {
      "text/plain": [
       "[]"
      ]
     },
     "execution_count": 19,
     "metadata": {},
     "output_type": "execute_result"
    }
   ],
   "source": [
    "# Scraping the Author name\n",
    "Author=[]\n",
    "try:\n",
    "    authr=driver.find_elements_by_xpath(\"//div[@class='yYIu- byline']/a\")\n",
    "    for i in authr:\n",
    "         Author.append(i.text)               \n",
    "except NoSuchElementException:#handling no such element exception\n",
    "    Date.append('No details available')\n",
    "except StaleElementReferenceException:#handling Stale element exception\n",
    "    Date.append('No details available')\n",
    "    \n",
    "time.sleep(2) \n",
    "\n",
    "Author[0:3]"
   ]
  },
  {
   "cell_type": "code",
   "execution_count": 20,
   "metadata": {},
   "outputs": [
    {
     "data": {
      "text/plain": [
       "['Haryana: A sapling selfie that’s worth Rs 100 a year']"
      ]
     },
     "execution_count": 20,
     "metadata": {},
     "output_type": "execute_result"
    }
   ],
   "source": [
    "Headline=[]\n",
    "try:\n",
    "    Headlines=driver.find_elements_by_xpath(\"//h1[@class='_1Y-96']\")\n",
    "    for i in Headlines:\n",
    "        Headline.append(i.text)\n",
    "except NoSuchElementException:#handling no such element exception\n",
    "    Headline.append('No details available')\n",
    "except StaleElementReferenceException:#handling Stale element exception\n",
    "    Headline.append('No details available')\n",
    "    \n",
    "time.sleep(2)   \n",
    "\n",
    "Headline[0:3]"
   ]
  },
  {
   "cell_type": "code",
   "execution_count": 21,
   "metadata": {},
   "outputs": [
    {
     "data": {
      "text/plain": [
       "['GURUGRAM: In a major push to chief minister Manohar Lal Khattar’s Paudhagiri drive, the forest department has given out two lakh saplings to schoolchildren, residents’ welfare association (RWAs), gram panchayats and other organisations this year.\\nAs part of the initiative, more than 1.4 lakh students, from Classes 6 to 12 of government and private schools in the city, have been asked to plant and adopt at least one tree during the monsoon season from July to September. A student who plants a sapling would have to take care of it for the next three years. The student can also name the plant.\\n\\nAnd there’s an added incentive — those who click a selfie with the sapling planted by them and upload it on the Paudhagiri Abhiyan mobile app will get Rs 50 every six months from the government.\\nBesides, 56 RWAs and seven gram panchayats have also come forward to carry out plantation drives in the city. Saplings of papri, neem, chandni, among others, have been distributed by the department.\\n“We have got a very good response this time, particularly during a plantation programme at Jharsa bundh (a check dam). Many RWAs, schools and other organisations have come forward to carry out plantation in their societies. However, we ensure that they dig pits before starting the plantation drive. Also, if required, we will send guards time to time to monitor the survival of the saplings planted during this season,” said Vasvi Tyagi, conservator of forests, Gurugram circle.\\nAccording to students, they get attached to the plant after taking care of it.\\n“I planted a sapling of neem in a community park close to my house last year. I named it Bhagat Singh as I really admire the freedom fighter. After taking a selfie and putting it on social media and the mobile app, I got so attached with the tree that I look after it every day,” said Suraj Kumar, a student of a government school in Bhondsi.\\nActivists, while appreciating the move, suggested that an eye should be kept on survival of the trees. “While I appreciate that the departments and ministers are coming forward for the drive, it is crucial to ensure survival of the trees. There should be an audit of the plantation drives that are carried every year. As far as plantation by students is concerned, three years are not enough to ensure survival of saplings. Therefore, a lot of emphasis should be laid on the survival after monsoon, not just carrying out a drive every season,” said Jitender Bhadana from Save Aravali, an environment NGO.\\nUnder the Paudhagiri programme, the Haryana government has set a target to plant at least 20 lakh plants this season. Last year, CM Khattar launched the programme by planting a sapling at Tau Devi Lal Sports complex with an aim to increase green cover in the state.\\nAs per the government, more than 22 lakh students study between Classes 6 and 12 in government and private schools across the state. Each student will be required to plant one sapling during the ongoing monsoons.\\nGurugram was the first district in the state where the drive was launched and over 3,100 students from various schools took part last year.']"
      ]
     },
     "execution_count": 21,
     "metadata": {},
     "output_type": "execute_result"
    }
   ],
   "source": [
    "Description=[]\n",
    "try:\n",
    "    Descriptions=driver.find_elements_by_xpath(\"//div[@class='_3YYSt clearfix  ']\")\n",
    "    for i in Descriptions:\n",
    "        Description.append(i.text)\n",
    "except NoSuchElementException:#handling no such element exception\n",
    "    Description.append('No details available')\n",
    "except StaleElementReferenceException:#handling Stale element exception\n",
    "    Description.append('No details available')\n",
    "    \n",
    "time.sleep(2)   \n",
    "\n",
    "Description[0:3]"
   ]
  },
  {
   "cell_type": "code",
   "execution_count": 23,
   "metadata": {},
   "outputs": [
    {
     "data": {
      "text/html": [
       "<div>\n",
       "<style scoped>\n",
       "    .dataframe tbody tr th:only-of-type {\n",
       "        vertical-align: middle;\n",
       "    }\n",
       "\n",
       "    .dataframe tbody tr th {\n",
       "        vertical-align: top;\n",
       "    }\n",
       "\n",
       "    .dataframe thead th {\n",
       "        text-align: right;\n",
       "    }\n",
       "</style>\n",
       "<table border=\"1\" class=\"dataframe\">\n",
       "  <thead>\n",
       "    <tr style=\"text-align: right;\">\n",
       "      <th></th>\n",
       "      <th>Headline</th>\n",
       "      <th>Description</th>\n",
       "    </tr>\n",
       "  </thead>\n",
       "  <tbody>\n",
       "    <tr>\n",
       "      <th>0</th>\n",
       "      <td>Haryana: A sapling selfie that’s worth Rs 100 ...</td>\n",
       "      <td>GURUGRAM: In a major push to chief minister Ma...</td>\n",
       "    </tr>\n",
       "  </tbody>\n",
       "</table>\n",
       "</div>"
      ],
      "text/plain": [
       "                                            Headline  \\\n",
       "0  Haryana: A sapling selfie that’s worth Rs 100 ...   \n",
       "\n",
       "                                         Description  \n",
       "0  GURUGRAM: In a major push to chief minister Ma...  "
      ]
     },
     "execution_count": 23,
     "metadata": {},
     "output_type": "execute_result"
    }
   ],
   "source": [
    "# creating dataframe\n",
    "\n",
    "df=pd.DataFrame({})\n",
    "df['Headline']= Headline[:1]\n",
    "df['Description']= Description[:1]\n",
    "\n",
    "\n",
    "df"
   ]
  },
  {
   "cell_type": "markdown",
   "metadata": {},
   "source": [
    "Scraping details of news on July 24"
   ]
  },
  {
   "cell_type": "code",
   "execution_count": 24,
   "metadata": {},
   "outputs": [],
   "source": [
    "#scraping details of news on July 24\n",
    "# Opening the times of india\n",
    "url = \"https://timesofindia.indiatimes.com/city/gurgaon/haryana-youth-kills-self-alleges-torture-by-stepmother-in-video-before-suicide/articleshow/70334939.cms\"\n",
    "driver.get(url)\n",
    "time.sleep(2)"
   ]
  },
  {
   "cell_type": "code",
   "execution_count": 25,
   "metadata": {},
   "outputs": [
    {
     "data": {
      "text/plain": [
       "['Jaskaran Singh', 'Manvir Saini']"
      ]
     },
     "execution_count": 25,
     "metadata": {},
     "output_type": "execute_result"
    }
   ],
   "source": [
    "# Scraping the Author name\n",
    "Author=[]\n",
    "try:\n",
    "    authr=driver.find_elements_by_xpath(\"//div[@class='yYIu- byline']/a\")\n",
    "    for i in authr:\n",
    "         Author.append(i.text)               \n",
    "except NoSuchElementException:#handling no such element exception\n",
    "    Date.append('No details available')\n",
    "except StaleElementReferenceException:#handling Stale element exception\n",
    "    Date.append('No details available')\n",
    "    \n",
    "time.sleep(2) \n",
    "\n",
    "Author[0:3]"
   ]
  },
  {
   "cell_type": "code",
   "execution_count": 26,
   "metadata": {},
   "outputs": [
    {
     "data": {
      "text/plain": [
       "['Haryana: Youth kills self; alleges torture by stepmother in video before suicide',\n",
       " 'Haryana: 40-year-old man commits suicide after poisoning three children in Sonipat',\n",
       " 'Why paying the rent with your credit card is a rewarding idea']"
      ]
     },
     "execution_count": 26,
     "metadata": {},
     "output_type": "execute_result"
    }
   ],
   "source": [
    "Headline=[]\n",
    "try:\n",
    "    Headlines=driver.find_elements_by_xpath(\"//h1[@class='_1Y-96']\")\n",
    "    for i in Headlines:\n",
    "        Headline.append(i.text)\n",
    "except NoSuchElementException:#handling no such element exception\n",
    "    Headline.append('No details available')\n",
    "except StaleElementReferenceException:#handling Stale element exception\n",
    "    Headline.append('No details available')\n",
    "    \n",
    "time.sleep(2)   \n",
    "\n",
    "Headline[0:3]"
   ]
  },
  {
   "cell_type": "code",
   "execution_count": 27,
   "metadata": {},
   "outputs": [
    {
     "data": {
      "text/plain": [
       "[\"AMBALA: The Ambala police have registered a case of abetment of suicide against four persons after a youth of Panjouri village in Ambala district ended his life by consuming celphos at his residence. He was spotted dead on Sunday early morning.\\nThe deceased, Pritpal Singh in his twenties, also shared a video with his mother's brother alleging torture by his stepmother, uncle and his wife before taking the extreme step.\\n\\nOn a complaint from Pritpal’s maternal grandmother, Pritam Kaur of Jansui village in Ambala district, the police have booked four family members including the father of the deceased.\\nPritam stated to the police, “My daughter Narinder Kaur died on August 3, 2017, and her husband Sukhwinder and his elder brother Sukhdev Singh and sister-in-law Renu had killed her for property. Later, my son-in-law Sukhwinder solemnised another marriage with Binder Kaur. All of them had been torturing Pritpal for property as whenever I used to called him he complained of harassment by his family members. On July 20, at around 11.30 pm, Pritpal called on my son Gurbachan’s number to inform that he has been beaten up brutally with sticks and shared a video that he is ending his life.”\\nOn Sunday, the Ambala police registered a case against Sukhwinder Singh, Binder Kaur, Sukhdev Singh and Renu under Section 34 (acts done by several persons in furtherance of common intention) and 306 (abetment of suicide) of the Indian Penal Code (IPC) at Naraingarh police station.\\nNaraingarh SHO inspector Arvind Kumar said, “We have registered a case on the complaint of Pritpal’s maternal grandmother against four of his family members and investigation is being done as per the facts. So far, no arrests have been made.”\",\n",
       " 'CHANDIGARH: A 40-year-old man allegedly committed suicide after poisoning three children to death at Godwa village under Gohana sub-division in Haryana\\'s Sonipat district.\\nThe incident came to light on Monday morning when the neighbours gained access to the house after breaking open the main door.\\nNeighbours were shocked to see the highly decomposed bodies. Bodies of Mahender, a Mulla Jat, and three children - including two boys aged 11 years and four years respectively and a girl aged eight years - were lying in the house.\\nThe neighbours informed Mahender’s sister who lives in the same house. Meanwhile, Sadar police station SHO Wazir Singh Redhu as well as the forensic experts - who later took the samples - rushed to the spot. The bodies were rushed to civil hospital for the autopsy.\\nSHO of Gohana Sadar police station Wazir Singh Redhu said that preliminary investigations suggest Mahender’s wife had left home two months ago. As she did not return after persuasion, he was taking care of the children. His sister told police that for the past one week, he was upset.\\nSources said that neighbours had last seen Mahender and his children last week. Since then the house was closed. \"We will look into all the angles, including his estrange relationship with his wife, before reaching any conclusion. Mahender did not have enmity with anyone,\" Redhu added.',\n",
       " 'On using RentPay by CRED Max, members stand chance to with an iPad, trip to Maldives or 300% cashback\\nCredit cards have usually been a preferred alternative for many expenses. Whether it is purchasing lifestyle products, dining out or even booking tickets for a vacation. They not only give us a better shopping experience but also be our substitute for cash with effective rewards. Being globally accepted, they allow us to move freely around the world without currency conversions but that’s not it.\\nWe can now expand our range of credit cards and add a recurring expense like monthly rent. It is a bright idea but alas, not many landlords accept credit cards. That’s where CRED Max steps in with RentPay - a practical solution that allows members to make monthly rent payments on credit and gives massive rewards for doing so. CRED, a community of creditworthy individuals and brands, has rolled out CRED Max, which covers most monthly recurring expenses. On top of this, CRED members stand a chance to win an iPad, a trip to Maldives or 300% cashback on rent (staying rent-free for three months) as they use this feature.\\nCRED Max enables members to maximise credit card spending, earn more reward points and use the cash retained to earn interest. To take the sting out of monthly expenses, there are several offers like 3x reward points on Axis Bank credit cards and a complimentary Acko home appliance cover.\\nPaying your rent with a credit card is certainly more convenient than writing out a cheque each month and it comes with certain advantages that’ll encourage you to use plastic to cover your housing costs.\\nBump up your credit score\\nUsing your credit card frequently for large transactions keeps your credit card score high. For the uninitiated, the credit score is a three-digit score calculated based on your credits and how well you pay them back. Most banks and financial institutions take into account an individual’s credit score while deciding whether the individual is eligible for a loan. If you have a credit card and you pay your credit on time, it is likely to improve your credit score. You just need to make timely payments, to maintain a high credit score.\\nWriggle out of the hassles of cash and cheque payments\\nCRED Max facilitates immediate transactions as your credit cards are already saved on it. All you have to do is - insert the amount of rent you wish to transfer, your landlord’s name, their bank details and voila, you’re done! The transfer is instantly done, you and your landlord will get the notification through SMS. For easy transfer every month on a certain date, you can also automate these payments. Also, easily-generated digital rent receipts can be sent on your email id, hence no chance of losing the receipts.\\nYes, all it takes is 3 steps to pay for recurring expenses like monthly rent or even one-time expenses like tuition fee for schools and colleges, with CRED Max through a credit card. CRED is a gated community of high-trust individuals – it has over 7.5 million members with a credit score over 750. Download the app on your mobile to become a member.\\nDisclaimer: This article has been produced on behalf of CRED by Times Internet’s Spotlight team.']"
      ]
     },
     "execution_count": 27,
     "metadata": {},
     "output_type": "execute_result"
    }
   ],
   "source": [
    "Description=[]\n",
    "try:\n",
    "    Descriptions=driver.find_elements_by_xpath(\"//div[@class='_3YYSt clearfix  ']\")\n",
    "    for i in Descriptions:\n",
    "        Description.append(i.text)\n",
    "except NoSuchElementException:#handling no such element exception\n",
    "    Description.append('No details available')\n",
    "except StaleElementReferenceException:#handling Stale element exception\n",
    "    Description.append('No details available')\n",
    "    \n",
    "time.sleep(2)   \n",
    "\n",
    "Description[0:3]"
   ]
  },
  {
   "cell_type": "code",
   "execution_count": 29,
   "metadata": {},
   "outputs": [
    {
     "data": {
      "text/html": [
       "<div>\n",
       "<style scoped>\n",
       "    .dataframe tbody tr th:only-of-type {\n",
       "        vertical-align: middle;\n",
       "    }\n",
       "\n",
       "    .dataframe tbody tr th {\n",
       "        vertical-align: top;\n",
       "    }\n",
       "\n",
       "    .dataframe thead th {\n",
       "        text-align: right;\n",
       "    }\n",
       "</style>\n",
       "<table border=\"1\" class=\"dataframe\">\n",
       "  <thead>\n",
       "    <tr style=\"text-align: right;\">\n",
       "      <th></th>\n",
       "      <th>Headline</th>\n",
       "      <th>Description</th>\n",
       "      <th>Author</th>\n",
       "    </tr>\n",
       "  </thead>\n",
       "  <tbody>\n",
       "    <tr>\n",
       "      <th>0</th>\n",
       "      <td>Haryana: Youth kills self; alleges torture by ...</td>\n",
       "      <td>AMBALA: The Ambala police have registered a ca...</td>\n",
       "      <td>Jaskaran Singh</td>\n",
       "    </tr>\n",
       "    <tr>\n",
       "      <th>1</th>\n",
       "      <td>Haryana: 40-year-old man commits suicide after...</td>\n",
       "      <td>CHANDIGARH: A 40-year-old man allegedly commit...</td>\n",
       "      <td>Manvir Saini</td>\n",
       "    </tr>\n",
       "  </tbody>\n",
       "</table>\n",
       "</div>"
      ],
      "text/plain": [
       "                                            Headline  \\\n",
       "0  Haryana: Youth kills self; alleges torture by ...   \n",
       "1  Haryana: 40-year-old man commits suicide after...   \n",
       "\n",
       "                                         Description          Author  \n",
       "0  AMBALA: The Ambala police have registered a ca...  Jaskaran Singh  \n",
       "1  CHANDIGARH: A 40-year-old man allegedly commit...    Manvir Saini  "
      ]
     },
     "execution_count": 29,
     "metadata": {},
     "output_type": "execute_result"
    }
   ],
   "source": [
    "# creating dataframe\n",
    "\n",
    "df=pd.DataFrame({})\n",
    "df['Headline']= Headline[:2]\n",
    "df['Description']= Description[:2]\n",
    "df['Author']=Author[:2]\n",
    "\n",
    "df"
   ]
  },
  {
   "cell_type": "markdown",
   "metadata": {},
   "source": [
    "Scraping details of news on July 25"
   ]
  },
  {
   "cell_type": "code",
   "execution_count": 3,
   "metadata": {},
   "outputs": [],
   "source": [
    "#scraping details of news on July 25\n",
    "# Opening the times of india\n",
    "url = \"https://timesofindia.indiatimes.com//city/delhi/tata-power-deploys-drones-for-maintenance/articleshow/70370132.cms\"\n",
    "driver.get(url)\n",
    "time.sleep(2)"
   ]
  },
  {
   "cell_type": "code",
   "execution_count": 4,
   "metadata": {},
   "outputs": [
    {
     "data": {
      "text/plain": [
       "[]"
      ]
     },
     "execution_count": 4,
     "metadata": {},
     "output_type": "execute_result"
    }
   ],
   "source": [
    "# Scraping the Author name\n",
    "Author=[]\n",
    "try:\n",
    "    authr=driver.find_elements_by_xpath(\"//div[@class='yYIu- byline']/a\")\n",
    "    for i in authr:\n",
    "         Author.append(i.text)               \n",
    "except NoSuchElementException:#handling no such element exception\n",
    "    Date.append('No details available')\n",
    "except StaleElementReferenceException:#handling Stale element exception\n",
    "    Date.append('No details available')\n",
    "    \n",
    "time.sleep(2) \n",
    "\n",
    "Author[0:3]"
   ]
  },
  {
   "cell_type": "code",
   "execution_count": 5,
   "metadata": {},
   "outputs": [
    {
     "data": {
      "text/plain": [
       "['Tata Power deploys drones for maintenance']"
      ]
     },
     "execution_count": 5,
     "metadata": {},
     "output_type": "execute_result"
    }
   ],
   "source": [
    "Headline=[]\n",
    "try:\n",
    "    Headlines=driver.find_elements_by_xpath(\"//h1[@class='_1Y-96']\")\n",
    "    for i in Headlines:\n",
    "        Headline.append(i.text)\n",
    "except NoSuchElementException:#handling no such element exception\n",
    "    Headline.append('No details available')\n",
    "except StaleElementReferenceException:#handling Stale element exception\n",
    "    Headline.append('No details available')\n",
    "    \n",
    "time.sleep(2)   \n",
    "\n",
    "Headline[0:3]"
   ]
  },
  {
   "cell_type": "code",
   "execution_count": 6,
   "metadata": {},
   "outputs": [
    {
     "data": {
      "text/plain": [
       "['NEW DELHI: With an aim to provide better service to its customers through the use of latest technological interventions, Tata Power Delhi Distribution (Tata Power-DDL) has started using drones for maintenance of power lines, poles and towers.\\nThe drone usage will provide faster, better and more accurate service resolutions, a release stated. The company is using micro drones, weighing less than 2kg, with a flying capacity below 200ft with permission from the Union home ministry and local police authorities.\\nPlay\\nUnmute\\n:\\nFullscreen\\n\\n“These drones are equipped with integrated thermal vision camera to render infrared radiations, LIDAR (Light Detection and Ranging) to measure distances with the use of laser lights, high resolution camera for electrical asset inspection, monitoring and mapping and GPS-enabled autopilot system guided by a ground control station. These drones can scan potential defects for the help of maintenance personnel from various angles giving a fuller picture, which is often not possible with other inspection methods,” a Tata Power-DDL release stated on Wednesday.\\nSanjay Banga, CEO, Tata Power-DDL said: “With the pilot project we’re exploring and developing its applicability in the power distribution sector. Usage of drones for maintenance will not only help us reduce the downtime, but will also give better insights for future projects. Drone usage will have wide application in the years to come.”']"
      ]
     },
     "execution_count": 6,
     "metadata": {},
     "output_type": "execute_result"
    }
   ],
   "source": [
    "Description=[]\n",
    "try:\n",
    "    Descriptions=driver.find_elements_by_xpath(\"//div[@class='_3YYSt clearfix  ']\")\n",
    "    for i in Descriptions:\n",
    "        Description.append(i.text)\n",
    "except NoSuchElementException:#handling no such element exception\n",
    "    Description.append('No details available')\n",
    "except StaleElementReferenceException:#handling Stale element exception\n",
    "    Description.append('No details available')\n",
    "    \n",
    "time.sleep(2)   \n",
    "\n",
    "Description[0:3]"
   ]
  },
  {
   "cell_type": "code",
   "execution_count": 7,
   "metadata": {},
   "outputs": [
    {
     "data": {
      "text/html": [
       "<div>\n",
       "<style scoped>\n",
       "    .dataframe tbody tr th:only-of-type {\n",
       "        vertical-align: middle;\n",
       "    }\n",
       "\n",
       "    .dataframe tbody tr th {\n",
       "        vertical-align: top;\n",
       "    }\n",
       "\n",
       "    .dataframe thead th {\n",
       "        text-align: right;\n",
       "    }\n",
       "</style>\n",
       "<table border=\"1\" class=\"dataframe\">\n",
       "  <thead>\n",
       "    <tr style=\"text-align: right;\">\n",
       "      <th></th>\n",
       "      <th>Headline</th>\n",
       "      <th>Description</th>\n",
       "    </tr>\n",
       "  </thead>\n",
       "  <tbody>\n",
       "    <tr>\n",
       "      <th>0</th>\n",
       "      <td>Tata Power deploys drones for maintenance</td>\n",
       "      <td>NEW DELHI: With an aim to provide better servi...</td>\n",
       "    </tr>\n",
       "  </tbody>\n",
       "</table>\n",
       "</div>"
      ],
      "text/plain": [
       "                                    Headline  \\\n",
       "0  Tata Power deploys drones for maintenance   \n",
       "\n",
       "                                         Description  \n",
       "0  NEW DELHI: With an aim to provide better servi...  "
      ]
     },
     "execution_count": 7,
     "metadata": {},
     "output_type": "execute_result"
    }
   ],
   "source": [
    "# creating dataframe\n",
    "\n",
    "df=pd.DataFrame({})\n",
    "df['Headline']= Headline[:1]\n",
    "df['Description']= Description[:1]\n",
    "\n",
    "\n",
    "df"
   ]
  },
  {
   "cell_type": "markdown",
   "metadata": {},
   "source": [
    "Scraping details of news on July 26"
   ]
  },
  {
   "cell_type": "code",
   "execution_count": 8,
   "metadata": {},
   "outputs": [],
   "source": [
    "#scraping details of news on July 26\n",
    "# Opening the times of india\n",
    "url = \"https://timesofindia.indiatimes.com/entertainment/telugu/movies/news/dear-comrade-movie-review-will-it-live-up-to-the-hype/articleshow/70383892.cms?\"\n",
    "driver.get(url)\n",
    "time.sleep(2)"
   ]
  },
  {
   "cell_type": "code",
   "execution_count": 9,
   "metadata": {},
   "outputs": [
    {
     "data": {
      "text/plain": [
       "[]"
      ]
     },
     "execution_count": 9,
     "metadata": {},
     "output_type": "execute_result"
    }
   ],
   "source": [
    "# Scraping the Author name\n",
    "Author=[]\n",
    "try:\n",
    "    authr=driver.find_elements_by_xpath(\"//div[@class='auth_detail']/a\")\n",
    "    for i in authr:\n",
    "         Author.append(i.text)               \n",
    "except NoSuchElementException:#handling no such element exception\n",
    "    Date.append('No details available')\n",
    "except StaleElementReferenceException:#handling Stale element exception\n",
    "    Date.append('No details available')\n",
    "    \n",
    "time.sleep(2) \n",
    "\n",
    "Author[0:3]"
   ]
  },
  {
   "cell_type": "code",
   "execution_count": 10,
   "metadata": {},
   "outputs": [
    {
     "data": {
      "text/plain": [
       "['Dear Comrade preview: Will it live up to the hype?']"
      ]
     },
     "execution_count": 10,
     "metadata": {},
     "output_type": "execute_result"
    }
   ],
   "source": [
    "Headline=[]\n",
    "try:\n",
    "    Headlines=driver.find_elements_by_xpath(\"//h1[@class='heading1']\")\n",
    "    for i in Headlines:\n",
    "        Headline.append(i.text)\n",
    "except NoSuchElementException:#handling no such element exception\n",
    "    Headline.append('No details available')\n",
    "except StaleElementReferenceException:#handling Stale element exception\n",
    "    Headline.append('No details available')\n",
    "    \n",
    "time.sleep(2)   \n",
    "\n",
    "Headline[0:3]"
   ]
  },
  {
   "cell_type": "code",
   "execution_count": 12,
   "metadata": {},
   "outputs": [
    {
     "data": {
      "text/plain": [
       "[\"Debutant Bharat Kamma’s Vijay Deverakonda and Rashmika Mandanna starrer ' Dear Comrade' released this Friday.\\nAlso See: Dear Comrade Movie Review\\n\\nWith Justin Prabhakaran’s music, Sujith Sarang’s cinematography and Sreejith Sarang on editing, 'Dear Comrade' has high expectations pinned on it thanks to the lead pair. The film’s music, teaser and trailer too generated a lot of hype around the film. Filmmakers too left no stone unturned to promote it, not just releasing the film in Tamil, Kannada, Malayalam too but also conducting ‘Music Festivals’ to draw in the crowd. The pre-release event of the film in Visakhapatnam on Wednesday was a comparatively simpler affair.\\nAlso See: 'Dear Comrade': Five reasons why you should watch Vijay Deverakonda and Rashmika Mandanna starrer\\n\\n\\nWhile nothing much about 'Dear Comrade' is known, what is clear is that Vijay Deverakonda plays the role of a student-union leader called Bobby who has anger issues. Rashmika Mandanna on the other hand plays the role of Lily, a state-level cricketer aiming for the nationals. The film’s actual story has been kept under wraps and initially, there was buzz that it will be based on Dulquer Salmaan’s ‘Comrade in America’. However director Bharat cleared up the rumours soon.\\n\\n\\nRead Also\\n'Dear Comrade': Karan Johar clarifies that no lead actors have been approached for the Hindi remake\\n\\nTalking to Hyderabad Times before Dear Comrade’s release, Rashmika called her role the “most physically demanding role” of her career. “I played a lot of sports growing up and was particularly good in athletics, basketball and swimming too. But cricket was never my thing. So when I first read director Bharat Kamma’s script, I was like, “I never held a cricket bat in my life! But the script was so engrossing, I finished reading it in one hour flat. I’m not really much of a reader honestly, yet I was so fascinated by the story and its female character’s journey; I just had to do it,” she had said.\\n\\n\\nIt remains to be seen if 'Dear Comrade' will live up to expectations.\"]"
      ]
     },
     "execution_count": 12,
     "metadata": {},
     "output_type": "execute_result"
    }
   ],
   "source": [
    "Description=[]\n",
    "try:\n",
    "    Descriptions=driver.find_elements_by_xpath(\"//div[@class='Normal']\")\n",
    "    for i in Descriptions:\n",
    "        Description.append(i.text)\n",
    "except NoSuchElementException:#handling no such element exception\n",
    "    Description.append('No details available')\n",
    "except StaleElementReferenceException:#handling Stale element exception\n",
    "    Description.append('No details available')\n",
    "    \n",
    "time.sleep(2)   \n",
    "\n",
    "Description[0:3]"
   ]
  },
  {
   "cell_type": "code",
   "execution_count": 13,
   "metadata": {},
   "outputs": [
    {
     "data": {
      "text/html": [
       "<div>\n",
       "<style scoped>\n",
       "    .dataframe tbody tr th:only-of-type {\n",
       "        vertical-align: middle;\n",
       "    }\n",
       "\n",
       "    .dataframe tbody tr th {\n",
       "        vertical-align: top;\n",
       "    }\n",
       "\n",
       "    .dataframe thead th {\n",
       "        text-align: right;\n",
       "    }\n",
       "</style>\n",
       "<table border=\"1\" class=\"dataframe\">\n",
       "  <thead>\n",
       "    <tr style=\"text-align: right;\">\n",
       "      <th></th>\n",
       "      <th>Headline</th>\n",
       "      <th>Description</th>\n",
       "    </tr>\n",
       "  </thead>\n",
       "  <tbody>\n",
       "    <tr>\n",
       "      <th>0</th>\n",
       "      <td>Dear Comrade preview: Will it live up to the h...</td>\n",
       "      <td>Debutant Bharat Kamma’s Vijay Deverakonda and ...</td>\n",
       "    </tr>\n",
       "  </tbody>\n",
       "</table>\n",
       "</div>"
      ],
      "text/plain": [
       "                                            Headline  \\\n",
       "0  Dear Comrade preview: Will it live up to the h...   \n",
       "\n",
       "                                         Description  \n",
       "0  Debutant Bharat Kamma’s Vijay Deverakonda and ...  "
      ]
     },
     "execution_count": 13,
     "metadata": {},
     "output_type": "execute_result"
    }
   ],
   "source": [
    "# creating dataframe\n",
    "\n",
    "df=pd.DataFrame({})\n",
    "df['Headline']= Headline[:1]\n",
    "df['Description']= Description[:1]\n",
    "\n",
    "\n",
    "df"
   ]
  },
  {
   "cell_type": "markdown",
   "metadata": {},
   "source": [
    "Scraping details of news on July 27"
   ]
  },
  {
   "cell_type": "code",
   "execution_count": 3,
   "metadata": {},
   "outputs": [],
   "source": [
    "#scraping details of news on July 26\n",
    "# Opening the times of india\n",
    "url = \"https://timesofindia.indiatimes.com//city/goa/kas-proposed-demolition-now-high-court-steps-in/articleshow/70403329.cms\"\n",
    "driver.get(url)\n",
    "time.sleep(2)"
   ]
  },
  {
   "cell_type": "code",
   "execution_count": 4,
   "metadata": {},
   "outputs": [
    {
     "data": {
      "text/plain": [
       "['Nida Sayed']"
      ]
     },
     "execution_count": 4,
     "metadata": {},
     "output_type": "execute_result"
    }
   ],
   "source": [
    "# Scraping the Author name\n",
    "Author=[]\n",
    "try:\n",
    "    authr=driver.find_elements_by_xpath(\"//div[@class='yYIu- byline']/a\")\n",
    "    for i in authr:\n",
    "         Author.append(i.text)               \n",
    "except NoSuchElementException:#handling no such element exception\n",
    "    Date.append('No details available')\n",
    "except StaleElementReferenceException:#handling Stale element exception\n",
    "    Date.append('No details available')\n",
    "    \n",
    "time.sleep(2) \n",
    "\n",
    "Author[0:3]"
   ]
  },
  {
   "cell_type": "code",
   "execution_count": 7,
   "metadata": {},
   "outputs": [
    {
     "data": {
      "text/plain": [
       "['KA’s proposed demolition: HC steps in']"
      ]
     },
     "execution_count": 7,
     "metadata": {},
     "output_type": "execute_result"
    }
   ],
   "source": [
    "Headline=[]\n",
    "try:\n",
    "    Headlines=driver.find_elements_by_xpath(\"//h1[@class='_1Y-96']\")\n",
    "    for i in Headlines:\n",
    "        Headline.append(i.text)\n",
    "except NoSuchElementException:#handling no such element exception\n",
    "    Headline.append('No details available')\n",
    "except StaleElementReferenceException:#handling Stale element exception\n",
    "    Headline.append('No details available')\n",
    "    \n",
    "time.sleep(2)   \n",
    "\n",
    "Headline[0:3]"
   ]
  },
  {
   "cell_type": "code",
   "execution_count": 8,
   "metadata": {},
   "outputs": [
    {
     "data": {
      "text/plain": [
       "['PANAJI: After a series of reports published by TOI stating that the state plans to demolish Kala Academy’s open-air auditorium, the high court of Bombay at Goa has taken suo motu cognisance of these news reports and asked the state government for a response within two weeks.\\nAdvocate general Devidas Pangam assured the high court that no hasty decisions are proposed to be taken in the matter, and that at present, Goa State Infrastructure Development Corporation (GSIDC) has only invited tenders for appointment of structural auditors.\\nPlay\\nUnmute\\n:\\nFullscreen\\n\\n“Unless a suitable structural auditor is considered at the highest levels, no action for demolition, as reported in newspapers, will be taken,” he told the court.\\nThe two-judge bench of justices M S Sonak and Nutan D Sardessai directed the state government and the Kala Academy administration to file affidavits on the issue within two weeks.\\n“The suo motu writ petition to now come up for hearing on August 19,” the high court said.\\nMinister for art and culture Govind Gaude had told TOI that the government was planning to demolish a part of the Charles Correa-designed structure, which has hosted several artistes of repute.\\n“As per my knowledge, the open-air auditorium cannot be repaired or renovated. We have to demolish it and reconstruct it,” Gaude had told TOI.\\nA year ago, the Academy officials had noticed rainwater seeping through the amphitheatre’s structure into the black box beneath it. All hall bookings at the open-air auditorium were then stopped.\\nSenior Academy officials told TOI that Goa Engineering College (GEC) had already assessed the building and submitted a report to them that the auditorium structure is weak. It was now awaiting a report from GSIDC to get a second opinion on the entire structure’s health.\\nThis year, as a preemptive measure, Kala Academy has covered the open-air auditorium’s seating area with a tailor-made tarpaulin sheet to protect it from the rain. The sheet, worth Rs 3 lakh, has been spread so that rainwater cascades down the slope and empties directly into the drains.\\nThe decision of the state government to demolish a part of the iconic auditorium came in for severe criticism with experts questioning the intelligence behind such a move.\\nThe Charles Correa Foundation also reacted strongly to these developments, stating that they had not been consulted, but would be happy to provide assistance or advice to stabilise and restore the building, which was completed in 1983.\\nThe Indian Institute of Architects (IIA)–Goa chapter, along with the Institution of Engineers–Goa chapter, also plan to request Kala Academy to allow them to inspect the institution, review the two reports by GEC and GSIDC, and assist the academy in restoring and preserving the structure.\\n(With inputs from Lisa Monteiro)']"
      ]
     },
     "execution_count": 8,
     "metadata": {},
     "output_type": "execute_result"
    }
   ],
   "source": [
    "Description=[]\n",
    "try:\n",
    "    Descriptions=driver.find_elements_by_xpath(\"//div[@class='_3YYSt clearfix  ']\")\n",
    "    for i in Descriptions:\n",
    "        Description.append(i.text)\n",
    "except NoSuchElementException:#handling no such element exception\n",
    "    Description.append('No details available')\n",
    "except StaleElementReferenceException:#handling Stale element exception\n",
    "    Description.append('No details available')\n",
    "    \n",
    "time.sleep(2)   \n",
    "\n",
    "Description[0:3]"
   ]
  },
  {
   "cell_type": "code",
   "execution_count": 9,
   "metadata": {},
   "outputs": [
    {
     "data": {
      "text/html": [
       "<div>\n",
       "<style scoped>\n",
       "    .dataframe tbody tr th:only-of-type {\n",
       "        vertical-align: middle;\n",
       "    }\n",
       "\n",
       "    .dataframe tbody tr th {\n",
       "        vertical-align: top;\n",
       "    }\n",
       "\n",
       "    .dataframe thead th {\n",
       "        text-align: right;\n",
       "    }\n",
       "</style>\n",
       "<table border=\"1\" class=\"dataframe\">\n",
       "  <thead>\n",
       "    <tr style=\"text-align: right;\">\n",
       "      <th></th>\n",
       "      <th>Headline</th>\n",
       "      <th>Description</th>\n",
       "      <th>Author</th>\n",
       "    </tr>\n",
       "  </thead>\n",
       "  <tbody>\n",
       "    <tr>\n",
       "      <th>0</th>\n",
       "      <td>KA’s proposed demolition: HC steps in</td>\n",
       "      <td>PANAJI: After a series of reports published by...</td>\n",
       "      <td>Nida Sayed</td>\n",
       "    </tr>\n",
       "  </tbody>\n",
       "</table>\n",
       "</div>"
      ],
      "text/plain": [
       "                                Headline  \\\n",
       "0  KA’s proposed demolition: HC steps in   \n",
       "\n",
       "                                         Description      Author  \n",
       "0  PANAJI: After a series of reports published by...  Nida Sayed  "
      ]
     },
     "execution_count": 9,
     "metadata": {},
     "output_type": "execute_result"
    }
   ],
   "source": [
    "# creating dataframe\n",
    "\n",
    "df=pd.DataFrame({})\n",
    "df['Headline']= Headline[:2]\n",
    "df['Description']= Description[:2]\n",
    "df['Author']=Author[:2]\n",
    "\n",
    "df"
   ]
  },
  {
   "cell_type": "markdown",
   "metadata": {},
   "source": [
    "Scraping details of news on July 28"
   ]
  },
  {
   "cell_type": "code",
   "execution_count": 10,
   "metadata": {},
   "outputs": [],
   "source": [
    "#scraping details of news on July 28\n",
    "# Opening the times of india\n",
    "url = \"https://timesofindia.indiatimes.com//city/bareilly/unidentified-youths-mutilated-body-found/articleshow/70414718.cms\"\n",
    "driver.get(url)\n",
    "time.sleep(2)"
   ]
  },
  {
   "cell_type": "code",
   "execution_count": 11,
   "metadata": {},
   "outputs": [
    {
     "data": {
      "text/plain": [
       "['Pankul Sharma']"
      ]
     },
     "execution_count": 11,
     "metadata": {},
     "output_type": "execute_result"
    }
   ],
   "source": [
    "# Scraping the Author name\n",
    "Author=[]\n",
    "try:\n",
    "    authr=driver.find_elements_by_xpath(\"//div[@class='yYIu- byline']/a\")\n",
    "    for i in authr:\n",
    "         Author.append(i.text)               \n",
    "except NoSuchElementException:#handling no such element exception\n",
    "    Date.append('No details available')\n",
    "except StaleElementReferenceException:#handling Stale element exception\n",
    "    Date.append('No details available')\n",
    "    \n",
    "time.sleep(2) \n",
    "\n",
    "Author[0:3]"
   ]
  },
  {
   "cell_type": "code",
   "execution_count": 12,
   "metadata": {},
   "outputs": [
    {
     "data": {
      "text/plain": [
       "['Unidentified youth’s mutilated body found']"
      ]
     },
     "execution_count": 12,
     "metadata": {},
     "output_type": "execute_result"
    }
   ],
   "source": [
    "Headline=[]\n",
    "try:\n",
    "    Headlines=driver.find_elements_by_xpath(\"//h1[@class='_1Y-96']\")\n",
    "    for i in Headlines:\n",
    "        Headline.append(i.text)\n",
    "except NoSuchElementException:#handling no such element exception\n",
    "    Headline.append('No details available')\n",
    "except StaleElementReferenceException:#handling Stale element exception\n",
    "    Headline.append('No details available')\n",
    "    \n",
    "time.sleep(2)   \n",
    "\n",
    "Headline[0:3]"
   ]
  },
  {
   "cell_type": "code",
   "execution_count": 13,
   "metadata": {},
   "outputs": [
    {
     "data": {
      "text/plain": [
       "['BAREILLY: The mutilated body of an unidentified youth was found abandoned near a bank branch on Pilibhit road under Izzatnagar police station limits on Saturday morning. Passers-by spotted the body and informed police. It appeared that the man, in his 40s, was robbed and they brutally killed him and crushed his face with bricks, said police.\\nStation house officer KK Verma said they were trying to get footage of CCTV cameras installed in the vicinity in search of a lead about the killers.\\n\\n“Upon learning about the incident, we reached the spot and took the body in our possession, which was badly mutilated by brick pieces. The body was found near Oriental Bank branch on Pilibhit bypass before the dawn broke. We frisked the victim in search of his identity, but in vain,” said the SHO.\\nA team of forensic experts also reached the spot to collect evidence. Police said the victim was wearing jeans and slipper.\\n“We are investigating all angles, whether he was killed by robbers or he was killed due to old rivalry. Things will be clear once the victim’s identified is established,” Verma added.']"
      ]
     },
     "execution_count": 13,
     "metadata": {},
     "output_type": "execute_result"
    }
   ],
   "source": [
    "Description=[]\n",
    "try:\n",
    "    Descriptions=driver.find_elements_by_xpath(\"//div[@class='_3YYSt clearfix  ']\")\n",
    "    for i in Descriptions:\n",
    "        Description.append(i.text)\n",
    "except NoSuchElementException:#handling no such element exception\n",
    "    Description.append('No details available')\n",
    "except StaleElementReferenceException:#handling Stale element exception\n",
    "    Description.append('No details available')\n",
    "    \n",
    "time.sleep(2)   \n",
    "\n",
    "Description[0:3]"
   ]
  },
  {
   "cell_type": "code",
   "execution_count": 14,
   "metadata": {},
   "outputs": [
    {
     "data": {
      "text/html": [
       "<div>\n",
       "<style scoped>\n",
       "    .dataframe tbody tr th:only-of-type {\n",
       "        vertical-align: middle;\n",
       "    }\n",
       "\n",
       "    .dataframe tbody tr th {\n",
       "        vertical-align: top;\n",
       "    }\n",
       "\n",
       "    .dataframe thead th {\n",
       "        text-align: right;\n",
       "    }\n",
       "</style>\n",
       "<table border=\"1\" class=\"dataframe\">\n",
       "  <thead>\n",
       "    <tr style=\"text-align: right;\">\n",
       "      <th></th>\n",
       "      <th>Headline</th>\n",
       "      <th>Description</th>\n",
       "      <th>Author</th>\n",
       "    </tr>\n",
       "  </thead>\n",
       "  <tbody>\n",
       "    <tr>\n",
       "      <th>0</th>\n",
       "      <td>Unidentified youth’s mutilated body found</td>\n",
       "      <td>BAREILLY: The mutilated body of an unidentifie...</td>\n",
       "      <td>Pankul Sharma</td>\n",
       "    </tr>\n",
       "  </tbody>\n",
       "</table>\n",
       "</div>"
      ],
      "text/plain": [
       "                                    Headline  \\\n",
       "0  Unidentified youth’s mutilated body found   \n",
       "\n",
       "                                         Description         Author  \n",
       "0  BAREILLY: The mutilated body of an unidentifie...  Pankul Sharma  "
      ]
     },
     "execution_count": 14,
     "metadata": {},
     "output_type": "execute_result"
    }
   ],
   "source": [
    "# creating dataframe\n",
    "\n",
    "df=pd.DataFrame({})\n",
    "df['Headline']= Headline[:2]\n",
    "df['Description']= Description[:2]\n",
    "df['Author']=Author[:2]\n",
    "\n",
    "df"
   ]
  },
  {
   "cell_type": "markdown",
   "metadata": {},
   "source": [
    "Scraping details of news on July 29"
   ]
  },
  {
   "cell_type": "code",
   "execution_count": 15,
   "metadata": {},
   "outputs": [],
   "source": [
    "#scraping details of news on July 29\n",
    "# Opening the times of india\n",
    "url = \"https://timesofindia.indiatimes.com//city/noida/help-steals-jewellery-hidden-in-shoe-rack/articleshow/70424858.cms\"\n",
    "driver.get(url)\n",
    "time.sleep(2)\n"
   ]
  },
  {
   "cell_type": "code",
   "execution_count": 16,
   "metadata": {},
   "outputs": [
    {
     "data": {
      "text/plain": [
       "['Shikha Salaria']"
      ]
     },
     "execution_count": 16,
     "metadata": {},
     "output_type": "execute_result"
    }
   ],
   "source": [
    "# Scraping the Author name\n",
    "Author=[]\n",
    "try:\n",
    "    authr=driver.find_elements_by_xpath(\"//div[@class='yYIu- byline']/a\")\n",
    "    for i in authr:\n",
    "         Author.append(i.text)               \n",
    "except NoSuchElementException:#handling no such element exception\n",
    "    Date.append('No details available')\n",
    "except StaleElementReferenceException:#handling Stale element exception\n",
    "    Date.append('No details available')\n",
    "    \n",
    "time.sleep(2) \n",
    "\n",
    "Author[0:3]"
   ]
  },
  {
   "cell_type": "code",
   "execution_count": 17,
   "metadata": {},
   "outputs": [
    {
     "data": {
      "text/plain": [
       "['Noida: Help steals jewellery hidden in shoe rack']"
      ]
     },
     "execution_count": 17,
     "metadata": {},
     "output_type": "execute_result"
    }
   ],
   "source": [
    "Headline=[]\n",
    "try:\n",
    "    Headlines=driver.find_elements_by_xpath(\"//h1[@class='_1Y-96']\")\n",
    "    for i in Headlines:\n",
    "        Headline.append(i.text)\n",
    "except NoSuchElementException:#handling no such element exception\n",
    "    Headline.append('No details available')\n",
    "except StaleElementReferenceException:#handling Stale element exception\n",
    "    Headline.append('No details available')\n",
    "    \n",
    "time.sleep(2)   \n",
    "\n",
    "Headline[0:3]"
   ]
  },
  {
   "cell_type": "code",
   "execution_count": 18,
   "metadata": {},
   "outputs": [
    {
     "data": {
      "text/plain": [
       "['NOIDA: Hiding jewellery in the shoe rack to save it from thieves may not be of much use if someone in the house itself has plans to run away with it.\\nSurendra Bisht, the owner of a consultancy firm, and his wife Reeti had hidden a necklace, gold ring, diamond bracelet and eight gold bangles in a shoe rack in the balcony of their Sector 25 house. But the domestic help whom the couple had hired without verification noticed the jewellery while cleaning the house and made a plan to steal it. Soon after, Pinky left the job. “I had a feeling that thieves could never think of checking the shoe rack. We thought we were smart, but we got outsmarted,” Reeti said.\\n\\nThe theft took place about a month and a half ago, but the couple realised it only last Thursday. “She left the job soon after committing the theft, but I noticed it only after our family returned from a vacation to Shimla,” Reeti said. “Pinky would clean the area, and when I found that the jewellery was missing, my first suspicion went on her,” she sadded.\\nSurendra and his wife lodged a complaint on Friday, and Pinky was arrested from her jhuggi on Sunday. “She had sold the jewellery to one Naresh Sharma in Harola, who told her that it was brass and not real gold. He gave her a gold ornament in exchange of the entire jewellery,” SP (city) Vineet Jaiswal said. The couple have estimated the stolen jewellery to be worth Rs 15 lakh.\\n“It is necessary for house owners to check documents of domestic helps, such as Aadhaar card or voter IDs to avoid such thefts,” he said.']"
      ]
     },
     "execution_count": 18,
     "metadata": {},
     "output_type": "execute_result"
    }
   ],
   "source": [
    "Description=[]\n",
    "try:\n",
    "    Descriptions=driver.find_elements_by_xpath(\"//div[@class='_3YYSt clearfix  ']\")\n",
    "    for i in Descriptions:\n",
    "        Description.append(i.text)\n",
    "except NoSuchElementException:#handling no such element exception\n",
    "    Description.append('No details available')\n",
    "except StaleElementReferenceException:#handling Stale element exception\n",
    "    Description.append('No details available')\n",
    "    \n",
    "time.sleep(2)   \n",
    "\n",
    "Description[0:3]"
   ]
  },
  {
   "cell_type": "code",
   "execution_count": 19,
   "metadata": {},
   "outputs": [
    {
     "data": {
      "text/html": [
       "<div>\n",
       "<style scoped>\n",
       "    .dataframe tbody tr th:only-of-type {\n",
       "        vertical-align: middle;\n",
       "    }\n",
       "\n",
       "    .dataframe tbody tr th {\n",
       "        vertical-align: top;\n",
       "    }\n",
       "\n",
       "    .dataframe thead th {\n",
       "        text-align: right;\n",
       "    }\n",
       "</style>\n",
       "<table border=\"1\" class=\"dataframe\">\n",
       "  <thead>\n",
       "    <tr style=\"text-align: right;\">\n",
       "      <th></th>\n",
       "      <th>Headline</th>\n",
       "      <th>Description</th>\n",
       "      <th>Author</th>\n",
       "    </tr>\n",
       "  </thead>\n",
       "  <tbody>\n",
       "    <tr>\n",
       "      <th>0</th>\n",
       "      <td>Noida: Help steals jewellery hidden in shoe rack</td>\n",
       "      <td>NOIDA: Hiding jewellery in the shoe rack to sa...</td>\n",
       "      <td>Shikha Salaria</td>\n",
       "    </tr>\n",
       "  </tbody>\n",
       "</table>\n",
       "</div>"
      ],
      "text/plain": [
       "                                           Headline  \\\n",
       "0  Noida: Help steals jewellery hidden in shoe rack   \n",
       "\n",
       "                                         Description          Author  \n",
       "0  NOIDA: Hiding jewellery in the shoe rack to sa...  Shikha Salaria  "
      ]
     },
     "execution_count": 19,
     "metadata": {},
     "output_type": "execute_result"
    }
   ],
   "source": [
    "# creating dataframe\n",
    "\n",
    "df=pd.DataFrame({})\n",
    "df['Headline']= Headline[:2]\n",
    "df['Description']= Description[:2]\n",
    "df['Author']=Author[:2]\n",
    "\n",
    "df"
   ]
  },
  {
   "cell_type": "markdown",
   "metadata": {},
   "source": [
    "Scraping details of news on July 30"
   ]
  },
  {
   "cell_type": "code",
   "execution_count": 20,
   "metadata": {},
   "outputs": [],
   "source": [
    "#scraping details of news on July 30\n",
    "# Opening the times of india\n",
    "url = \"https://timesofindia.indiatimes.com//city/pune/two-wakad-societies-send-genset-bill-to-power-utility/articleshow/70440974.cms\"\n",
    "driver.get(url)\n",
    "time.sleep(2)"
   ]
  },
  {
   "cell_type": "code",
   "execution_count": 21,
   "metadata": {},
   "outputs": [
    {
     "data": {
      "text/plain": [
       "['Siddharth Gaikwad']"
      ]
     },
     "execution_count": 21,
     "metadata": {},
     "output_type": "execute_result"
    }
   ],
   "source": [
    "# Scraping the Author name\n",
    "Author=[]\n",
    "try:\n",
    "    authr=driver.find_elements_by_xpath(\"//div[@class='yYIu- byline']/a\")\n",
    "    for i in authr:\n",
    "         Author.append(i.text)               \n",
    "except NoSuchElementException:#handling no such element exception\n",
    "    Date.append('No details available')\n",
    "except StaleElementReferenceException:#handling Stale element exception\n",
    "    Date.append('No details available')\n",
    "    \n",
    "time.sleep(2) \n",
    "\n",
    "Author[0:3]"
   ]
  },
  {
   "cell_type": "code",
   "execution_count": 22,
   "metadata": {},
   "outputs": [
    {
     "data": {
      "text/plain": [
       "['Two Wakad societies send genset bill to power utility']"
      ]
     },
     "execution_count": 22,
     "metadata": {},
     "output_type": "execute_result"
    }
   ],
   "source": [
    "Headline=[]\n",
    "try:\n",
    "    Headlines=driver.find_elements_by_xpath(\"//h1[@class='_1Y-96']\")\n",
    "    for i in Headlines:\n",
    "        Headline.append(i.text)\n",
    "except NoSuchElementException:#handling no such element exception\n",
    "    Headline.append('No details available')\n",
    "except StaleElementReferenceException:#handling Stale element exception\n",
    "    Headline.append('No details available')\n",
    "    \n",
    "time.sleep(2)   \n",
    "\n",
    "Headline[0:3]"
   ]
  },
  {
   "cell_type": "code",
   "execution_count": 23,
   "metadata": {},
   "outputs": [
    {
     "data": {
      "text/plain": [
       "['PIMPRI CHINCHWAD: Frequent power cuts for the last two years have prompted two housing societies in Wakad to seek reimbursement from the Maharashtra State Electricity Distribution Company Limited (MSEDCL) for the money spent on fuelling gensets and their upkeep.\\nPlay\\nUnmute\\n:\\nFullscreen\\n\\nWhile Latitude Housing Society has sent a bill of Rs 1.81 lakh for the last two years to the MSEDCL, Shonest Towers has sought Rs 90,000 quarterly to be adjusted against the its monthly electricity bill.\\nVishal Fiske, secretary of Latitude Housing Society, said, “Our society has 165 flats and six shops, whose power bill comes to around Rs 1.75 lakh per month. We have to suffer from 2-4 hours of power cuts for 3-4 times every week. Resultantly, we have to spend around Rs 8,000 to Rs 10,000 every month on diesel generators to light up the common areas. This is a huge burden on the society’s resources so the power company must adjust this expenditure against our monthly bill.”\\nTejaswani Sawai, chairperson of Shonest Towers, said, “Our society has 328 flats. Our monthly power bill is Rs 1.5 lakh. However, we have to spend Rs 25,000 to Rs 30,000 every month on purchasing diesel for generators due to the frequent power outages. We have sent the first quarterly bill of this fiscal to MSEDCL for adjustment against our future power bills.”\\nAnother society Platinum Towers is compiling the bills to send to the power utility. “There are 86 flats in our society. We have to use diesel generators for keeping the lifts operational as well as to pump water into overhead tanks. We have told our manager to compile the bills, which we will send to MSEDCL soon,” Harshad Dehmukh, chairman of the society, said\\nSudesh Raje, chairman, Pimpri Chinchwad Housing Federation, said, there are 200 to 300 housing societies in Wakad that are facing frequent power outages. “In one week, all the 300 housing societies in Wakad are expected to send their diesel generator bills to the power company.”\\nBharat Pawar, deputy chief PRO, MSEDCL, Pune, said, “We regret the inconvenience caused to the consumers. However, there is no provision in our rules to compensate the consumers if they are using other means to get relief from the outages. Power outages are occurring due to the civic digging works. The consumers must complain to PCMC about it.”']"
      ]
     },
     "execution_count": 23,
     "metadata": {},
     "output_type": "execute_result"
    }
   ],
   "source": [
    "Description=[]\n",
    "try:\n",
    "    Descriptions=driver.find_elements_by_xpath(\"//div[@class='_3YYSt clearfix  ']\")\n",
    "    for i in Descriptions:\n",
    "        Description.append(i.text)\n",
    "except NoSuchElementException:#handling no such element exception\n",
    "    Description.append('No details available')\n",
    "except StaleElementReferenceException:#handling Stale element exception\n",
    "    Description.append('No details available')\n",
    "    \n",
    "time.sleep(2)   \n",
    "\n",
    "Description[0:3]"
   ]
  },
  {
   "cell_type": "code",
   "execution_count": 24,
   "metadata": {},
   "outputs": [
    {
     "data": {
      "text/html": [
       "<div>\n",
       "<style scoped>\n",
       "    .dataframe tbody tr th:only-of-type {\n",
       "        vertical-align: middle;\n",
       "    }\n",
       "\n",
       "    .dataframe tbody tr th {\n",
       "        vertical-align: top;\n",
       "    }\n",
       "\n",
       "    .dataframe thead th {\n",
       "        text-align: right;\n",
       "    }\n",
       "</style>\n",
       "<table border=\"1\" class=\"dataframe\">\n",
       "  <thead>\n",
       "    <tr style=\"text-align: right;\">\n",
       "      <th></th>\n",
       "      <th>Headline</th>\n",
       "      <th>Description</th>\n",
       "      <th>Author</th>\n",
       "    </tr>\n",
       "  </thead>\n",
       "  <tbody>\n",
       "    <tr>\n",
       "      <th>0</th>\n",
       "      <td>Two Wakad societies send genset bill to power ...</td>\n",
       "      <td>PIMPRI CHINCHWAD: Frequent power cuts for the ...</td>\n",
       "      <td>Siddharth Gaikwad</td>\n",
       "    </tr>\n",
       "  </tbody>\n",
       "</table>\n",
       "</div>"
      ],
      "text/plain": [
       "                                            Headline  \\\n",
       "0  Two Wakad societies send genset bill to power ...   \n",
       "\n",
       "                                         Description             Author  \n",
       "0  PIMPRI CHINCHWAD: Frequent power cuts for the ...  Siddharth Gaikwad  "
      ]
     },
     "execution_count": 24,
     "metadata": {},
     "output_type": "execute_result"
    }
   ],
   "source": [
    "# creating dataframe\n",
    "\n",
    "df=pd.DataFrame({})\n",
    "df['Headline']= Headline[:2]\n",
    "df['Description']= Description[:2]\n",
    "df['Author']=Author[:2]\n",
    "\n",
    "df"
   ]
  },
  {
   "cell_type": "markdown",
   "metadata": {},
   "source": [
    "Scraping details of news on July 31\n"
   ]
  },
  {
   "cell_type": "code",
   "execution_count": 25,
   "metadata": {},
   "outputs": [],
   "source": [
    "#scraping details of news on July 31\n",
    "# Opening the times of india\n",
    "url = \"https://timesofindia.indiatimes.com//sports/more-sports/shooting/did-shooting-bodies-miss-the-reduced-programme-offer/articleshow/70459034.cms\"\n",
    "driver.get(url)\n",
    "time.sleep(2)"
   ]
  },
  {
   "cell_type": "code",
   "execution_count": 26,
   "metadata": {},
   "outputs": [
    {
     "data": {
      "text/plain": [
       "['Tushar Dutt']"
      ]
     },
     "execution_count": 26,
     "metadata": {},
     "output_type": "execute_result"
    }
   ],
   "source": [
    "# Scraping the Author name\n",
    "Author=[]\n",
    "try:\n",
    "    authr=driver.find_elements_by_xpath(\"//div[@class='yYIu- byline']/a\")\n",
    "    for i in authr:\n",
    "         Author.append(i.text)               \n",
    "except NoSuchElementException:#handling no such element exception\n",
    "    Date.append('No details available')\n",
    "except StaleElementReferenceException:#handling Stale element exception\n",
    "    Date.append('No details available')\n",
    "    \n",
    "time.sleep(2) \n",
    "\n",
    "Author[0:3]"
   ]
  },
  {
   "cell_type": "code",
   "execution_count": 27,
   "metadata": {},
   "outputs": [
    {
     "data": {
      "text/plain": [
       "['Did shooting bodies miss the reduced programme offer?']"
      ]
     },
     "execution_count": 27,
     "metadata": {},
     "output_type": "execute_result"
    }
   ],
   "source": [
    "Headline=[]\n",
    "try:\n",
    "    Headlines=driver.find_elements_by_xpath(\"//h1[@class='_1Y-96']\")\n",
    "    for i in Headlines:\n",
    "        Headline.append(i.text)\n",
    "except NoSuchElementException:#handling no such element exception\n",
    "    Headline.append('No details available')\n",
    "except StaleElementReferenceException:#handling Stale element exception\n",
    "    Headline.append('No details available')\n",
    "    \n",
    "time.sleep(2)   \n",
    "\n",
    "Headline[0:3]"
   ]
  },
  {
   "cell_type": "code",
   "execution_count": 28,
   "metadata": {},
   "outputs": [
    {
     "data": {
      "text/plain": [
       "['PUNE: When the Indian Olympic Association (IOA) is advocating a boycott of the 2022 Birmingham Commonwealth Games, it has emerged that the world shooting bodies possibly missed out on an opportunity of getting their sport back to the CWG 2022 programme. Or at least as it appears so.\\nAccording to the Birmingham 2022 chief executive officer, Ian Reid, the world shooting bodies were offered an opportunity to propose a reduced programme (only rifle, pistol) for the 2022 CWG. However, the International Shooting Sport Federation (ISSF), the International Confederation of Fullbore Rifle Associations (ICFRA) and British Shooting (BS) preferred to stick to the full- programme (rifle, pistol, shotgun and fullbore).\\n\\n“The Panel determined that the proposed location for shooting at Bisley in Surrey offered little or no benefit to the West Midlands, in a Games with a significant proportion of funding coming from the region. The Panel did offer the opportunity for the sport to submit an alternative Birmingham based proposal — most likely two disciplines in one Birmingham venue — but the ISSF, ICFRA and BS would not submit a proposal that did not include all four disciplines in a single Bisley-based venue,” Reid said in a statement.\\nHowever, the ISSF secretary general Alexander Ratner of Russia refuted Reid’s claim and said the shooting body never got any proposal for reduced programme.\\n“The ISSF had discussed the possibility to hold the competitions in Bisley — where there are possibilities for all the events — with the Organizers on December 3. But we (ISSF) never heard of such proposal and did not get it (officially),” Ratner told TOI.\\nMeanwhile, reacting to the news of India contemplating a boycott, the CEO said as hosts they would want to see Indian athletes in Birmingham. “We want every single nation and territory eligible to compete in the Commonwealth Games, including India, to be in Birmingham in 2022,” he said.\\nReid also said that the hosts have spoken to the Commonwealth Games Federation (CGF) and they hope for a positive outcome. “We have spoken with the CGF and understand senior executives hope to meet with the Indian Olympic Association soon to discuss their concerns. It’s our hope that we will be welcoming India to Birmingham in 2022.”']"
      ]
     },
     "execution_count": 28,
     "metadata": {},
     "output_type": "execute_result"
    }
   ],
   "source": [
    "Description=[]\n",
    "try:\n",
    "    Descriptions=driver.find_elements_by_xpath(\"//div[@class='_3YYSt clearfix  ']\")\n",
    "    for i in Descriptions:\n",
    "        Description.append(i.text)\n",
    "except NoSuchElementException:#handling no such element exception\n",
    "    Description.append('No details available')\n",
    "except StaleElementReferenceException:#handling Stale element exception\n",
    "    Description.append('No details available')\n",
    "    \n",
    "time.sleep(2)   \n",
    "\n",
    "Description[0:3]"
   ]
  },
  {
   "cell_type": "code",
   "execution_count": 29,
   "metadata": {},
   "outputs": [
    {
     "data": {
      "text/html": [
       "<div>\n",
       "<style scoped>\n",
       "    .dataframe tbody tr th:only-of-type {\n",
       "        vertical-align: middle;\n",
       "    }\n",
       "\n",
       "    .dataframe tbody tr th {\n",
       "        vertical-align: top;\n",
       "    }\n",
       "\n",
       "    .dataframe thead th {\n",
       "        text-align: right;\n",
       "    }\n",
       "</style>\n",
       "<table border=\"1\" class=\"dataframe\">\n",
       "  <thead>\n",
       "    <tr style=\"text-align: right;\">\n",
       "      <th></th>\n",
       "      <th>Headline</th>\n",
       "      <th>Description</th>\n",
       "      <th>Author</th>\n",
       "    </tr>\n",
       "  </thead>\n",
       "  <tbody>\n",
       "    <tr>\n",
       "      <th>0</th>\n",
       "      <td>Did shooting bodies miss the reduced programme...</td>\n",
       "      <td>PUNE: When the Indian Olympic Association (IOA...</td>\n",
       "      <td>Tushar Dutt</td>\n",
       "    </tr>\n",
       "  </tbody>\n",
       "</table>\n",
       "</div>"
      ],
      "text/plain": [
       "                                            Headline  \\\n",
       "0  Did shooting bodies miss the reduced programme...   \n",
       "\n",
       "                                         Description       Author  \n",
       "0  PUNE: When the Indian Olympic Association (IOA...  Tushar Dutt  "
      ]
     },
     "execution_count": 29,
     "metadata": {},
     "output_type": "execute_result"
    }
   ],
   "source": [
    "# creating dataframe\n",
    "\n",
    "df=pd.DataFrame({})\n",
    "df['Headline']= Headline[:2]\n",
    "df['Description']= Description[:2]\n",
    "df['Author']=Author[:2]\n",
    "\n",
    "df"
   ]
  },
  {
   "cell_type": "code",
   "execution_count": null,
   "metadata": {},
   "outputs": [],
   "source": []
  }
 ],
 "metadata": {
  "kernelspec": {
   "display_name": "Python 3",
   "language": "python",
   "name": "python3"
  },
  "language_info": {
   "codemirror_mode": {
    "name": "ipython",
    "version": 3
   },
   "file_extension": ".py",
   "mimetype": "text/x-python",
   "name": "python",
   "nbconvert_exporter": "python",
   "pygments_lexer": "ipython3",
   "version": "3.8.5"
  }
 },
 "nbformat": 4,
 "nbformat_minor": 4
}
