{
 "cells": [
  {
   "cell_type": "markdown",
   "metadata": {},
   "source": [
    "Loading the required libraries"
   ]
  },
  {
   "cell_type": "code",
   "execution_count": 1,
   "metadata": {},
   "outputs": [],
   "source": [
    "import pandas as pd\n",
    "import numpy as np\n",
    "import seaborn as sns\n",
    "import matplotlib.pyplot as plt\n",
    "from sklearn.model_selection import train_test_split\n",
    "from sklearn.linear_model import LinearRegression\n",
    "from sklearn.tree import DecisionTreeRegressor\n",
    "from sklearn.neighbors import KNeighborsRegressor\n",
    "from sklearn.svm import SVR\n",
    "from sklearn.ensemble import RandomForestRegressor\n",
    "from sklearn.metrics import mean_squared_error,mean_absolute_error\n",
    "import warnings\n",
    "warnings.filterwarnings('ignore')"
   ]
  },
  {
   "cell_type": "code",
   "execution_count": 78,
   "metadata": {},
   "outputs": [],
   "source": [
    "#Uploading the the data set\n",
    "data =pd.read_csv('Final_car.csv')"
   ]
  },
  {
   "cell_type": "code",
   "execution_count": 79,
   "metadata": {},
   "outputs": [
    {
     "data": {
      "text/html": [
       "<div>\n",
       "<style scoped>\n",
       "    .dataframe tbody tr th:only-of-type {\n",
       "        vertical-align: middle;\n",
       "    }\n",
       "\n",
       "    .dataframe tbody tr th {\n",
       "        vertical-align: top;\n",
       "    }\n",
       "\n",
       "    .dataframe thead th {\n",
       "        text-align: right;\n",
       "    }\n",
       "</style>\n",
       "<table border=\"1\" class=\"dataframe\">\n",
       "  <thead>\n",
       "    <tr style=\"text-align: right;\">\n",
       "      <th></th>\n",
       "      <th>Unnamed: 0</th>\n",
       "      <th>Brand</th>\n",
       "      <th>Price</th>\n",
       "      <th>Model</th>\n",
       "      <th>KMS_driven</th>\n",
       "      <th>Fuel</th>\n",
       "      <th>Variant</th>\n",
       "    </tr>\n",
       "  </thead>\n",
       "  <tbody>\n",
       "    <tr>\n",
       "      <th>0</th>\n",
       "      <td>0</td>\n",
       "      <td>2017 Maruti Swift</td>\n",
       "      <td>5.79 Lakh</td>\n",
       "      <td>VDI BSIV</td>\n",
       "      <td>84,730 kms</td>\n",
       "      <td>Diesel</td>\n",
       "      <td>Manual</td>\n",
       "    </tr>\n",
       "    <tr>\n",
       "      <th>1</th>\n",
       "      <td>1</td>\n",
       "      <td>2017 Maruti Ignis</td>\n",
       "      <td>4.93 Lakh</td>\n",
       "      <td>1.2 Zeta BSIV</td>\n",
       "      <td>36,985 kms</td>\n",
       "      <td>Petrol</td>\n",
       "      <td>Manual</td>\n",
       "    </tr>\n",
       "    <tr>\n",
       "      <th>2</th>\n",
       "      <td>2</td>\n",
       "      <td>2012 Hyundai i10</td>\n",
       "      <td>3.41 Lakh</td>\n",
       "      <td>Sportz</td>\n",
       "      <td>73,717 kms</td>\n",
       "      <td>Petrol</td>\n",
       "      <td>Manual</td>\n",
       "    </tr>\n",
       "    <tr>\n",
       "      <th>3</th>\n",
       "      <td>3</td>\n",
       "      <td>2017 Maruti Celerio</td>\n",
       "      <td>4.14 Lakh</td>\n",
       "      <td>ZXI</td>\n",
       "      <td>25,149 kms</td>\n",
       "      <td>Petrol</td>\n",
       "      <td>Manual</td>\n",
       "    </tr>\n",
       "    <tr>\n",
       "      <th>4</th>\n",
       "      <td>4</td>\n",
       "      <td>2018 Maruti Ignis</td>\n",
       "      <td>4.7 Lakh</td>\n",
       "      <td>1.2 Delta BSIV</td>\n",
       "      <td>7,714 kms</td>\n",
       "      <td>Petrol</td>\n",
       "      <td>Manual</td>\n",
       "    </tr>\n",
       "    <tr>\n",
       "      <th>...</th>\n",
       "      <td>...</td>\n",
       "      <td>...</td>\n",
       "      <td>...</td>\n",
       "      <td>...</td>\n",
       "      <td>...</td>\n",
       "      <td>...</td>\n",
       "      <td>...</td>\n",
       "    </tr>\n",
       "    <tr>\n",
       "      <th>5039</th>\n",
       "      <td>5039</td>\n",
       "      <td>2018 Honda BR-V</td>\n",
       "      <td>8.35 Lakh</td>\n",
       "      <td>i-VTEC S MT</td>\n",
       "      <td>8,972 kms</td>\n",
       "      <td>Petrol</td>\n",
       "      <td>Manual</td>\n",
       "    </tr>\n",
       "    <tr>\n",
       "      <th>5040</th>\n",
       "      <td>5040</td>\n",
       "      <td>2015 Mercedes-Benz S-Class</td>\n",
       "      <td>53.75 Lakh</td>\n",
       "      <td>S 350 CDI</td>\n",
       "      <td>53,500 kms</td>\n",
       "      <td>Diesel</td>\n",
       "      <td>Automatic</td>\n",
       "    </tr>\n",
       "    <tr>\n",
       "      <th>5041</th>\n",
       "      <td>5041</td>\n",
       "      <td>2018 Mahindra Scorpio</td>\n",
       "      <td>9.9 Lakh</td>\n",
       "      <td>S5 BSIV</td>\n",
       "      <td>65,700 kms</td>\n",
       "      <td>Diesel</td>\n",
       "      <td>Manual</td>\n",
       "    </tr>\n",
       "    <tr>\n",
       "      <th>5042</th>\n",
       "      <td>5042</td>\n",
       "      <td>2013 Mercedes-Benz M-Class</td>\n",
       "      <td>20 Lakh</td>\n",
       "      <td>ML 350 4Matic</td>\n",
       "      <td>53,000 kms</td>\n",
       "      <td>Diesel</td>\n",
       "      <td>Automatic</td>\n",
       "    </tr>\n",
       "    <tr>\n",
       "      <th>5043</th>\n",
       "      <td>5043</td>\n",
       "      <td>2015 Hyundai Creta</td>\n",
       "      <td>9.1 Lakh</td>\n",
       "      <td>1.6 VTVT SX Plus</td>\n",
       "      <td>28,000 kms</td>\n",
       "      <td>Petrol</td>\n",
       "      <td>Manual</td>\n",
       "    </tr>\n",
       "  </tbody>\n",
       "</table>\n",
       "<p>5044 rows × 7 columns</p>\n",
       "</div>"
      ],
      "text/plain": [
       "      Unnamed: 0                       Brand       Price             Model  \\\n",
       "0              0           2017 Maruti Swift   5.79 Lakh          VDI BSIV   \n",
       "1              1           2017 Maruti Ignis   4.93 Lakh     1.2 Zeta BSIV   \n",
       "2              2            2012 Hyundai i10   3.41 Lakh            Sportz   \n",
       "3              3         2017 Maruti Celerio   4.14 Lakh               ZXI   \n",
       "4              4           2018 Maruti Ignis    4.7 Lakh    1.2 Delta BSIV   \n",
       "...          ...                         ...         ...               ...   \n",
       "5039        5039             2018 Honda BR-V   8.35 Lakh       i-VTEC S MT   \n",
       "5040        5040  2015 Mercedes-Benz S-Class  53.75 Lakh         S 350 CDI   \n",
       "5041        5041       2018 Mahindra Scorpio    9.9 Lakh           S5 BSIV   \n",
       "5042        5042  2013 Mercedes-Benz M-Class     20 Lakh     ML 350 4Matic   \n",
       "5043        5043          2015 Hyundai Creta    9.1 Lakh  1.6 VTVT SX Plus   \n",
       "\n",
       "      KMS_driven    Fuel    Variant  \n",
       "0     84,730 kms  Diesel     Manual  \n",
       "1     36,985 kms  Petrol     Manual  \n",
       "2     73,717 kms  Petrol     Manual  \n",
       "3     25,149 kms  Petrol     Manual  \n",
       "4      7,714 kms  Petrol     Manual  \n",
       "...          ...     ...        ...  \n",
       "5039   8,972 kms  Petrol     Manual  \n",
       "5040  53,500 kms  Diesel  Automatic  \n",
       "5041  65,700 kms  Diesel     Manual  \n",
       "5042  53,000 kms  Diesel  Automatic  \n",
       "5043  28,000 kms  Petrol     Manual  \n",
       "\n",
       "[5044 rows x 7 columns]"
      ]
     },
     "execution_count": 79,
     "metadata": {},
     "output_type": "execute_result"
    }
   ],
   "source": [
    "ds=pd.DataFrame(data=data)\n",
    "ds"
   ]
  },
  {
   "cell_type": "markdown",
   "metadata": {},
   "source": [
    "# EDA"
   ]
  },
  {
   "cell_type": "code",
   "execution_count": 80,
   "metadata": {},
   "outputs": [
    {
     "data": {
      "text/plain": [
       "(5044, 7)"
      ]
     },
     "execution_count": 80,
     "metadata": {},
     "output_type": "execute_result"
    }
   ],
   "source": [
    "ds.shape"
   ]
  },
  {
   "cell_type": "code",
   "execution_count": 81,
   "metadata": {},
   "outputs": [
    {
     "name": "stdout",
     "output_type": "stream",
     "text": [
      "<class 'pandas.core.frame.DataFrame'>\n",
      "RangeIndex: 5044 entries, 0 to 5043\n",
      "Data columns (total 7 columns):\n",
      " #   Column      Non-Null Count  Dtype \n",
      "---  ------      --------------  ----- \n",
      " 0   Unnamed: 0  5044 non-null   int64 \n",
      " 1   Brand       5044 non-null   object\n",
      " 2   Price       5044 non-null   object\n",
      " 3   Model       5044 non-null   object\n",
      " 4   KMS_driven  5044 non-null   object\n",
      " 5   Fuel        5044 non-null   object\n",
      " 6   Variant     5044 non-null   object\n",
      "dtypes: int64(1), object(6)\n",
      "memory usage: 276.0+ KB\n"
     ]
    }
   ],
   "source": [
    "ds.info()"
   ]
  },
  {
   "cell_type": "markdown",
   "metadata": {},
   "source": [
    "There are 5044 rows and 6 columns."
   ]
  },
  {
   "cell_type": "code",
   "execution_count": 82,
   "metadata": {},
   "outputs": [
    {
     "data": {
      "text/plain": [
       "Unnamed: 0    0\n",
       "Brand         0\n",
       "Price         0\n",
       "Model         0\n",
       "KMS_driven    0\n",
       "Fuel          0\n",
       "Variant       0\n",
       "dtype: int64"
      ]
     },
     "execution_count": 82,
     "metadata": {},
     "output_type": "execute_result"
    }
   ],
   "source": [
    "ds.isnull().sum()"
   ]
  },
  {
   "cell_type": "markdown",
   "metadata": {},
   "source": [
    "There are no missing values in the data set"
   ]
  },
  {
   "cell_type": "markdown",
   "metadata": {},
   "source": [
    "Since our data raw and messed up. First lets make it bit meanigfull before we do visualization."
   ]
  },
  {
   "cell_type": "code",
   "execution_count": 83,
   "metadata": {},
   "outputs": [
    {
     "data": {
      "text/html": [
       "<div>\n",
       "<style scoped>\n",
       "    .dataframe tbody tr th:only-of-type {\n",
       "        vertical-align: middle;\n",
       "    }\n",
       "\n",
       "    .dataframe tbody tr th {\n",
       "        vertical-align: top;\n",
       "    }\n",
       "\n",
       "    .dataframe thead th {\n",
       "        text-align: right;\n",
       "    }\n",
       "</style>\n",
       "<table border=\"1\" class=\"dataframe\">\n",
       "  <thead>\n",
       "    <tr style=\"text-align: right;\">\n",
       "      <th></th>\n",
       "      <th>Unnamed: 0</th>\n",
       "      <th>Brand</th>\n",
       "      <th>Price</th>\n",
       "      <th>Model</th>\n",
       "      <th>KMS_driven</th>\n",
       "      <th>Fuel</th>\n",
       "      <th>Variant</th>\n",
       "    </tr>\n",
       "  </thead>\n",
       "  <tbody>\n",
       "    <tr>\n",
       "      <th>0</th>\n",
       "      <td>0</td>\n",
       "      <td>2017 Maruti Swift</td>\n",
       "      <td>5.79</td>\n",
       "      <td>VDI BSIV</td>\n",
       "      <td>84,730 kms</td>\n",
       "      <td>Diesel</td>\n",
       "      <td>Manual</td>\n",
       "    </tr>\n",
       "    <tr>\n",
       "      <th>1</th>\n",
       "      <td>1</td>\n",
       "      <td>2017 Maruti Ignis</td>\n",
       "      <td>4.93</td>\n",
       "      <td>1.2 Zeta BSIV</td>\n",
       "      <td>36,985 kms</td>\n",
       "      <td>Petrol</td>\n",
       "      <td>Manual</td>\n",
       "    </tr>\n",
       "    <tr>\n",
       "      <th>2</th>\n",
       "      <td>2</td>\n",
       "      <td>2012 Hyundai i10</td>\n",
       "      <td>3.41</td>\n",
       "      <td>Sportz</td>\n",
       "      <td>73,717 kms</td>\n",
       "      <td>Petrol</td>\n",
       "      <td>Manual</td>\n",
       "    </tr>\n",
       "    <tr>\n",
       "      <th>3</th>\n",
       "      <td>3</td>\n",
       "      <td>2017 Maruti Celerio</td>\n",
       "      <td>4.14</td>\n",
       "      <td>ZXI</td>\n",
       "      <td>25,149 kms</td>\n",
       "      <td>Petrol</td>\n",
       "      <td>Manual</td>\n",
       "    </tr>\n",
       "    <tr>\n",
       "      <th>4</th>\n",
       "      <td>4</td>\n",
       "      <td>2018 Maruti Ignis</td>\n",
       "      <td>4.7</td>\n",
       "      <td>1.2 Delta BSIV</td>\n",
       "      <td>7,714 kms</td>\n",
       "      <td>Petrol</td>\n",
       "      <td>Manual</td>\n",
       "    </tr>\n",
       "    <tr>\n",
       "      <th>...</th>\n",
       "      <td>...</td>\n",
       "      <td>...</td>\n",
       "      <td>...</td>\n",
       "      <td>...</td>\n",
       "      <td>...</td>\n",
       "      <td>...</td>\n",
       "      <td>...</td>\n",
       "    </tr>\n",
       "    <tr>\n",
       "      <th>5039</th>\n",
       "      <td>5039</td>\n",
       "      <td>2018 Honda BR-V</td>\n",
       "      <td>8.35</td>\n",
       "      <td>i-VTEC S MT</td>\n",
       "      <td>8,972 kms</td>\n",
       "      <td>Petrol</td>\n",
       "      <td>Manual</td>\n",
       "    </tr>\n",
       "    <tr>\n",
       "      <th>5040</th>\n",
       "      <td>5040</td>\n",
       "      <td>2015 Mercedes-Benz S-Class</td>\n",
       "      <td>53.75</td>\n",
       "      <td>S 350 CDI</td>\n",
       "      <td>53,500 kms</td>\n",
       "      <td>Diesel</td>\n",
       "      <td>Automatic</td>\n",
       "    </tr>\n",
       "    <tr>\n",
       "      <th>5041</th>\n",
       "      <td>5041</td>\n",
       "      <td>2018 Mahindra Scorpio</td>\n",
       "      <td>9.9</td>\n",
       "      <td>S5 BSIV</td>\n",
       "      <td>65,700 kms</td>\n",
       "      <td>Diesel</td>\n",
       "      <td>Manual</td>\n",
       "    </tr>\n",
       "    <tr>\n",
       "      <th>5042</th>\n",
       "      <td>5042</td>\n",
       "      <td>2013 Mercedes-Benz M-Class</td>\n",
       "      <td>20</td>\n",
       "      <td>ML 350 4Matic</td>\n",
       "      <td>53,000 kms</td>\n",
       "      <td>Diesel</td>\n",
       "      <td>Automatic</td>\n",
       "    </tr>\n",
       "    <tr>\n",
       "      <th>5043</th>\n",
       "      <td>5043</td>\n",
       "      <td>2015 Hyundai Creta</td>\n",
       "      <td>9.1</td>\n",
       "      <td>1.6 VTVT SX Plus</td>\n",
       "      <td>28,000 kms</td>\n",
       "      <td>Petrol</td>\n",
       "      <td>Manual</td>\n",
       "    </tr>\n",
       "  </tbody>\n",
       "</table>\n",
       "<p>5044 rows × 7 columns</p>\n",
       "</div>"
      ],
      "text/plain": [
       "      Unnamed: 0                       Brand  Price             Model  \\\n",
       "0              0           2017 Maruti Swift   5.79          VDI BSIV   \n",
       "1              1           2017 Maruti Ignis   4.93     1.2 Zeta BSIV   \n",
       "2              2            2012 Hyundai i10   3.41            Sportz   \n",
       "3              3         2017 Maruti Celerio   4.14               ZXI   \n",
       "4              4           2018 Maruti Ignis    4.7    1.2 Delta BSIV   \n",
       "...          ...                         ...    ...               ...   \n",
       "5039        5039             2018 Honda BR-V   8.35       i-VTEC S MT   \n",
       "5040        5040  2015 Mercedes-Benz S-Class  53.75         S 350 CDI   \n",
       "5041        5041       2018 Mahindra Scorpio    9.9           S5 BSIV   \n",
       "5042        5042  2013 Mercedes-Benz M-Class     20     ML 350 4Matic   \n",
       "5043        5043          2015 Hyundai Creta    9.1  1.6 VTVT SX Plus   \n",
       "\n",
       "      KMS_driven    Fuel    Variant  \n",
       "0     84,730 kms  Diesel     Manual  \n",
       "1     36,985 kms  Petrol     Manual  \n",
       "2     73,717 kms  Petrol     Manual  \n",
       "3     25,149 kms  Petrol     Manual  \n",
       "4      7,714 kms  Petrol     Manual  \n",
       "...          ...     ...        ...  \n",
       "5039   8,972 kms  Petrol     Manual  \n",
       "5040  53,500 kms  Diesel  Automatic  \n",
       "5041  65,700 kms  Diesel     Manual  \n",
       "5042  53,000 kms  Diesel  Automatic  \n",
       "5043  28,000 kms  Petrol     Manual  \n",
       "\n",
       "[5044 rows x 7 columns]"
      ]
     },
     "execution_count": 83,
     "metadata": {},
     "output_type": "execute_result"
    }
   ],
   "source": [
    "# Extract price in from price variable in numeric form\n",
    "ds['Price'] = ds['Price'].str.split().str[0]\n",
    "ds"
   ]
  },
  {
   "cell_type": "code",
   "execution_count": 84,
   "metadata": {},
   "outputs": [
    {
     "data": {
      "text/html": [
       "<div>\n",
       "<style scoped>\n",
       "    .dataframe tbody tr th:only-of-type {\n",
       "        vertical-align: middle;\n",
       "    }\n",
       "\n",
       "    .dataframe tbody tr th {\n",
       "        vertical-align: top;\n",
       "    }\n",
       "\n",
       "    .dataframe thead th {\n",
       "        text-align: right;\n",
       "    }\n",
       "</style>\n",
       "<table border=\"1\" class=\"dataframe\">\n",
       "  <thead>\n",
       "    <tr style=\"text-align: right;\">\n",
       "      <th></th>\n",
       "      <th>Unnamed: 0</th>\n",
       "      <th>Brand</th>\n",
       "      <th>Price</th>\n",
       "      <th>Model</th>\n",
       "      <th>KMS_driven</th>\n",
       "      <th>Fuel</th>\n",
       "      <th>Variant</th>\n",
       "    </tr>\n",
       "  </thead>\n",
       "  <tbody>\n",
       "    <tr>\n",
       "      <th>0</th>\n",
       "      <td>0</td>\n",
       "      <td>2017 Maruti Swift</td>\n",
       "      <td>5.79</td>\n",
       "      <td>VDI BSIV</td>\n",
       "      <td>84,730</td>\n",
       "      <td>Diesel</td>\n",
       "      <td>Manual</td>\n",
       "    </tr>\n",
       "    <tr>\n",
       "      <th>1</th>\n",
       "      <td>1</td>\n",
       "      <td>2017 Maruti Ignis</td>\n",
       "      <td>4.93</td>\n",
       "      <td>1.2 Zeta BSIV</td>\n",
       "      <td>36,985</td>\n",
       "      <td>Petrol</td>\n",
       "      <td>Manual</td>\n",
       "    </tr>\n",
       "    <tr>\n",
       "      <th>2</th>\n",
       "      <td>2</td>\n",
       "      <td>2012 Hyundai i10</td>\n",
       "      <td>3.41</td>\n",
       "      <td>Sportz</td>\n",
       "      <td>73,717</td>\n",
       "      <td>Petrol</td>\n",
       "      <td>Manual</td>\n",
       "    </tr>\n",
       "    <tr>\n",
       "      <th>3</th>\n",
       "      <td>3</td>\n",
       "      <td>2017 Maruti Celerio</td>\n",
       "      <td>4.14</td>\n",
       "      <td>ZXI</td>\n",
       "      <td>25,149</td>\n",
       "      <td>Petrol</td>\n",
       "      <td>Manual</td>\n",
       "    </tr>\n",
       "    <tr>\n",
       "      <th>4</th>\n",
       "      <td>4</td>\n",
       "      <td>2018 Maruti Ignis</td>\n",
       "      <td>4.7</td>\n",
       "      <td>1.2 Delta BSIV</td>\n",
       "      <td>7,714</td>\n",
       "      <td>Petrol</td>\n",
       "      <td>Manual</td>\n",
       "    </tr>\n",
       "    <tr>\n",
       "      <th>...</th>\n",
       "      <td>...</td>\n",
       "      <td>...</td>\n",
       "      <td>...</td>\n",
       "      <td>...</td>\n",
       "      <td>...</td>\n",
       "      <td>...</td>\n",
       "      <td>...</td>\n",
       "    </tr>\n",
       "    <tr>\n",
       "      <th>5039</th>\n",
       "      <td>5039</td>\n",
       "      <td>2018 Honda BR-V</td>\n",
       "      <td>8.35</td>\n",
       "      <td>i-VTEC S MT</td>\n",
       "      <td>8,972</td>\n",
       "      <td>Petrol</td>\n",
       "      <td>Manual</td>\n",
       "    </tr>\n",
       "    <tr>\n",
       "      <th>5040</th>\n",
       "      <td>5040</td>\n",
       "      <td>2015 Mercedes-Benz S-Class</td>\n",
       "      <td>53.75</td>\n",
       "      <td>S 350 CDI</td>\n",
       "      <td>53,500</td>\n",
       "      <td>Diesel</td>\n",
       "      <td>Automatic</td>\n",
       "    </tr>\n",
       "    <tr>\n",
       "      <th>5041</th>\n",
       "      <td>5041</td>\n",
       "      <td>2018 Mahindra Scorpio</td>\n",
       "      <td>9.9</td>\n",
       "      <td>S5 BSIV</td>\n",
       "      <td>65,700</td>\n",
       "      <td>Diesel</td>\n",
       "      <td>Manual</td>\n",
       "    </tr>\n",
       "    <tr>\n",
       "      <th>5042</th>\n",
       "      <td>5042</td>\n",
       "      <td>2013 Mercedes-Benz M-Class</td>\n",
       "      <td>20</td>\n",
       "      <td>ML 350 4Matic</td>\n",
       "      <td>53,000</td>\n",
       "      <td>Diesel</td>\n",
       "      <td>Automatic</td>\n",
       "    </tr>\n",
       "    <tr>\n",
       "      <th>5043</th>\n",
       "      <td>5043</td>\n",
       "      <td>2015 Hyundai Creta</td>\n",
       "      <td>9.1</td>\n",
       "      <td>1.6 VTVT SX Plus</td>\n",
       "      <td>28,000</td>\n",
       "      <td>Petrol</td>\n",
       "      <td>Manual</td>\n",
       "    </tr>\n",
       "  </tbody>\n",
       "</table>\n",
       "<p>5044 rows × 7 columns</p>\n",
       "</div>"
      ],
      "text/plain": [
       "      Unnamed: 0                       Brand  Price             Model  \\\n",
       "0              0           2017 Maruti Swift   5.79          VDI BSIV   \n",
       "1              1           2017 Maruti Ignis   4.93     1.2 Zeta BSIV   \n",
       "2              2            2012 Hyundai i10   3.41            Sportz   \n",
       "3              3         2017 Maruti Celerio   4.14               ZXI   \n",
       "4              4           2018 Maruti Ignis    4.7    1.2 Delta BSIV   \n",
       "...          ...                         ...    ...               ...   \n",
       "5039        5039             2018 Honda BR-V   8.35       i-VTEC S MT   \n",
       "5040        5040  2015 Mercedes-Benz S-Class  53.75         S 350 CDI   \n",
       "5041        5041       2018 Mahindra Scorpio    9.9           S5 BSIV   \n",
       "5042        5042  2013 Mercedes-Benz M-Class     20     ML 350 4Matic   \n",
       "5043        5043          2015 Hyundai Creta    9.1  1.6 VTVT SX Plus   \n",
       "\n",
       "     KMS_driven    Fuel    Variant  \n",
       "0        84,730  Diesel     Manual  \n",
       "1        36,985  Petrol     Manual  \n",
       "2        73,717  Petrol     Manual  \n",
       "3        25,149  Petrol     Manual  \n",
       "4         7,714  Petrol     Manual  \n",
       "...         ...     ...        ...  \n",
       "5039      8,972  Petrol     Manual  \n",
       "5040     53,500  Diesel  Automatic  \n",
       "5041     65,700  Diesel     Manual  \n",
       "5042     53,000  Diesel  Automatic  \n",
       "5043     28,000  Petrol     Manual  \n",
       "\n",
       "[5044 rows x 7 columns]"
      ]
     },
     "execution_count": 84,
     "metadata": {},
     "output_type": "execute_result"
    }
   ],
   "source": [
    "# Extract price in from price variable in numeric form\n",
    "ds['KMS_driven'] = ds['KMS_driven'].str.split().str[0]\n",
    "ds"
   ]
  },
  {
   "cell_type": "code",
   "execution_count": 85,
   "metadata": {},
   "outputs": [
    {
     "data": {
      "text/html": [
       "<div>\n",
       "<style scoped>\n",
       "    .dataframe tbody tr th:only-of-type {\n",
       "        vertical-align: middle;\n",
       "    }\n",
       "\n",
       "    .dataframe tbody tr th {\n",
       "        vertical-align: top;\n",
       "    }\n",
       "\n",
       "    .dataframe thead th {\n",
       "        text-align: right;\n",
       "    }\n",
       "</style>\n",
       "<table border=\"1\" class=\"dataframe\">\n",
       "  <thead>\n",
       "    <tr style=\"text-align: right;\">\n",
       "      <th></th>\n",
       "      <th>Unnamed: 0</th>\n",
       "      <th>Brand</th>\n",
       "      <th>Price</th>\n",
       "      <th>Model</th>\n",
       "      <th>KMS_driven</th>\n",
       "      <th>Fuel</th>\n",
       "      <th>Variant</th>\n",
       "      <th>Manuf_Year</th>\n",
       "    </tr>\n",
       "  </thead>\n",
       "  <tbody>\n",
       "    <tr>\n",
       "      <th>0</th>\n",
       "      <td>0</td>\n",
       "      <td>Maruti</td>\n",
       "      <td>5.79</td>\n",
       "      <td>VDI BSIV</td>\n",
       "      <td>84,730</td>\n",
       "      <td>Diesel</td>\n",
       "      <td>Manual</td>\n",
       "      <td>2017</td>\n",
       "    </tr>\n",
       "    <tr>\n",
       "      <th>1</th>\n",
       "      <td>1</td>\n",
       "      <td>Maruti</td>\n",
       "      <td>4.93</td>\n",
       "      <td>1.2 Zeta BSIV</td>\n",
       "      <td>36,985</td>\n",
       "      <td>Petrol</td>\n",
       "      <td>Manual</td>\n",
       "      <td>2017</td>\n",
       "    </tr>\n",
       "    <tr>\n",
       "      <th>2</th>\n",
       "      <td>2</td>\n",
       "      <td>Hyundai</td>\n",
       "      <td>3.41</td>\n",
       "      <td>Sportz</td>\n",
       "      <td>73,717</td>\n",
       "      <td>Petrol</td>\n",
       "      <td>Manual</td>\n",
       "      <td>2012</td>\n",
       "    </tr>\n",
       "    <tr>\n",
       "      <th>3</th>\n",
       "      <td>3</td>\n",
       "      <td>Maruti</td>\n",
       "      <td>4.14</td>\n",
       "      <td>ZXI</td>\n",
       "      <td>25,149</td>\n",
       "      <td>Petrol</td>\n",
       "      <td>Manual</td>\n",
       "      <td>2017</td>\n",
       "    </tr>\n",
       "    <tr>\n",
       "      <th>4</th>\n",
       "      <td>4</td>\n",
       "      <td>Maruti</td>\n",
       "      <td>4.7</td>\n",
       "      <td>1.2 Delta BSIV</td>\n",
       "      <td>7,714</td>\n",
       "      <td>Petrol</td>\n",
       "      <td>Manual</td>\n",
       "      <td>2018</td>\n",
       "    </tr>\n",
       "    <tr>\n",
       "      <th>...</th>\n",
       "      <td>...</td>\n",
       "      <td>...</td>\n",
       "      <td>...</td>\n",
       "      <td>...</td>\n",
       "      <td>...</td>\n",
       "      <td>...</td>\n",
       "      <td>...</td>\n",
       "      <td>...</td>\n",
       "    </tr>\n",
       "    <tr>\n",
       "      <th>5039</th>\n",
       "      <td>5039</td>\n",
       "      <td>Honda</td>\n",
       "      <td>8.35</td>\n",
       "      <td>i-VTEC S MT</td>\n",
       "      <td>8,972</td>\n",
       "      <td>Petrol</td>\n",
       "      <td>Manual</td>\n",
       "      <td>2018</td>\n",
       "    </tr>\n",
       "    <tr>\n",
       "      <th>5040</th>\n",
       "      <td>5040</td>\n",
       "      <td>Mercedes-Benz</td>\n",
       "      <td>53.75</td>\n",
       "      <td>S 350 CDI</td>\n",
       "      <td>53,500</td>\n",
       "      <td>Diesel</td>\n",
       "      <td>Automatic</td>\n",
       "      <td>2015</td>\n",
       "    </tr>\n",
       "    <tr>\n",
       "      <th>5041</th>\n",
       "      <td>5041</td>\n",
       "      <td>Mahindra</td>\n",
       "      <td>9.9</td>\n",
       "      <td>S5 BSIV</td>\n",
       "      <td>65,700</td>\n",
       "      <td>Diesel</td>\n",
       "      <td>Manual</td>\n",
       "      <td>2018</td>\n",
       "    </tr>\n",
       "    <tr>\n",
       "      <th>5042</th>\n",
       "      <td>5042</td>\n",
       "      <td>Mercedes-Benz</td>\n",
       "      <td>20</td>\n",
       "      <td>ML 350 4Matic</td>\n",
       "      <td>53,000</td>\n",
       "      <td>Diesel</td>\n",
       "      <td>Automatic</td>\n",
       "      <td>2013</td>\n",
       "    </tr>\n",
       "    <tr>\n",
       "      <th>5043</th>\n",
       "      <td>5043</td>\n",
       "      <td>Hyundai</td>\n",
       "      <td>9.1</td>\n",
       "      <td>1.6 VTVT SX Plus</td>\n",
       "      <td>28,000</td>\n",
       "      <td>Petrol</td>\n",
       "      <td>Manual</td>\n",
       "      <td>2015</td>\n",
       "    </tr>\n",
       "  </tbody>\n",
       "</table>\n",
       "<p>5044 rows × 8 columns</p>\n",
       "</div>"
      ],
      "text/plain": [
       "      Unnamed: 0          Brand  Price             Model KMS_driven    Fuel  \\\n",
       "0              0         Maruti   5.79          VDI BSIV     84,730  Diesel   \n",
       "1              1         Maruti   4.93     1.2 Zeta BSIV     36,985  Petrol   \n",
       "2              2        Hyundai   3.41            Sportz     73,717  Petrol   \n",
       "3              3         Maruti   4.14               ZXI     25,149  Petrol   \n",
       "4              4         Maruti    4.7    1.2 Delta BSIV      7,714  Petrol   \n",
       "...          ...            ...    ...               ...        ...     ...   \n",
       "5039        5039          Honda   8.35       i-VTEC S MT      8,972  Petrol   \n",
       "5040        5040  Mercedes-Benz  53.75         S 350 CDI     53,500  Diesel   \n",
       "5041        5041       Mahindra    9.9           S5 BSIV     65,700  Diesel   \n",
       "5042        5042  Mercedes-Benz     20     ML 350 4Matic     53,000  Diesel   \n",
       "5043        5043        Hyundai    9.1  1.6 VTVT SX Plus     28,000  Petrol   \n",
       "\n",
       "        Variant Manuf_Year  \n",
       "0        Manual       2017  \n",
       "1        Manual       2017  \n",
       "2        Manual       2012  \n",
       "3        Manual       2017  \n",
       "4        Manual       2018  \n",
       "...         ...        ...  \n",
       "5039     Manual       2018  \n",
       "5040  Automatic       2015  \n",
       "5041     Manual       2018  \n",
       "5042  Automatic       2013  \n",
       "5043     Manual       2015  \n",
       "\n",
       "[5044 rows x 8 columns]"
      ]
     },
     "execution_count": 85,
     "metadata": {},
     "output_type": "execute_result"
    }
   ],
   "source": [
    "# Extracting year from Brand\n",
    "ds['Manuf_Year'] = ds['Brand'].str.split().str[0]\n",
    "ds['Brand'] = ds['Brand'].str.split().str[1]\n",
    "ds"
   ]
  },
  {
   "cell_type": "code",
   "execution_count": 86,
   "metadata": {},
   "outputs": [
    {
     "data": {
      "text/html": [
       "<div>\n",
       "<style scoped>\n",
       "    .dataframe tbody tr th:only-of-type {\n",
       "        vertical-align: middle;\n",
       "    }\n",
       "\n",
       "    .dataframe tbody tr th {\n",
       "        vertical-align: top;\n",
       "    }\n",
       "\n",
       "    .dataframe thead th {\n",
       "        text-align: right;\n",
       "    }\n",
       "</style>\n",
       "<table border=\"1\" class=\"dataframe\">\n",
       "  <thead>\n",
       "    <tr style=\"text-align: right;\">\n",
       "      <th></th>\n",
       "      <th>Brand</th>\n",
       "      <th>Price</th>\n",
       "      <th>Model</th>\n",
       "      <th>KMS_driven</th>\n",
       "      <th>Fuel</th>\n",
       "      <th>Variant</th>\n",
       "      <th>Manuf_Year</th>\n",
       "    </tr>\n",
       "  </thead>\n",
       "  <tbody>\n",
       "    <tr>\n",
       "      <th>0</th>\n",
       "      <td>Maruti</td>\n",
       "      <td>5.79</td>\n",
       "      <td>VDI BSIV</td>\n",
       "      <td>84,730</td>\n",
       "      <td>Diesel</td>\n",
       "      <td>Manual</td>\n",
       "      <td>2017</td>\n",
       "    </tr>\n",
       "    <tr>\n",
       "      <th>1</th>\n",
       "      <td>Maruti</td>\n",
       "      <td>4.93</td>\n",
       "      <td>1.2 Zeta BSIV</td>\n",
       "      <td>36,985</td>\n",
       "      <td>Petrol</td>\n",
       "      <td>Manual</td>\n",
       "      <td>2017</td>\n",
       "    </tr>\n",
       "    <tr>\n",
       "      <th>2</th>\n",
       "      <td>Hyundai</td>\n",
       "      <td>3.41</td>\n",
       "      <td>Sportz</td>\n",
       "      <td>73,717</td>\n",
       "      <td>Petrol</td>\n",
       "      <td>Manual</td>\n",
       "      <td>2012</td>\n",
       "    </tr>\n",
       "    <tr>\n",
       "      <th>3</th>\n",
       "      <td>Maruti</td>\n",
       "      <td>4.14</td>\n",
       "      <td>ZXI</td>\n",
       "      <td>25,149</td>\n",
       "      <td>Petrol</td>\n",
       "      <td>Manual</td>\n",
       "      <td>2017</td>\n",
       "    </tr>\n",
       "    <tr>\n",
       "      <th>4</th>\n",
       "      <td>Maruti</td>\n",
       "      <td>4.7</td>\n",
       "      <td>1.2 Delta BSIV</td>\n",
       "      <td>7,714</td>\n",
       "      <td>Petrol</td>\n",
       "      <td>Manual</td>\n",
       "      <td>2018</td>\n",
       "    </tr>\n",
       "    <tr>\n",
       "      <th>...</th>\n",
       "      <td>...</td>\n",
       "      <td>...</td>\n",
       "      <td>...</td>\n",
       "      <td>...</td>\n",
       "      <td>...</td>\n",
       "      <td>...</td>\n",
       "      <td>...</td>\n",
       "    </tr>\n",
       "    <tr>\n",
       "      <th>5039</th>\n",
       "      <td>Honda</td>\n",
       "      <td>8.35</td>\n",
       "      <td>i-VTEC S MT</td>\n",
       "      <td>8,972</td>\n",
       "      <td>Petrol</td>\n",
       "      <td>Manual</td>\n",
       "      <td>2018</td>\n",
       "    </tr>\n",
       "    <tr>\n",
       "      <th>5040</th>\n",
       "      <td>Mercedes-Benz</td>\n",
       "      <td>53.75</td>\n",
       "      <td>S 350 CDI</td>\n",
       "      <td>53,500</td>\n",
       "      <td>Diesel</td>\n",
       "      <td>Automatic</td>\n",
       "      <td>2015</td>\n",
       "    </tr>\n",
       "    <tr>\n",
       "      <th>5041</th>\n",
       "      <td>Mahindra</td>\n",
       "      <td>9.9</td>\n",
       "      <td>S5 BSIV</td>\n",
       "      <td>65,700</td>\n",
       "      <td>Diesel</td>\n",
       "      <td>Manual</td>\n",
       "      <td>2018</td>\n",
       "    </tr>\n",
       "    <tr>\n",
       "      <th>5042</th>\n",
       "      <td>Mercedes-Benz</td>\n",
       "      <td>20</td>\n",
       "      <td>ML 350 4Matic</td>\n",
       "      <td>53,000</td>\n",
       "      <td>Diesel</td>\n",
       "      <td>Automatic</td>\n",
       "      <td>2013</td>\n",
       "    </tr>\n",
       "    <tr>\n",
       "      <th>5043</th>\n",
       "      <td>Hyundai</td>\n",
       "      <td>9.1</td>\n",
       "      <td>1.6 VTVT SX Plus</td>\n",
       "      <td>28,000</td>\n",
       "      <td>Petrol</td>\n",
       "      <td>Manual</td>\n",
       "      <td>2015</td>\n",
       "    </tr>\n",
       "  </tbody>\n",
       "</table>\n",
       "<p>5044 rows × 7 columns</p>\n",
       "</div>"
      ],
      "text/plain": [
       "              Brand  Price             Model KMS_driven    Fuel    Variant  \\\n",
       "0            Maruti   5.79          VDI BSIV     84,730  Diesel     Manual   \n",
       "1            Maruti   4.93     1.2 Zeta BSIV     36,985  Petrol     Manual   \n",
       "2           Hyundai   3.41            Sportz     73,717  Petrol     Manual   \n",
       "3            Maruti   4.14               ZXI     25,149  Petrol     Manual   \n",
       "4            Maruti    4.7    1.2 Delta BSIV      7,714  Petrol     Manual   \n",
       "...             ...    ...               ...        ...     ...        ...   \n",
       "5039          Honda   8.35       i-VTEC S MT      8,972  Petrol     Manual   \n",
       "5040  Mercedes-Benz  53.75         S 350 CDI     53,500  Diesel  Automatic   \n",
       "5041       Mahindra    9.9           S5 BSIV     65,700  Diesel     Manual   \n",
       "5042  Mercedes-Benz     20     ML 350 4Matic     53,000  Diesel  Automatic   \n",
       "5043        Hyundai    9.1  1.6 VTVT SX Plus     28,000  Petrol     Manual   \n",
       "\n",
       "     Manuf_Year  \n",
       "0          2017  \n",
       "1          2017  \n",
       "2          2012  \n",
       "3          2017  \n",
       "4          2018  \n",
       "...         ...  \n",
       "5039       2018  \n",
       "5040       2015  \n",
       "5041       2018  \n",
       "5042       2013  \n",
       "5043       2015  \n",
       "\n",
       "[5044 rows x 7 columns]"
      ]
     },
     "execution_count": 86,
     "metadata": {},
     "output_type": "execute_result"
    }
   ],
   "source": [
    "# Now we can drop the extra quali which we added \n",
    "ds.drop(['Unnamed: 0'],axis=1,inplace=True)\n",
    "ds"
   ]
  },
  {
   "cell_type": "markdown",
   "metadata": {},
   "source": [
    "So finally we have 7 columns in proper shape."
   ]
  },
  {
   "cell_type": "code",
   "execution_count": 87,
   "metadata": {},
   "outputs": [
    {
     "data": {
      "text/plain": [
       "<AxesSubplot:>"
      ]
     },
     "execution_count": 87,
     "metadata": {},
     "output_type": "execute_result"
    },
    {
     "data": {
      "image/png": "[encoded data removed]",
      "text/plain": [
       "<Figure size 432x288 with 2 Axes>"
      ]
     },
     "metadata": {
      "needs_background": "light"
     },
     "output_type": "display_data"
    }
   ],
   "source": [
    "sns.heatmap(ds.isnull())"
   ]
  },
  {
   "cell_type": "markdown",
   "metadata": {},
   "source": [
    "So there is no missing valuses in the data set"
   ]
  },
  {
   "cell_type": "code",
   "execution_count": 94,
   "metadata": {},
   "outputs": [
    {
     "data": {
      "text/plain": [
       "<AxesSubplot:xlabel='Fuel', ylabel='count'>"
      ]
     },
     "execution_count": 94,
     "metadata": {},
     "output_type": "execute_result"
    },
    {
     "data": {
      "image/png": "[encoded data removed]",
      "text/plain": [
       "<Figure size 432x288 with 1 Axes>"
      ]
     },
     "metadata": {
      "needs_background": "light"
     },
     "output_type": "display_data"
    }
   ],
   "source": [
    "sns.countplot(x='Fuel',data=data)"
   ]
  },
  {
   "cell_type": "markdown",
   "metadata": {},
   "source": [
    "Very few CNG and LPG fuel used cars are availble on sale"
   ]
  },
  {
   "cell_type": "code",
   "execution_count": 96,
   "metadata": {},
   "outputs": [
    {
     "data": {
      "image/png": "[encoded data removed]",
      "text/plain": [
       "<Figure size 432x288 with 1 Axes>"
      ]
     },
     "metadata": {
      "needs_background": "light"
     },
     "output_type": "display_data"
    },
    {
     "data": {
      "image/png": "[encoded data removed]",
      "text/plain": [
       "<Figure size 432x288 with 1 Axes>"
      ]
     },
     "metadata": {
      "needs_background": "light"
     },
     "output_type": "display_data"
    },
    {
     "data": {
      "image/png": "[encoded data removed]",
      "text/plain": [
       "<Figure size 432x288 with 1 Axes>"
      ]
     },
     "metadata": {
      "needs_background": "light"
     },
     "output_type": "display_data"
    },
    {
     "data": {
      "image/png": "[encoded data removed]",
      "text/plain": [
       "<Figure size 432x288 with 1 Axes>"
      ]
     },
     "metadata": {
      "needs_background": "light"
     },
     "output_type": "display_data"
    },
    {
     "data": {
      "image/png": "[encoded data removed]",
      "text/plain": [
       "<Figure size 432x288 with 1 Axes>"
      ]
     },
     "metadata": {
      "needs_background": "light"
     },
     "output_type": "display_data"
    },
    {
     "data": {
      "image/png": "[encoded data removed]",
      "text/plain": [
       "<Figure size 432x288 with 1 Axes>"
      ]
     },
     "metadata": {
      "needs_background": "light"
     },
     "output_type": "display_data"
    },
    {
     "data": {
      "image/png": "[encoded data removed]",
      "text/plain": [
       "<Figure size 432x288 with 1 Axes>"
      ]
     },
     "metadata": {
      "needs_background": "light"
     },
     "output_type": "display_data"
    }
   ],
   "source": [
    "for i in ds.columns[:7]:\n",
    "    sns.barplot(x = ds['Price'], y = ds[i])\n",
    "    plt.show()"
   ]
  },
  {
   "cell_type": "markdown",
   "metadata": {},
   "source": [
    "So there is no missing valuses in the data set"
   ]
  },
  {
   "cell_type": "markdown",
   "metadata": {},
   "source": [
    "Summary Statistics"
   ]
  },
  {
   "cell_type": "code",
   "execution_count": 88,
   "metadata": {},
   "outputs": [
    {
     "data": {
      "text/html": [
       "<div>\n",
       "<style scoped>\n",
       "    .dataframe tbody tr th:only-of-type {\n",
       "        vertical-align: middle;\n",
       "    }\n",
       "\n",
       "    .dataframe tbody tr th {\n",
       "        vertical-align: top;\n",
       "    }\n",
       "\n",
       "    .dataframe thead th {\n",
       "        text-align: right;\n",
       "    }\n",
       "</style>\n",
       "<table border=\"1\" class=\"dataframe\">\n",
       "  <thead>\n",
       "    <tr style=\"text-align: right;\">\n",
       "      <th></th>\n",
       "      <th>Brand</th>\n",
       "      <th>Price</th>\n",
       "      <th>Model</th>\n",
       "      <th>KMS_driven</th>\n",
       "      <th>Fuel</th>\n",
       "      <th>Variant</th>\n",
       "      <th>Manuf_Year</th>\n",
       "    </tr>\n",
       "  </thead>\n",
       "  <tbody>\n",
       "    <tr>\n",
       "      <th>count</th>\n",
       "      <td>5044</td>\n",
       "      <td>5044</td>\n",
       "      <td>5044</td>\n",
       "      <td>5044</td>\n",
       "      <td>5044</td>\n",
       "      <td>5044</td>\n",
       "      <td>5044</td>\n",
       "    </tr>\n",
       "    <tr>\n",
       "      <th>unique</th>\n",
       "      <td>27</td>\n",
       "      <td>539</td>\n",
       "      <td>630</td>\n",
       "      <td>789</td>\n",
       "      <td>4</td>\n",
       "      <td>2</td>\n",
       "      <td>18</td>\n",
       "    </tr>\n",
       "    <tr>\n",
       "      <th>top</th>\n",
       "      <td>Maruti</td>\n",
       "      <td>5.25</td>\n",
       "      <td>VXI</td>\n",
       "      <td>70,000</td>\n",
       "      <td>Petrol</td>\n",
       "      <td>Manual</td>\n",
       "      <td>2017</td>\n",
       "    </tr>\n",
       "    <tr>\n",
       "      <th>freq</th>\n",
       "      <td>1604</td>\n",
       "      <td>60</td>\n",
       "      <td>228</td>\n",
       "      <td>64</td>\n",
       "      <td>2784</td>\n",
       "      <td>3480</td>\n",
       "      <td>652</td>\n",
       "    </tr>\n",
       "  </tbody>\n",
       "</table>\n",
       "</div>"
      ],
      "text/plain": [
       "         Brand Price Model KMS_driven    Fuel Variant Manuf_Year\n",
       "count     5044  5044  5044       5044    5044    5044       5044\n",
       "unique      27   539   630        789       4       2         18\n",
       "top     Maruti  5.25   VXI     70,000  Petrol  Manual       2017\n",
       "freq      1604    60   228         64    2784    3480        652"
      ]
     },
     "execution_count": 88,
     "metadata": {},
     "output_type": "execute_result"
    }
   ],
   "source": [
    "ds.describe()"
   ]
  },
  {
   "cell_type": "code",
   "execution_count": 90,
   "metadata": {},
   "outputs": [
    {
     "name": "stdout",
     "output_type": "stream",
     "text": [
      "<class 'pandas.core.frame.DataFrame'>\n",
      "RangeIndex: 5044 entries, 0 to 5043\n",
      "Data columns (total 7 columns):\n",
      " #   Column      Non-Null Count  Dtype \n",
      "---  ------      --------------  ----- \n",
      " 0   Brand       5044 non-null   object\n",
      " 1   Price       5044 non-null   object\n",
      " 2   Model       5044 non-null   object\n",
      " 3   KMS_driven  5044 non-null   object\n",
      " 4   Fuel        5044 non-null   object\n",
      " 5   Variant     5044 non-null   object\n",
      " 6   Manuf_Year  5044 non-null   object\n",
      "dtypes: object(7)\n",
      "memory usage: 276.0+ KB\n"
     ]
    }
   ],
   "source": [
    "ds.info()"
   ]
  },
  {
   "cell_type": "code",
   "execution_count": 91,
   "metadata": {},
   "outputs": [
    {
     "data": {
      "text/html": [
       "<div>\n",
       "<style scoped>\n",
       "    .dataframe tbody tr th:only-of-type {\n",
       "        vertical-align: middle;\n",
       "    }\n",
       "\n",
       "    .dataframe tbody tr th {\n",
       "        vertical-align: top;\n",
       "    }\n",
       "\n",
       "    .dataframe thead th {\n",
       "        text-align: right;\n",
       "    }\n",
       "</style>\n",
       "<table border=\"1\" class=\"dataframe\">\n",
       "  <thead>\n",
       "    <tr style=\"text-align: right;\">\n",
       "      <th></th>\n",
       "      <th>Brand</th>\n",
       "      <th>Price</th>\n",
       "      <th>Model</th>\n",
       "      <th>KMS_driven</th>\n",
       "      <th>Fuel</th>\n",
       "      <th>Variant</th>\n",
       "      <th>Manuf_Year</th>\n",
       "    </tr>\n",
       "  </thead>\n",
       "  <tbody>\n",
       "    <tr>\n",
       "      <th>0</th>\n",
       "      <td>15.0</td>\n",
       "      <td>376.0</td>\n",
       "      <td>497.0</td>\n",
       "      <td>736.0</td>\n",
       "      <td>1.0</td>\n",
       "      <td>1.0</td>\n",
       "      <td>13.0</td>\n",
       "    </tr>\n",
       "    <tr>\n",
       "      <th>1</th>\n",
       "      <td>15.0</td>\n",
       "      <td>319.0</td>\n",
       "      <td>51.0</td>\n",
       "      <td>307.0</td>\n",
       "      <td>3.0</td>\n",
       "      <td>1.0</td>\n",
       "      <td>13.0</td>\n",
       "    </tr>\n",
       "    <tr>\n",
       "      <th>2</th>\n",
       "      <td>8.0</td>\n",
       "      <td>202.0</td>\n",
       "      <td>468.0</td>\n",
       "      <td>664.0</td>\n",
       "      <td>3.0</td>\n",
       "      <td>1.0</td>\n",
       "      <td>8.0</td>\n",
       "    </tr>\n",
       "    <tr>\n",
       "      <th>3</th>\n",
       "      <td>15.0</td>\n",
       "      <td>265.0</td>\n",
       "      <td>576.0</td>\n",
       "      <td>190.0</td>\n",
       "      <td>3.0</td>\n",
       "      <td>1.0</td>\n",
       "      <td>13.0</td>\n",
       "    </tr>\n",
       "    <tr>\n",
       "      <th>4</th>\n",
       "      <td>15.0</td>\n",
       "      <td>304.0</td>\n",
       "      <td>19.0</td>\n",
       "      <td>644.0</td>\n",
       "      <td>3.0</td>\n",
       "      <td>1.0</td>\n",
       "      <td>14.0</td>\n",
       "    </tr>\n",
       "    <tr>\n",
       "      <th>...</th>\n",
       "      <td>...</td>\n",
       "      <td>...</td>\n",
       "      <td>...</td>\n",
       "      <td>...</td>\n",
       "      <td>...</td>\n",
       "      <td>...</td>\n",
       "      <td>...</td>\n",
       "    </tr>\n",
       "    <tr>\n",
       "      <th>5039</th>\n",
       "      <td>7.0</td>\n",
       "      <td>493.0</td>\n",
       "      <td>610.0</td>\n",
       "      <td>706.0</td>\n",
       "      <td>3.0</td>\n",
       "      <td>1.0</td>\n",
       "      <td>14.0</td>\n",
       "    </tr>\n",
       "    <tr>\n",
       "      <th>5040</th>\n",
       "      <td>17.0</td>\n",
       "      <td>386.0</td>\n",
       "      <td>431.0</td>\n",
       "      <td>489.0</td>\n",
       "      <td>1.0</td>\n",
       "      <td>0.0</td>\n",
       "      <td>11.0</td>\n",
       "    </tr>\n",
       "    <tr>\n",
       "      <th>5041</th>\n",
       "      <td>14.0</td>\n",
       "      <td>535.0</td>\n",
       "      <td>443.0</td>\n",
       "      <td>608.0</td>\n",
       "      <td>1.0</td>\n",
       "      <td>1.0</td>\n",
       "      <td>14.0</td>\n",
       "    </tr>\n",
       "    <tr>\n",
       "      <th>5042</th>\n",
       "      <td>17.0</td>\n",
       "      <td>148.0</td>\n",
       "      <td>396.0</td>\n",
       "      <td>485.0</td>\n",
       "      <td>1.0</td>\n",
       "      <td>0.0</td>\n",
       "      <td>9.0</td>\n",
       "    </tr>\n",
       "    <tr>\n",
       "      <th>5043</th>\n",
       "      <td>8.0</td>\n",
       "      <td>517.0</td>\n",
       "      <td>131.0</td>\n",
       "      <td>226.0</td>\n",
       "      <td>3.0</td>\n",
       "      <td>1.0</td>\n",
       "      <td>11.0</td>\n",
       "    </tr>\n",
       "  </tbody>\n",
       "</table>\n",
       "<p>5044 rows × 7 columns</p>\n",
       "</div>"
      ],
      "text/plain": [
       "      Brand  Price  Model  KMS_driven  Fuel  Variant  Manuf_Year\n",
       "0      15.0  376.0  497.0       736.0   1.0      1.0        13.0\n",
       "1      15.0  319.0   51.0       307.0   3.0      1.0        13.0\n",
       "2       8.0  202.0  468.0       664.0   3.0      1.0         8.0\n",
       "3      15.0  265.0  576.0       190.0   3.0      1.0        13.0\n",
       "4      15.0  304.0   19.0       644.0   3.0      1.0        14.0\n",
       "...     ...    ...    ...         ...   ...      ...         ...\n",
       "5039    7.0  493.0  610.0       706.0   3.0      1.0        14.0\n",
       "5040   17.0  386.0  431.0       489.0   1.0      0.0        11.0\n",
       "5041   14.0  535.0  443.0       608.0   1.0      1.0        14.0\n",
       "5042   17.0  148.0  396.0       485.0   1.0      0.0         9.0\n",
       "5043    8.0  517.0  131.0       226.0   3.0      1.0        11.0\n",
       "\n",
       "[5044 rows x 7 columns]"
      ]
     },
     "execution_count": 91,
     "metadata": {},
     "output_type": "execute_result"
    }
   ],
   "source": [
    "from sklearn.preprocessing import OrdinalEncoder\n",
    "oe = OrdinalEncoder()\n",
    "for i in ds.columns:\n",
    "    if ds[i].dtypes=='object':\n",
    "        ds[i]=oe.fit_transform(data[i].values.reshape(-1,1))\n",
    "ds"
   ]
  },
  {
   "cell_type": "code",
   "execution_count": 92,
   "metadata": {},
   "outputs": [
    {
     "name": "stdout",
     "output_type": "stream",
     "text": [
      "<class 'pandas.core.frame.DataFrame'>\n",
      "RangeIndex: 5044 entries, 0 to 5043\n",
      "Data columns (total 7 columns):\n",
      " #   Column      Non-Null Count  Dtype  \n",
      "---  ------      --------------  -----  \n",
      " 0   Brand       5044 non-null   float64\n",
      " 1   Price       5044 non-null   float64\n",
      " 2   Model       5044 non-null   float64\n",
      " 3   KMS_driven  5044 non-null   float64\n",
      " 4   Fuel        5044 non-null   float64\n",
      " 5   Variant     5044 non-null   float64\n",
      " 6   Manuf_Year  5044 non-null   float64\n",
      "dtypes: float64(7)\n",
      "memory usage: 276.0 KB\n"
     ]
    }
   ],
   "source": [
    "ds.info()"
   ]
  },
  {
   "cell_type": "code",
   "execution_count": 25,
   "metadata": {},
   "outputs": [
    {
     "data": {
      "text/plain": [
       "Brand            AxesSubplot(0.125,0.125;0.0545775x0.755)\n",
       "Price         AxesSubplot(0.190493,0.125;0.0545775x0.755)\n",
       "Model         AxesSubplot(0.255986,0.125;0.0545775x0.755)\n",
       "KMS_driven    AxesSubplot(0.321479,0.125;0.0545775x0.755)\n",
       "Fuel          AxesSubplot(0.386972,0.125;0.0545775x0.755)\n",
       "Variant       AxesSubplot(0.452465,0.125;0.0545775x0.755)\n",
       "Manuf_Year    AxesSubplot(0.517958,0.125;0.0545775x0.755)\n",
       "dtype: object"
      ]
     },
     "execution_count": 25,
     "metadata": {},
     "output_type": "execute_result"
    },
    {
     "data": {
      "image/png": "[encoded data removed]",
      "text/plain": [
       "<Figure size 432x288 with 12 Axes>"
      ]
     },
     "metadata": {
      "needs_background": "light"
     },
     "output_type": "display_data"
    }
   ],
   "source": [
    "# Box plot for all coulmns\n",
    "ds.plot(kind='box',subplots=True,layout=(1,12))"
   ]
  },
  {
   "cell_type": "markdown",
   "metadata": {},
   "source": [
    "there is no outlier present in the data set"
   ]
  },
  {
   "cell_type": "code",
   "execution_count": 26,
   "metadata": {},
   "outputs": [
    {
     "data": {
      "text/plain": [
       "Brand         0.217283\n",
       "Price        -0.081550\n",
       "Model        -0.241473\n",
       "KMS_driven   -0.005179\n",
       "Fuel         -0.284671\n",
       "Variant      -0.821517\n",
       "Manuf_Year   -0.479178\n",
       "dtype: float64"
      ]
     },
     "execution_count": 26,
     "metadata": {},
     "output_type": "execute_result"
    }
   ],
   "source": [
    "ds.skew()"
   ]
  },
  {
   "cell_type": "markdown",
   "metadata": {},
   "source": [
    "The skewness is in exceptable range"
   ]
  },
  {
   "cell_type": "code",
   "execution_count": 28,
   "metadata": {},
   "outputs": [
    {
     "data": {
      "text/html": [
       "<div>\n",
       "<style scoped>\n",
       "    .dataframe tbody tr th:only-of-type {\n",
       "        vertical-align: middle;\n",
       "    }\n",
       "\n",
       "    .dataframe tbody tr th {\n",
       "        vertical-align: top;\n",
       "    }\n",
       "\n",
       "    .dataframe thead th {\n",
       "        text-align: right;\n",
       "    }\n",
       "</style>\n",
       "<table border=\"1\" class=\"dataframe\">\n",
       "  <thead>\n",
       "    <tr style=\"text-align: right;\">\n",
       "      <th></th>\n",
       "      <th>Brand</th>\n",
       "      <th>Price</th>\n",
       "      <th>Model</th>\n",
       "      <th>KMS_driven</th>\n",
       "      <th>Fuel</th>\n",
       "      <th>Variant</th>\n",
       "      <th>Manuf_Year</th>\n",
       "    </tr>\n",
       "  </thead>\n",
       "  <tbody>\n",
       "    <tr>\n",
       "      <th>0</th>\n",
       "      <td>0.169687</td>\n",
       "      <td>0.666824</td>\n",
       "      <td>0.881143</td>\n",
       "      <td>1.516307</td>\n",
       "      <td>-1.057164</td>\n",
       "      <td>0.670392</td>\n",
       "      <td>0.775939</td>\n",
       "    </tr>\n",
       "    <tr>\n",
       "      <th>1</th>\n",
       "      <td>0.169687</td>\n",
       "      <td>0.279172</td>\n",
       "      <td>-1.577140</td>\n",
       "      <td>-0.419669</td>\n",
       "      <td>0.891789</td>\n",
       "      <td>0.670392</td>\n",
       "      <td>0.775939</td>\n",
       "    </tr>\n",
       "    <tr>\n",
       "      <th>2</th>\n",
       "      <td>-0.881418</td>\n",
       "      <td>-0.516535</td>\n",
       "      <td>0.721300</td>\n",
       "      <td>1.191388</td>\n",
       "      <td>0.891789</td>\n",
       "      <td>0.670392</td>\n",
       "      <td>-0.817642</td>\n",
       "    </tr>\n",
       "    <tr>\n",
       "      <th>3</th>\n",
       "      <td>0.169687</td>\n",
       "      <td>-0.088078</td>\n",
       "      <td>1.316579</td>\n",
       "      <td>-0.947663</td>\n",
       "      <td>0.891789</td>\n",
       "      <td>0.670392</td>\n",
       "      <td>0.775939</td>\n",
       "    </tr>\n",
       "    <tr>\n",
       "      <th>4</th>\n",
       "      <td>0.169687</td>\n",
       "      <td>0.177158</td>\n",
       "      <td>-1.753519</td>\n",
       "      <td>1.101132</td>\n",
       "      <td>0.891789</td>\n",
       "      <td>0.670392</td>\n",
       "      <td>1.094655</td>\n",
       "    </tr>\n",
       "    <tr>\n",
       "      <th>...</th>\n",
       "      <td>...</td>\n",
       "      <td>...</td>\n",
       "      <td>...</td>\n",
       "      <td>...</td>\n",
       "      <td>...</td>\n",
       "      <td>...</td>\n",
       "      <td>...</td>\n",
       "    </tr>\n",
       "    <tr>\n",
       "      <th>5039</th>\n",
       "      <td>-1.031576</td>\n",
       "      <td>1.462532</td>\n",
       "      <td>1.503982</td>\n",
       "      <td>1.380924</td>\n",
       "      <td>0.891789</td>\n",
       "      <td>0.670392</td>\n",
       "      <td>1.094655</td>\n",
       "    </tr>\n",
       "    <tr>\n",
       "      <th>5040</th>\n",
       "      <td>0.470002</td>\n",
       "      <td>0.734834</td>\n",
       "      <td>0.517362</td>\n",
       "      <td>0.401654</td>\n",
       "      <td>-1.057164</td>\n",
       "      <td>-1.491665</td>\n",
       "      <td>0.138506</td>\n",
       "    </tr>\n",
       "    <tr>\n",
       "      <th>5041</th>\n",
       "      <td>0.019529</td>\n",
       "      <td>1.748170</td>\n",
       "      <td>0.583504</td>\n",
       "      <td>0.938673</td>\n",
       "      <td>-1.057164</td>\n",
       "      <td>0.670392</td>\n",
       "      <td>1.094655</td>\n",
       "    </tr>\n",
       "    <tr>\n",
       "      <th>5042</th>\n",
       "      <td>0.470002</td>\n",
       "      <td>-0.883785</td>\n",
       "      <td>0.324447</td>\n",
       "      <td>0.383603</td>\n",
       "      <td>-1.057164</td>\n",
       "      <td>-1.491665</td>\n",
       "      <td>-0.498926</td>\n",
       "    </tr>\n",
       "    <tr>\n",
       "      <th>5043</th>\n",
       "      <td>-0.881418</td>\n",
       "      <td>1.625754</td>\n",
       "      <td>-1.136192</td>\n",
       "      <td>-0.785203</td>\n",
       "      <td>0.891789</td>\n",
       "      <td>0.670392</td>\n",
       "      <td>0.138506</td>\n",
       "    </tr>\n",
       "  </tbody>\n",
       "</table>\n",
       "<p>5044 rows × 7 columns</p>\n",
       "</div>"
      ],
      "text/plain": [
       "         Brand     Price     Model  KMS_driven      Fuel   Variant  Manuf_Year\n",
       "0     0.169687  0.666824  0.881143    1.516307 -1.057164  0.670392    0.775939\n",
       "1     0.169687  0.279172 -1.577140   -0.419669  0.891789  0.670392    0.775939\n",
       "2    -0.881418 -0.516535  0.721300    1.191388  0.891789  0.670392   -0.817642\n",
       "3     0.169687 -0.088078  1.316579   -0.947663  0.891789  0.670392    0.775939\n",
       "4     0.169687  0.177158 -1.753519    1.101132  0.891789  0.670392    1.094655\n",
       "...        ...       ...       ...         ...       ...       ...         ...\n",
       "5039 -1.031576  1.462532  1.503982    1.380924  0.891789  0.670392    1.094655\n",
       "5040  0.470002  0.734834  0.517362    0.401654 -1.057164 -1.491665    0.138506\n",
       "5041  0.019529  1.748170  0.583504    0.938673 -1.057164  0.670392    1.094655\n",
       "5042  0.470002 -0.883785  0.324447    0.383603 -1.057164 -1.491665   -0.498926\n",
       "5043 -0.881418  1.625754 -1.136192   -0.785203  0.891789  0.670392    0.138506\n",
       "\n",
       "[5044 rows x 7 columns]"
      ]
     },
     "execution_count": 28,
     "metadata": {},
     "output_type": "execute_result"
    }
   ],
   "source": [
    "# lets bring all feature into common scale\n",
    "from sklearn.preprocessing import StandardScaler\n",
    "sc=StandardScaler()\n",
    "x=sc.fit_transform(ds)\n",
    "x=pd.DataFrame(x,columns=ds.columns)\n",
    "x"
   ]
  },
  {
   "cell_type": "code",
   "execution_count": 29,
   "metadata": {},
   "outputs": [
    {
     "data": {
      "text/plain": [
       "(5044, 7)"
      ]
     },
     "execution_count": 29,
     "metadata": {},
     "output_type": "execute_result"
    }
   ],
   "source": [
    "x.shape"
   ]
  },
  {
   "cell_type": "markdown",
   "metadata": {},
   "source": [
    "Creating feature and target dataframe"
   ]
  },
  {
   "cell_type": "code",
   "execution_count": 34,
   "metadata": {},
   "outputs": [],
   "source": [
    "x=ds.drop(columns=['Price'])\n",
    "y=ds['Price']"
   ]
  },
  {
   "cell_type": "code",
   "execution_count": 35,
   "metadata": {},
   "outputs": [
    {
     "data": {
      "text/plain": [
       "(5044, 6)"
      ]
     },
     "execution_count": 35,
     "metadata": {},
     "output_type": "execute_result"
    }
   ],
   "source": [
    "x.shape"
   ]
  },
  {
   "cell_type": "code",
   "execution_count": 36,
   "metadata": {},
   "outputs": [
    {
     "data": {
      "text/plain": [
       "(5044,)"
      ]
     },
     "execution_count": 36,
     "metadata": {},
     "output_type": "execute_result"
    }
   ],
   "source": [
    "y.shape"
   ]
  },
  {
   "cell_type": "code",
   "execution_count": 37,
   "metadata": {},
   "outputs": [
    {
     "name": "stdout",
     "output_type": "stream",
     "text": [
      "best r2 score is 0.1864247218036824 on random state 198\n"
     ]
    }
   ],
   "source": [
    "# To find the best random state using Linear Regressor model\n",
    "\n",
    "from sklearn.metrics import r2_score\n",
    "maxAccu=0\n",
    "maxRS=0\n",
    "for i in range(1,200):\n",
    "    x_train,x_test,y_train,y_test=train_test_split(x,y,test_size=.22,random_state=i)\n",
    "    mod= LinearRegression()\n",
    "    mod.fit(x_train,y_train)\n",
    "    pred=mod.predict(x_test)\n",
    "    acc=r2_score(y_test,pred)\n",
    "    if acc>maxAccu:\n",
    "        maxAccu=acc\n",
    "        maxRS=i\n",
    "print ('best r2 score is',maxAccu,'on random state',maxRS)"
   ]
  },
  {
   "cell_type": "code",
   "execution_count": 39,
   "metadata": {},
   "outputs": [
    {
     "name": "stdout",
     "output_type": "stream",
     "text": [
      "(3530, 6)\n",
      "(1514, 6)\n",
      "(3530,)\n",
      "(1514,)\n"
     ]
    }
   ],
   "source": [
    "# Sending the data for train and test using Train_test_Split \n",
    "# 30 % data will go for testing and 70% data will go for training the model\n",
    "x_train,x_test,y_train,y_test=train_test_split(x,y,test_size=.30,random_state=maxRS)\n",
    "print(x_train.shape)\n",
    "print(x_test.shape)\n",
    "print(y_train.shape)\n",
    "print(y_test.shape)"
   ]
  },
  {
   "cell_type": "markdown",
   "metadata": {},
   "source": [
    "70% of the data (3530 rows) will be available for training the model & 30% (1514 rows) will be available for testing the model"
   ]
  },
  {
   "cell_type": "markdown",
   "metadata": {},
   "source": [
    "# Model Building & Evaluation"
   ]
  },
  {
   "cell_type": "markdown",
   "metadata": {},
   "source": [
    "Since the target variable as continuous values we can build the regression models. Therefore oue evalution criteria will be: Evaluation Matrics : MAE,MSE,RMSE and R2 Score"
   ]
  },
  {
   "cell_type": "code",
   "execution_count": 40,
   "metadata": {},
   "outputs": [
    {
     "data": {
      "text/plain": [
       "0.11340039814876035"
      ]
     },
     "execution_count": 40,
     "metadata": {},
     "output_type": "execute_result"
    }
   ],
   "source": [
    "lm=LinearRegression()\n",
    "lm.fit(x_train,y_train)\n",
    "lm.score(x_train,y_train)"
   ]
  },
  {
   "cell_type": "code",
   "execution_count": 41,
   "metadata": {},
   "outputs": [
    {
     "data": {
      "text/plain": [
       "array([-8.29029482e-01, -1.51274445e-02, -3.55228543e-02, -8.18666941e+00,\n",
       "        2.50111179e+01,  1.49592469e+01])"
      ]
     },
     "execution_count": 41,
     "metadata": {},
     "output_type": "execute_result"
    }
   ],
   "source": [
    "lm.coef_"
   ]
  },
  {
   "cell_type": "code",
   "execution_count": 42,
   "metadata": {},
   "outputs": [
    {
     "data": {
      "text/plain": [
       "148.60542946599094"
      ]
     },
     "execution_count": 42,
     "metadata": {},
     "output_type": "execute_result"
    }
   ],
   "source": [
    "lm.intercept_"
   ]
  },
  {
   "cell_type": "code",
   "execution_count": 43,
   "metadata": {},
   "outputs": [
    {
     "name": "stdout",
     "output_type": "stream",
     "text": [
      "Coefficient of determination 0.16879081155076536\n",
      "mean absolute arror 110.28362589711007\n",
      "mean squarred arror 18187.54018803121\n",
      "Root mean square arror 134.86118859045848\n"
     ]
    }
   ],
   "source": [
    "from sklearn.metrics import r2_score\n",
    "pred=lm.predict(x_test)\n",
    "print('Coefficient of determination',r2_score(y_test,pred))\n",
    "print('mean absolute arror',mean_absolute_error(y_test,pred))\n",
    "print('mean squarred arror',mean_squared_error(y_test,pred))\n",
    "print('Root mean square arror',np.sqrt(mean_squared_error(y_test,pred)))"
   ]
  },
  {
   "cell_type": "code",
   "execution_count": 44,
   "metadata": {},
   "outputs": [
    {
     "data": {
      "text/plain": [
       "0.9999772986704292"
      ]
     },
     "execution_count": 44,
     "metadata": {},
     "output_type": "execute_result"
    }
   ],
   "source": [
    "# Decision Tree Regression Model\n",
    "dc=DecisionTreeRegressor()\n",
    "dc.fit(x_train,y_train)\n",
    "dc.score(x_train,y_train)"
   ]
  },
  {
   "cell_type": "code",
   "execution_count": 45,
   "metadata": {},
   "outputs": [
    {
     "name": "stdout",
     "output_type": "stream",
     "text": [
      "Coefficient of determination 0.9948223095527094\n",
      "mean absolute error 0.8603415738818646\n",
      "mean squarred error 113.29212236810181\n",
      "Root mean square error 10.643877224400036\n"
     ]
    }
   ],
   "source": [
    "from sklearn.metrics import r2_score\n",
    "pred=dc.predict(x_test)\n",
    "print('Coefficient of determination',r2_score(y_test,pred))\n",
    "print('mean absolute error',mean_absolute_error(y_test,pred))\n",
    "print('mean squarred error',mean_squared_error(y_test,pred))\n",
    "print('Root mean square error',np.sqrt(mean_squared_error(y_test,pred)))"
   ]
  },
  {
   "cell_type": "code",
   "execution_count": 46,
   "metadata": {},
   "outputs": [
    {
     "data": {
      "text/plain": [
       "0.7637739282895116"
      ]
     },
     "execution_count": 46,
     "metadata": {},
     "output_type": "execute_result"
    }
   ],
   "source": [
    "# KNeighbors Regression Model\n",
    "kn=KNeighborsRegressor()\n",
    "kn.fit(x_train,y_train)\n",
    "kn.score(x_train,y_train)"
   ]
  },
  {
   "cell_type": "code",
   "execution_count": 47,
   "metadata": {},
   "outputs": [
    {
     "name": "stdout",
     "output_type": "stream",
     "text": [
      "Coefficient of determination 0.5325005250766723\n",
      "mean absolute error 70.83130779392339\n",
      "mean squarred error 10229.272734478203\n",
      "Root mean square error 101.13986718637811\n"
     ]
    }
   ],
   "source": [
    "from sklearn.metrics import r2_score\n",
    "pred=kn.predict(x_test)\n",
    "print('Coefficient of determination',r2_score(y_test,pred))\n",
    "print('mean absolute error',mean_absolute_error(y_test,pred))\n",
    "print('mean squarred error',mean_squared_error(y_test,pred))\n",
    "print('Root mean square error',np.sqrt(mean_squared_error(y_test,pred)))"
   ]
  },
  {
   "cell_type": "code",
   "execution_count": 48,
   "metadata": {},
   "outputs": [
    {
     "data": {
      "text/plain": [
       "0.9953998338673868"
      ]
     },
     "execution_count": 48,
     "metadata": {},
     "output_type": "execute_result"
    }
   ],
   "source": [
    "# Random Forest Regression Model\n",
    "rf=RandomForestRegressor()\n",
    "rf.fit(x_train,y_train)\n",
    "rf.score(x_train,y_train)"
   ]
  },
  {
   "cell_type": "code",
   "execution_count": 49,
   "metadata": {},
   "outputs": [
    {
     "name": "stdout",
     "output_type": "stream",
     "text": [
      "Coefficient of determination 0.9772073864924118\n",
      "mean absolute error 10.629855869774214\n",
      "mean squarred error 498.7211160802045\n",
      "Root mean square error 22.332064751836192\n"
     ]
    }
   ],
   "source": [
    "from sklearn.metrics import r2_score\n",
    "pred=rf.predict(x_test)\n",
    "print('Coefficient of determination',r2_score(y_test,pred))\n",
    "print('mean absolute error',mean_absolute_error(y_test,pred))\n",
    "print('mean squarred error',mean_squared_error(y_test,pred))\n",
    "print('Root mean square error',np.sqrt(mean_squared_error(y_test,pred)))"
   ]
  },
  {
   "cell_type": "markdown",
   "metadata": {},
   "source": [
    "Based on the results of above models, and capomaring the R2 score and other evalution matrics result of MAE,MSE and RMSE.We can find the Random Forest Regression model is best model to predict the Happiness Score of countrien\n",
    "                           Score     R2 Score         MAE            MSE            RMSE\n",
    "1 LinearRegression          0.11       0.16            110            1800           134\n",
    "2 DecisionTreeRegression    1         0.99            .86            113             10\n",
    "3 KNeighbors Regression     0.76     0.53              70         10229            101\n",
    "4 Random Forest Regression  0.97      0.97            10            498           22\n",
    "\n",
    "Since the DecsionTree Regression model has the  hishest score(1) and R2 score(0.99) and lowest values of MAE, MSE,RMSE , it is the best model among the above four models"
   ]
  },
  {
   "cell_type": "markdown",
   "metadata": {},
   "source": [
    "# Improving the model accuracy using cross Validation"
   ]
  },
  {
   "cell_type": "code",
   "execution_count": 50,
   "metadata": {},
   "outputs": [
    {
     "name": "stdout",
     "output_type": "stream",
     "text": [
      "[0.15348779 0.13308378 0.13360904 0.12732694 0.10220337]\n",
      "0.12994218308017888 0.016455953000349258\n"
     ]
    }
   ],
   "source": [
    "from sklearn.model_selection import cross_val_score\n",
    "lmscores =cross_val_score(lm,x,y,cv=5)\n",
    "print(lmscores)\n",
    "print(lmscores.mean(),lmscores.std())"
   ]
  },
  {
   "cell_type": "code",
   "execution_count": 51,
   "metadata": {},
   "outputs": [
    {
     "name": "stdout",
     "output_type": "stream",
     "text": [
      "[0.99999766 0.99996633 0.99996716 0.99996856 0.99997098]\n",
      "0.9999741369483374 1.1864250293957816e-05\n"
     ]
    }
   ],
   "source": [
    "from sklearn.model_selection import cross_val_score\n",
    "dcscores =cross_val_score(dc,x,y,cv=5)\n",
    "print(dcscores)\n",
    "print(dcscores.mean(),dcscores.std())"
   ]
  },
  {
   "cell_type": "code",
   "execution_count": 52,
   "metadata": {},
   "outputs": [
    {
     "name": "stdout",
     "output_type": "stream",
     "text": [
      "[0.77084838 0.77738938 0.77626082 0.77998464 0.7823694 ]\n",
      "0.7773705232266457 0.003888252633512558\n"
     ]
    }
   ],
   "source": [
    "from sklearn.model_selection import cross_val_score\n",
    "knnscores =cross_val_score(kn,x,y,cv=5)\n",
    "print(knnscores)\n",
    "print(knnscores.mean(),knnscores.std())"
   ]
  },
  {
   "cell_type": "code",
   "execution_count": 53,
   "metadata": {},
   "outputs": [
    {
     "name": "stdout",
     "output_type": "stream",
     "text": [
      "[0.99793597 0.99814718 0.99835948 0.99823671 0.99832327]\n",
      "0.9982005238407903 0.0001513126625648721\n"
     ]
    }
   ],
   "source": [
    "from sklearn.model_selection import cross_val_score\n",
    "rfscores =cross_val_score(rf,x,y,cv=5)\n",
    "print(rfscores)\n",
    "print(rfscores.mean(),rfscores.std())"
   ]
  },
  {
   "cell_type": "markdown",
   "metadata": {},
   "source": [
    "It can be observed that the \"DecisionTree Regressor\" algorithim has the almost some positive accuracy score after the cross validation. So the best model with highet accuracy score and best on evalution with other matrix is \"DecisionTree\" is the best model for predicting the Price."
   ]
  },
  {
   "cell_type": "markdown",
   "metadata": {},
   "source": [
    "# HyperParameter Tuning"
   ]
  },
  {
   "cell_type": "code",
   "execution_count": 59,
   "metadata": {},
   "outputs": [],
   "source": [
    "from sklearn.model_selection import GridSearchCV \n",
    "parameter={'max_depth':np.arange(1,10),'criterion':['mse', 'mae'],'max_features':['auto', 'sqrt', 'log2']}"
   ]
  },
  {
   "cell_type": "code",
   "execution_count": 60,
   "metadata": {},
   "outputs": [],
   "source": [
    "GCV=GridSearchCV(DecisionTreeRegressor(),parameter,cv=5)"
   ]
  },
  {
   "cell_type": "code",
   "execution_count": 61,
   "metadata": {},
   "outputs": [
    {
     "data": {
      "text/plain": [
       "GridSearchCV(cv=5, estimator=DecisionTreeRegressor(),\n",
       "             param_grid={'criterion': ['mse', 'mae'],\n",
       "                         'max_depth': array([1, 2, 3, 4, 5, 6, 7, 8, 9]),\n",
       "                         'max_features': ['auto', 'sqrt', 'log2']})"
      ]
     },
     "execution_count": 61,
     "metadata": {},
     "output_type": "execute_result"
    }
   ],
   "source": [
    "GCV.fit(x_train,y_train)"
   ]
  },
  {
   "cell_type": "code",
   "execution_count": 75,
   "metadata": {},
   "outputs": [
    {
     "data": {
      "text/plain": [
       "0.999963201073336"
      ]
     },
     "execution_count": 75,
     "metadata": {},
     "output_type": "execute_result"
    }
   ],
   "source": [
    "dc_final=DecisionTreeRegressor(criterion= 'mae', max_depth= 80, max_features= 'auto')\n",
    "dc_final.fit(x_train,y_train)\n",
    "dc_final.score(x_train,y_train)"
   ]
  },
  {
   "cell_type": "code",
   "execution_count": 76,
   "metadata": {},
   "outputs": [
    {
     "name": "stdout",
     "output_type": "stream",
     "text": [
      "Coefficient of determination 0.9952415759115552\n",
      "mean absolute error 0.702774108322325\n",
      "mean squarred error 104.11822985468956\n",
      "Root mean square error 10.203834076203393\n"
     ]
    }
   ],
   "source": [
    "from sklearn.metrics import r2_score\n",
    "pred=dc_final.predict(x_test)\n",
    "print('Coefficient of determination',r2_score(y_test,pred))\n",
    "print('mean absolute error',mean_absolute_error(y_test,pred))\n",
    "print('mean squarred error',mean_squared_error(y_test,pred))\n",
    "print('Root mean square error',np.sqrt(mean_squared_error(y_test,pred)))"
   ]
  },
  {
   "cell_type": "markdown",
   "metadata": {},
   "source": [
    "# Saving the best Model"
   ]
  },
  {
   "cell_type": "code",
   "execution_count": 77,
   "metadata": {},
   "outputs": [
    {
     "data": {
      "text/plain": [
       "['Model_CarPrice.obj']"
      ]
     },
     "execution_count": 77,
     "metadata": {},
     "output_type": "execute_result"
    }
   ],
   "source": [
    "import joblib\n",
    "joblib.dump(dc_final,'Model_CarPrice.obj')"
   ]
  },
  {
   "cell_type": "code",
   "execution_count": null,
   "metadata": {},
   "outputs": [],
   "source": []
  }
 ],
 "metadata": {
  "kernelspec": {
   "display_name": "Python 3",
   "language": "python",
   "name": "python3"
  },
  "language_info": {
   "codemirror_mode": {
    "name": "ipython",
    "version": 3
   },
   "file_extension": ".py",
   "mimetype": "text/x-python",
   "name": "python",
   "nbconvert_exporter": "python",
   "pygments_lexer": "ipython3",
   "version": "3.8.5"
  }
 },
 "nbformat": 4,
 "nbformat_minor": 4
}
